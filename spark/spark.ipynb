{
  "cells": [
    {
      "cell_type": "code",
      "source": [
        "!pip install pyspark\n",
        "!apt update\n",
        "!apt install openjdk-8-jdk-headless -qq\n",
        "import os\n",
        "from pyspark.sql import *\n",
        "from pyspark.sql.functions import *\n",
        "from pyspark import SparkContext\n",
        "from pyspark.sql import SQLContext\n",
        "os.environ[\"JAVA_HOME\"] = \"/usr/lib/jvm/java-8-openjdk-amd64\""
      ],
      "metadata": {
        "colab": {
          "base_uri": "https://localhost:8080/"
        },
        "id": "gX6oO98RGFl0",
        "outputId": "c5577a8c-9e79-418d-94bf-99f5aa4ab97f"
      },
      "execution_count": 1,
      "outputs": [
        {
          "output_type": "stream",
          "name": "stdout",
          "text": [
            "Collecting pyspark\n",
            "  Downloading pyspark-3.5.3.tar.gz (317.3 MB)\n",
            "\u001b[2K     \u001b[90m━━━━━━━━━━━━━━━━━━━━━━━━━━━━━━━━━━━━━━━━\u001b[0m \u001b[32m317.3/317.3 MB\u001b[0m \u001b[31m2.9 MB/s\u001b[0m eta \u001b[36m0:00:00\u001b[0m\n",
            "\u001b[?25h  Preparing metadata (setup.py) ... \u001b[?25l\u001b[?25hdone\n",
            "Requirement already satisfied: py4j==0.10.9.7 in /usr/local/lib/python3.10/dist-packages (from pyspark) (0.10.9.7)\n",
            "Building wheels for collected packages: pyspark\n",
            "  Building wheel for pyspark (setup.py) ... \u001b[?25l\u001b[?25hdone\n",
            "  Created wheel for pyspark: filename=pyspark-3.5.3-py2.py3-none-any.whl size=317840625 sha256=f83756e06f82dacaf9db9f895bee8bde22091e101edb1aa8e2f1b386072ecc8c\n",
            "  Stored in directory: /root/.cache/pip/wheels/1b/3a/92/28b93e2fbfdbb07509ca4d6f50c5e407f48dce4ddbda69a4ab\n",
            "Successfully built pyspark\n",
            "Installing collected packages: pyspark\n",
            "Successfully installed pyspark-3.5.3\n",
            "Get:1 https://cloud.r-project.org/bin/linux/ubuntu jammy-cran40/ InRelease [3,626 B]\n",
            "Hit:2 https://developer.download.nvidia.com/compute/cuda/repos/ubuntu2204/x86_64  InRelease\n",
            "Hit:3 http://archive.ubuntu.com/ubuntu jammy InRelease\n",
            "Get:4 http://security.ubuntu.com/ubuntu jammy-security InRelease [129 kB]\n",
            "Ign:5 https://r2u.stat.illinois.edu/ubuntu jammy InRelease\n",
            "Get:6 http://archive.ubuntu.com/ubuntu jammy-updates InRelease [128 kB]\n",
            "Get:7 https://r2u.stat.illinois.edu/ubuntu jammy Release [5,713 B]\n",
            "Hit:8 https://ppa.launchpadcontent.net/deadsnakes/ppa/ubuntu jammy InRelease\n",
            "Get:9 https://r2u.stat.illinois.edu/ubuntu jammy Release.gpg [793 B]\n",
            "Hit:10 https://ppa.launchpadcontent.net/graphics-drivers/ppa/ubuntu jammy InRelease\n",
            "Hit:11 https://ppa.launchpadcontent.net/ubuntugis/ppa/ubuntu jammy InRelease\n",
            "Get:12 http://archive.ubuntu.com/ubuntu jammy-backports InRelease [127 kB]\n",
            "Get:13 https://r2u.stat.illinois.edu/ubuntu jammy/main all Packages [8,357 kB]\n",
            "Get:14 http://security.ubuntu.com/ubuntu jammy-security/main amd64 Packages [2,318 kB]\n",
            "Get:15 http://archive.ubuntu.com/ubuntu jammy-updates/main amd64 Packages [2,595 kB]\n",
            "Get:16 http://security.ubuntu.com/ubuntu jammy-security/universe amd64 Packages [1,156 kB]\n",
            "Get:17 http://archive.ubuntu.com/ubuntu jammy-updates/universe amd64 Packages [1,445 kB]\n",
            "Get:18 http://archive.ubuntu.com/ubuntu jammy-backports/main amd64 Packages [81.4 kB]\n",
            "Get:19 http://archive.ubuntu.com/ubuntu jammy-backports/universe amd64 Packages [33.7 kB]\n",
            "Get:20 https://r2u.stat.illinois.edu/ubuntu jammy/main amd64 Packages [2,588 kB]\n",
            "Fetched 19.0 MB in 4s (4,669 kB/s)\n",
            "Reading package lists... Done\n",
            "Building dependency tree... Done\n",
            "Reading state information... Done\n",
            "54 packages can be upgraded. Run 'apt list --upgradable' to see them.\n",
            "\u001b[1;33mW: \u001b[0mSkipping acquire of configured file 'main/source/Sources' as repository 'https://r2u.stat.illinois.edu/ubuntu jammy InRelease' does not seem to provide it (sources.list entry misspelt?)\u001b[0m\n",
            "The following additional packages will be installed:\n",
            "  libxtst6 openjdk-8-jre-headless\n",
            "Suggested packages:\n",
            "  openjdk-8-demo openjdk-8-source libnss-mdns fonts-dejavu-extra fonts-nanum fonts-ipafont-gothic\n",
            "  fonts-ipafont-mincho fonts-wqy-microhei fonts-wqy-zenhei fonts-indic\n",
            "The following NEW packages will be installed:\n",
            "  libxtst6 openjdk-8-jdk-headless openjdk-8-jre-headless\n",
            "0 upgraded, 3 newly installed, 0 to remove and 54 not upgraded.\n",
            "Need to get 39.6 MB of archives.\n",
            "After this operation, 144 MB of additional disk space will be used.\n",
            "Selecting previously unselected package libxtst6:amd64.\n",
            "(Reading database ... 123614 files and directories currently installed.)\n",
            "Preparing to unpack .../libxtst6_2%3a1.2.3-1build4_amd64.deb ...\n",
            "Unpacking libxtst6:amd64 (2:1.2.3-1build4) ...\n",
            "Selecting previously unselected package openjdk-8-jre-headless:amd64.\n",
            "Preparing to unpack .../openjdk-8-jre-headless_8u422-b05-1~22.04_amd64.deb ...\n",
            "Unpacking openjdk-8-jre-headless:amd64 (8u422-b05-1~22.04) ...\n",
            "Selecting previously unselected package openjdk-8-jdk-headless:amd64.\n",
            "Preparing to unpack .../openjdk-8-jdk-headless_8u422-b05-1~22.04_amd64.deb ...\n",
            "Unpacking openjdk-8-jdk-headless:amd64 (8u422-b05-1~22.04) ...\n",
            "Setting up libxtst6:amd64 (2:1.2.3-1build4) ...\n",
            "Setting up openjdk-8-jre-headless:amd64 (8u422-b05-1~22.04) ...\n",
            "update-alternatives: using /usr/lib/jvm/java-8-openjdk-amd64/jre/bin/orbd to provide /usr/bin/orbd (orbd) in auto mode\n",
            "update-alternatives: using /usr/lib/jvm/java-8-openjdk-amd64/jre/bin/servertool to provide /usr/bin/servertool (servertool) in auto mode\n",
            "update-alternatives: using /usr/lib/jvm/java-8-openjdk-amd64/jre/bin/tnameserv to provide /usr/bin/tnameserv (tnameserv) in auto mode\n",
            "Setting up openjdk-8-jdk-headless:amd64 (8u422-b05-1~22.04) ...\n",
            "update-alternatives: using /usr/lib/jvm/java-8-openjdk-amd64/bin/clhsdb to provide /usr/bin/clhsdb (clhsdb) in auto mode\n",
            "update-alternatives: using /usr/lib/jvm/java-8-openjdk-amd64/bin/extcheck to provide /usr/bin/extcheck (extcheck) in auto mode\n",
            "update-alternatives: using /usr/lib/jvm/java-8-openjdk-amd64/bin/hsdb to provide /usr/bin/hsdb (hsdb) in auto mode\n",
            "update-alternatives: using /usr/lib/jvm/java-8-openjdk-amd64/bin/idlj to provide /usr/bin/idlj (idlj) in auto mode\n",
            "update-alternatives: using /usr/lib/jvm/java-8-openjdk-amd64/bin/javah to provide /usr/bin/javah (javah) in auto mode\n",
            "update-alternatives: using /usr/lib/jvm/java-8-openjdk-amd64/bin/jhat to provide /usr/bin/jhat (jhat) in auto mode\n",
            "update-alternatives: using /usr/lib/jvm/java-8-openjdk-amd64/bin/jsadebugd to provide /usr/bin/jsadebugd (jsadebugd) in auto mode\n",
            "update-alternatives: using /usr/lib/jvm/java-8-openjdk-amd64/bin/native2ascii to provide /usr/bin/native2ascii (native2ascii) in auto mode\n",
            "update-alternatives: using /usr/lib/jvm/java-8-openjdk-amd64/bin/schemagen to provide /usr/bin/schemagen (schemagen) in auto mode\n",
            "update-alternatives: using /usr/lib/jvm/java-8-openjdk-amd64/bin/wsgen to provide /usr/bin/wsgen (wsgen) in auto mode\n",
            "update-alternatives: using /usr/lib/jvm/java-8-openjdk-amd64/bin/wsimport to provide /usr/bin/wsimport (wsimport) in auto mode\n",
            "update-alternatives: using /usr/lib/jvm/java-8-openjdk-amd64/bin/xjc to provide /usr/bin/xjc (xjc) in auto mode\n",
            "Processing triggers for libc-bin (2.35-0ubuntu3.4) ...\n",
            "/sbin/ldconfig.real: /usr/local/lib/libtbbbind_2_5.so.3 is not a symbolic link\n",
            "\n",
            "/sbin/ldconfig.real: /usr/local/lib/libur_loader.so.0 is not a symbolic link\n",
            "\n",
            "/sbin/ldconfig.real: /usr/local/lib/libtbb.so.12 is not a symbolic link\n",
            "\n",
            "/sbin/ldconfig.real: /usr/local/lib/libtbbbind_2_0.so.3 is not a symbolic link\n",
            "\n",
            "/sbin/ldconfig.real: /usr/local/lib/libtbbmalloc.so.2 is not a symbolic link\n",
            "\n",
            "/sbin/ldconfig.real: /usr/local/lib/libtbbmalloc_proxy.so.2 is not a symbolic link\n",
            "\n",
            "/sbin/ldconfig.real: /usr/local/lib/libur_adapter_opencl.so.0 is not a symbolic link\n",
            "\n",
            "/sbin/ldconfig.real: /usr/local/lib/libtbbbind.so.3 is not a symbolic link\n",
            "\n",
            "/sbin/ldconfig.real: /usr/local/lib/libur_adapter_level_zero.so.0 is not a symbolic link\n",
            "\n"
          ]
        }
      ]
    },
    {
      "cell_type": "code",
      "source": [
        "spark = SparkSession.builder.getOrCreate()\n",
        "sc = spark.sparkContext\n",
        "sqlContext = SQLContext(sc)\n",
        "df = sqlContext.read.csv('/transactions_train.csv', header=True, inferSchema=True)\n",
        "transactions_rdd = df.rdd"
      ],
      "metadata": {
        "id": "crza1IqRGJ77"
      },
      "execution_count": 3,
      "outputs": []
    },
    {
      "cell_type": "code",
      "source": [
        "transactions_rdd.first()"
      ],
      "metadata": {
        "colab": {
          "base_uri": "https://localhost:8080/"
        },
        "id": "770YEjPbsGNY",
        "outputId": "75fdcfd9-2ab2-4394-d4a2-60877e4d7e87"
      },
      "execution_count": 4,
      "outputs": [
        {
          "output_type": "execute_result",
          "data": {
            "text/plain": [
              "Row(_c0=0, Id=2987000, target=0, timestamp=86400, ammount=68.5, product_category='W', feat_card_1=13926, feat_card_2=None, feat_card_3=150.0, feat_card_4='discover', feat_card_5=142.0, feat_card_6='credit', addr1=315.0, addr2=87.0, dist1=19.0, dist2=None, payer_email_domain=None, receiver_email_domain=None, A1=1.0, A2=1.0, A3=0.0, A4=0.0, A5=0.0, A6=1.0, A7=0.0, A8=0.0, A9=1.0, A10=0.0, A11=2.0, A12=0.0, A13=1.0, A14=1.0, B1=14.0, B2=None, B3=13.0, B4=None, B5=None, B6=None, B7=None, B8=None, B9=None, B10=13.0, B11=13.0, B12=None, B13=None, B14=None, B15=0.0, C1='T', C2='T', C3='T', C4='M2', C5='F', C6='T', C7=None, C8=None, C9=None, D1=1.0, D2=1.0, D3=1.0, D4=1.0, D5=1.0, D6=1.0, D7=1.0, D8=1.0, D9=1.0, D10=0.0, D11=0.0, D12=1.0, D13=1.0, D14=1.0, D15=0.0, D16=0.0, D17=0.0, D18=0.0, D19=1.0, D20=1.0, D21=0.0, D22=0.0, D23=1.0, D24=1.0, D25=1.0, D26=1.0, D27=0.0, D28=0.0, D29=0.0, D30=0.0, D31=0.0, D32=0.0, D33=0.0, D34=0.0, D35=None, D36=None, D37=None, D38=None, D39=None, D40=None, D41=None, D42=None, D43=None, D44=None, D45=None, D46=None, D47=None, D48=None, D49=None, D50=None, D51=None, D52=None, D53=1.0, D54=1.0, D55=1.0, D56=1.0, D57=0.0, D58=0.0, D59=0.0, D60=0.0, D61=1.0, D62=1.0, D63=0.0, D64=0.0, D65=1.0, D66=1.0, D67=1.0, D68=0.0, D69=0.0, D70=0.0, D71=0.0, D72=0.0, D73=0.0, D74=0.0, D75=1.0, D76=1.0, D77=1.0, D78=1.0, D79=0.0, D80=0.0, D81=0.0, D82=0.0, D83=0.0, D84=0.0, D85=0.0, D86=1.0, D87=1.0, D88=1.0, D89=0.0, D90=0.0, D91=0.0, D92=0.0, D93=0.0, D94=0.0, D95=0.0, D96=1.0, D97=0.0, D98=0.0, D99=0.0, D100=0.0, D101=0.0, D102=1.0, D103=0.0, D104=0.0, D105=0.0, D106=0.0, D107=1.0, D108=1.0, D109=1.0, D110=1.0, D111=1.0, D112=1.0, D113=1.0, D114=1.0, D115=1.0, D116=1.0, D117=1.0, D118=1.0, D119=1.0, D120=1.0, D121=1.0, D122=1.0, D123=1.0, D124=1.0, D125=1.0, D126=0.0, D127=117.0, D128=0.0, D129=0.0, D130=0.0, D131=0.0, D132=0.0, D133=117.0, D134=0.0, D135=0.0, D136=0.0, D137=0.0, D138=None, D139=None, D140=None, D141=None, D142=None, D143=None, D144=None, D145=None, D146=None, D147=None, D148=None, D149=None, D150=None, D151=None, D152=None, D153=None, D154=None, D155=None, D156=None, D157=None, D158=None, D159=None, D160=None, D161=None, D162=None, D163=None, D164=None, D165=None, D166=None, D167=None, D168=None, D169=None, D170=None, D171=None, D172=None, D173=None, D174=None, D175=None, D176=None, D177=None, D178=None, D179=None, D180=None, D181=None, D182=None, D183=None, D184=None, D185=None, D186=None, D187=None, D188=None, D189=None, D190=None, D191=None, D192=None, D193=None, D194=None, D195=None, D196=None, D197=None, D198=None, D199=None, D200=None, D201=None, D202=None, D203=None, D204=None, D205=None, D206=None, D207=None, D208=None, D209=None, D210=None, D211=None, D212=None, D213=None, D214=None, D215=None, D216=None, D217=None, D218=None, D219=None, D220=None, D221=None, D222=None, D223=None, D224=None, D225=None, D226=None, D227=None, D228=None, D229=None, D230=None, D231=None, D232=None, D233=None, D234=None, D235=None, D236=None, D237=None, D238=None, D239=None, D240=None, D241=None, D242=None, D243=None, D244=None, D245=None, D246=None, D247=None, D248=None, D249=None, D250=None, D251=None, D252=None, D253=None, D254=None, D255=None, D256=None, D257=None, D258=None, D259=None, D260=None, D261=None, D262=None, D263=None, D264=None, D265=None, D266=None, D267=None, D268=None, D269=None, D270=None, D271=None, D272=None, D273=None, D274=None, D275=None, D276=None, D277=None, D278=None, D279=0.0, D280=0.0, D281=0.0, D282=1.0, D283=1.0, D284=0.0, D285=0.0, D286=0.0, D287=0.0, D288=0.0, D289=0.0, D290=1.0, D291=1.0, D292=1.0, D293=0.0, D294=1.0, D295=0.0, D296=0.0, D297=0.0, D298=0.0, D299=0.0, D300=0.0, D301=0.0, D302=0.0, D303=0.0, D304=0.0, D305=1.0, D306=0.0, D307=117.0, D308=0.0, D309=0.0, D310=0.0, D311=0.0, D312=0.0, D313=0.0, D314=0.0, D315=0.0, D316=0.0, D317=117.0, D318=0.0, D319=0.0, D320=0.0, D321=0.0, D322=None, D323=None, D324=None, D325=None, D326=None, D327=None, D328=None, D329=None, D330=None, D331=None, D332=None, D333=None, D334=None, D335=None, D336=None, D337=None, D338=None, D339=None)"
            ]
          },
          "metadata": {},
          "execution_count": 4
        }
      ]
    },
    {
      "cell_type": "markdown",
      "source": [
        "Porcentaje de fraude"
      ],
      "metadata": {
        "id": "YdDHUDkAkKVb"
      }
    },
    {
      "cell_type": "code",
      "source": [
        "transactions_rdd.map(lambda x: x.target).distinct().collect()"
      ],
      "metadata": {
        "colab": {
          "base_uri": "https://localhost:8080/"
        },
        "id": "Oda4rqItGS2W",
        "outputId": "c3560e4b-ad55-428a-e24b-b307e71feec6"
      },
      "execution_count": null,
      "outputs": [
        {
          "output_type": "execute_result",
          "data": {
            "text/plain": [
              "[0, 1]"
            ]
          },
          "metadata": {},
          "execution_count": 21
        }
      ]
    },
    {
      "cell_type": "code",
      "source": [
        "transactions_rdd.filter(lambda x: x.target == 1).count() * 100 / transactions_rdd.count()"
      ],
      "metadata": {
        "colab": {
          "base_uri": "https://localhost:8080/"
        },
        "id": "nglBwM8mSJPR",
        "outputId": "a3075517-bcc5-49fa-f121-90c1f8f8fda7"
      },
      "execution_count": null,
      "outputs": [
        {
          "output_type": "execute_result",
          "data": {
            "text/plain": [
              "3.502278074504093"
            ]
          },
          "metadata": {},
          "execution_count": 26
        }
      ]
    },
    {
      "cell_type": "markdown",
      "source": [
        "Porcentaje de monto fraudulento respecto de los productos"
      ],
      "metadata": {
        "id": "csUIFM5XkVk-"
      }
    },
    {
      "cell_type": "code",
      "source": [
        "fraude = transactions_rdd.filter(lambda x: x.target == 1).map(lambda x: (x.product_category, x.ammount)).reduceByKey(lambda a,b: a + b)"
      ],
      "metadata": {
        "id": "N7nAesazTogw"
      },
      "execution_count": null,
      "outputs": []
    },
    {
      "cell_type": "code",
      "source": [
        "legal = transactions_rdd.filter(lambda x: x.target == 0).map(lambda x: (x.product_category, x.ammount)).reduceByKey(lambda a,b: a + b)"
      ],
      "metadata": {
        "id": "AJsiRNG7jRCW"
      },
      "execution_count": null,
      "outputs": []
    },
    {
      "cell_type": "code",
      "source": [
        "producto_monto_f_l = fraude.fullOuterJoin(legal).collect()"
      ],
      "metadata": {
        "id": "gIvS-vAOmTfT"
      },
      "execution_count": null,
      "outputs": []
    },
    {
      "cell_type": "code",
      "source": [
        "def porcentaje(lista):\n",
        "  promedios = []\n",
        "  for producto in lista:\n",
        "    promedios.append((producto[0], producto[1][0] * 100 / (producto[1][0] + producto[1][1])))\n",
        "  return promedios\n",
        "\n",
        "porcentaje(producto_monto_f_l)"
      ],
      "metadata": {
        "colab": {
          "base_uri": "https://localhost:8080/"
        },
        "id": "caFfbjlioX8V",
        "outputId": "b563c517-2042-452e-e3f5-3164feff7555"
      },
      "execution_count": null,
      "outputs": [
        {
          "output_type": "execute_result",
          "data": {
            "text/plain": [
              "[('H', 10.087869182508362),\n",
              " ('R', 5.134079848889628),\n",
              " ('S', 7.983558441966235),\n",
              " ('C', 12.916996422843251),\n",
              " ('W', 3.0548043859574134)]"
            ]
          },
          "metadata": {},
          "execution_count": 74
        }
      ]
    },
    {
      "cell_type": "markdown",
      "source": [
        "Fraude segun el tiempo, analizando cantidad y monto"
      ],
      "metadata": {
        "id": "ziXfXnq739rQ"
      }
    },
    {
      "cell_type": "code",
      "source": [
        "fraude = transactions_rdd.filter(lambda x: x.target == 1).cache()"
      ],
      "metadata": {
        "id": "5m30Zsw3p15G"
      },
      "execution_count": 5,
      "outputs": []
    },
    {
      "cell_type": "code",
      "source": [
        "def segundos(numero):\n",
        "  return numero - 86400\n",
        "\n",
        "def analisis(numero, divisor):\n",
        "  flotante = (numero - 86400) / divisor\n",
        "  entero = (numero - 86400) // divisor\n",
        "  if flotante > entero:\n",
        "    return entero + 1\n",
        "  else:\n",
        "    return entero\n",
        "\n",
        "def minutos(numero):\n",
        "  return analisis(numero, 60)\n",
        "\n",
        "def horas(numero):\n",
        "  return analisis(numero, 3600)\n",
        "\n",
        "def dias(numero):\n",
        "  return analisis(numero, 86400)\n",
        "\n",
        "def semanas(numero):\n",
        "  return analisis(numero, 604800)\n",
        "\n",
        "def meses(numero):\n",
        "  return analisis(numero, 2419200)"
      ],
      "metadata": {
        "id": "6AWogNui5weu"
      },
      "execution_count": 48,
      "outputs": []
    },
    {
      "cell_type": "markdown",
      "source": [
        "Cantidad respecto del tiempo"
      ],
      "metadata": {
        "id": "Q8PHB9tuUvV7"
      }
    },
    {
      "cell_type": "markdown",
      "source": [
        "Máxima cantidad respecto de segundos"
      ],
      "metadata": {
        "id": "pQRcfUQxU1xC"
      }
    },
    {
      "cell_type": "code",
      "source": [
        "(fraude.map(lambda x: segundos(x.timestamp)).reduce(lambda a,b: a if a > b else b), fraude.count())"
      ],
      "metadata": {
        "colab": {
          "base_uri": "https://localhost:8080/"
        },
        "id": "9JrUCK9yTS4z",
        "outputId": "a277cbc4-acf3-497e-8699-1fedbfc5cc7a"
      },
      "execution_count": 57,
      "outputs": [
        {
          "output_type": "execute_result",
          "data": {
            "text/plain": [
              "(13064705, 17580)"
            ]
          },
          "metadata": {},
          "execution_count": 57
        }
      ]
    },
    {
      "cell_type": "markdown",
      "source": [
        "Máxima cantidad respecto de minutos"
      ],
      "metadata": {
        "id": "cz_4DCmmVAsU"
      }
    },
    {
      "cell_type": "code",
      "source": [
        "fraude.map(lambda x: (minutos(x.timestamp), 1)).reduceByKey(lambda a,b: a + b).reduce(lambda a,b: a if a[1] > b[1] else b)"
      ],
      "metadata": {
        "colab": {
          "base_uri": "https://localhost:8080/"
        },
        "id": "_IDB7xo4CO8N",
        "outputId": "0c8fcdc9-65d5-4224-b8ce-f7f87c8aeca4"
      },
      "execution_count": 50,
      "outputs": [
        {
          "output_type": "execute_result",
          "data": {
            "text/plain": [
              "(136426, 6)"
            ]
          },
          "metadata": {},
          "execution_count": 50
        }
      ]
    },
    {
      "cell_type": "markdown",
      "source": [
        "Máxima cantidad respecto de horas"
      ],
      "metadata": {
        "id": "YMeeWpFgVKTC"
      }
    },
    {
      "cell_type": "code",
      "source": [
        "fraude.map(lambda x: (horas(x.timestamp), 1)).reduceByKey(lambda a,b: a + b).reduce(lambda a,b: a if a[1] > b[1] else b)"
      ],
      "metadata": {
        "colab": {
          "base_uri": "https://localhost:8080/"
        },
        "id": "BP5ql10XDNEF",
        "outputId": "c07d2b8c-124e-45b1-edc3-6d4cc51d5d6a"
      },
      "execution_count": 51,
      "outputs": [
        {
          "output_type": "execute_result",
          "data": {
            "text/plain": [
              "(1529, 42)"
            ]
          },
          "metadata": {},
          "execution_count": 51
        }
      ]
    },
    {
      "cell_type": "markdown",
      "source": [
        "Cantidad respecto de días"
      ],
      "metadata": {
        "id": "umVarL0uVORK"
      }
    },
    {
      "cell_type": "code",
      "source": [
        "sorted(fraude.map(lambda x: (dias(x.timestamp), 1)).reduceByKey(lambda a,b: a + b).collect())"
      ],
      "metadata": {
        "colab": {
          "base_uri": "https://localhost:8080/"
        },
        "id": "1Yr5ifVaDzUs",
        "outputId": "52a216e6-19fa-4e15-9e74-054f9787c14f"
      },
      "execution_count": 52,
      "outputs": [
        {
          "output_type": "execute_result",
          "data": {
            "text/plain": [
              "[(1, 112),\n",
              " (2, 123),\n",
              " (3, 92),\n",
              " (4, 115),\n",
              " (5, 127),\n",
              " (6, 99),\n",
              " (7, 136),\n",
              " (8, 93),\n",
              " (9, 119),\n",
              " (10, 90),\n",
              " (11, 123),\n",
              " (12, 84),\n",
              " (13, 82),\n",
              " (14, 126),\n",
              " (15, 143),\n",
              " (16, 70),\n",
              " (17, 126),\n",
              " (18, 161),\n",
              " (19, 118),\n",
              " (20, 135),\n",
              " (21, 116),\n",
              " (22, 147),\n",
              " (23, 106),\n",
              " (24, 76),\n",
              " (25, 63),\n",
              " (26, 82),\n",
              " (27, 100),\n",
              " (28, 150),\n",
              " (29, 129),\n",
              " (30, 158),\n",
              " (31, 149),\n",
              " (32, 51),\n",
              " (33, 123),\n",
              " (34, 159),\n",
              " (35, 120),\n",
              " (36, 135),\n",
              " (37, 126),\n",
              " (38, 110),\n",
              " (39, 117),\n",
              " (40, 109),\n",
              " (41, 121),\n",
              " (42, 85),\n",
              " (43, 160),\n",
              " (44, 119),\n",
              " (45, 100),\n",
              " (46, 117),\n",
              " (47, 91),\n",
              " (48, 115),\n",
              " (49, 121),\n",
              " (50, 175),\n",
              " (51, 148),\n",
              " (52, 114),\n",
              " (53, 79),\n",
              " (54, 112),\n",
              " (55, 76),\n",
              " (56, 158),\n",
              " (57, 109),\n",
              " (58, 102),\n",
              " (59, 168),\n",
              " (60, 108),\n",
              " (61, 112),\n",
              " (62, 165),\n",
              " (63, 163),\n",
              " (64, 234),\n",
              " (65, 183),\n",
              " (66, 85),\n",
              " (67, 120),\n",
              " (68, 111),\n",
              " (69, 118),\n",
              " (70, 145),\n",
              " (71, 152),\n",
              " (72, 94),\n",
              " (73, 135),\n",
              " (74, 120),\n",
              " (75, 110),\n",
              " (76, 144),\n",
              " (77, 125),\n",
              " (78, 100),\n",
              " (79, 113),\n",
              " (80, 66),\n",
              " (81, 105),\n",
              " (82, 95),\n",
              " (83, 81),\n",
              " (84, 116),\n",
              " (85, 187),\n",
              " (86, 125),\n",
              " (87, 99),\n",
              " (88, 75),\n",
              " (89, 114),\n",
              " (90, 132),\n",
              " (91, 180),\n",
              " (92, 147),\n",
              " (93, 151),\n",
              " (94, 81),\n",
              " (95, 150),\n",
              " (96, 91),\n",
              " (97, 135),\n",
              " (98, 129),\n",
              " (99, 105),\n",
              " (100, 100),\n",
              " (101, 68),\n",
              " (102, 105),\n",
              " (103, 97),\n",
              " (104, 111),\n",
              " (105, 132),\n",
              " (106, 152),\n",
              " (107, 127),\n",
              " (108, 96),\n",
              " (109, 133),\n",
              " (110, 117),\n",
              " (111, 102),\n",
              " (112, 139),\n",
              " (113, 161),\n",
              " (114, 150),\n",
              " (115, 139),\n",
              " (116, 163),\n",
              " (117, 194),\n",
              " (118, 117),\n",
              " (119, 145),\n",
              " (120, 181),\n",
              " (121, 121),\n",
              " (122, 64),\n",
              " (123, 128),\n",
              " (124, 89),\n",
              " (125, 148),\n",
              " (126, 102),\n",
              " (127, 84),\n",
              " (128, 69),\n",
              " (129, 130),\n",
              " (130, 95),\n",
              " (131, 105),\n",
              " (132, 108),\n",
              " (133, 136),\n",
              " (134, 103),\n",
              " (135, 90),\n",
              " (136, 73),\n",
              " (137, 69),\n",
              " (138, 112),\n",
              " (139, 61),\n",
              " (140, 103),\n",
              " (141, 131),\n",
              " (142, 103),\n",
              " (143, 71),\n",
              " (144, 90),\n",
              " (145, 67),\n",
              " (146, 98),\n",
              " (147, 79),\n",
              " (148, 86),\n",
              " (149, 66),\n",
              " (150, 69),\n",
              " (151, 99),\n",
              " (152, 31)]"
            ]
          },
          "metadata": {},
          "execution_count": 52
        }
      ]
    },
    {
      "cell_type": "markdown",
      "source": [
        "Máxima cantidad respecto de días"
      ],
      "metadata": {
        "id": "RK_DfTrxVU7y"
      }
    },
    {
      "cell_type": "code",
      "source": [
        "fraude.map(lambda x: (dias(x.timestamp), 1)).reduceByKey(lambda a,b: a + b).reduce(lambda a,b: a if a[1] > b[1] else b)"
      ],
      "metadata": {
        "colab": {
          "base_uri": "https://localhost:8080/"
        },
        "id": "7rNDGkaiRAvS",
        "outputId": "db255b89-26ea-4291-e0dc-6fee39361af8"
      },
      "execution_count": 53,
      "outputs": [
        {
          "output_type": "execute_result",
          "data": {
            "text/plain": [
              "(64, 234)"
            ]
          },
          "metadata": {},
          "execution_count": 53
        }
      ]
    },
    {
      "cell_type": "markdown",
      "source": [
        "Cantidad respecto de semanas"
      ],
      "metadata": {
        "id": "ZFf35XZXVX1K"
      }
    },
    {
      "cell_type": "code",
      "source": [
        "sorted(fraude.map(lambda x: (semanas(x.timestamp), 1)).reduceByKey(lambda a,b: a + b).collect())"
      ],
      "metadata": {
        "colab": {
          "base_uri": "https://localhost:8080/"
        },
        "id": "smZLkrJUECF0",
        "outputId": "ef21c2bd-f1a4-4db4-961c-9d67ba501a28"
      },
      "execution_count": 54,
      "outputs": [
        {
          "output_type": "execute_result",
          "data": {
            "text/plain": [
              "[(1, 804),\n",
              " (2, 717),\n",
              " (3, 869),\n",
              " (4, 724),\n",
              " (5, 889),\n",
              " (6, 803),\n",
              " (7, 823),\n",
              " (8, 862),\n",
              " (9, 927),\n",
              " (10, 996),\n",
              " (11, 880),\n",
              " (12, 676),\n",
              " (13, 912),\n",
              " (14, 884),\n",
              " (15, 718),\n",
              " (16, 866),\n",
              " (17, 1069),\n",
              " (18, 833),\n",
              " (19, 727),\n",
              " (20, 611),\n",
              " (21, 639),\n",
              " (22, 351)]"
            ]
          },
          "metadata": {},
          "execution_count": 54
        }
      ]
    },
    {
      "cell_type": "markdown",
      "source": [
        "Máxima cantidad respecto de semanas"
      ],
      "metadata": {
        "id": "stGhR50EVi7i"
      }
    },
    {
      "cell_type": "code",
      "source": [
        "fraude.map(lambda x: (semanas(x.timestamp), 1)).reduceByKey(lambda a,b: a + b).reduce(lambda a,b: a if a[1] > b[1] else b)"
      ],
      "metadata": {
        "colab": {
          "base_uri": "https://localhost:8080/"
        },
        "id": "FOPZytbDRIsy",
        "outputId": "4a6e512a-b91a-4d57-b508-4a7bc92a41c2"
      },
      "execution_count": 55,
      "outputs": [
        {
          "output_type": "execute_result",
          "data": {
            "text/plain": [
              "(17, 1069)"
            ]
          },
          "metadata": {},
          "execution_count": 55
        }
      ]
    },
    {
      "cell_type": "markdown",
      "source": [
        "Cantidad respecto de meses"
      ],
      "metadata": {
        "id": "g5KWuys7VozS"
      }
    },
    {
      "cell_type": "code",
      "source": [
        "sorted(fraude.map(lambda x: (meses(x.timestamp), 1)).reduceByKey(lambda a,b: a + b).collect())"
      ],
      "metadata": {
        "colab": {
          "base_uri": "https://localhost:8080/"
        },
        "id": "XkkYbmE7EliT",
        "outputId": "80886691-d312-49d4-8867-88fcd6fb4877"
      },
      "execution_count": 56,
      "outputs": [
        {
          "output_type": "execute_result",
          "data": {
            "text/plain": [
              "[(1, 3114), (2, 3377), (3, 3479), (4, 3380), (5, 3240), (6, 990)]"
            ]
          },
          "metadata": {},
          "execution_count": 56
        }
      ]
    },
    {
      "cell_type": "code",
      "source": [],
      "metadata": {
        "id": "PDyGpqJbXVky"
      },
      "execution_count": null,
      "outputs": []
    }
  ],
  "metadata": {
    "colab": {
      "provenance": []
    },
    "kernelspec": {
      "display_name": "Python 3",
      "name": "python3"
    }
  },
  "nbformat": 4,
  "nbformat_minor": 0
}