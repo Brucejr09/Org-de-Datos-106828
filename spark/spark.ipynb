{
  "cells": [
    {
      "cell_type": "code",
      "source": [
        "!pip install pyspark\n",
        "!apt update\n",
        "!apt install openjdk-8-jdk-headless -qq\n",
        "import os\n",
        "from pyspark.sql import *\n",
        "from pyspark.sql.functions import *\n",
        "from pyspark import SparkContext\n",
        "from pyspark.sql import SQLContext\n",
        "os.environ[\"JAVA_HOME\"] = \"/usr/lib/jvm/java-8-openjdk-amd64\""
      ],
      "metadata": {
        "id": "gX6oO98RGFl0",
        "outputId": "ce4eeab7-f0fc-4b48-d2ce-b5e4528e3a89",
        "colab": {
          "base_uri": "https://localhost:8080/"
        }
      },
      "execution_count": 7,
      "outputs": [
        {
          "output_type": "stream",
          "name": "stdout",
          "text": [
            "Requirement already satisfied: pyspark in /usr/local/lib/python3.10/dist-packages (3.5.3)\n",
            "Requirement already satisfied: py4j==0.10.9.7 in /usr/local/lib/python3.10/dist-packages (from pyspark) (0.10.9.7)\n",
            "Hit:1 https://cloud.r-project.org/bin/linux/ubuntu jammy-cran40/ InRelease\n",
            "Hit:2 https://developer.download.nvidia.com/compute/cuda/repos/ubuntu2204/x86_64  InRelease\n",
            "Get:3 http://security.ubuntu.com/ubuntu jammy-security InRelease [129 kB]\n",
            "Hit:4 http://archive.ubuntu.com/ubuntu jammy InRelease\n",
            "Ign:5 https://r2u.stat.illinois.edu/ubuntu jammy InRelease\n",
            "Get:6 http://archive.ubuntu.com/ubuntu jammy-updates InRelease [128 kB]\n",
            "Hit:7 https://r2u.stat.illinois.edu/ubuntu jammy Release\n",
            "Hit:8 https://ppa.launchpadcontent.net/deadsnakes/ppa/ubuntu jammy InRelease\n",
            "Hit:10 https://ppa.launchpadcontent.net/graphics-drivers/ppa/ubuntu jammy InRelease\n",
            "Hit:11 https://ppa.launchpadcontent.net/ubuntugis/ppa/ubuntu jammy InRelease\n",
            "Hit:12 http://archive.ubuntu.com/ubuntu jammy-backports InRelease\n",
            "Fetched 257 kB in 2s (124 kB/s)\n",
            "Reading package lists... Done\n",
            "Building dependency tree... Done\n",
            "Reading state information... Done\n",
            "54 packages can be upgraded. Run 'apt list --upgradable' to see them.\n",
            "\u001b[1;33mW: \u001b[0mSkipping acquire of configured file 'main/source/Sources' as repository 'https://r2u.stat.illinois.edu/ubuntu jammy InRelease' does not seem to provide it (sources.list entry misspelt?)\u001b[0m\n",
            "openjdk-8-jdk-headless is already the newest version (8u422-b05-1~22.04).\n",
            "0 upgraded, 0 newly installed, 0 to remove and 54 not upgraded.\n"
          ]
        }
      ]
    },
    {
      "cell_type": "code",
      "source": [
        "spark = SparkSession.builder.getOrCreate()\n",
        "sc = spark.sparkContext\n",
        "sqlContext = SQLContext(sc)\n",
        "df = sqlContext.read.csv('transactions_train.csv', header=True, inferSchema=True)\n",
        "transactions_rdd = df.rdd"
      ],
      "metadata": {
        "id": "crza1IqRGJ77",
        "outputId": "09479dd9-7df9-4f3c-aa08-6cff30c1ae5b",
        "colab": {
          "base_uri": "https://localhost:8080/"
        }
      },
      "execution_count": 8,
      "outputs": [
        {
          "output_type": "stream",
          "name": "stderr",
          "text": [
            "/usr/local/lib/python3.10/dist-packages/pyspark/sql/context.py:113: FutureWarning: Deprecated in 3.0.0. Use SparkSession.builder.getOrCreate() instead.\n",
            "  warnings.warn(\n"
          ]
        }
      ]
    },
    {
      "cell_type": "markdown",
      "source": [
        "Porcentaje de fraude"
      ],
      "metadata": {
        "id": "YdDHUDkAkKVb"
      }
    },
    {
      "cell_type": "code",
      "source": [
        "transactions_rdd.map(lambda x: x.target).distinct().collect()"
      ],
      "metadata": {
        "id": "Oda4rqItGS2W",
        "outputId": "c3560e4b-ad55-428a-e24b-b307e71feec6",
        "colab": {
          "base_uri": "https://localhost:8080/"
        }
      },
      "execution_count": 21,
      "outputs": [
        {
          "output_type": "execute_result",
          "data": {
            "text/plain": [
              "[0, 1]"
            ]
          },
          "metadata": {},
          "execution_count": 21
        }
      ]
    },
    {
      "cell_type": "code",
      "source": [
        "transactions_rdd.filter(lambda x: x.target == 1).count() * 100 / transactions_rdd.count()"
      ],
      "metadata": {
        "id": "nglBwM8mSJPR",
        "outputId": "a3075517-bcc5-49fa-f121-90c1f8f8fda7",
        "colab": {
          "base_uri": "https://localhost:8080/"
        }
      },
      "execution_count": 26,
      "outputs": [
        {
          "output_type": "execute_result",
          "data": {
            "text/plain": [
              "3.502278074504093"
            ]
          },
          "metadata": {},
          "execution_count": 26
        }
      ]
    },
    {
      "cell_type": "markdown",
      "source": [
        "Porcentaje de monto fraudulento"
      ],
      "metadata": {
        "id": "csUIFM5XkVk-"
      }
    },
    {
      "cell_type": "code",
      "source": [
        "fraude = transactions_rdd.filter(lambda x: x.target == 1).map(lambda x: (x.product_category, x.ammount)).reduceByKey(lambda a,b: a + b)"
      ],
      "metadata": {
        "id": "N7nAesazTogw"
      },
      "execution_count": 68,
      "outputs": []
    },
    {
      "cell_type": "code",
      "source": [
        "legal = transactions_rdd.filter(lambda x: x.target == 0).map(lambda x: (x.product_category, x.ammount)).reduceByKey(lambda a,b: a + b)"
      ],
      "metadata": {
        "id": "AJsiRNG7jRCW"
      },
      "execution_count": 69,
      "outputs": []
    },
    {
      "cell_type": "code",
      "source": [
        "producto_monto_f_l = fraude.fullOuterJoin(legal).collect()"
      ],
      "metadata": {
        "id": "gIvS-vAOmTfT"
      },
      "execution_count": 72,
      "outputs": []
    },
    {
      "cell_type": "code",
      "source": [
        "def porcentaje(lista):\n",
        "  promedios = []\n",
        "  for producto in lista:\n",
        "    promedios.append((producto[0], producto[1][0] * 100 / (producto[1][0] + producto[1][1])))\n",
        "  return promedios\n",
        "\n",
        "porcentaje(producto_monto_f_l)"
      ],
      "metadata": {
        "id": "caFfbjlioX8V",
        "outputId": "b563c517-2042-452e-e3f5-3164feff7555",
        "colab": {
          "base_uri": "https://localhost:8080/"
        }
      },
      "execution_count": 74,
      "outputs": [
        {
          "output_type": "execute_result",
          "data": {
            "text/plain": [
              "[('H', 10.087869182508362),\n",
              " ('R', 5.134079848889628),\n",
              " ('S', 7.983558441966235),\n",
              " ('C', 12.916996422843251),\n",
              " ('W', 3.0548043859574134)]"
            ]
          },
          "metadata": {},
          "execution_count": 74
        }
      ]
    },
    {
      "cell_type": "code",
      "source": [],
      "metadata": {
        "id": "5m30Zsw3p15G"
      },
      "execution_count": null,
      "outputs": []
    }
  ],
  "metadata": {
    "colab": {
      "name": "Te damos la bienvenida a Colaboratory",
      "provenance": []
    },
    "kernelspec": {
      "display_name": "Python 3",
      "name": "python3"
    }
  },
  "nbformat": 4,
  "nbformat_minor": 0
}