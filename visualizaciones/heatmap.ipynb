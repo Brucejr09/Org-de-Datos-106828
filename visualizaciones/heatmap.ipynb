{
 "cells": [
  {
   "cell_type": "code",
   "execution_count": 1,
   "metadata": {},
   "outputs": [],
   "source": [
    "import seaborn as sns\n",
    "from pandas import read_csv\n",
    "from funciones import tipo_transferencia, monto_en_rangos, cargar_rango\n",
    "\n",
    "transactions = read_csv(\"C:\\\\Users\\\\palej\\\\Desktop\\\\FIUBA\\\\Organizacion de datos\\\\TP\\\\transactions_train.csv\")"
   ]
  },
  {
   "cell_type": "code",
   "execution_count": null,
   "metadata": {},
   "outputs": [],
   "source": [
    "#                   VISUALIZACION       DE      HEATMAP"
   ]
  },
  {
   "cell_type": "code",
   "execution_count": 2,
   "metadata": {},
   "outputs": [],
   "source": [
    "analisis = transactions[[\"target\", \"feat_card_4\", \"ammount\"]]"
   ]
  },
  {
   "cell_type": "code",
   "execution_count": 3,
   "metadata": {},
   "outputs": [],
   "source": [
    "analisis = analisis.rename(columns={\"target\":\"Transaccion\", \"feat_card_4\":\"Tarjeta\", \"ammount\":\"Monto en $\"})"
   ]
  },
  {
   "cell_type": "code",
   "execution_count": 4,
   "metadata": {},
   "outputs": [],
   "source": [
    "analisis = analisis.fillna(\"Otra\")"
   ]
  },
  {
   "cell_type": "code",
   "execution_count": 5,
   "metadata": {},
   "outputs": [],
   "source": [
    "analisis[\"Transaccion\"] = analisis[\"Transaccion\"].map(tipo_transferencia)"
   ]
  },
  {
   "cell_type": "code",
   "execution_count": 6,
   "metadata": {},
   "outputs": [],
   "source": [
    "analisis = analisis[analisis.Transaccion == \"Fraude\"]"
   ]
  },
  {
   "cell_type": "code",
   "execution_count": 7,
   "metadata": {},
   "outputs": [
    {
     "data": {
      "text/html": [
       "<div>\n",
       "<style scoped>\n",
       "    .dataframe tbody tr th:only-of-type {\n",
       "        vertical-align: middle;\n",
       "    }\n",
       "\n",
       "    .dataframe tbody tr th {\n",
       "        vertical-align: top;\n",
       "    }\n",
       "\n",
       "    .dataframe thead th {\n",
       "        text-align: right;\n",
       "    }\n",
       "</style>\n",
       "<table border=\"1\" class=\"dataframe\">\n",
       "  <thead>\n",
       "    <tr style=\"text-align: right;\">\n",
       "      <th></th>\n",
       "      <th>Monto en $</th>\n",
       "    </tr>\n",
       "  </thead>\n",
       "  <tbody>\n",
       "    <tr>\n",
       "      <th>count</th>\n",
       "      <td>17580.000000</td>\n",
       "    </tr>\n",
       "    <tr>\n",
       "      <th>mean</th>\n",
       "      <td>148.705139</td>\n",
       "    </tr>\n",
       "    <tr>\n",
       "      <th>std</th>\n",
       "      <td>228.164551</td>\n",
       "    </tr>\n",
       "    <tr>\n",
       "      <th>min</th>\n",
       "      <td>0.292000</td>\n",
       "    </tr>\n",
       "    <tr>\n",
       "      <th>25%</th>\n",
       "      <td>35.950000</td>\n",
       "    </tr>\n",
       "    <tr>\n",
       "      <th>50%</th>\n",
       "      <td>76.366500</td>\n",
       "    </tr>\n",
       "    <tr>\n",
       "      <th>75%</th>\n",
       "      <td>169.000000</td>\n",
       "    </tr>\n",
       "    <tr>\n",
       "      <th>max</th>\n",
       "      <td>5191.000000</td>\n",
       "    </tr>\n",
       "  </tbody>\n",
       "</table>\n",
       "</div>"
      ],
      "text/plain": [
       "         Monto en $\n",
       "count  17580.000000\n",
       "mean     148.705139\n",
       "std      228.164551\n",
       "min        0.292000\n",
       "25%       35.950000\n",
       "50%       76.366500\n",
       "75%      169.000000\n",
       "max     5191.000000"
      ]
     },
     "execution_count": 7,
     "metadata": {},
     "output_type": "execute_result"
    }
   ],
   "source": [
    "analisis.describe()"
   ]
  },
  {
   "cell_type": "code",
   "execution_count": 8,
   "metadata": {},
   "outputs": [],
   "source": [
    "analisis[\"Rango de monto en $\"] = analisis[\"Monto en $\"].map(monto_en_rangos)"
   ]
  },
  {
   "cell_type": "code",
   "execution_count": 9,
   "metadata": {},
   "outputs": [
    {
     "data": {
      "text/html": [
       "<div>\n",
       "<style scoped>\n",
       "    .dataframe tbody tr th:only-of-type {\n",
       "        vertical-align: middle;\n",
       "    }\n",
       "\n",
       "    .dataframe tbody tr th {\n",
       "        vertical-align: top;\n",
       "    }\n",
       "\n",
       "    .dataframe thead th {\n",
       "        text-align: right;\n",
       "    }\n",
       "</style>\n",
       "<table border=\"1\" class=\"dataframe\">\n",
       "  <thead>\n",
       "    <tr style=\"text-align: right;\">\n",
       "      <th></th>\n",
       "      <th>Transaccion</th>\n",
       "      <th>Tarjeta</th>\n",
       "      <th>Monto en $</th>\n",
       "      <th>Rango de monto en $</th>\n",
       "    </tr>\n",
       "  </thead>\n",
       "  <tbody>\n",
       "    <tr>\n",
       "      <th>203</th>\n",
       "      <td>Fraude</td>\n",
       "      <td>visa</td>\n",
       "      <td>445.000</td>\n",
       "      <td>500</td>\n",
       "    </tr>\n",
       "    <tr>\n",
       "      <th>240</th>\n",
       "      <td>Fraude</td>\n",
       "      <td>visa</td>\n",
       "      <td>37.098</td>\n",
       "      <td>100</td>\n",
       "    </tr>\n",
       "    <tr>\n",
       "      <th>243</th>\n",
       "      <td>Fraude</td>\n",
       "      <td>visa</td>\n",
       "      <td>37.098</td>\n",
       "      <td>100</td>\n",
       "    </tr>\n",
       "    <tr>\n",
       "      <th>245</th>\n",
       "      <td>Fraude</td>\n",
       "      <td>visa</td>\n",
       "      <td>37.098</td>\n",
       "      <td>100</td>\n",
       "    </tr>\n",
       "    <tr>\n",
       "      <th>288</th>\n",
       "      <td>Fraude</td>\n",
       "      <td>visa</td>\n",
       "      <td>155.521</td>\n",
       "      <td>200</td>\n",
       "    </tr>\n",
       "    <tr>\n",
       "      <th>...</th>\n",
       "      <td>...</td>\n",
       "      <td>...</td>\n",
       "      <td>...</td>\n",
       "      <td>...</td>\n",
       "    </tr>\n",
       "    <tr>\n",
       "      <th>501935</th>\n",
       "      <td>Fraude</td>\n",
       "      <td>visa</td>\n",
       "      <td>34.552</td>\n",
       "      <td>100</td>\n",
       "    </tr>\n",
       "    <tr>\n",
       "      <th>501936</th>\n",
       "      <td>Fraude</td>\n",
       "      <td>visa</td>\n",
       "      <td>34.552</td>\n",
       "      <td>100</td>\n",
       "    </tr>\n",
       "    <tr>\n",
       "      <th>501941</th>\n",
       "      <td>Fraude</td>\n",
       "      <td>mastercard</td>\n",
       "      <td>250.000</td>\n",
       "      <td>300</td>\n",
       "    </tr>\n",
       "    <tr>\n",
       "      <th>501942</th>\n",
       "      <td>Fraude</td>\n",
       "      <td>visa</td>\n",
       "      <td>100.000</td>\n",
       "      <td>200</td>\n",
       "    </tr>\n",
       "    <tr>\n",
       "      <th>501945</th>\n",
       "      <td>Fraude</td>\n",
       "      <td>mastercard</td>\n",
       "      <td>54.000</td>\n",
       "      <td>100</td>\n",
       "    </tr>\n",
       "  </tbody>\n",
       "</table>\n",
       "<p>17580 rows × 4 columns</p>\n",
       "</div>"
      ],
      "text/plain": [
       "       Transaccion     Tarjeta  Monto en $  Rango de monto en $\n",
       "203         Fraude        visa     445.000                  500\n",
       "240         Fraude        visa      37.098                  100\n",
       "243         Fraude        visa      37.098                  100\n",
       "245         Fraude        visa      37.098                  100\n",
       "288         Fraude        visa     155.521                  200\n",
       "...            ...         ...         ...                  ...\n",
       "501935      Fraude        visa      34.552                  100\n",
       "501936      Fraude        visa      34.552                  100\n",
       "501941      Fraude  mastercard     250.000                  300\n",
       "501942      Fraude        visa     100.000                  200\n",
       "501945      Fraude  mastercard      54.000                  100\n",
       "\n",
       "[17580 rows x 4 columns]"
      ]
     },
     "execution_count": 9,
     "metadata": {},
     "output_type": "execute_result"
    }
   ],
   "source": [
    "analisis"
   ]
  },
  {
   "cell_type": "code",
   "execution_count": 10,
   "metadata": {},
   "outputs": [
    {
     "name": "stderr",
     "output_type": "stream",
     "text": [
      "C:\\Users\\palej\\AppData\\Local\\Temp\\ipykernel_7216\\3908268658.py:1: FutureWarning: The provided callable <built-in function sum> is currently using DataFrameGroupBy.sum. In a future version of pandas, the provided callable will be used directly. To keep current behavior pass the string \"sum\" instead.\n",
      "  analisis = analisis.pivot_table(values=\"Monto en $\", index=\"Rango de monto en $\", columns=\"Tarjeta\", aggfunc=sum)\n"
     ]
    }
   ],
   "source": [
    "analisis = analisis.pivot_table(values=\"Monto en $\", index=\"Rango de monto en $\", columns=\"Tarjeta\", aggfunc=sum)"
   ]
  },
  {
   "cell_type": "code",
   "execution_count": 11,
   "metadata": {},
   "outputs": [],
   "source": [
    "analisis = analisis.fillna(0)"
   ]
  },
  {
   "cell_type": "code",
   "execution_count": 12,
   "metadata": {},
   "outputs": [],
   "source": [
    "for columna in list(analisis.columns):\n",
    "    analisis[columna] = analisis[columna] * 100 / analisis[columna].sum()"
   ]
  },
  {
   "cell_type": "code",
   "execution_count": 13,
   "metadata": {},
   "outputs": [],
   "source": [
    "analisis = analisis.reset_index()"
   ]
  },
  {
   "cell_type": "code",
   "execution_count": 14,
   "metadata": {},
   "outputs": [],
   "source": [
    "analisis[\"Rango de monto en $\"] = analisis[\"Rango de monto en $\"].map(cargar_rango)"
   ]
  },
  {
   "cell_type": "code",
   "execution_count": 15,
   "metadata": {},
   "outputs": [],
   "source": [
    "analisis = analisis.set_index(\"Rango de monto en $\")"
   ]
  },
  {
   "cell_type": "code",
   "execution_count": 16,
   "metadata": {},
   "outputs": [
    {
     "data": {
      "text/plain": [
       "Text(0.5, 1.0, 'Fraude en tarjetas')"
      ]
     },
     "execution_count": 16,
     "metadata": {},
     "output_type": "execute_result"
    },
    {
     "data": {
      "image/png": "[encoded data removed]",
      "text/plain": [
       "<Figure size 640x480 with 2 Axes>"
      ]
     },
     "metadata": {},
     "output_type": "display_data"
    }
   ],
   "source": [
    "heatmap = sns.heatmap(analisis.T, annot=True, cmap=sns.color_palette(\"flare\", as_cmap=True))\n",
    "heatmap.set_title(\"Fraude en tarjetas\")"
   ]
  }
 ],
 "metadata": {
  "kernelspec": {
   "display_name": "Python 3",
   "language": "python",
   "name": "python3"
  },
  "language_info": {
   "codemirror_mode": {
    "name": "ipython",
    "version": 3
   },
   "file_extension": ".py",
   "mimetype": "text/x-python",
   "name": "python",
   "nbconvert_exporter": "python",
   "pygments_lexer": "ipython3",
   "version": "3.12.5"
  }
 },
 "nbformat": 4,
 "nbformat_minor": 2
}
