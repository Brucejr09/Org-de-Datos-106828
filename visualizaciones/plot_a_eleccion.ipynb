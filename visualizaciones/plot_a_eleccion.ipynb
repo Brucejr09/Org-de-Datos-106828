{
 "cells": [
  {
   "cell_type": "code",
   "execution_count": 1,
   "metadata": {},
   "outputs": [],
   "source": [
    "import matplotlib.pyplot as plt\n",
    "from pandas import read_csv\n",
    "from funciones import tipo_transferencia, cantidad_producto\n",
    "\n",
    "transactions = read_csv(\"C:\\\\Users\\\\palej\\\\Desktop\\\\FIUBA\\\\Organizacion de datos\\\\TP\\\\transactions_train.csv\")"
   ]
  },
  {
   "cell_type": "code",
   "execution_count": null,
   "metadata": {},
   "outputs": [],
   "source": [
    "#                   VISUALIZACION       DE      PLOT    A   ELECCION"
   ]
  },
  {
   "cell_type": "code",
   "execution_count": null,
   "metadata": {},
   "outputs": [],
   "source": [
    "#                   VISUALIZACION       DE      PIEPLOT"
   ]
  },
  {
   "cell_type": "code",
   "execution_count": 2,
   "metadata": {},
   "outputs": [],
   "source": [
    "analisis = transactions[[\"target\", \"ammount\", \"product_category\"]]"
   ]
  },
  {
   "cell_type": "code",
   "execution_count": 3,
   "metadata": {},
   "outputs": [],
   "source": [
    "analisis = analisis.rename(columns={\"target\":\"Transferencia\", \"ammount\":\"Monto en $\", \"product_category\":\"Tipo de producto\"})"
   ]
  },
  {
   "cell_type": "code",
   "execution_count": 4,
   "metadata": {},
   "outputs": [],
   "source": [
    "analisis[\"Transferencia\"] = analisis[\"Transferencia\"].map(tipo_transferencia)"
   ]
  },
  {
   "cell_type": "code",
   "execution_count": 5,
   "metadata": {},
   "outputs": [],
   "source": [
    "analisis[\"Cantidad\"] = analisis[\"Tipo de producto\"].map(cantidad_producto)"
   ]
  },
  {
   "cell_type": "code",
   "execution_count": 6,
   "metadata": {},
   "outputs": [
    {
     "data": {
      "text/html": [
       "<div>\n",
       "<style scoped>\n",
       "    .dataframe tbody tr th:only-of-type {\n",
       "        vertical-align: middle;\n",
       "    }\n",
       "\n",
       "    .dataframe tbody tr th {\n",
       "        vertical-align: top;\n",
       "    }\n",
       "\n",
       "    .dataframe thead th {\n",
       "        text-align: right;\n",
       "    }\n",
       "</style>\n",
       "<table border=\"1\" class=\"dataframe\">\n",
       "  <thead>\n",
       "    <tr style=\"text-align: right;\">\n",
       "      <th></th>\n",
       "      <th>Transferencia</th>\n",
       "      <th>Monto en $</th>\n",
       "      <th>Tipo de producto</th>\n",
       "      <th>Cantidad</th>\n",
       "    </tr>\n",
       "  </thead>\n",
       "  <tbody>\n",
       "    <tr>\n",
       "      <th>0</th>\n",
       "      <td>Legal</td>\n",
       "      <td>68.50</td>\n",
       "      <td>W</td>\n",
       "      <td>1</td>\n",
       "    </tr>\n",
       "    <tr>\n",
       "      <th>1</th>\n",
       "      <td>Legal</td>\n",
       "      <td>29.00</td>\n",
       "      <td>W</td>\n",
       "      <td>1</td>\n",
       "    </tr>\n",
       "    <tr>\n",
       "      <th>2</th>\n",
       "      <td>Legal</td>\n",
       "      <td>59.00</td>\n",
       "      <td>W</td>\n",
       "      <td>1</td>\n",
       "    </tr>\n",
       "    <tr>\n",
       "      <th>3</th>\n",
       "      <td>Legal</td>\n",
       "      <td>50.00</td>\n",
       "      <td>W</td>\n",
       "      <td>1</td>\n",
       "    </tr>\n",
       "    <tr>\n",
       "      <th>4</th>\n",
       "      <td>Legal</td>\n",
       "      <td>50.00</td>\n",
       "      <td>H</td>\n",
       "      <td>1</td>\n",
       "    </tr>\n",
       "    <tr>\n",
       "      <th>...</th>\n",
       "      <td>...</td>\n",
       "      <td>...</td>\n",
       "      <td>...</td>\n",
       "      <td>...</td>\n",
       "    </tr>\n",
       "    <tr>\n",
       "      <th>501954</th>\n",
       "      <td>Legal</td>\n",
       "      <td>29.00</td>\n",
       "      <td>W</td>\n",
       "      <td>1</td>\n",
       "    </tr>\n",
       "    <tr>\n",
       "      <th>501955</th>\n",
       "      <td>Legal</td>\n",
       "      <td>312.95</td>\n",
       "      <td>W</td>\n",
       "      <td>1</td>\n",
       "    </tr>\n",
       "    <tr>\n",
       "      <th>501956</th>\n",
       "      <td>Legal</td>\n",
       "      <td>774.00</td>\n",
       "      <td>W</td>\n",
       "      <td>1</td>\n",
       "    </tr>\n",
       "    <tr>\n",
       "      <th>501957</th>\n",
       "      <td>Legal</td>\n",
       "      <td>226.00</td>\n",
       "      <td>W</td>\n",
       "      <td>1</td>\n",
       "    </tr>\n",
       "    <tr>\n",
       "      <th>501958</th>\n",
       "      <td>Legal</td>\n",
       "      <td>97.00</td>\n",
       "      <td>W</td>\n",
       "      <td>1</td>\n",
       "    </tr>\n",
       "  </tbody>\n",
       "</table>\n",
       "<p>501959 rows × 4 columns</p>\n",
       "</div>"
      ],
      "text/plain": [
       "       Transferencia  Monto en $ Tipo de producto  Cantidad\n",
       "0              Legal       68.50                W         1\n",
       "1              Legal       29.00                W         1\n",
       "2              Legal       59.00                W         1\n",
       "3              Legal       50.00                W         1\n",
       "4              Legal       50.00                H         1\n",
       "...              ...         ...              ...       ...\n",
       "501954         Legal       29.00                W         1\n",
       "501955         Legal      312.95                W         1\n",
       "501956         Legal      774.00                W         1\n",
       "501957         Legal      226.00                W         1\n",
       "501958         Legal       97.00                W         1\n",
       "\n",
       "[501959 rows x 4 columns]"
      ]
     },
     "execution_count": 6,
     "metadata": {},
     "output_type": "execute_result"
    }
   ],
   "source": [
    "analisis"
   ]
  },
  {
   "cell_type": "code",
   "execution_count": 7,
   "metadata": {},
   "outputs": [
    {
     "name": "stderr",
     "output_type": "stream",
     "text": [
      "C:\\Users\\palej\\AppData\\Local\\Temp\\ipykernel_10600\\970043778.py:1: FutureWarning: The provided callable <built-in function sum> is currently using DataFrameGroupBy.sum. In a future version of pandas, the provided callable will be used directly. To keep current behavior pass the string \"sum\" instead.\n",
      "  analisis_cantidad = analisis.pivot_table(values=\"Cantidad\", index=\"Tipo de producto\", columns=\"Transferencia\", aggfunc=sum)\n"
     ]
    }
   ],
   "source": [
    "analisis_cantidad = analisis.pivot_table(values=\"Cantidad\", index=\"Tipo de producto\", columns=\"Transferencia\", aggfunc=sum)"
   ]
  },
  {
   "cell_type": "code",
   "execution_count": 8,
   "metadata": {},
   "outputs": [],
   "source": [
    "analisis_cantidad[\"Cantidad de fraude en %\"] = round(analisis_cantidad.Fraude * 100 / analisis_cantidad.Fraude.sum())"
   ]
  },
  {
   "cell_type": "code",
   "execution_count": 9,
   "metadata": {},
   "outputs": [],
   "source": [
    "analisis_cantidad = analisis_cantidad.reset_index()"
   ]
  },
  {
   "cell_type": "code",
   "execution_count": 10,
   "metadata": {},
   "outputs": [],
   "source": [
    "analisis_cantidad = analisis_cantidad.rename(columns={\"Fraude\":\"Cantidad de fraude\", \"Legal\":\"Cantidad de legal\"})"
   ]
  },
  {
   "cell_type": "code",
   "execution_count": 11,
   "metadata": {},
   "outputs": [
    {
     "data": {
      "text/html": [
       "<div>\n",
       "<style scoped>\n",
       "    .dataframe tbody tr th:only-of-type {\n",
       "        vertical-align: middle;\n",
       "    }\n",
       "\n",
       "    .dataframe tbody tr th {\n",
       "        vertical-align: top;\n",
       "    }\n",
       "\n",
       "    .dataframe thead th {\n",
       "        text-align: right;\n",
       "    }\n",
       "</style>\n",
       "<table border=\"1\" class=\"dataframe\">\n",
       "  <thead>\n",
       "    <tr style=\"text-align: right;\">\n",
       "      <th>Transferencia</th>\n",
       "      <th>Tipo de producto</th>\n",
       "      <th>Cantidad de fraude</th>\n",
       "      <th>Cantidad de legal</th>\n",
       "      <th>Cantidad de fraude en %</th>\n",
       "    </tr>\n",
       "  </thead>\n",
       "  <tbody>\n",
       "    <tr>\n",
       "      <th>0</th>\n",
       "      <td>C</td>\n",
       "      <td>6738</td>\n",
       "      <td>52393</td>\n",
       "      <td>38.0</td>\n",
       "    </tr>\n",
       "    <tr>\n",
       "      <th>1</th>\n",
       "      <td>H</td>\n",
       "      <td>1410</td>\n",
       "      <td>29052</td>\n",
       "      <td>8.0</td>\n",
       "    </tr>\n",
       "    <tr>\n",
       "      <th>2</th>\n",
       "      <td>R</td>\n",
       "      <td>1214</td>\n",
       "      <td>32295</td>\n",
       "      <td>7.0</td>\n",
       "    </tr>\n",
       "    <tr>\n",
       "      <th>3</th>\n",
       "      <td>S</td>\n",
       "      <td>542</td>\n",
       "      <td>8113</td>\n",
       "      <td>3.0</td>\n",
       "    </tr>\n",
       "    <tr>\n",
       "      <th>4</th>\n",
       "      <td>W</td>\n",
       "      <td>7676</td>\n",
       "      <td>362526</td>\n",
       "      <td>44.0</td>\n",
       "    </tr>\n",
       "  </tbody>\n",
       "</table>\n",
       "</div>"
      ],
      "text/plain": [
       "Transferencia Tipo de producto  Cantidad de fraude  Cantidad de legal  \\\n",
       "0                            C                6738              52393   \n",
       "1                            H                1410              29052   \n",
       "2                            R                1214              32295   \n",
       "3                            S                 542               8113   \n",
       "4                            W                7676             362526   \n",
       "\n",
       "Transferencia  Cantidad de fraude en %  \n",
       "0                                 38.0  \n",
       "1                                  8.0  \n",
       "2                                  7.0  \n",
       "3                                  3.0  \n",
       "4                                 44.0  "
      ]
     },
     "execution_count": 11,
     "metadata": {},
     "output_type": "execute_result"
    }
   ],
   "source": [
    "analisis_cantidad"
   ]
  },
  {
   "cell_type": "code",
   "execution_count": 12,
   "metadata": {},
   "outputs": [
    {
     "data": {
      "image/png": "[encoded data removed]",
      "text/plain": [
       "<Figure size 640x480 with 1 Axes>"
      ]
     },
     "metadata": {},
     "output_type": "display_data"
    }
   ],
   "source": [
    "plt.subplots()[1].pie(analisis_cantidad[\"Cantidad de fraude en %\"], labels=analisis_cantidad[\"Tipo de producto\"], autopct='%1.1f%%')\n",
    "plt.title(\"Fraude en productos\")\n",
    "plt.show()"
   ]
  },
  {
   "cell_type": "code",
   "execution_count": 13,
   "metadata": {},
   "outputs": [
    {
     "name": "stderr",
     "output_type": "stream",
     "text": [
      "C:\\Users\\palej\\AppData\\Local\\Temp\\ipykernel_10600\\1936693962.py:1: FutureWarning: The provided callable <built-in function sum> is currently using DataFrameGroupBy.sum. In a future version of pandas, the provided callable will be used directly. To keep current behavior pass the string \"sum\" instead.\n",
      "  analisis_monto = analisis.pivot_table(values=\"Monto en $\", index=\"Tipo de producto\", columns=\"Transferencia\", aggfunc=sum)\n"
     ]
    }
   ],
   "source": [
    "analisis_monto = analisis.pivot_table(values=\"Monto en $\", index=\"Tipo de producto\", columns=\"Transferencia\", aggfunc=sum)"
   ]
  },
  {
   "cell_type": "code",
   "execution_count": null,
   "metadata": {},
   "outputs": [],
   "source": [
    "#                   VISUALIZACION       DE      BARPLOT"
   ]
  },
  {
   "cell_type": "code",
   "execution_count": 14,
   "metadata": {},
   "outputs": [],
   "source": [
    "analisis_monto = analisis_monto.reset_index()"
   ]
  },
  {
   "cell_type": "code",
   "execution_count": 15,
   "metadata": {},
   "outputs": [],
   "source": [
    "analisis_monto = analisis_monto.rename(columns={\"Fraude\":\"Monto en $\"})"
   ]
  },
  {
   "cell_type": "code",
   "execution_count": 16,
   "metadata": {},
   "outputs": [
    {
     "data": {
      "text/plain": [
       "0    2.227830e+06\n",
       "1    1.986435e+06\n",
       "2    5.424125e+06\n",
       "3    4.278471e+05\n",
       "4    5.490972e+07\n",
       "Name: Legal, dtype: float64"
      ]
     },
     "execution_count": 16,
     "metadata": {},
     "output_type": "execute_result"
    }
   ],
   "source": [
    "analisis_monto.pop(\"Legal\")"
   ]
  },
  {
   "cell_type": "code",
   "execution_count": 17,
   "metadata": {},
   "outputs": [],
   "source": [
    "analisis_monto[\"Monto en $\"] = round(analisis_monto[\"Monto en $\"] / 1000)"
   ]
  },
  {
   "cell_type": "code",
   "execution_count": 18,
   "metadata": {},
   "outputs": [
    {
     "data": {
      "image/png": "[encoded data removed]",
      "text/plain": [
       "<Figure size 640x480 with 1 Axes>"
      ]
     },
     "metadata": {},
     "output_type": "display_data"
    }
   ],
   "source": [
    "fraude = plt.bar(analisis_monto[\"Tipo de producto\"], analisis_monto[\"Monto en $\"], color=\"red\")\n",
    "plt.title(\"Fraude segun el producto\")\n",
    "plt.xlabel(\"Productos\")\n",
    "plt.ylabel(\"Monto en miles de $\")\n",
    "plt.bar_label(fraude)\n",
    "plt.show()"
   ]
  }
 ],
 "metadata": {
  "kernelspec": {
   "display_name": "Python 3",
   "language": "python",
   "name": "python3"
  },
  "language_info": {
   "codemirror_mode": {
    "name": "ipython",
    "version": 3
   },
   "file_extension": ".py",
   "mimetype": "text/x-python",
   "name": "python",
   "nbconvert_exporter": "python",
   "pygments_lexer": "ipython3",
   "version": "3.12.5"
  }
 },
 "nbformat": 4,
 "nbformat_minor": 2
}
