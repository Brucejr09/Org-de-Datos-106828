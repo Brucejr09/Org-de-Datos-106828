{
 "cells": [
  {
   "cell_type": "code",
   "execution_count": 53,
   "metadata": {},
   "outputs": [],
   "source": [
    "from pandas import read_csv\n",
    "from funciones import tipo_transferencia\n",
    "from seaborn import catplot\n",
    "transactions = read_csv(\"C:\\\\Users\\\\palej\\\\Desktop\\\\FIUBA\\\\Organizacion de datos\\\\TP\\\\transactions_train.csv\")"
   ]
  },
  {
   "cell_type": "code",
   "execution_count": 54,
   "metadata": {},
   "outputs": [],
   "source": [
    "#                   VISUALIZACION   A   ELECCION:       CATPLOT"
   ]
  },
  {
   "cell_type": "code",
   "execution_count": 55,
   "metadata": {},
   "outputs": [],
   "source": [
    "analisis = transactions[ [\"target\", \"ammount\", \"product_category\", \"feat_card_4\"] ]"
   ]
  },
  {
   "cell_type": "code",
   "execution_count": 56,
   "metadata": {},
   "outputs": [],
   "source": [
    "analisis = analisis.rename(columns={\"target\":\"Transaccion\", \"ammount\":\"Monto\", \"product_category\":\"Tipo de producto\", \"feat_card_4\":\"Tarjeta\"})"
   ]
  },
  {
   "cell_type": "code",
   "execution_count": 57,
   "metadata": {},
   "outputs": [],
   "source": [
    "analisis.Transaccion = analisis.Transaccion.map(tipo_transferencia)"
   ]
  },
  {
   "cell_type": "code",
   "execution_count": 58,
   "metadata": {},
   "outputs": [],
   "source": [
    "analisis.Tarjeta = analisis.Tarjeta.fillna(\"Otra\")"
   ]
  },
  {
   "cell_type": "code",
   "execution_count": 59,
   "metadata": {},
   "outputs": [],
   "source": [
    "analisis.Monto = analisis.Monto.fillna(0)"
   ]
  },
  {
   "cell_type": "code",
   "execution_count": 60,
   "metadata": {},
   "outputs": [
    {
     "name": "stderr",
     "output_type": "stream",
     "text": [
      "C:\\Users\\palej\\AppData\\Local\\Temp\\ipykernel_13824\\3921862449.py:1: FutureWarning: The provided callable <built-in function sum> is currently using DataFrameGroupBy.sum. In a future version of pandas, the provided callable will be used directly. To keep current behavior pass the string \"sum\" instead.\n",
      "  analisis = analisis.pivot_table(values=\"Monto\", index=\"Transaccion\", columns=[\"Tipo de producto\", \"Tarjeta\"], aggfunc=sum)\n"
     ]
    }
   ],
   "source": [
    "analisis = analisis.pivot_table(values=\"Monto\", index=\"Transaccion\", columns=[\"Tipo de producto\", \"Tarjeta\"], aggfunc=sum)"
   ]
  },
  {
   "cell_type": "code",
   "execution_count": 61,
   "metadata": {},
   "outputs": [],
   "source": [
    "analisis = analisis.fillna(0)"
   ]
  },
  {
   "cell_type": "code",
   "execution_count": 62,
   "metadata": {},
   "outputs": [],
   "source": [
    "analisis = analisis.T"
   ]
  },
  {
   "cell_type": "code",
   "execution_count": 63,
   "metadata": {},
   "outputs": [],
   "source": [
    "analisis[\"Monto fraudulento en %\"] = round(analisis.Fraude * 100 / (analisis.Fraude + analisis.Legal), 2)"
   ]
  },
  {
   "cell_type": "code",
   "execution_count": 64,
   "metadata": {},
   "outputs": [],
   "source": [
    "analisis[\"Monto legal en %\"] = round(analisis.Legal * 100 / (analisis.Fraude + analisis.Legal), 2)"
   ]
  },
  {
   "cell_type": "code",
   "execution_count": 65,
   "metadata": {},
   "outputs": [
    {
     "data": {
      "text/plain": [
       "Tipo de producto  Tarjeta         \n",
       "C                 Otra                    289.290\n",
       "                  american express        155.184\n",
       "                  mastercard           126123.952\n",
       "                  visa                 203884.883\n",
       "H                 Otra                    300.000\n",
       "                  american express      14338.000\n",
       "                  discover               5120.000\n",
       "                  mastercard            72108.000\n",
       "                  visa                 131006.000\n",
       "R                 Otra                    250.000\n",
       "                  american express      20550.000\n",
       "                  discover               7675.000\n",
       "                  mastercard            86950.000\n",
       "                  visa                 178125.000\n",
       "S                 american express       2575.000\n",
       "                  discover               4097.000\n",
       "                  mastercard            13870.000\n",
       "                  visa                  16579.000\n",
       "W                 Otra                   3723.750\n",
       "                  discover             134875.470\n",
       "                  mastercard           436490.760\n",
       "                  visa                1155150.050\n",
       "Name: Fraude, dtype: float64"
      ]
     },
     "execution_count": 65,
     "metadata": {},
     "output_type": "execute_result"
    }
   ],
   "source": [
    "analisis.pop(\"Fraude\")"
   ]
  },
  {
   "cell_type": "code",
   "execution_count": 66,
   "metadata": {},
   "outputs": [
    {
     "data": {
      "text/plain": [
       "Tipo de producto  Tarjeta         \n",
       "C                 Otra                2.646450e+03\n",
       "                  american express    0.000000e+00\n",
       "                  mastercard          8.781151e+05\n",
       "                  visa                1.347068e+06\n",
       "H                 Otra                3.650000e+02\n",
       "                  american express    1.065590e+05\n",
       "                  discover            3.653900e+04\n",
       "                  mastercard          4.860120e+05\n",
       "                  visa                1.356960e+06\n",
       "R                 Otra                0.000000e+00\n",
       "                  american express    1.130850e+06\n",
       "                  discover            1.451750e+05\n",
       "                  mastercard          1.045075e+06\n",
       "                  visa                3.103025e+06\n",
       "S                 american express    4.057095e+04\n",
       "                  discover            2.716925e+04\n",
       "                  mastercard          9.653695e+04\n",
       "                  visa                2.635700e+05\n",
       "W                 Otra                1.512059e+05\n",
       "                  discover            1.113743e+06\n",
       "                  mastercard          1.786929e+07\n",
       "                  visa                3.577548e+07\n",
       "Name: Legal, dtype: float64"
      ]
     },
     "execution_count": 66,
     "metadata": {},
     "output_type": "execute_result"
    }
   ],
   "source": [
    "analisis.pop(\"Legal\")"
   ]
  },
  {
   "cell_type": "code",
   "execution_count": 67,
   "metadata": {},
   "outputs": [],
   "source": [
    "analisis = analisis.T.unstack().reset_index()"
   ]
  },
  {
   "cell_type": "code",
   "execution_count": 68,
   "metadata": {},
   "outputs": [],
   "source": [
    "analisis = analisis.rename(columns={0:\"Monto en %\"})"
   ]
  },
  {
   "cell_type": "code",
   "execution_count": 69,
   "metadata": {},
   "outputs": [
    {
     "data": {
      "text/plain": [
       "<seaborn.axisgrid.FacetGrid at 0x21faa9351c0>"
      ]
     },
     "execution_count": 69,
     "metadata": {},
     "output_type": "execute_result"
    },
    {
     "data": {
      "image/png": "[encoded data removed]",
      "text/plain": [
       "<Figure size 1173.25x500 with 2 Axes>"
      ]
     },
     "metadata": {},
     "output_type": "display_data"
    }
   ],
   "source": [
    "catplot(data=analisis, x=\"Tipo de producto\", y=\"Monto en %\", col=\"Transaccion\", kind=\"bar\", hue=\"Tarjeta\")\n"
   ]
  }
 ],
 "metadata": {
  "kernelspec": {
   "display_name": "Python 3",
   "language": "python",
   "name": "python3"
  },
  "language_info": {
   "codemirror_mode": {
    "name": "ipython",
    "version": 3
   },
   "file_extension": ".py",
   "mimetype": "text/x-python",
   "name": "python",
   "nbconvert_exporter": "python",
   "pygments_lexer": "ipython3",
   "version": "3.12.5"
  }
 },
 "nbformat": 4,
 "nbformat_minor": 2
}
