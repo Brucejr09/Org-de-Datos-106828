{
  "cells": [
    {
      "cell_type": "code",
      "source": [
        "!pip install pyspark\n",
        "!apt update\n",
        "!apt install openjdk-8-jdk-headless -qq\n",
        "import os\n",
        "from pyspark.sql import *\n",
        "from pyspark.sql.functions import *\n",
        "from pyspark import SparkContext\n",
        "from pyspark.sql import SQLContext\n",
        "os.environ[\"JAVA_HOME\"] = \"/usr/lib/jvm/java-8-openjdk-amd64\""
      ],
      "metadata": {
        "colab": {
          "base_uri": "https://localhost:8080/"
        },
        "id": "gX6oO98RGFl0",
        "outputId": "b9cb48d6-ccab-42f8-b5ca-aaf1d40383e1"
      },
      "execution_count": 1,
      "outputs": [
        {
          "output_type": "stream",
          "name": "stdout",
          "text": [
            "Collecting pyspark\n",
            "  Downloading pyspark-3.5.3.tar.gz (317.3 MB)\n",
            "\u001b[2K     \u001b[90m━━━━━━━━━━━━━━━━━━━━━━━━━━━━━━━━━━━━━━━━\u001b[0m \u001b[32m317.3/317.3 MB\u001b[0m \u001b[31m4.7 MB/s\u001b[0m eta \u001b[36m0:00:00\u001b[0m\n",
            "\u001b[?25h  Preparing metadata (setup.py) ... \u001b[?25l\u001b[?25hdone\n",
            "Requirement already satisfied: py4j==0.10.9.7 in /usr/local/lib/python3.10/dist-packages (from pyspark) (0.10.9.7)\n",
            "Building wheels for collected packages: pyspark\n",
            "  Building wheel for pyspark (setup.py) ... \u001b[?25l\u001b[?25hdone\n",
            "  Created wheel for pyspark: filename=pyspark-3.5.3-py2.py3-none-any.whl size=317840625 sha256=b75ebe5abe06e290cb6fab090223b6e92bc56d5e1ae489bc2227bc22954bc08a\n",
            "  Stored in directory: /root/.cache/pip/wheels/1b/3a/92/28b93e2fbfdbb07509ca4d6f50c5e407f48dce4ddbda69a4ab\n",
            "Successfully built pyspark\n",
            "Installing collected packages: pyspark\n",
            "Successfully installed pyspark-3.5.3\n",
            "Hit:1 http://archive.ubuntu.com/ubuntu jammy InRelease\n",
            "Get:2 http://archive.ubuntu.com/ubuntu jammy-updates InRelease [128 kB]\n",
            "Get:3 http://security.ubuntu.com/ubuntu jammy-security InRelease [129 kB]\n",
            "Get:4 https://cloud.r-project.org/bin/linux/ubuntu jammy-cran40/ InRelease [3,626 B]\n",
            "Get:5 http://archive.ubuntu.com/ubuntu jammy-backports InRelease [127 kB]\n",
            "Get:6 https://developer.download.nvidia.com/compute/cuda/repos/ubuntu2204/x86_64  InRelease [1,581 B]\n",
            "Ign:7 https://r2u.stat.illinois.edu/ubuntu jammy InRelease\n",
            "Get:8 https://r2u.stat.illinois.edu/ubuntu jammy Release [5,713 B]\n",
            "Get:9 https://r2u.stat.illinois.edu/ubuntu jammy Release.gpg [793 B]\n",
            "Hit:10 https://ppa.launchpadcontent.net/deadsnakes/ppa/ubuntu jammy InRelease\n",
            "Hit:11 https://ppa.launchpadcontent.net/graphics-drivers/ppa/ubuntu jammy InRelease\n",
            "Hit:12 https://ppa.launchpadcontent.net/ubuntugis/ppa/ubuntu jammy InRelease\n",
            "Get:13 http://security.ubuntu.com/ubuntu jammy-security/main amd64 Packages [2,318 kB]\n",
            "Get:14 http://security.ubuntu.com/ubuntu jammy-security/universe amd64 Packages [1,159 kB]\n",
            "Get:15 https://developer.download.nvidia.com/compute/cuda/repos/ubuntu2204/x86_64  Packages [1,030 kB]\n",
            "Get:16 https://r2u.stat.illinois.edu/ubuntu jammy/main all Packages [8,371 kB]\n",
            "Get:17 https://r2u.stat.illinois.edu/ubuntu jammy/main amd64 Packages [2,590 kB]\n",
            "Fetched 15.9 MB in 3s (4,964 kB/s)\n",
            "Reading package lists... Done\n",
            "Building dependency tree... Done\n",
            "Reading state information... Done\n",
            "54 packages can be upgraded. Run 'apt list --upgradable' to see them.\n",
            "\u001b[1;33mW: \u001b[0mSkipping acquire of configured file 'main/source/Sources' as repository 'https://r2u.stat.illinois.edu/ubuntu jammy InRelease' does not seem to provide it (sources.list entry misspelt?)\u001b[0m\n",
            "The following additional packages will be installed:\n",
            "  libxtst6 openjdk-8-jre-headless\n",
            "Suggested packages:\n",
            "  openjdk-8-demo openjdk-8-source libnss-mdns fonts-dejavu-extra fonts-nanum fonts-ipafont-gothic\n",
            "  fonts-ipafont-mincho fonts-wqy-microhei fonts-wqy-zenhei fonts-indic\n",
            "The following NEW packages will be installed:\n",
            "  libxtst6 openjdk-8-jdk-headless openjdk-8-jre-headless\n",
            "0 upgraded, 3 newly installed, 0 to remove and 54 not upgraded.\n",
            "Need to get 39.6 MB of archives.\n",
            "After this operation, 144 MB of additional disk space will be used.\n",
            "Selecting previously unselected package libxtst6:amd64.\n",
            "(Reading database ... 123620 files and directories currently installed.)\n",
            "Preparing to unpack .../libxtst6_2%3a1.2.3-1build4_amd64.deb ...\n",
            "Unpacking libxtst6:amd64 (2:1.2.3-1build4) ...\n",
            "Selecting previously unselected package openjdk-8-jre-headless:amd64.\n",
            "Preparing to unpack .../openjdk-8-jre-headless_8u422-b05-1~22.04_amd64.deb ...\n",
            "Unpacking openjdk-8-jre-headless:amd64 (8u422-b05-1~22.04) ...\n",
            "Selecting previously unselected package openjdk-8-jdk-headless:amd64.\n",
            "Preparing to unpack .../openjdk-8-jdk-headless_8u422-b05-1~22.04_amd64.deb ...\n",
            "Unpacking openjdk-8-jdk-headless:amd64 (8u422-b05-1~22.04) ...\n",
            "Setting up libxtst6:amd64 (2:1.2.3-1build4) ...\n",
            "Setting up openjdk-8-jre-headless:amd64 (8u422-b05-1~22.04) ...\n",
            "update-alternatives: using /usr/lib/jvm/java-8-openjdk-amd64/jre/bin/orbd to provide /usr/bin/orbd (orbd) in auto mode\n",
            "update-alternatives: using /usr/lib/jvm/java-8-openjdk-amd64/jre/bin/servertool to provide /usr/bin/servertool (servertool) in auto mode\n",
            "update-alternatives: using /usr/lib/jvm/java-8-openjdk-amd64/jre/bin/tnameserv to provide /usr/bin/tnameserv (tnameserv) in auto mode\n",
            "Setting up openjdk-8-jdk-headless:amd64 (8u422-b05-1~22.04) ...\n",
            "update-alternatives: using /usr/lib/jvm/java-8-openjdk-amd64/bin/clhsdb to provide /usr/bin/clhsdb (clhsdb) in auto mode\n",
            "update-alternatives: using /usr/lib/jvm/java-8-openjdk-amd64/bin/extcheck to provide /usr/bin/extcheck (extcheck) in auto mode\n",
            "update-alternatives: using /usr/lib/jvm/java-8-openjdk-amd64/bin/hsdb to provide /usr/bin/hsdb (hsdb) in auto mode\n",
            "update-alternatives: using /usr/lib/jvm/java-8-openjdk-amd64/bin/idlj to provide /usr/bin/idlj (idlj) in auto mode\n",
            "update-alternatives: using /usr/lib/jvm/java-8-openjdk-amd64/bin/javah to provide /usr/bin/javah (javah) in auto mode\n",
            "update-alternatives: using /usr/lib/jvm/java-8-openjdk-amd64/bin/jhat to provide /usr/bin/jhat (jhat) in auto mode\n",
            "update-alternatives: using /usr/lib/jvm/java-8-openjdk-amd64/bin/jsadebugd to provide /usr/bin/jsadebugd (jsadebugd) in auto mode\n",
            "update-alternatives: using /usr/lib/jvm/java-8-openjdk-amd64/bin/native2ascii to provide /usr/bin/native2ascii (native2ascii) in auto mode\n",
            "update-alternatives: using /usr/lib/jvm/java-8-openjdk-amd64/bin/schemagen to provide /usr/bin/schemagen (schemagen) in auto mode\n",
            "update-alternatives: using /usr/lib/jvm/java-8-openjdk-amd64/bin/wsgen to provide /usr/bin/wsgen (wsgen) in auto mode\n",
            "update-alternatives: using /usr/lib/jvm/java-8-openjdk-amd64/bin/wsimport to provide /usr/bin/wsimport (wsimport) in auto mode\n",
            "update-alternatives: using /usr/lib/jvm/java-8-openjdk-amd64/bin/xjc to provide /usr/bin/xjc (xjc) in auto mode\n",
            "Processing triggers for libc-bin (2.35-0ubuntu3.4) ...\n",
            "/sbin/ldconfig.real: /usr/local/lib/libtbbbind_2_0.so.3 is not a symbolic link\n",
            "\n",
            "/sbin/ldconfig.real: /usr/local/lib/libtbbmalloc_proxy.so.2 is not a symbolic link\n",
            "\n",
            "/sbin/ldconfig.real: /usr/local/lib/libtbb.so.12 is not a symbolic link\n",
            "\n",
            "/sbin/ldconfig.real: /usr/local/lib/libtbbbind.so.3 is not a symbolic link\n",
            "\n",
            "/sbin/ldconfig.real: /usr/local/lib/libtbbbind_2_5.so.3 is not a symbolic link\n",
            "\n",
            "/sbin/ldconfig.real: /usr/local/lib/libtbbmalloc.so.2 is not a symbolic link\n",
            "\n",
            "/sbin/ldconfig.real: /usr/local/lib/libur_adapter_level_zero.so.0 is not a symbolic link\n",
            "\n",
            "/sbin/ldconfig.real: /usr/local/lib/libur_loader.so.0 is not a symbolic link\n",
            "\n",
            "/sbin/ldconfig.real: /usr/local/lib/libur_adapter_opencl.so.0 is not a symbolic link\n",
            "\n"
          ]
        }
      ]
    },
    {
      "cell_type": "code",
      "source": [
        "spark = SparkSession.builder.getOrCreate()\n",
        "sc = spark.sparkContext\n",
        "sqlContext = SQLContext(sc)\n",
        "df = sqlContext.read.csv('transactions_train.csv', header=True, inferSchema=True)\n",
        "transactions_rdd = df.rdd"
      ],
      "metadata": {
        "id": "crza1IqRGJ77",
        "colab": {
          "base_uri": "https://localhost:8080/"
        },
        "outputId": "4110ced3-d742-43c5-a35e-3b091f55dbb4"
      },
      "execution_count": 2,
      "outputs": [
        {
          "output_type": "stream",
          "name": "stderr",
          "text": [
            "/usr/local/lib/python3.10/dist-packages/pyspark/sql/context.py:113: FutureWarning: Deprecated in 3.0.0. Use SparkSession.builder.getOrCreate() instead.\n",
            "  warnings.warn(\n"
          ]
        }
      ]
    },
    {
      "cell_type": "code",
      "source": [
        "from math import floor\n",
        "def redondeo(numero, decimal):\n",
        "  ajuste = 10**decimal\n",
        "  return floor(numero * ajuste) / ajuste"
      ],
      "metadata": {
        "id": "Z3YbZGjFmX7u"
      },
      "execution_count": 3,
      "outputs": []
    },
    {
      "cell_type": "code",
      "source": [
        "transactions_rdd.first()"
      ],
      "metadata": {
        "colab": {
          "base_uri": "https://localhost:8080/"
        },
        "id": "770YEjPbsGNY",
        "outputId": "e3edbaa9-8d8e-4c2a-cb71-4977f948f6bb"
      },
      "execution_count": null,
      "outputs": [
        {
          "output_type": "execute_result",
          "data": {
            "text/plain": [
              "Row(_c0=0, Id=2987000, target=0, timestamp=86400, ammount=68.5, product_category='W', feat_card_1=13926, feat_card_2=None, feat_card_3=150.0, feat_card_4='discover', feat_card_5=142.0, feat_card_6='credit', addr1=315.0, addr2=87.0, dist1=19.0, dist2=None, payer_email_domain=None, receiver_email_domain=None, A1=1.0, A2=1.0, A3=0.0, A4=0.0, A5=0.0, A6=1.0, A7=0.0, A8=0.0, A9=1.0, A10=0.0, A11=2.0, A12=0.0, A13=1.0, A14=1.0, B1=14.0, B2=None, B3=13.0, B4=None, B5=None, B6=None, B7=None, B8=None, B9=None, B10=13.0, B11=13.0, B12=None, B13=None, B14=None, B15=0.0, C1='T', C2='T', C3='T', C4='M2', C5='F', C6='T', C7=None, C8=None, C9=None, D1=1.0, D2=1.0, D3=1.0, D4=1.0, D5=1.0, D6=1.0, D7=1.0, D8=1.0, D9=1.0, D10=0.0, D11=0.0, D12=1.0, D13=1.0, D14=1.0, D15=0.0, D16=0.0, D17=0.0, D18=0.0, D19=1.0, D20=1.0, D21=0.0, D22=0.0, D23=1.0, D24=1.0, D25=1.0, D26=1.0, D27=0.0, D28=0.0, D29=0.0, D30=0.0, D31=0.0, D32=0.0, D33=0.0, D34=0.0, D35=None, D36=None, D37=None, D38=None, D39=None, D40=None, D41=None, D42=None, D43=None, D44=None, D45=None, D46=None, D47=None, D48=None, D49=None, D50=None, D51=None, D52=None, D53=1.0, D54=1.0, D55=1.0, D56=1.0, D57=0.0, D58=0.0, D59=0.0, D60=0.0, D61=1.0, D62=1.0, D63=0.0, D64=0.0, D65=1.0, D66=1.0, D67=1.0, D68=0.0, D69=0.0, D70=0.0, D71=0.0, D72=0.0, D73=0.0, D74=0.0, D75=1.0, D76=1.0, D77=1.0, D78=1.0, D79=0.0, D80=0.0, D81=0.0, D82=0.0, D83=0.0, D84=0.0, D85=0.0, D86=1.0, D87=1.0, D88=1.0, D89=0.0, D90=0.0, D91=0.0, D92=0.0, D93=0.0, D94=0.0, D95=0.0, D96=1.0, D97=0.0, D98=0.0, D99=0.0, D100=0.0, D101=0.0, D102=1.0, D103=0.0, D104=0.0, D105=0.0, D106=0.0, D107=1.0, D108=1.0, D109=1.0, D110=1.0, D111=1.0, D112=1.0, D113=1.0, D114=1.0, D115=1.0, D116=1.0, D117=1.0, D118=1.0, D119=1.0, D120=1.0, D121=1.0, D122=1.0, D123=1.0, D124=1.0, D125=1.0, D126=0.0, D127=117.0, D128=0.0, D129=0.0, D130=0.0, D131=0.0, D132=0.0, D133=117.0, D134=0.0, D135=0.0, D136=0.0, D137=0.0, D138=None, D139=None, D140=None, D141=None, D142=None, D143=None, D144=None, D145=None, D146=None, D147=None, D148=None, D149=None, D150=None, D151=None, D152=None, D153=None, D154=None, D155=None, D156=None, D157=None, D158=None, D159=None, D160=None, D161=None, D162=None, D163=None, D164=None, D165=None, D166=None, D167=None, D168=None, D169=None, D170=None, D171=None, D172=None, D173=None, D174=None, D175=None, D176=None, D177=None, D178=None, D179=None, D180=None, D181=None, D182=None, D183=None, D184=None, D185=None, D186=None, D187=None, D188=None, D189=None, D190=None, D191=None, D192=None, D193=None, D194=None, D195=None, D196=None, D197=None, D198=None, D199=None, D200=None, D201=None, D202=None, D203=None, D204=None, D205=None, D206=None, D207=None, D208=None, D209=None, D210=None, D211=None, D212=None, D213=None, D214=None, D215=None, D216=None, D217=None, D218=None, D219=None, D220=None, D221=None, D222=None, D223=None, D224=None, D225=None, D226=None, D227=None, D228=None, D229=None, D230=None, D231=None, D232=None, D233=None, D234=None, D235=None, D236=None, D237=None, D238=None, D239=None, D240=None, D241=None, D242=None, D243=None, D244=None, D245=None, D246=None, D247=None, D248=None, D249=None, D250=None, D251=None, D252=None, D253=None, D254=None, D255=None, D256=None, D257=None, D258=None, D259=None, D260=None, D261=None, D262=None, D263=None, D264=None, D265=None, D266=None, D267=None, D268=None, D269=None, D270=None, D271=None, D272=None, D273=None, D274=None, D275=None, D276=None, D277=None, D278=None, D279=0.0, D280=0.0, D281=0.0, D282=1.0, D283=1.0, D284=0.0, D285=0.0, D286=0.0, D287=0.0, D288=0.0, D289=0.0, D290=1.0, D291=1.0, D292=1.0, D293=0.0, D294=1.0, D295=0.0, D296=0.0, D297=0.0, D298=0.0, D299=0.0, D300=0.0, D301=0.0, D302=0.0, D303=0.0, D304=0.0, D305=1.0, D306=0.0, D307=117.0, D308=0.0, D309=0.0, D310=0.0, D311=0.0, D312=0.0, D313=0.0, D314=0.0, D315=0.0, D316=0.0, D317=117.0, D318=0.0, D319=0.0, D320=0.0, D321=0.0, D322=None, D323=None, D324=None, D325=None, D326=None, D327=None, D328=None, D329=None, D330=None, D331=None, D332=None, D333=None, D334=None, D335=None, D336=None, D337=None, D338=None, D339=None)"
            ]
          },
          "metadata": {},
          "execution_count": 4
        }
      ]
    },
    {
      "cell_type": "markdown",
      "source": [
        "Porcentaje de fraude"
      ],
      "metadata": {
        "id": "QPHPkS9CgASJ"
      }
    },
    {
      "cell_type": "code",
      "source": [
        "transactions_rdd.map(lambda x: x.target).distinct().collect()"
      ],
      "metadata": {
        "colab": {
          "base_uri": "https://localhost:8080/"
        },
        "id": "_rimE3Akf9jY",
        "outputId": "82b66347-6f6c-489d-b510-10c538e79b9d"
      },
      "execution_count": null,
      "outputs": [
        {
          "output_type": "execute_result",
          "data": {
            "text/plain": [
              "[0, 1]"
            ]
          },
          "metadata": {},
          "execution_count": 95
        }
      ]
    },
    {
      "cell_type": "code",
      "source": [
        "redondeo(transactions_rdd.filter(lambda x: x.target == 1).count() * 100 / transactions_rdd.count(), 2)"
      ],
      "metadata": {
        "colab": {
          "base_uri": "https://localhost:8080/"
        },
        "id": "YYwP3tUygHVc",
        "outputId": "192dda71-8f8b-4e5d-9002-1c0eb26fbe41"
      },
      "execution_count": null,
      "outputs": [
        {
          "output_type": "execute_result",
          "data": {
            "text/plain": [
              "3.5"
            ]
          },
          "metadata": {},
          "execution_count": 96
        }
      ]
    },
    {
      "cell_type": "markdown",
      "source": [
        "Monto respecto de los productos"
      ],
      "metadata": {
        "id": "ntMUvF4Gf4NK"
      }
    },
    {
      "cell_type": "code",
      "source": [
        "productos = transactions_rdd.map(lambda x: ((x.product_category, x.target), x.ammount)).reduceByKey(lambda a,b: a + b).map(lambda x: (x[0][0], (x[0][1], x[1])))"
      ],
      "metadata": {
        "id": "Pm67GjfD2rrO"
      },
      "execution_count": 4,
      "outputs": []
    },
    {
      "cell_type": "code",
      "source": [
        "productos_total = productos.map(lambda x: (x[0], x[1][1])).reduceByKey(lambda a,b: a + b)"
      ],
      "metadata": {
        "id": "dM-1okc72rjT"
      },
      "execution_count": 5,
      "outputs": []
    },
    {
      "cell_type": "code",
      "source": [
        "productos = productos.join(productos_total).map(lambda x: (x[0], x[1][0][0], redondeo(x[1][0][1], 2), redondeo(x[1][0][1] * 100 / x[1][1], 2))).cache()"
      ],
      "metadata": {
        "id": "EwcloCTJ2rb5"
      },
      "execution_count": 6,
      "outputs": []
    },
    {
      "cell_type": "code",
      "source": [
        "productos.collect()"
      ],
      "metadata": {
        "colab": {
          "base_uri": "https://localhost:8080/"
        },
        "id": "L_noL1a42rVH",
        "outputId": "478faf87-7b7e-4a77-d93d-7581f275bab8"
      },
      "execution_count": null,
      "outputs": [
        {
          "output_type": "execute_result",
          "data": {
            "text/plain": [
              "[('H', 0, 1986435.0, 89.91),\n",
              " ('H', 1, 222872.0, 10.08),\n",
              " ('R', 0, 5424125.0, 94.86),\n",
              " ('R', 1, 293550.0, 5.13),\n",
              " ('S', 0, 427847.1, 92.01),\n",
              " ('S', 1, 37121.0, 7.98),\n",
              " ('W', 1, 1730240.03, 3.05),\n",
              " ('W', 0, 54909721.53, 96.94),\n",
              " ('C', 0, 2227829.57, 87.08),\n",
              " ('C', 1, 330453.3, 12.91)]"
            ]
          },
          "metadata": {},
          "execution_count": 163
        }
      ]
    },
    {
      "cell_type": "markdown",
      "source": [
        "Cantidad de monto respecto de los productos fraudulentos"
      ],
      "metadata": {
        "id": "bu4muy824NHq"
      }
    },
    {
      "cell_type": "code",
      "source": [
        "productos.filter(lambda x: x[1] == 1).map(lambda x: (x[0], x[2])).sortBy(lambda x: -x[1]).collect()"
      ],
      "metadata": {
        "colab": {
          "base_uri": "https://localhost:8080/"
        },
        "id": "99w7xhcy4SMa",
        "outputId": "afa76e26-53ed-4709-b0fa-d2812524cd16"
      },
      "execution_count": null,
      "outputs": [
        {
          "output_type": "execute_result",
          "data": {
            "text/plain": [
              "[('W', 1730240.03),\n",
              " ('C', 330453.3),\n",
              " ('R', 293550.0),\n",
              " ('H', 222872.0),\n",
              " ('S', 37121.0)]"
            ]
          },
          "metadata": {},
          "execution_count": 165
        }
      ]
    },
    {
      "cell_type": "markdown",
      "source": [
        "Cantidad de monto respecto de los productos legales"
      ],
      "metadata": {
        "id": "zQkC-qYv4Wvd"
      }
    },
    {
      "cell_type": "code",
      "source": [
        "productos.filter(lambda x: x[1] == 0).map(lambda x: (x[0], x[2])).sortBy(lambda x: -x[1]).collect()"
      ],
      "metadata": {
        "colab": {
          "base_uri": "https://localhost:8080/"
        },
        "id": "NIpFuYaI5CRu",
        "outputId": "97aa0b29-4fd8-4e80-e582-fbd30f81bf16"
      },
      "execution_count": null,
      "outputs": [
        {
          "output_type": "execute_result",
          "data": {
            "text/plain": [
              "[('W', 54909721.53),\n",
              " ('R', 5424125.0),\n",
              " ('C', 2227829.57),\n",
              " ('H', 1986435.0),\n",
              " ('S', 427847.1)]"
            ]
          },
          "metadata": {},
          "execution_count": 168
        }
      ]
    },
    {
      "cell_type": "markdown",
      "source": [
        "Porcentaje de monto respecto de los productos fraudulentos"
      ],
      "metadata": {
        "id": "OKt8aYixiYj-"
      }
    },
    {
      "cell_type": "code",
      "source": [
        "productos.filter(lambda x: x[1] == 1).map(lambda x: (x[0], x[3])).sortBy(lambda x: -x[1]).collect()"
      ],
      "metadata": {
        "colab": {
          "base_uri": "https://localhost:8080/"
        },
        "id": "SiqTp75Q5LQ2",
        "outputId": "fa690d13-8d39-4447-b889-ed050924d5cf"
      },
      "execution_count": null,
      "outputs": [
        {
          "output_type": "execute_result",
          "data": {
            "text/plain": [
              "[('C', 12.91), ('H', 10.08), ('S', 7.98), ('R', 5.13), ('W', 3.05)]"
            ]
          },
          "metadata": {},
          "execution_count": 169
        }
      ]
    },
    {
      "cell_type": "markdown",
      "source": [
        "Porcentaje de monto respecto de los productos legales"
      ],
      "metadata": {
        "id": "jPoAfJtR5LzL"
      }
    },
    {
      "cell_type": "code",
      "source": [
        "productos.filter(lambda x: x[1] == 0).map(lambda x: (x[0], x[3])).sortBy(lambda x: -x[1]).collect()"
      ],
      "metadata": {
        "colab": {
          "base_uri": "https://localhost:8080/"
        },
        "id": "nxAg6m8w5MJe",
        "outputId": "4ea9010c-3e52-4d2c-b16b-4c11c19ffe10"
      },
      "execution_count": null,
      "outputs": [
        {
          "output_type": "execute_result",
          "data": {
            "text/plain": [
              "[('W', 96.94), ('R', 94.86), ('S', 92.01), ('H', 89.91), ('C', 87.08)]"
            ]
          },
          "metadata": {},
          "execution_count": 170
        }
      ]
    },
    {
      "cell_type": "markdown",
      "source": [
        "Fraude segun el tiempo, analizando cantidad y monto"
      ],
      "metadata": {
        "id": "ziXfXnq739rQ"
      }
    },
    {
      "cell_type": "code",
      "source": [
        "tiempo_fraudulento = transactions_rdd.filter(lambda x: x.target == 1).cache()"
      ],
      "metadata": {
        "id": "5m30Zsw3p15G"
      },
      "execution_count": 8,
      "outputs": []
    },
    {
      "cell_type": "code",
      "source": [
        "def segundos(numero):\n",
        "  return numero - 86400\n",
        "\n",
        "def analisis(numero, divisor):\n",
        "  flotante = (numero - 86400) / divisor\n",
        "  entero = (numero - 86400) // divisor\n",
        "  if flotante > entero:\n",
        "    return entero + 1\n",
        "  else:\n",
        "    return entero\n",
        "\n",
        "def minutos(numero):\n",
        "  return analisis(numero, 60)\n",
        "\n",
        "def horas(numero):\n",
        "  return analisis(numero, 3600)\n",
        "\n",
        "def dias(numero):\n",
        "  return analisis(numero, 86400)\n",
        "\n",
        "def semanas(numero):\n",
        "  return analisis(numero, 604800)\n",
        "\n",
        "def meses(numero):\n",
        "  return analisis(numero, 2419200)\n",
        "\n",
        "def porcentaje_tupla(tupla, total):\n",
        "  return (tupla[0], redondeo(tupla[1], 2), redondeo(tupla[1] * 100 / total, 2))\n",
        "\n",
        "def porcentaje_lista(lista, total):\n",
        "  nueva_lista = []\n",
        "  for elemento in lista:\n",
        "    nueva_lista.append((elemento[0], redondeo(elemento[1], 2), redondeo(elemento[1] * 100 / total, 4)))\n",
        "  return nueva_lista"
      ],
      "metadata": {
        "id": "6AWogNui5weu"
      },
      "execution_count": 7,
      "outputs": []
    },
    {
      "cell_type": "markdown",
      "source": [
        "Cantidad respecto del tiempo"
      ],
      "metadata": {
        "id": "Q8PHB9tuUvV7"
      }
    },
    {
      "cell_type": "markdown",
      "source": [
        "Cantidad total respecto de segundos"
      ],
      "metadata": {
        "id": "pQRcfUQxU1xC"
      }
    },
    {
      "cell_type": "code",
      "source": [
        "cantidad_total = tiempo_fraudulento.count()\n",
        "(tiempo_fraudulento.map(lambda x: segundos(x.timestamp)).reduce(lambda a,b: a if a > b else b), cantidad_total, 100)"
      ],
      "metadata": {
        "colab": {
          "base_uri": "https://localhost:8080/"
        },
        "id": "9JrUCK9yTS4z",
        "outputId": "f31e6255-8a67-4831-d66a-d3b1a30c97d0"
      },
      "execution_count": 10,
      "outputs": [
        {
          "output_type": "execute_result",
          "data": {
            "text/plain": [
              "(13064705, 17580, 100)"
            ]
          },
          "metadata": {},
          "execution_count": 10
        }
      ]
    },
    {
      "cell_type": "markdown",
      "source": [
        "Top ten cantidad respecto de minutos"
      ],
      "metadata": {
        "id": "cz_4DCmmVAsU"
      }
    },
    {
      "cell_type": "code",
      "source": [
        "porcentaje_lista(tiempo_fraudulento.map(lambda x: (minutos(x.timestamp), 1)).reduceByKey(lambda a,b: a + b).takeOrdered(10, lambda x: -x[1]), cantidad_total)"
      ],
      "metadata": {
        "colab": {
          "base_uri": "https://localhost:8080/"
        },
        "id": "_IDB7xo4CO8N",
        "outputId": "a070d1bf-e1b3-495e-f3cc-7b525e057a31"
      },
      "execution_count": null,
      "outputs": [
        {
          "output_type": "execute_result",
          "data": {
            "text/plain": [
              "[(139695, 6.0, 0.0341),\n",
              " (136426, 6.0, 0.0341),\n",
              " (73412, 5.0, 0.0284),\n",
              " (148153, 5.0, 0.0284),\n",
              " (96611, 4.0, 0.0227),\n",
              " (60687, 4.0, 0.0227),\n",
              " (27508, 4.0, 0.0227),\n",
              " (176918, 4.0, 0.0227),\n",
              " (89024, 4.0, 0.0227),\n",
              " (140574, 4.0, 0.0227)]"
            ]
          },
          "metadata": {},
          "execution_count": 174
        }
      ]
    },
    {
      "cell_type": "markdown",
      "source": [
        "Last ten cantidad respecto de minutos"
      ],
      "metadata": {
        "id": "SEaFtTtOIOlE"
      }
    },
    {
      "cell_type": "code",
      "source": [
        "porcentaje_lista(tiempo_fraudulento.map(lambda x: (minutos(x.timestamp), 1)).reduceByKey(lambda a,b: a + b).takeOrdered(10, lambda x: x[1]), cantidad_total)"
      ],
      "metadata": {
        "colab": {
          "base_uri": "https://localhost:8080/"
        },
        "id": "-_dKpM5pH4UP",
        "outputId": "d50e1ca7-ba83-46d0-b4ae-f20193affb5b"
      },
      "execution_count": null,
      "outputs": [
        {
          "output_type": "execute_result",
          "data": {
            "text/plain": [
              "[(100, 1.0, 0.0056),\n",
              " (110, 1.0, 0.0056),\n",
              " (220, 1.0, 0.0056),\n",
              " (490, 1.0, 0.0056),\n",
              " (645, 1.0, 0.0056),\n",
              " (665, 1.0, 0.0056),\n",
              " (835, 1.0, 0.0056),\n",
              " (865, 1.0, 0.0056),\n",
              " (925, 1.0, 0.0056),\n",
              " (1000, 1.0, 0.0056)]"
            ]
          },
          "metadata": {},
          "execution_count": 175
        }
      ]
    },
    {
      "cell_type": "markdown",
      "source": [
        "Cantidad de minutos, cantidad de fraudes y promedio"
      ],
      "metadata": {
        "id": "Ns-V7reMC298"
      }
    },
    {
      "cell_type": "code",
      "source": [
        "porcentaje_lista(tiempo_fraudulento.map(lambda x: (minutos(x.timestamp), 1)).reduceByKey(lambda a,b: a + b).map(lambda x: (x[1], 1))\\\n",
        ".reduceByKey(lambda a,b: a + b).map(lambda x: (x[1], x[0])).sortBy(lambda x: x[1]).collect(), cantidad_total)"
      ],
      "metadata": {
        "colab": {
          "base_uri": "https://localhost:8080/"
        },
        "id": "addvaLbC9_D0",
        "outputId": "b791d801-9a3e-4d53-d353-af523497b066"
      },
      "execution_count": 34,
      "outputs": [
        {
          "output_type": "execute_result",
          "data": {
            "text/plain": [
              "[(15136, 1.0, 0.0056),\n",
              " (1097, 2.0, 0.0113),\n",
              " (68, 3.0, 0.017),\n",
              " (6, 4.0, 0.0227),\n",
              " (2, 5.0, 0.0284),\n",
              " (2, 6.0, 0.0341)]"
            ]
          },
          "metadata": {},
          "execution_count": 34
        }
      ]
    },
    {
      "cell_type": "markdown",
      "source": [
        "Top ten cantidad respecto de horas"
      ],
      "metadata": {
        "id": "YMeeWpFgVKTC"
      }
    },
    {
      "cell_type": "code",
      "source": [
        "porcentaje_lista(tiempo_fraudulento.map(lambda x: (horas(x.timestamp), 1)).reduceByKey(lambda a,b: a + b).takeOrdered(10, lambda x: -x[1]), cantidad_total)"
      ],
      "metadata": {
        "colab": {
          "base_uri": "https://localhost:8080/"
        },
        "id": "BP5ql10XDNEF",
        "outputId": "38ca25b0-6860-459f-fe1b-357e65197169"
      },
      "execution_count": null,
      "outputs": [
        {
          "output_type": "execute_result",
          "data": {
            "text/plain": [
              "[(1529, 42.0, 0.2389),\n",
              " (1344, 36.0, 0.2047),\n",
              " (1530, 33.0, 0.1877),\n",
              " (2790, 32.0, 0.182),\n",
              " (2781, 32.0, 0.182),\n",
              " (2949, 31.0, 0.1763),\n",
              " (1026, 27.0, 0.1535),\n",
              " (1484, 26.0, 0.1478),\n",
              " (430, 25.0, 0.1422),\n",
              " (1531, 25.0, 0.1422)]"
            ]
          },
          "metadata": {},
          "execution_count": 176
        }
      ]
    },
    {
      "cell_type": "markdown",
      "source": [
        "Last ten cantidad respecto de horas"
      ],
      "metadata": {
        "id": "w6uV_ZkZIim8"
      }
    },
    {
      "cell_type": "code",
      "source": [
        "porcentaje_lista(tiempo_fraudulento.map(lambda x: (horas(x.timestamp), 1)).reduceByKey(lambda a,b: a + b).takeOrdered(10, lambda x: x[1]), cantidad_total)"
      ],
      "metadata": {
        "colab": {
          "base_uri": "https://localhost:8080/"
        },
        "id": "dXjtl6mkIn8s",
        "outputId": "156a2bb0-d15e-4553-c004-b3133d8b836c"
      },
      "execution_count": null,
      "outputs": [
        {
          "output_type": "execute_result",
          "data": {
            "text/plain": [
              "[(10, 1.0, 0.0056),\n",
              " (110, 1.0, 0.0056),\n",
              " (135, 1.0, 0.0056),\n",
              " (180, 1.0, 0.0056),\n",
              " (185, 1.0, 0.0056),\n",
              " (200, 1.0, 0.0056),\n",
              " (205, 1.0, 0.0056),\n",
              " (250, 1.0, 0.0056),\n",
              " (270, 1.0, 0.0056),\n",
              " (275, 1.0, 0.0056)]"
            ]
          },
          "metadata": {},
          "execution_count": 177
        }
      ]
    },
    {
      "cell_type": "markdown",
      "source": [
        "Cantidad de horas, cantidad de fraudes y promedio"
      ],
      "metadata": {
        "id": "i1KtINkQDnG3"
      }
    },
    {
      "cell_type": "code",
      "source": [
        "porcentaje_lista(tiempo_fraudulento.map(lambda x: (horas(x.timestamp), 1)).reduceByKey(lambda a,b: a + b).map(lambda x: (x[1], 1))\\\n",
        ".reduceByKey(lambda a,b: a + b).map(lambda x: (x[1], x[0])).sortBy(lambda x: x[1]).collect(), cantidad_total)"
      ],
      "metadata": {
        "colab": {
          "base_uri": "https://localhost:8080/"
        },
        "id": "61fyVM3WDWda",
        "outputId": "12edd4ef-4c86-47dd-e35b-993bad378b4c"
      },
      "execution_count": 35,
      "outputs": [
        {
          "output_type": "execute_result",
          "data": {
            "text/plain": [
              "[(419, 1.0, 0.0056),\n",
              " (399, 2.0, 0.0113),\n",
              " (349, 3.0, 0.017),\n",
              " (308, 4.0, 0.0227),\n",
              " (277, 5.0, 0.0284),\n",
              " (252, 6.0, 0.0341),\n",
              " (209, 7.0, 0.0398),\n",
              " (189, 8.0, 0.0455),\n",
              " (134, 9.0, 0.0511),\n",
              " (105, 10.0, 0.0568),\n",
              " (88, 11.0, 0.0625),\n",
              " (72, 12.0, 0.0682),\n",
              " (64, 13.0, 0.0739),\n",
              " (53, 14.0, 0.0796),\n",
              " (21, 15.0, 0.0853),\n",
              " (38, 16.0, 0.091),\n",
              " (26, 17.0, 0.0967),\n",
              " (11, 18.0, 0.1023),\n",
              " (7, 19.0, 0.108),\n",
              " (9, 20.0, 0.1137),\n",
              " (4, 21.0, 0.1194),\n",
              " (5, 22.0, 0.1251),\n",
              " (1, 23.0, 0.1308),\n",
              " (2, 24.0, 0.1365),\n",
              " (6, 25.0, 0.1422),\n",
              " (1, 26.0, 0.1478),\n",
              " (1, 27.0, 0.1535),\n",
              " (1, 31.0, 0.1763),\n",
              " (2, 32.0, 0.182),\n",
              " (1, 33.0, 0.1877),\n",
              " (1, 36.0, 0.2047),\n",
              " (1, 42.0, 0.2389)]"
            ]
          },
          "metadata": {},
          "execution_count": 35
        }
      ]
    },
    {
      "cell_type": "markdown",
      "source": [
        "Cantidad respecto de días"
      ],
      "metadata": {
        "id": "umVarL0uVORK"
      }
    },
    {
      "cell_type": "code",
      "source": [
        "porcentaje_lista(sorted(tiempo_fraudulento.map(lambda x: (dias(x.timestamp), 1)).reduceByKey(lambda a,b: a + b).collect()), cantidad_total)"
      ],
      "metadata": {
        "colab": {
          "base_uri": "https://localhost:8080/"
        },
        "id": "1Yr5ifVaDzUs",
        "outputId": "66ed7ac4-1f9f-4686-86ae-4f237b413be6"
      },
      "execution_count": null,
      "outputs": [
        {
          "output_type": "execute_result",
          "data": {
            "text/plain": [
              "[(1, 112.0, 0.637),\n",
              " (2, 123.0, 0.6996),\n",
              " (3, 92.0, 0.5233),\n",
              " (4, 115.0, 0.6541),\n",
              " (5, 127.0, 0.7224),\n",
              " (6, 99.0, 0.5631),\n",
              " (7, 136.0, 0.7736),\n",
              " (8, 93.0, 0.529),\n",
              " (9, 119.0, 0.6769),\n",
              " (10, 90.0, 0.5119),\n",
              " (11, 123.0, 0.6996),\n",
              " (12, 84.0, 0.4778),\n",
              " (13, 82.0, 0.4664),\n",
              " (14, 126.0, 0.7167),\n",
              " (15, 143.0, 0.8134),\n",
              " (16, 70.0, 0.3981),\n",
              " (17, 126.0, 0.7167),\n",
              " (18, 161.0, 0.9158),\n",
              " (19, 118.0, 0.6712),\n",
              " (20, 135.0, 0.7679),\n",
              " (21, 116.0, 0.6598),\n",
              " (22, 147.0, 0.8361),\n",
              " (23, 106.0, 0.6029),\n",
              " (24, 76.0, 0.4323),\n",
              " (25, 63.0, 0.3583),\n",
              " (26, 82.0, 0.4664),\n",
              " (27, 100.0, 0.5688),\n",
              " (28, 150.0, 0.8532),\n",
              " (29, 129.0, 0.7337),\n",
              " (30, 158.0, 0.8987),\n",
              " (31, 149.0, 0.8475),\n",
              " (32, 51.0, 0.2901),\n",
              " (33, 123.0, 0.6996),\n",
              " (34, 159.0, 0.9044),\n",
              " (35, 120.0, 0.6825),\n",
              " (36, 135.0, 0.7679),\n",
              " (37, 126.0, 0.7167),\n",
              " (38, 110.0, 0.6257),\n",
              " (39, 117.0, 0.6655),\n",
              " (40, 109.0, 0.62),\n",
              " (41, 121.0, 0.6882),\n",
              " (42, 85.0, 0.4835),\n",
              " (43, 160.0, 0.9101),\n",
              " (44, 119.0, 0.6769),\n",
              " (45, 100.0, 0.5688),\n",
              " (46, 117.0, 0.6655),\n",
              " (47, 91.0, 0.5176),\n",
              " (48, 115.0, 0.6541),\n",
              " (49, 121.0, 0.6882),\n",
              " (50, 175.0, 0.9954),\n",
              " (51, 148.0, 0.8418),\n",
              " (52, 114.0, 0.6484),\n",
              " (53, 79.0, 0.4493),\n",
              " (54, 112.0, 0.637),\n",
              " (55, 76.0, 0.4323),\n",
              " (56, 158.0, 0.8987),\n",
              " (57, 109.0, 0.62),\n",
              " (58, 102.0, 0.5802),\n",
              " (59, 168.0, 0.9556),\n",
              " (60, 108.0, 0.6143),\n",
              " (61, 112.0, 0.637),\n",
              " (62, 165.0, 0.9385),\n",
              " (63, 163.0, 0.9271),\n",
              " (64, 234.0, 1.331),\n",
              " (65, 183.0, 1.0409),\n",
              " (66, 85.0, 0.4835),\n",
              " (67, 120.0, 0.6825),\n",
              " (68, 111.0, 0.6313),\n",
              " (69, 118.0, 0.6712),\n",
              " (70, 145.0, 0.8248),\n",
              " (71, 152.0, 0.8646),\n",
              " (72, 94.0, 0.5346),\n",
              " (73, 135.0, 0.7679),\n",
              " (74, 120.0, 0.6825),\n",
              " (75, 110.0, 0.6257),\n",
              " (76, 144.0, 0.8191),\n",
              " (77, 125.0, 0.711),\n",
              " (78, 100.0, 0.5688),\n",
              " (79, 113.0, 0.6427),\n",
              " (80, 66.0, 0.3754),\n",
              " (81, 105.0, 0.5972),\n",
              " (82, 95.0, 0.5403),\n",
              " (83, 81.0, 0.4607),\n",
              " (84, 116.0, 0.6598),\n",
              " (85, 187.0, 1.0637),\n",
              " (86, 125.0, 0.711),\n",
              " (87, 99.0, 0.5631),\n",
              " (88, 75.0, 0.4266),\n",
              " (89, 114.0, 0.6484),\n",
              " (90, 132.0, 0.7508),\n",
              " (91, 180.0, 1.0238),\n",
              " (92, 147.0, 0.8361),\n",
              " (93, 151.0, 0.8589),\n",
              " (94, 81.0, 0.4607),\n",
              " (95, 150.0, 0.8532),\n",
              " (96, 91.0, 0.5176),\n",
              " (97, 135.0, 0.7679),\n",
              " (98, 129.0, 0.7337),\n",
              " (99, 105.0, 0.5972),\n",
              " (100, 100.0, 0.5688),\n",
              " (101, 68.0, 0.3868),\n",
              " (102, 105.0, 0.5972),\n",
              " (103, 97.0, 0.5517),\n",
              " (104, 111.0, 0.6313),\n",
              " (105, 132.0, 0.7508),\n",
              " (106, 152.0, 0.8646),\n",
              " (107, 127.0, 0.7224),\n",
              " (108, 96.0, 0.546),\n",
              " (109, 133.0, 0.7565),\n",
              " (110, 117.0, 0.6655),\n",
              " (111, 102.0, 0.5802),\n",
              " (112, 139.0, 0.7906),\n",
              " (113, 161.0, 0.9158),\n",
              " (114, 150.0, 0.8532),\n",
              " (115, 139.0, 0.7906),\n",
              " (116, 163.0, 0.9271),\n",
              " (117, 194.0, 1.1035),\n",
              " (118, 117.0, 0.6655),\n",
              " (119, 145.0, 0.8248),\n",
              " (120, 181.0, 1.0295),\n",
              " (121, 121.0, 0.6882),\n",
              " (122, 64.0, 0.364),\n",
              " (123, 128.0, 0.7281),\n",
              " (124, 89.0, 0.5062),\n",
              " (125, 148.0, 0.8418),\n",
              " (126, 102.0, 0.5802),\n",
              " (127, 84.0, 0.4778),\n",
              " (128, 69.0, 0.3924),\n",
              " (129, 130.0, 0.7394),\n",
              " (130, 95.0, 0.5403),\n",
              " (131, 105.0, 0.5972),\n",
              " (132, 108.0, 0.6143),\n",
              " (133, 136.0, 0.7736),\n",
              " (134, 103.0, 0.5858),\n",
              " (135, 90.0, 0.5119),\n",
              " (136, 73.0, 0.4152),\n",
              " (137, 69.0, 0.3924),\n",
              " (138, 112.0, 0.637),\n",
              " (139, 61.0, 0.3469),\n",
              " (140, 103.0, 0.5858),\n",
              " (141, 131.0, 0.7451),\n",
              " (142, 103.0, 0.5858),\n",
              " (143, 71.0, 0.4038),\n",
              " (144, 90.0, 0.5119),\n",
              " (145, 67.0, 0.3811),\n",
              " (146, 98.0, 0.5574),\n",
              " (147, 79.0, 0.4493),\n",
              " (148, 86.0, 0.4891),\n",
              " (149, 66.0, 0.3754),\n",
              " (150, 69.0, 0.3924),\n",
              " (151, 99.0, 0.5631),\n",
              " (152, 31.0, 0.1763)]"
            ]
          },
          "metadata": {},
          "execution_count": 178
        }
      ]
    },
    {
      "cell_type": "markdown",
      "source": [
        "Top ten cantidad respecto de días"
      ],
      "metadata": {
        "id": "RK_DfTrxVU7y"
      }
    },
    {
      "cell_type": "code",
      "source": [
        "porcentaje_lista(tiempo_fraudulento.map(lambda x: (dias(x.timestamp), 1)).reduceByKey(lambda a,b: a + b).takeOrdered(10, lambda x: -x[1]), cantidad_total)"
      ],
      "metadata": {
        "colab": {
          "base_uri": "https://localhost:8080/"
        },
        "id": "7rNDGkaiRAvS",
        "outputId": "6aec67ea-cd70-43cb-f430-acbf83036cdf"
      },
      "execution_count": null,
      "outputs": [
        {
          "output_type": "execute_result",
          "data": {
            "text/plain": [
              "[(64, 234.0, 1.331),\n",
              " (117, 194.0, 1.1035),\n",
              " (85, 187.0, 1.0637),\n",
              " (65, 183.0, 1.0409),\n",
              " (120, 181.0, 1.0295),\n",
              " (91, 180.0, 1.0238),\n",
              " (50, 175.0, 0.9954),\n",
              " (59, 168.0, 0.9556),\n",
              " (62, 165.0, 0.9385),\n",
              " (116, 163.0, 0.9271)]"
            ]
          },
          "metadata": {},
          "execution_count": 179
        }
      ]
    },
    {
      "cell_type": "markdown",
      "source": [
        "Last ten cantidad respecto de días"
      ],
      "metadata": {
        "id": "QMd9pxs6JP_m"
      }
    },
    {
      "cell_type": "code",
      "source": [
        "porcentaje_lista(tiempo_fraudulento.map(lambda x: (dias(x.timestamp), 1)).reduceByKey(lambda a,b: a + b).takeOrdered(10, lambda x: x[1]), cantidad_total)"
      ],
      "metadata": {
        "colab": {
          "base_uri": "https://localhost:8080/"
        },
        "id": "9PewxHtsJTh8",
        "outputId": "642b7780-07fd-47cf-d32b-a725e8695c98"
      },
      "execution_count": null,
      "outputs": [
        {
          "output_type": "execute_result",
          "data": {
            "text/plain": [
              "[(152, 31.0, 0.1763),\n",
              " (32, 51.0, 0.2901),\n",
              " (139, 61.0, 0.3469),\n",
              " (25, 63.0, 0.3583),\n",
              " (122, 64.0, 0.364),\n",
              " (80, 66.0, 0.3754),\n",
              " (149, 66.0, 0.3754),\n",
              " (145, 67.0, 0.3811),\n",
              " (101, 68.0, 0.3868),\n",
              " (150, 69.0, 0.3924)]"
            ]
          },
          "metadata": {},
          "execution_count": 180
        }
      ]
    },
    {
      "cell_type": "markdown",
      "source": [
        "Cantidad respecto de semanas"
      ],
      "metadata": {
        "id": "ZFf35XZXVX1K"
      }
    },
    {
      "cell_type": "code",
      "source": [
        "porcentaje_lista(sorted(tiempo_fraudulento.map(lambda x: (semanas(x.timestamp), 1)).reduceByKey(lambda a,b: a + b).collect()), cantidad_total)"
      ],
      "metadata": {
        "colab": {
          "base_uri": "https://localhost:8080/"
        },
        "id": "smZLkrJUECF0",
        "outputId": "c840e1e4-917e-4246-e0ec-ea12c87d5c9c"
      },
      "execution_count": null,
      "outputs": [
        {
          "output_type": "execute_result",
          "data": {
            "text/plain": [
              "[(1, 804.0, 4.5733),\n",
              " (2, 717.0, 4.0784),\n",
              " (3, 869.0, 4.9431),\n",
              " (4, 724.0, 4.1183),\n",
              " (5, 889.0, 5.0568),\n",
              " (6, 803.0, 4.5676),\n",
              " (7, 823.0, 4.6814),\n",
              " (8, 862.0, 4.9032),\n",
              " (9, 927.0, 5.273),\n",
              " (10, 996.0, 5.6655),\n",
              " (11, 880.0, 5.0056),\n",
              " (12, 676.0, 3.8452),\n",
              " (13, 912.0, 5.1877),\n",
              " (14, 884.0, 5.0284),\n",
              " (15, 718.0, 4.0841),\n",
              " (16, 866.0, 4.926),\n",
              " (17, 1069.0, 6.0807),\n",
              " (18, 833.0, 4.7383),\n",
              " (19, 727.0, 4.1353),\n",
              " (20, 611.0, 3.4755),\n",
              " (21, 639.0, 3.6348),\n",
              " (22, 351.0, 1.9965)]"
            ]
          },
          "metadata": {},
          "execution_count": 181
        }
      ]
    },
    {
      "cell_type": "markdown",
      "source": [
        "Top ten cantidad respecto de semanas"
      ],
      "metadata": {
        "id": "stGhR50EVi7i"
      }
    },
    {
      "cell_type": "code",
      "source": [
        "porcentaje_lista(tiempo_fraudulento.map(lambda x: (semanas(x.timestamp), 1)).reduceByKey(lambda a,b: a + b).takeOrdered(10, lambda x: -x[1]), cantidad_total)"
      ],
      "metadata": {
        "colab": {
          "base_uri": "https://localhost:8080/"
        },
        "id": "FOPZytbDRIsy",
        "outputId": "730dce01-f541-4038-8f0f-10e692fa35cc"
      },
      "execution_count": null,
      "outputs": [
        {
          "output_type": "execute_result",
          "data": {
            "text/plain": [
              "[(17, 1069.0, 6.0807),\n",
              " (10, 996.0, 5.6655),\n",
              " (9, 927.0, 5.273),\n",
              " (13, 912.0, 5.1877),\n",
              " (5, 889.0, 5.0568),\n",
              " (14, 884.0, 5.0284),\n",
              " (11, 880.0, 5.0056),\n",
              " (3, 869.0, 4.9431),\n",
              " (16, 866.0, 4.926),\n",
              " (8, 862.0, 4.9032)]"
            ]
          },
          "metadata": {},
          "execution_count": 182
        }
      ]
    },
    {
      "cell_type": "markdown",
      "source": [
        "Last ten cantidad respecto de semanas"
      ],
      "metadata": {
        "id": "hmAdDrK6JsBl"
      }
    },
    {
      "cell_type": "code",
      "source": [
        "porcentaje_lista(tiempo_fraudulento.map(lambda x: (semanas(x.timestamp), 1)).reduceByKey(lambda a,b: a + b).takeOrdered(10, lambda x: x[1]), cantidad_total)"
      ],
      "metadata": {
        "colab": {
          "base_uri": "https://localhost:8080/"
        },
        "id": "yVUYbbtWJvyd",
        "outputId": "60674b64-197d-4cbb-ec3c-6090dc5f27e4"
      },
      "execution_count": null,
      "outputs": [
        {
          "output_type": "execute_result",
          "data": {
            "text/plain": [
              "[(22, 351.0, 1.9965),\n",
              " (20, 611.0, 3.4755),\n",
              " (21, 639.0, 3.6348),\n",
              " (12, 676.0, 3.8452),\n",
              " (2, 717.0, 4.0784),\n",
              " (15, 718.0, 4.0841),\n",
              " (4, 724.0, 4.1183),\n",
              " (19, 727.0, 4.1353),\n",
              " (6, 803.0, 4.5676),\n",
              " (1, 804.0, 4.5733)]"
            ]
          },
          "metadata": {},
          "execution_count": 183
        }
      ]
    },
    {
      "cell_type": "markdown",
      "source": [
        "Cantidad respecto de meses"
      ],
      "metadata": {
        "id": "g5KWuys7VozS"
      }
    },
    {
      "cell_type": "code",
      "source": [
        "porcentaje_lista(sorted(tiempo_fraudulento.map(lambda x: (meses(x.timestamp), 1)).reduceByKey(lambda a,b: a + b).collect()), cantidad_total)"
      ],
      "metadata": {
        "colab": {
          "base_uri": "https://localhost:8080/"
        },
        "id": "XkkYbmE7EliT",
        "outputId": "574f4e1b-cde1-4351-fb48-7a204996b925"
      },
      "execution_count": null,
      "outputs": [
        {
          "output_type": "execute_result",
          "data": {
            "text/plain": [
              "[(1, 3114.0, 17.7133),\n",
              " (2, 3377.0, 19.2093),\n",
              " (3, 3479.0, 19.7895),\n",
              " (4, 3380.0, 19.2263),\n",
              " (5, 3240.0, 18.43),\n",
              " (6, 990.0, 5.6313)]"
            ]
          },
          "metadata": {},
          "execution_count": 184
        }
      ]
    },
    {
      "cell_type": "code",
      "source": [
        "porcentaje_tupla(tiempo_fraudulento.map(lambda x: (meses(x.timestamp), 1)).reduceByKey(lambda a,b: a + b).reduce(lambda a,b: a if a[1] > b[1] else b), cantidad_total)"
      ],
      "metadata": {
        "colab": {
          "base_uri": "https://localhost:8080/"
        },
        "id": "mjMXuoc2_03-",
        "outputId": "92b4bd8f-3f63-4de0-83ff-c08b6f8d2216"
      },
      "execution_count": null,
      "outputs": [
        {
          "output_type": "execute_result",
          "data": {
            "text/plain": [
              "(3, 3479.0, 19.78)"
            ]
          },
          "metadata": {},
          "execution_count": 185
        }
      ]
    },
    {
      "cell_type": "markdown",
      "source": [
        "Monto respecto del tiempo"
      ],
      "metadata": {
        "id": "LRn2WvlSwcpJ"
      }
    },
    {
      "cell_type": "markdown",
      "source": [
        "Máximo monto respecto de segundos"
      ],
      "metadata": {
        "id": "hzOBcO2ZvSPq"
      }
    },
    {
      "cell_type": "code",
      "source": [
        "monto_total = tiempo_fraudulento.map(lambda x: (1, x.ammount)).reduceByKey(lambda a,b: a + b).collect()[0][1]\n",
        "(tiempo_fraudulento.map(lambda x: segundos(x.timestamp)).reduce(lambda a,b: a if a > b else b), redondeo(monto_total, 2), 100)"
      ],
      "metadata": {
        "id": "PDyGpqJbXVky",
        "colab": {
          "base_uri": "https://localhost:8080/"
        },
        "outputId": "3315114c-39dd-4379-9f25-aa563b13511d"
      },
      "execution_count": null,
      "outputs": [
        {
          "output_type": "execute_result",
          "data": {
            "text/plain": [
              "(13064705, 2614236.33, 100)"
            ]
          },
          "metadata": {},
          "execution_count": 11
        }
      ]
    },
    {
      "cell_type": "markdown",
      "source": [
        "Top ten monto respecto de minutos"
      ],
      "metadata": {
        "id": "ie6VtYxJvlHi"
      }
    },
    {
      "cell_type": "code",
      "source": [
        "porcentaje_lista(tiempo_fraudulento.map(lambda x: (minutos(x.timestamp), x.ammount)).reduceByKey(lambda a,b: a + b).takeOrdered(10, lambda x: -x[1]), monto_total)"
      ],
      "metadata": {
        "colab": {
          "base_uri": "https://localhost:8080/"
        },
        "id": "O8eOwzl3srB5",
        "outputId": "90a5097b-b580-4489-b0c3-8b90e0a301eb"
      },
      "execution_count": null,
      "outputs": [
        {
          "output_type": "execute_result",
          "data": {
            "text/plain": [
              "[(176918, 6239.6, 0.2386),\n",
              " (99097, 4191.0, 0.1603),\n",
              " (199979, 3822.95, 0.1462),\n",
              " (189819, 3280.05, 0.1254),\n",
              " (87835, 3247.16, 0.1242),\n",
              " (120792, 3221.0, 0.1232),\n",
              " (151504, 3191.0, 0.122),\n",
              " (89633, 3190.0, 0.122),\n",
              " (151593, 3190.0, 0.122),\n",
              " (181769, 3190.0, 0.122)]"
            ]
          },
          "metadata": {},
          "execution_count": 187
        }
      ]
    },
    {
      "cell_type": "markdown",
      "source": [
        "Last ten monto respecto de minutos"
      ],
      "metadata": {
        "id": "bs97h5x-K4aw"
      }
    },
    {
      "cell_type": "code",
      "source": [
        "porcentaje_lista(tiempo_fraudulento.map(lambda x: (minutos(x.timestamp), x.ammount)).reduceByKey(lambda a,b: a + b).takeOrdered(10, lambda x: x[1]), monto_total)"
      ],
      "metadata": {
        "colab": {
          "base_uri": "https://localhost:8080/"
        },
        "id": "MBlxns7vK_bN",
        "outputId": "b71c4da5-03d4-4562-8fcc-cc1b2fb0ca00"
      },
      "execution_count": null,
      "outputs": [
        {
          "output_type": "execute_result",
          "data": {
            "text/plain": [
              "[(77470, 0.29, 0.0),\n",
              " (77302, 0.29, 0.0),\n",
              " (77307, 0.29, 0.0),\n",
              " (11188, 0.29, 0.0),\n",
              " (77311, 0.35, 0.0),\n",
              " (15646, 0.42, 0.0),\n",
              " (15588, 0.42, 0.0),\n",
              " (15594, 0.42, 0.0),\n",
              " (15639, 0.42, 0.0),\n",
              " (8390, 0.46, 0.0)]"
            ]
          },
          "metadata": {},
          "execution_count": 188
        }
      ]
    },
    {
      "cell_type": "markdown",
      "source": [
        "Top ten monto respecto de horas"
      ],
      "metadata": {
        "id": "YgdxzzkWvvY4"
      }
    },
    {
      "cell_type": "code",
      "source": [
        "porcentaje_lista(tiempo_fraudulento.map(lambda x: (horas(x.timestamp), x.ammount)).reduceByKey(lambda a,b: a + b).takeOrdered(10, lambda x: -x[1]), monto_total)"
      ],
      "metadata": {
        "colab": {
          "base_uri": "https://localhost:8080/"
        },
        "id": "wTsF26zXtneR",
        "outputId": "2e862c6d-691c-4c4b-c5c5-b75b3de71778"
      },
      "execution_count": null,
      "outputs": [
        {
          "output_type": "execute_result",
          "data": {
            "text/plain": [
              "[(3000, 10744.97, 0.411),\n",
              " (2949, 10068.41, 0.3851),\n",
              " (3217, 9004.46, 0.3444),\n",
              " (2086, 6795.08, 0.2599),\n",
              " (2875, 6710.91, 0.2567),\n",
              " (2991, 6565.0, 0.2511),\n",
              " (2973, 6307.91, 0.2412),\n",
              " (2879, 6088.46, 0.2328),\n",
              " (3178, 6031.0, 0.2306),\n",
              " (3384, 5995.85, 0.2293)]"
            ]
          },
          "metadata": {},
          "execution_count": 189
        }
      ]
    },
    {
      "cell_type": "markdown",
      "source": [
        "Last ten monto respecto de horas"
      ],
      "metadata": {
        "id": "RB2NlULjLdbC"
      }
    },
    {
      "cell_type": "code",
      "source": [
        "porcentaje_lista(tiempo_fraudulento.map(lambda x: (horas(x.timestamp), x.ammount)).reduceByKey(lambda a,b: a + b).takeOrdered(10, lambda x: x[1]), monto_total)"
      ],
      "metadata": {
        "colab": {
          "base_uri": "https://localhost:8080/"
        },
        "id": "Hlage4nULfSt",
        "outputId": "5c9f855b-457e-4a9b-b3a4-ba0b88d00640"
      },
      "execution_count": null,
      "outputs": [
        {
          "output_type": "execute_result",
          "data": {
            "text/plain": [
              "[(310, 2.44, 0.0),\n",
              " (3057, 6.16, 0.0002),\n",
              " (3297, 7.65, 0.0002),\n",
              " (2477, 8.21, 0.0003),\n",
              " (3588, 8.91, 0.0003),\n",
              " (2334, 9.54, 0.0003),\n",
              " (2433, 9.99, 0.0003),\n",
              " (2309, 10.35, 0.0003),\n",
              " (3441, 11.06, 0.0004),\n",
              " (2313, 12.68, 0.0004)]"
            ]
          },
          "metadata": {},
          "execution_count": 190
        }
      ]
    },
    {
      "cell_type": "markdown",
      "source": [
        "Monto respecto de días"
      ],
      "metadata": {
        "id": "hq35wcc_vy4g"
      }
    },
    {
      "cell_type": "code",
      "source": [
        "porcentaje_lista(sorted(tiempo_fraudulento.map(lambda x: (dias(x.timestamp), x.ammount)).reduceByKey(lambda a,b: a + b).collect()), monto_total)"
      ],
      "metadata": {
        "colab": {
          "base_uri": "https://localhost:8080/"
        },
        "id": "nW0hZ95XtxAq",
        "outputId": "98f6b797-a9b6-4f3b-85d5-bfe60f8fad77"
      },
      "execution_count": null,
      "outputs": [
        {
          "output_type": "execute_result",
          "data": {
            "text/plain": [
              "[(1, 20337.14, 0.7779),\n",
              " (2, 15359.6, 0.5875),\n",
              " (3, 14254.33, 0.5452),\n",
              " (4, 14120.44, 0.5401),\n",
              " (5, 16692.72, 0.6385),\n",
              " (6, 12869.08, 0.4922),\n",
              " (7, 21670.36, 0.8289),\n",
              " (8, 13508.15, 0.5167),\n",
              " (9, 13106.59, 0.5013),\n",
              " (10, 12709.72, 0.4861),\n",
              " (11, 21725.53, 0.831),\n",
              " (12, 14710.55, 0.5627),\n",
              " (13, 10975.38, 0.4198),\n",
              " (14, 15782.4, 0.6037),\n",
              " (15, 16438.68, 0.6288),\n",
              " (16, 7279.53, 0.2784),\n",
              " (17, 14338.32, 0.5484),\n",
              " (18, 19745.87, 0.7553),\n",
              " (19, 13647.86, 0.522),\n",
              " (20, 20877.6, 0.7986),\n",
              " (21, 11047.98, 0.4226),\n",
              " (22, 18677.98, 0.7144),\n",
              " (23, 15191.02, 0.581),\n",
              " (24, 11902.08, 0.4552),\n",
              " (25, 5965.49, 0.2281),\n",
              " (26, 12609.16, 0.4823),\n",
              " (27, 14725.04, 0.5632),\n",
              " (28, 22367.33, 0.8555),\n",
              " (29, 16953.83, 0.6485),\n",
              " (30, 22107.92, 0.8456),\n",
              " (31, 18823.93, 0.72),\n",
              " (32, 6477.42, 0.2477),\n",
              " (33, 18623.23, 0.7123),\n",
              " (34, 22765.2, 0.8708),\n",
              " (35, 15812.87, 0.6048),\n",
              " (36, 20959.42, 0.8017),\n",
              " (37, 24458.92, 0.9356),\n",
              " (38, 13548.03, 0.5182),\n",
              " (39, 15022.65, 0.5746),\n",
              " (40, 16653.4, 0.637),\n",
              " (41, 18989.12, 0.7263),\n",
              " (42, 12384.08, 0.4737),\n",
              " (43, 15913.49, 0.6087),\n",
              " (44, 18996.22, 0.7266),\n",
              " (45, 11489.53, 0.4394),\n",
              " (46, 17005.3, 0.6504),\n",
              " (47, 12495.11, 0.4779),\n",
              " (48, 14594.98, 0.5582),\n",
              " (49, 14391.14, 0.5504),\n",
              " (50, 20959.67, 0.8017),\n",
              " (51, 21140.62, 0.8086),\n",
              " (52, 16147.65, 0.6176),\n",
              " (53, 14708.18, 0.5626),\n",
              " (54, 15866.52, 0.6069),\n",
              " (55, 12273.24, 0.4694),\n",
              " (56, 17105.83, 0.6543),\n",
              " (57, 14132.87, 0.5406),\n",
              " (58, 13686.21, 0.5235),\n",
              " (59, 18960.51, 0.7252),\n",
              " (60, 15173.16, 0.5804),\n",
              " (61, 21518.99, 0.8231),\n",
              " (62, 19006.24, 0.727),\n",
              " (63, 24982.33, 0.9556),\n",
              " (64, 27517.51, 1.0526),\n",
              " (65, 24761.23, 0.9471),\n",
              " (66, 9832.45, 0.3761),\n",
              " (67, 8018.99, 0.3067),\n",
              " (68, 19486.88, 0.7454),\n",
              " (69, 23886.02, 0.9136),\n",
              " (70, 20616.31, 0.7886),\n",
              " (71, 19799.13, 0.7573),\n",
              " (72, 11278.5, 0.4314),\n",
              " (73, 13472.2, 0.5153),\n",
              " (74, 14670.92, 0.5611),\n",
              " (75, 14588.7, 0.558),\n",
              " (76, 22259.98, 0.8514),\n",
              " (77, 12042.2, 0.4606),\n",
              " (78, 11006.37, 0.421),\n",
              " (79, 15463.53, 0.5915),\n",
              " (80, 8365.21, 0.3199),\n",
              " (81, 14053.99, 0.5375),\n",
              " (82, 16771.69, 0.6415),\n",
              " (83, 13394.14, 0.5123),\n",
              " (84, 13479.26, 0.5156),\n",
              " (85, 28536.53, 1.0915),\n",
              " (86, 15185.32, 0.5808),\n",
              " (87, 24689.96, 0.9444),\n",
              " (88, 14657.43, 0.5606),\n",
              " (89, 16943.92, 0.6481),\n",
              " (90, 23352.64, 0.8932),\n",
              " (91, 24289.77, 0.9291),\n",
              " (92, 20016.55, 0.7656),\n",
              " (93, 20032.75, 0.7662),\n",
              " (94, 8975.89, 0.3433),\n",
              " (95, 31478.14, 1.2041),\n",
              " (96, 19764.8, 0.756),\n",
              " (97, 21625.25, 0.8272),\n",
              " (98, 24459.14, 0.9356),\n",
              " (99, 18637.9, 0.7129),\n",
              " (100, 12417.61, 0.4749),\n",
              " (101, 11407.32, 0.4363),\n",
              " (102, 18106.95, 0.6926),\n",
              " (103, 17560.43, 0.6717),\n",
              " (104, 22104.07, 0.8455),\n",
              " (105, 22964.42, 0.8784),\n",
              " (106, 30852.04, 1.1801),\n",
              " (107, 18728.0, 0.7163),\n",
              " (108, 17292.53, 0.6614),\n",
              " (109, 32184.5, 1.2311),\n",
              " (110, 23499.02, 0.8988),\n",
              " (111, 17337.14, 0.6631),\n",
              " (112, 27171.11, 1.0393),\n",
              " (113, 25456.08, 0.9737),\n",
              " (114, 29092.98, 1.1128),\n",
              " (115, 20384.94, 0.7797),\n",
              " (116, 24992.8, 0.956),\n",
              " (117, 18357.42, 0.7022),\n",
              " (118, 17647.02, 0.675),\n",
              " (119, 23047.98, 0.8816),\n",
              " (120, 39055.2, 1.4939),\n",
              " (121, 22508.97, 0.861),\n",
              " (122, 10219.8, 0.3909),\n",
              " (123, 22888.52, 0.8755),\n",
              " (124, 15314.67, 0.5858),\n",
              " (125, 34599.42, 1.3235),\n",
              " (126, 13252.2, 0.5069),\n",
              " (127, 14091.58, 0.539),\n",
              " (128, 7897.82, 0.3021),\n",
              " (129, 14276.81, 0.5461),\n",
              " (130, 13494.67, 0.5161),\n",
              " (131, 15954.84, 0.6103),\n",
              " (132, 25954.06, 0.9927),\n",
              " (133, 23102.9, 0.8837),\n",
              " (134, 13602.01, 0.5203),\n",
              " (135, 16273.36, 0.6224),\n",
              " (136, 12192.38, 0.4663),\n",
              " (137, 12413.43, 0.4748),\n",
              " (138, 17611.9, 0.6736),\n",
              " (139, 18417.26, 0.7044),\n",
              " (140, 14815.23, 0.5667),\n",
              " (141, 24475.53, 0.9362),\n",
              " (142, 13260.68, 0.5072),\n",
              " (143, 10804.99, 0.4133),\n",
              " (144, 14808.52, 0.5664),\n",
              " (145, 8080.86, 0.3091),\n",
              " (146, 11678.73, 0.4467),\n",
              " (147, 11709.83, 0.4479),\n",
              " (148, 13237.49, 0.5063),\n",
              " (149, 7826.8, 0.2993),\n",
              " (150, 7782.21, 0.2976),\n",
              " (151, 10106.25, 0.3865),\n",
              " (152, 7747.41, 0.2963)]"
            ]
          },
          "metadata": {},
          "execution_count": 191
        }
      ]
    },
    {
      "cell_type": "markdown",
      "source": [
        "Top ten monto respecto de días"
      ],
      "metadata": {
        "id": "gYR_Ek3lv5kp"
      }
    },
    {
      "cell_type": "code",
      "source": [
        "porcentaje_lista(tiempo_fraudulento.map(lambda x: (dias(x.timestamp), x.ammount)).reduceByKey(lambda a,b: a + b).takeOrdered(10, lambda x: -x[1]), monto_total)"
      ],
      "metadata": {
        "colab": {
          "base_uri": "https://localhost:8080/"
        },
        "id": "KGbY69rkt7Ta",
        "outputId": "c04519ae-fafc-424d-fe37-58e5864b1fc7"
      },
      "execution_count": null,
      "outputs": [
        {
          "output_type": "execute_result",
          "data": {
            "text/plain": [
              "[(120, 39055.2, 1.4939),\n",
              " (125, 34599.42, 1.3235),\n",
              " (109, 32184.5, 1.2311),\n",
              " (95, 31478.14, 1.2041),\n",
              " (106, 30852.04, 1.1801),\n",
              " (114, 29092.98, 1.1128),\n",
              " (85, 28536.53, 1.0915),\n",
              " (64, 27517.51, 1.0526),\n",
              " (112, 27171.11, 1.0393),\n",
              " (132, 25954.06, 0.9927)]"
            ]
          },
          "metadata": {},
          "execution_count": 192
        }
      ]
    },
    {
      "cell_type": "markdown",
      "source": [
        "Last ten monto respecto de días"
      ],
      "metadata": {
        "id": "MLhBUhpJM8ct"
      }
    },
    {
      "cell_type": "code",
      "source": [
        "porcentaje_lista(tiempo_fraudulento.map(lambda x: (dias(x.timestamp), x.ammount)).reduceByKey(lambda a,b: a + b).takeOrdered(10, lambda x: x[1]), monto_total)"
      ],
      "metadata": {
        "colab": {
          "base_uri": "https://localhost:8080/"
        },
        "id": "uA3NNFEpNALt",
        "outputId": "5c29a472-1bcd-4ead-8a11-302027025ca0"
      },
      "execution_count": null,
      "outputs": [
        {
          "output_type": "execute_result",
          "data": {
            "text/plain": [
              "[(25, 5965.49, 0.2281),\n",
              " (32, 6477.42, 0.2477),\n",
              " (16, 7279.53, 0.2784),\n",
              " (152, 7747.41, 0.2963),\n",
              " (150, 7782.21, 0.2976),\n",
              " (149, 7826.8, 0.2993),\n",
              " (128, 7897.82, 0.3021),\n",
              " (67, 8018.99, 0.3067),\n",
              " (145, 8080.86, 0.3091),\n",
              " (80, 8365.21, 0.3199)]"
            ]
          },
          "metadata": {},
          "execution_count": 193
        }
      ]
    },
    {
      "cell_type": "markdown",
      "source": [
        "Monto respecto de semanas"
      ],
      "metadata": {
        "id": "a6dYez1Ev9np"
      }
    },
    {
      "cell_type": "code",
      "source": [
        "porcentaje_lista(sorted(tiempo_fraudulento.map(lambda x: (semanas(x.timestamp), x.ammount)).reduceByKey(lambda a,b: a + b).collect()), monto_total)"
      ],
      "metadata": {
        "colab": {
          "base_uri": "https://localhost:8080/"
        },
        "id": "Cmmwls3iuPTj",
        "outputId": "00264f51-f77c-4813-a87e-d153d69f3b27"
      },
      "execution_count": null,
      "outputs": [
        {
          "output_type": "execute_result",
          "data": {
            "text/plain": [
              "[(1, 115303.69, 4.4106),\n",
              " (2, 102518.35, 3.9215),\n",
              " (3, 103375.85, 3.9543),\n",
              " (4, 101438.13, 3.8802),\n",
              " (5, 121564.43, 4.65),\n",
              " (6, 122015.66, 4.6673),\n",
              " (7, 104885.8, 4.0121),\n",
              " (8, 118201.74, 4.5214),\n",
              " (9, 127460.33, 4.8756),\n",
              " (10, 134119.43, 5.1303),\n",
              " (11, 108111.65, 4.1354),\n",
              " (12, 92534.23, 3.5396),\n",
              " (13, 147655.6, 5.6481),\n",
              " (14, 146352.54, 5.5982),\n",
              " (15, 123198.73, 4.7126),\n",
              " (16, 167064.38, 6.3905),\n",
              " (17, 158979.25, 6.0812),\n",
              " (18, 157838.82, 6.0376),\n",
              " (19, 114772.7, 4.3902),\n",
              " (20, 105325.59, 4.0289),\n",
              " (21, 94819.16, 3.627),\n",
              " (22, 46700.17, 1.7863)]"
            ]
          },
          "metadata": {},
          "execution_count": 194
        }
      ]
    },
    {
      "cell_type": "markdown",
      "source": [
        "Top ten monto respecto de semanas"
      ],
      "metadata": {
        "id": "f2yL5COLwDih"
      }
    },
    {
      "cell_type": "code",
      "source": [
        "porcentaje_lista(tiempo_fraudulento.map(lambda x: (semanas(x.timestamp), x.ammount)).reduceByKey(lambda a,b: a + b).takeOrdered(10, lambda x: -x[1]), monto_total)"
      ],
      "metadata": {
        "colab": {
          "base_uri": "https://localhost:8080/"
        },
        "id": "di3tmlfUujSi",
        "outputId": "6558e479-cf82-4721-dcd5-4e2f4bb854f3"
      },
      "execution_count": null,
      "outputs": [
        {
          "output_type": "execute_result",
          "data": {
            "text/plain": [
              "[(16, 167064.38, 6.3905),\n",
              " (17, 158979.25, 6.0812),\n",
              " (18, 157838.82, 6.0376),\n",
              " (13, 147655.6, 5.6481),\n",
              " (14, 146352.54, 5.5982),\n",
              " (10, 134119.43, 5.1303),\n",
              " (9, 127460.33, 4.8756),\n",
              " (15, 123198.73, 4.7126),\n",
              " (6, 122015.66, 4.6673),\n",
              " (5, 121564.43, 4.65)]"
            ]
          },
          "metadata": {},
          "execution_count": 195
        }
      ]
    },
    {
      "cell_type": "markdown",
      "source": [
        "Last ten monto respecto de semanas"
      ],
      "metadata": {
        "id": "op8WjYAENSv9"
      }
    },
    {
      "cell_type": "code",
      "source": [
        "porcentaje_lista(tiempo_fraudulento.map(lambda x: (semanas(x.timestamp), x.ammount)).reduceByKey(lambda a,b: a + b).takeOrdered(10, lambda x: x[1]), monto_total)"
      ],
      "metadata": {
        "colab": {
          "base_uri": "https://localhost:8080/"
        },
        "id": "0A0h5h5uNd4h",
        "outputId": "b397f04d-71eb-47c5-a658-7a860541d99f"
      },
      "execution_count": null,
      "outputs": [
        {
          "output_type": "execute_result",
          "data": {
            "text/plain": [
              "[(22, 46700.17, 1.7863),\n",
              " (12, 92534.23, 3.5396),\n",
              " (21, 94819.16, 3.627),\n",
              " (4, 101438.13, 3.8802),\n",
              " (2, 102518.35, 3.9215),\n",
              " (3, 103375.85, 3.9543),\n",
              " (7, 104885.8, 4.0121),\n",
              " (20, 105325.59, 4.0289),\n",
              " (11, 108111.65, 4.1354),\n",
              " (19, 114772.7, 4.3902)]"
            ]
          },
          "metadata": {},
          "execution_count": 196
        }
      ]
    },
    {
      "cell_type": "markdown",
      "source": [
        "Monto respecto de meses"
      ],
      "metadata": {
        "id": "NGEXpqmIwJn4"
      }
    },
    {
      "cell_type": "code",
      "source": [
        "porcentaje_lista(sorted(tiempo_fraudulento.map(lambda x: (meses(x.timestamp), x.ammount)).reduceByKey(lambda a,b: a + b).collect()), monto_total)"
      ],
      "metadata": {
        "colab": {
          "base_uri": "https://localhost:8080/"
        },
        "id": "athDfVNzuqvo",
        "outputId": "e231653d-4809-47a5-d891-42f6e44e108a"
      },
      "execution_count": null,
      "outputs": [
        {
          "output_type": "execute_result",
          "data": {
            "text/plain": [
              "[(1, 422636.04, 16.1667),\n",
              " (2, 466667.65, 17.851),\n",
              " (3, 462225.65, 17.681),\n",
              " (4, 584271.26, 22.3495),\n",
              " (5, 536916.38, 20.5381),\n",
              " (6, 141519.33, 5.4134)]"
            ]
          },
          "metadata": {},
          "execution_count": 197
        }
      ]
    },
    {
      "cell_type": "markdown",
      "source": [
        "Máximo monto respecto de meses"
      ],
      "metadata": {
        "id": "j_osM69SAAg9"
      }
    },
    {
      "cell_type": "code",
      "source": [
        "porcentaje_tupla(tiempo_fraudulento.map(lambda x: (meses(x.timestamp), x.ammount)).reduceByKey(lambda a,b: a + b).reduce(lambda a,b: a if a[1] > b[1] else b), monto_total)"
      ],
      "metadata": {
        "colab": {
          "base_uri": "https://localhost:8080/"
        },
        "id": "azAHv4tA-5a8",
        "outputId": "3d4c32a3-1fd1-4653-eb2c-73c220d5c83f"
      },
      "execution_count": null,
      "outputs": [
        {
          "output_type": "execute_result",
          "data": {
            "text/plain": [
              "(4, 584271.26, 22.34)"
            ]
          },
          "metadata": {},
          "execution_count": 198
        }
      ]
    },
    {
      "cell_type": "markdown",
      "source": [
        "Plataformas fraudulentas"
      ],
      "metadata": {
        "id": "Sw2PbEDuBovd"
      }
    },
    {
      "cell_type": "code",
      "source": [
        "identity_rdd = sqlContext.read.csv('identity_features_train.csv', header=True, inferSchema=True).rdd"
      ],
      "metadata": {
        "id": "zLho862v_9lF"
      },
      "execution_count": 131,
      "outputs": []
    },
    {
      "cell_type": "code",
      "source": [
        "def unicidad_sistema(string) -> str:\n",
        "    if string == None:\n",
        "      return \"NONE\"\n",
        "    lista = [\"WINDOWS\", \"MOTO\", \"SAMSUNG\", \"LG\", \"SM\", \"GT\", \"RV\", \"ZTE\", \"HUAMWI\", \"IOS DEVICE\",\"MACOS\", \"NOKIA\", \"ALCATEL\", \"IPHONE\" ,\"BUILD\"]\n",
        "    for sistema in lista:\n",
        "        match string.upper().find(sistema):\n",
        "            case -1:\n",
        "                continue\n",
        "            case _:\n",
        "                return sistema\n",
        "    return \"OTRO\"\n",
        "\n",
        "def unicidad_modelo(string) -> str:\n",
        "    if string == None:\n",
        "      return \"NONE\"\n",
        "    lista = [\"CHROME\", \"SAFARI\", \"FIREFOX\", \"SAMSUNG\", \"OPERA\", \"EDGE\", \"ANDROID\"]\n",
        "    for modelo in lista:\n",
        "        match string.upper().find(modelo):\n",
        "            case -1:\n",
        "                continue\n",
        "            case _:\n",
        "                return modelo\n",
        "    return \"OTRO\""
      ],
      "metadata": {
        "id": "bGlWJh37L-6S"
      },
      "execution_count": 132,
      "outputs": []
    },
    {
      "cell_type": "code",
      "source": [
        "identity_rdd.first()"
      ],
      "metadata": {
        "colab": {
          "base_uri": "https://localhost:8080/"
        },
        "id": "Rn63CJSqCJSs",
        "outputId": "176731a2-3451-4730-cf0a-19967cec0372"
      },
      "execution_count": 133,
      "outputs": [
        {
          "output_type": "execute_result",
          "data": {
            "text/plain": [
              "Row(_c0=0, Id=2987004, feature01=0.0, feature02=70787.0, feature03=None, feature04=None, feature05=None, feature06=None, feature07=None, feature08=None, feature09=None, feature10=None, feature11=100.0, feature12='NotFound', feature13=None, feature14=-480.0, feature15='New', feature16='NotFound', feature17=166.0, feature18=None, feature19=542.0, feature20=144.0, feature21=None, feature22=None, feature23=None, feature24=None, feature25=None, feature26=None, feature27=None, feature28='New', feature29='NotFound', feature30='Android 7.0', feature31='samsung browser 6.2', feature32=32.0, feature33='2220x1080', feature34='match_status:2', feature35='T', feature36='F', feature37='T', feature38='T', Device='mobile', DeviceMetadata='SAMSUNG SM-G892A Build/NRD90M')"
            ]
          },
          "metadata": {},
          "execution_count": 133
        }
      ]
    },
    {
      "cell_type": "code",
      "source": [
        "plataformas = identity_rdd.map(lambda x: (x.Id, (x.Device, x.DeviceMetadata, x.feature31))).leftOuterJoin(transactions_rdd.map(lambda x: (x.Id, x.target)))"
      ],
      "metadata": {
        "id": "SoF9rSsQCnvU"
      },
      "execution_count": 134,
      "outputs": []
    },
    {
      "cell_type": "code",
      "source": [
        "plataformas.first()"
      ],
      "metadata": {
        "colab": {
          "base_uri": "https://localhost:8080/"
        },
        "id": "_gN7beksEHj3",
        "outputId": "b60ed3ae-1837-4795-da1b-71797c139298"
      },
      "execution_count": 135,
      "outputs": [
        {
          "output_type": "execute_result",
          "data": {
            "text/plain": [
              "(2987040, (('desktop', 'Windows', 'chrome 62.0'), 0))"
            ]
          },
          "metadata": {},
          "execution_count": 135
        }
      ]
    },
    {
      "cell_type": "markdown",
      "source": [
        "Fraude por dispositivo"
      ],
      "metadata": {
        "id": "e__5UQxXE399"
      }
    },
    {
      "cell_type": "code",
      "source": [
        "dispositivos = plataformas.map(lambda x: ((x[1][0][0], x[1][1]), 1)).reduceByKey(lambda a,b: a+b).map(lambda x: (x[0][0], (x[0][1], x[1])))"
      ],
      "metadata": {
        "id": "OAMBzvI0HMzn"
      },
      "execution_count": 136,
      "outputs": []
    },
    {
      "cell_type": "code",
      "source": [
        "dispositivos_total = dispositivos.map(lambda x: (x[0], x[1][1])).reduceByKey(lambda a,b: a + b)"
      ],
      "metadata": {
        "id": "XTRDkDTi9MMe"
      },
      "execution_count": 137,
      "outputs": []
    },
    {
      "cell_type": "code",
      "source": [
        "dispositivos = dispositivos.join(dispositivos_total).map(lambda x: (x[0], x[1][0][0], x[1][0][1], redondeo(x[1][0][1] * 100 / x[1][1], 2))).cache()"
      ],
      "metadata": {
        "id": "5NRro5E79puO"
      },
      "execution_count": 138,
      "outputs": []
    },
    {
      "cell_type": "code",
      "source": [
        "dispositivos.collect()"
      ],
      "metadata": {
        "colab": {
          "base_uri": "https://localhost:8080/"
        },
        "id": "McwJ6pz0H7tw",
        "outputId": "56d0151e-507a-4524-d72f-85a703a7636b"
      },
      "execution_count": 139,
      "outputs": [
        {
          "output_type": "execute_result",
          "data": {
            "text/plain": [
              "[(None, 0, 2866, 97.58),\n",
              " (None, 1, 71, 2.41),\n",
              " ('mobile', 0, 43198, 90.13),\n",
              " ('mobile', 1, 4726, 9.86),\n",
              " ('desktop', 0, 69946, 93.63),\n",
              " ('desktop', 1, 4758, 6.36)]"
            ]
          },
          "metadata": {},
          "execution_count": 139
        }
      ]
    },
    {
      "cell_type": "markdown",
      "source": [
        "Dispositivo fraudulentos respecto de la cantidad"
      ],
      "metadata": {
        "id": "HLUsv6ujXKMA"
      }
    },
    {
      "cell_type": "code",
      "source": [
        "dispositivos.filter(lambda x: x[1] == 1).map(lambda x: (x[0], x[2])).sortBy(lambda x: -x[1]).collect()"
      ],
      "metadata": {
        "colab": {
          "base_uri": "https://localhost:8080/"
        },
        "id": "IwpikF6XWVT4",
        "outputId": "a7d91225-c295-4eba-a086-f53793901672"
      },
      "execution_count": 140,
      "outputs": [
        {
          "output_type": "execute_result",
          "data": {
            "text/plain": [
              "[('desktop', 4758), ('mobile', 4726), (None, 71)]"
            ]
          },
          "metadata": {},
          "execution_count": 140
        }
      ]
    },
    {
      "cell_type": "markdown",
      "source": [
        "Dispositivo legales respecto de la cantidad"
      ],
      "metadata": {
        "id": "Te3gw6qzKfzx"
      }
    },
    {
      "cell_type": "code",
      "source": [
        "dispositivos.filter(lambda x: x[1] == 0).map(lambda x: (x[0], x[2])).sortBy(lambda x: -x[1]).collect()"
      ],
      "metadata": {
        "colab": {
          "base_uri": "https://localhost:8080/"
        },
        "id": "HB0ih1fJKiSJ",
        "outputId": "678dcdd1-9e9b-4c19-abe2-f059ea044a7c"
      },
      "execution_count": 141,
      "outputs": [
        {
          "output_type": "execute_result",
          "data": {
            "text/plain": [
              "[('desktop', 69946), ('mobile', 43198), (None, 2866)]"
            ]
          },
          "metadata": {},
          "execution_count": 141
        }
      ]
    },
    {
      "cell_type": "markdown",
      "source": [
        "Dispositivo fraudulentos respecto del promedio"
      ],
      "metadata": {
        "id": "0EuO1w1LXR6I"
      }
    },
    {
      "cell_type": "code",
      "source": [
        "dispositivos.filter(lambda x: x[1] == 1).map(lambda x: (x[0], x[3])).sortBy(lambda x: -x[1]).collect()"
      ],
      "metadata": {
        "colab": {
          "base_uri": "https://localhost:8080/"
        },
        "id": "v-3zWjmcWVCS",
        "outputId": "6877d159-061f-4c8b-b8f8-e4518001967e"
      },
      "execution_count": 142,
      "outputs": [
        {
          "output_type": "execute_result",
          "data": {
            "text/plain": [
              "[('mobile', 9.86), ('desktop', 6.36), (None, 2.41)]"
            ]
          },
          "metadata": {},
          "execution_count": 142
        }
      ]
    },
    {
      "cell_type": "markdown",
      "source": [
        "Dispositivo legales respecto del promedio"
      ],
      "metadata": {
        "id": "csMBnOBqLaFQ"
      }
    },
    {
      "cell_type": "code",
      "source": [
        "dispositivos.filter(lambda x: x[1] == 0).map(lambda x: (x[0], x[3])).sortBy(lambda x: -x[1]).collect()"
      ],
      "metadata": {
        "colab": {
          "base_uri": "https://localhost:8080/"
        },
        "id": "p1zhwubyLcBw",
        "outputId": "0637698a-5f8a-44da-fca5-d3595cf2929e"
      },
      "execution_count": 143,
      "outputs": [
        {
          "output_type": "execute_result",
          "data": {
            "text/plain": [
              "[(None, 97.58), ('desktop', 93.63), ('mobile', 90.13)]"
            ]
          },
          "metadata": {},
          "execution_count": 143
        }
      ]
    },
    {
      "cell_type": "markdown",
      "source": [
        "Fraude por sistema"
      ],
      "metadata": {
        "id": "B11LMbrAIrDb"
      }
    },
    {
      "cell_type": "code",
      "source": [
        "sistema = plataformas.map(lambda x: ((unicidad_sistema(x[1][0][1]), x[1][1]), 1)).reduceByKey(lambda a,b: a+b).map(lambda x: (x[0][0], (x[0][1], x[1])))"
      ],
      "metadata": {
        "id": "re6fOLlRIy0T"
      },
      "execution_count": 144,
      "outputs": []
    },
    {
      "cell_type": "code",
      "source": [
        "sistema_total = sistema.map(lambda x: (x[0], x[1][1])).reduceByKey(lambda a,b: a + b)"
      ],
      "metadata": {
        "id": "PwuJxPU__ARW"
      },
      "execution_count": 145,
      "outputs": []
    },
    {
      "cell_type": "code",
      "source": [
        "sistema = sistema.join(sistema_total).map(lambda x: (x[0], x[1][0][0], x[1][0][1], redondeo(x[1][0][1] * 100 / x[1][1], 2))).cache()"
      ],
      "metadata": {
        "id": "tcj3T6CP_F3v"
      },
      "execution_count": 146,
      "outputs": []
    },
    {
      "cell_type": "code",
      "source": [
        "sistema.collect()"
      ],
      "metadata": {
        "colab": {
          "base_uri": "https://localhost:8080/"
        },
        "id": "EsTjfC6cQxQh",
        "outputId": "4570d7ad-9d3c-4c23-d7fe-57ebe42910e8"
      },
      "execution_count": 147,
      "outputs": [
        {
          "output_type": "execute_result",
          "data": {
            "text/plain": [
              "[('BUILD', 0, 5233, 83.48),\n",
              " ('BUILD', 1, 1035, 16.51),\n",
              " ('MACOS', 0, 11054, 98.06),\n",
              " ('MACOS', 1, 218, 1.93),\n",
              " ('MOTO', 0, 2021, 84.27),\n",
              " ('MOTO', 1, 377, 15.72),\n",
              " ('RV', 0, 3673, 92.51),\n",
              " ('RV', 1, 297, 7.48),\n",
              " ('WINDOWS', 0, 38754, 93.69),\n",
              " ('WINDOWS', 1, 2610, 6.3),\n",
              " ('NOKIA', 1, 10, 100.0),\n",
              " ('IOS DEVICE', 0, 16571, 93.88),\n",
              " ('IOS DEVICE', 1, 1079, 6.11),\n",
              " ('ALCATEL', 0, 46, 86.79),\n",
              " ('ALCATEL', 1, 7, 13.2),\n",
              " ('SAMSUNG', 0, 2127, 92.11),\n",
              " ('SAMSUNG', 1, 182, 7.88),\n",
              " ('GT', 0, 113, 84.96),\n",
              " ('GT', 1, 20, 15.03),\n",
              " ('NONE', 1, 2330, 10.59),\n",
              " ('NONE', 0, 19660, 89.4),\n",
              " ('OTRO', 1, 154, 1.92),\n",
              " ('OTRO', 0, 7859, 98.07),\n",
              " ('ZTE', 0, 36, 80.0),\n",
              " ('ZTE', 1, 9, 20.0),\n",
              " ('SM', 1, 984, 12.47),\n",
              " ('SM', 0, 6901, 87.52),\n",
              " ('LG', 1, 242, 10.98),\n",
              " ('LG', 0, 1962, 89.01),\n",
              " ('IPHONE', 1, 1, 100.0)]"
            ]
          },
          "metadata": {},
          "execution_count": 147
        }
      ]
    },
    {
      "cell_type": "markdown",
      "source": [
        "Top five sistema fraudulentos respecto de la cantidad"
      ],
      "metadata": {
        "id": "Vn90Ez-VXZ6i"
      }
    },
    {
      "cell_type": "code",
      "source": [
        "sistema.filter(lambda x: x[1] == 1).map(lambda x: (x[0], x[2])).takeOrdered(5, lambda x: -x[1])"
      ],
      "metadata": {
        "colab": {
          "base_uri": "https://localhost:8080/"
        },
        "id": "dHFWRHz2JIXU",
        "outputId": "822faff7-ad7f-4af2-8c2d-1245621daf6c"
      },
      "execution_count": 148,
      "outputs": [
        {
          "output_type": "execute_result",
          "data": {
            "text/plain": [
              "[('WINDOWS', 2610),\n",
              " ('NONE', 2330),\n",
              " ('IOS DEVICE', 1079),\n",
              " ('BUILD', 1035),\n",
              " ('SM', 984)]"
            ]
          },
          "metadata": {},
          "execution_count": 148
        }
      ]
    },
    {
      "cell_type": "markdown",
      "source": [
        "Last five sistema fraudulentos respecto de la cantidad"
      ],
      "metadata": {
        "id": "yHbjrlXZYPaz"
      }
    },
    {
      "cell_type": "code",
      "source": [
        "sistema.filter(lambda x: x[1] == 1).map(lambda x: (x[0], x[2])).takeOrdered(5, lambda x: x[1])"
      ],
      "metadata": {
        "colab": {
          "base_uri": "https://localhost:8080/"
        },
        "id": "PukCKno2YS1E",
        "outputId": "1b26bc3d-c657-4954-fa38-48d699d35a29"
      },
      "execution_count": 149,
      "outputs": [
        {
          "output_type": "execute_result",
          "data": {
            "text/plain": [
              "[('IPHONE', 1), ('ALCATEL', 7), ('ZTE', 9), ('NOKIA', 10), ('GT', 20)]"
            ]
          },
          "metadata": {},
          "execution_count": 149
        }
      ]
    },
    {
      "cell_type": "markdown",
      "source": [
        "Top five sistema legales respecto de la cantidad"
      ],
      "metadata": {
        "id": "UQb0zdfsSeME"
      }
    },
    {
      "cell_type": "code",
      "source": [
        "sistema.filter(lambda x: x[1] == 0).map(lambda x: (x[0], x[2])).takeOrdered(5, lambda x: -x[1])"
      ],
      "metadata": {
        "colab": {
          "base_uri": "https://localhost:8080/"
        },
        "id": "GXxeOPFXSpTy",
        "outputId": "f67e6e72-8fdc-4feb-86fc-69eb0122c8a8"
      },
      "execution_count": 150,
      "outputs": [
        {
          "output_type": "execute_result",
          "data": {
            "text/plain": [
              "[('WINDOWS', 38754),\n",
              " ('NONE', 19660),\n",
              " ('IOS DEVICE', 16571),\n",
              " ('MACOS', 11054),\n",
              " ('OTRO', 7859)]"
            ]
          },
          "metadata": {},
          "execution_count": 150
        }
      ]
    },
    {
      "cell_type": "markdown",
      "source": [
        "Last five sistema legales respecto de la cantidad"
      ],
      "metadata": {
        "id": "Q3IZCYqMYfT7"
      }
    },
    {
      "cell_type": "code",
      "source": [
        "sistema.filter(lambda x: x[1] == 0).map(lambda x: (x[0], x[2])).takeOrdered(5, lambda x: x[1])"
      ],
      "metadata": {
        "colab": {
          "base_uri": "https://localhost:8080/"
        },
        "id": "p6nmEPovYhfs",
        "outputId": "12d055f5-c542-4c71-9d0c-abc19db7ef9d"
      },
      "execution_count": 151,
      "outputs": [
        {
          "output_type": "execute_result",
          "data": {
            "text/plain": [
              "[('ZTE', 36), ('ALCATEL', 46), ('GT', 113), ('LG', 1962), ('MOTO', 2021)]"
            ]
          },
          "metadata": {},
          "execution_count": 151
        }
      ]
    },
    {
      "cell_type": "markdown",
      "source": [
        "Top five sistema fraudulento respecto del promedio"
      ],
      "metadata": {
        "id": "3hxmwdvIXiiJ"
      }
    },
    {
      "cell_type": "code",
      "source": [
        "sistema.filter(lambda x: x[1] == 1).map(lambda x: (x[0], x[3])).takeOrdered(5, lambda x: -x[1])"
      ],
      "metadata": {
        "colab": {
          "base_uri": "https://localhost:8080/"
        },
        "id": "3pN1-yK5Uy9x",
        "outputId": "e1ddaaf2-780d-4d8f-b86c-81b598809de0"
      },
      "execution_count": 152,
      "outputs": [
        {
          "output_type": "execute_result",
          "data": {
            "text/plain": [
              "[('NOKIA', 100.0),\n",
              " ('IPHONE', 100.0),\n",
              " ('ZTE', 20.0),\n",
              " ('BUILD', 16.51),\n",
              " ('MOTO', 15.72)]"
            ]
          },
          "metadata": {},
          "execution_count": 152
        }
      ]
    },
    {
      "cell_type": "markdown",
      "source": [
        "Justificacion del promedio de cantidades bajas (El 100% se debe a que son solamente fraudulentos)"
      ],
      "metadata": {
        "id": "pxesHaSNHnZ4"
      }
    },
    {
      "cell_type": "code",
      "source": [
        "sistema.filter(lambda x: x[1] == 1).map(lambda x: (x[0], x[2], x[3])).takeOrdered(5, lambda x: -x[2])"
      ],
      "metadata": {
        "colab": {
          "base_uri": "https://localhost:8080/"
        },
        "id": "BiYEpQYIHxbC",
        "outputId": "26b919d5-f21e-4e05-8c41-036e25f66756"
      },
      "execution_count": 153,
      "outputs": [
        {
          "output_type": "execute_result",
          "data": {
            "text/plain": [
              "[('NOKIA', 10, 100.0),\n",
              " ('IPHONE', 1, 100.0),\n",
              " ('ZTE', 9, 20.0),\n",
              " ('BUILD', 1035, 16.51),\n",
              " ('MOTO', 377, 15.72)]"
            ]
          },
          "metadata": {},
          "execution_count": 153
        }
      ]
    },
    {
      "cell_type": "markdown",
      "source": [
        "Top five sistema fraudulento respecto de promedio filtrado por cantidad menor a 100"
      ],
      "metadata": {
        "id": "SB_FWWKlJ0z2"
      }
    },
    {
      "cell_type": "code",
      "source": [
        "sistema.filter(lambda x: x[1] == 1 and x[2] < 100).map(lambda x: (x[0], x[2], x[3])).takeOrdered(5, lambda x: -x[2])"
      ],
      "metadata": {
        "colab": {
          "base_uri": "https://localhost:8080/"
        },
        "id": "dBNBlS99J3C-",
        "outputId": "8d4239cd-4808-4248-fc01-d77c6f2ec933"
      },
      "execution_count": 154,
      "outputs": [
        {
          "output_type": "execute_result",
          "data": {
            "text/plain": [
              "[('NOKIA', 10, 100.0),\n",
              " ('IPHONE', 1, 100.0),\n",
              " ('ZTE', 9, 20.0),\n",
              " ('GT', 20, 15.03),\n",
              " ('ALCATEL', 7, 13.2)]"
            ]
          },
          "metadata": {},
          "execution_count": 154
        }
      ]
    },
    {
      "cell_type": "markdown",
      "source": [
        "Top five sistema fraudulento respecto de promedio filtrado por cantidad mayor a 100"
      ],
      "metadata": {
        "id": "lSAHQDTsIrsm"
      }
    },
    {
      "cell_type": "code",
      "source": [
        "sistema.filter(lambda x: x[1] == 1 and x[2] > 100).map(lambda x: (x[0], x[2], x[3])).takeOrdered(5, lambda x: -x[2])"
      ],
      "metadata": {
        "colab": {
          "base_uri": "https://localhost:8080/"
        },
        "id": "TTNW37wdKPmy",
        "outputId": "41108aee-7b85-4b4f-ca59-fdafef09e208"
      },
      "execution_count": 155,
      "outputs": [
        {
          "output_type": "execute_result",
          "data": {
            "text/plain": [
              "[('BUILD', 1035, 16.51),\n",
              " ('MOTO', 377, 15.72),\n",
              " ('SM', 984, 12.47),\n",
              " ('LG', 242, 10.98),\n",
              " ('NONE', 2330, 10.59)]"
            ]
          },
          "metadata": {},
          "execution_count": 155
        }
      ]
    },
    {
      "cell_type": "markdown",
      "source": [
        "Last five sistema fraudulento respecto del promedio"
      ],
      "metadata": {
        "id": "JfPClv-0YorT"
      }
    },
    {
      "cell_type": "code",
      "source": [
        "sistema.filter(lambda x: x[1] == 1).map(lambda x: (x[0], x[3])).takeOrdered(5, lambda x: x[1])"
      ],
      "metadata": {
        "colab": {
          "base_uri": "https://localhost:8080/"
        },
        "id": "r52GWl0WYp07",
        "outputId": "72f04b47-1424-4398-e965-1884393ae18f"
      },
      "execution_count": 156,
      "outputs": [
        {
          "output_type": "execute_result",
          "data": {
            "text/plain": [
              "[('OTRO', 1.92),\n",
              " ('MACOS', 1.93),\n",
              " ('IOS DEVICE', 6.11),\n",
              " ('WINDOWS', 6.3),\n",
              " ('RV', 7.48)]"
            ]
          },
          "metadata": {},
          "execution_count": 156
        }
      ]
    },
    {
      "cell_type": "markdown",
      "source": [
        "Top five sistema legal respecto del promedio"
      ],
      "metadata": {
        "id": "HtuwPCMHT11q"
      }
    },
    {
      "cell_type": "code",
      "source": [
        "sistema.filter(lambda x: x[1] == 0).map(lambda x: (x[0], x[3])).takeOrdered(5, lambda x: -x[1])"
      ],
      "metadata": {
        "colab": {
          "base_uri": "https://localhost:8080/"
        },
        "id": "NFy2oehAT4Di",
        "outputId": "0dc04857-fd4b-440f-a71b-08954f6e8c54"
      },
      "execution_count": 157,
      "outputs": [
        {
          "output_type": "execute_result",
          "data": {
            "text/plain": [
              "[('OTRO', 98.07),\n",
              " ('MACOS', 98.06),\n",
              " ('IOS DEVICE', 93.88),\n",
              " ('WINDOWS', 93.69),\n",
              " ('RV', 92.51)]"
            ]
          },
          "metadata": {},
          "execution_count": 157
        }
      ]
    },
    {
      "cell_type": "markdown",
      "source": [
        "Last five sistema legal respecto del promedio"
      ],
      "metadata": {
        "id": "ILuUDYA_ZBSD"
      }
    },
    {
      "cell_type": "code",
      "source": [
        "sistema.filter(lambda x: x[1] == 0).map(lambda x: (x[0], x[3])).takeOrdered(5, lambda x: x[1])"
      ],
      "metadata": {
        "colab": {
          "base_uri": "https://localhost:8080/"
        },
        "id": "3NZZbXFGZM_p",
        "outputId": "e262234f-f552-4ae8-e443-89f849d03eb5"
      },
      "execution_count": 158,
      "outputs": [
        {
          "output_type": "execute_result",
          "data": {
            "text/plain": [
              "[('ZTE', 80.0),\n",
              " ('BUILD', 83.48),\n",
              " ('MOTO', 84.27),\n",
              " ('GT', 84.96),\n",
              " ('ALCATEL', 86.79)]"
            ]
          },
          "metadata": {},
          "execution_count": 158
        }
      ]
    },
    {
      "cell_type": "markdown",
      "source": [
        "Fraude por modelo"
      ],
      "metadata": {
        "id": "5MNEPs9TLKIb"
      }
    },
    {
      "cell_type": "code",
      "source": [
        "modelo = plataformas.map(lambda x: ((unicidad_modelo(x[1][0][2]), x[1][1]), 1)).reduceByKey(lambda a,b: a+b).map(lambda x: (x[0][0], (x[0][1], x[1])))"
      ],
      "metadata": {
        "id": "2fgz7Ns_LRrS"
      },
      "execution_count": 159,
      "outputs": []
    },
    {
      "cell_type": "code",
      "source": [
        "modelo_total = modelo.map(lambda x: (x[0], x[1][1])).reduceByKey(lambda a,b: a + b)"
      ],
      "metadata": {
        "id": "qa-BV47xAzOt"
      },
      "execution_count": 160,
      "outputs": []
    },
    {
      "cell_type": "code",
      "source": [
        "modelo = modelo.join(modelo_total).map(lambda x: (x[0], x[1][0][0], x[1][0][1], redondeo(x[1][0][1] * 100 / x[1][1], 2))).cache()"
      ],
      "metadata": {
        "id": "YuCpT1UbAy88"
      },
      "execution_count": 161,
      "outputs": []
    },
    {
      "cell_type": "code",
      "source": [
        "modelo.collect()"
      ],
      "metadata": {
        "colab": {
          "base_uri": "https://localhost:8080/"
        },
        "id": "oceJ93EcaBbU",
        "outputId": "ca1b6279-0ca4-4e1e-cd82-958e3f204734"
      },
      "execution_count": 162,
      "outputs": [
        {
          "output_type": "execute_result",
          "data": {
            "text/plain": [
              "[('ANDROID', 0, 358, 79.55),\n",
              " ('ANDROID', 1, 92, 20.44),\n",
              " ('FIREFOX', 0, 5830, 92.53),\n",
              " ('FIREFOX', 1, 470, 7.46),\n",
              " ('SAMSUNG', 0, 1758, 91.75),\n",
              " ('SAMSUNG', 1, 158, 8.24),\n",
              " ('NONE', 1, 88, 2.81),\n",
              " ('NONE', 0, 3037, 97.18),\n",
              " ('OTRO', 1, 231, 2.51),\n",
              " ('OTRO', 0, 8964, 97.48),\n",
              " ('CHROME', 0, 60081, 90.7),\n",
              " ('CHROME', 1, 6158, 9.29),\n",
              " ('EDGE', 0, 4624, 96.31),\n",
              " ('EDGE', 1, 177, 3.68),\n",
              " ('SAFARI', 0, 31151, 93.81),\n",
              " ('SAFARI', 1, 2052, 6.18),\n",
              " ('OPERA', 0, 207, 61.6),\n",
              " ('OPERA', 1, 129, 38.39)]"
            ]
          },
          "metadata": {},
          "execution_count": 162
        }
      ]
    },
    {
      "cell_type": "markdown",
      "source": [
        "Top three modelo fraudulento respecto de la cantidad"
      ],
      "metadata": {
        "id": "1KOW6UzuXfaY"
      }
    },
    {
      "cell_type": "code",
      "source": [
        "modelo.filter(lambda x: x[1] == 1).map(lambda x: (x[0], x[2])).takeOrdered(3, lambda x: -x[1])"
      ],
      "metadata": {
        "colab": {
          "base_uri": "https://localhost:8080/"
        },
        "id": "k1NGbg6gLc78",
        "outputId": "d705d7e4-fd51-4f99-f48f-e3dff61869ff"
      },
      "execution_count": 163,
      "outputs": [
        {
          "output_type": "execute_result",
          "data": {
            "text/plain": [
              "[('CHROME', 6158), ('SAFARI', 2052), ('FIREFOX', 470)]"
            ]
          },
          "metadata": {},
          "execution_count": 163
        }
      ]
    },
    {
      "cell_type": "markdown",
      "source": [
        "Last three modelo fraudulento respecto de la cantidad"
      ],
      "metadata": {
        "id": "DLkkONhqdsb1"
      }
    },
    {
      "cell_type": "code",
      "source": [
        "modelo.filter(lambda x: x[1] == 1).map(lambda x: (x[0], x[2])).takeOrdered(3, lambda x: x[1])"
      ],
      "metadata": {
        "colab": {
          "base_uri": "https://localhost:8080/"
        },
        "id": "JfzMUZcPdupb",
        "outputId": "104e5c91-a595-4fad-a83a-f8768f8ace7e"
      },
      "execution_count": 164,
      "outputs": [
        {
          "output_type": "execute_result",
          "data": {
            "text/plain": [
              "[('NONE', 88), ('ANDROID', 92), ('OPERA', 129)]"
            ]
          },
          "metadata": {},
          "execution_count": 164
        }
      ]
    },
    {
      "cell_type": "markdown",
      "source": [
        "Top three modelo legal respecto de la cantidad"
      ],
      "metadata": {
        "id": "sHLXFDQpbfw2"
      }
    },
    {
      "cell_type": "code",
      "source": [
        "modelo.filter(lambda x: x[1] == 0).map(lambda x: (x[0], x[2])).takeOrdered(3, lambda x: -x[1])"
      ],
      "metadata": {
        "colab": {
          "base_uri": "https://localhost:8080/"
        },
        "id": "Yh4WlKaOWFpA",
        "outputId": "dd79a01c-32f6-46a0-ceb0-2acdd1ee9349"
      },
      "execution_count": 165,
      "outputs": [
        {
          "output_type": "execute_result",
          "data": {
            "text/plain": [
              "[('CHROME', 60081), ('SAFARI', 31151), ('OTRO', 8964)]"
            ]
          },
          "metadata": {},
          "execution_count": 165
        }
      ]
    },
    {
      "cell_type": "markdown",
      "source": [
        "Last three modelo legal respecto de la cantidad"
      ],
      "metadata": {
        "id": "yGg9N_8ed211"
      }
    },
    {
      "cell_type": "code",
      "source": [
        "modelo.filter(lambda x: x[1] == 0).map(lambda x: (x[0], x[2])).takeOrdered(3, lambda x: x[1])"
      ],
      "metadata": {
        "colab": {
          "base_uri": "https://localhost:8080/"
        },
        "id": "IcQDbTFXd6Cd",
        "outputId": "16f1031f-d68e-4d99-8f7d-8ccfc5174420"
      },
      "execution_count": 166,
      "outputs": [
        {
          "output_type": "execute_result",
          "data": {
            "text/plain": [
              "[('OPERA', 207), ('ANDROID', 358), ('SAMSUNG', 1758)]"
            ]
          },
          "metadata": {},
          "execution_count": 166
        }
      ]
    },
    {
      "cell_type": "markdown",
      "source": [
        "Top three modelo fraudulento respecto del promedio"
      ],
      "metadata": {
        "id": "Ie0oX5OHXhgQ"
      }
    },
    {
      "cell_type": "code",
      "source": [
        "modelo.filter(lambda x: x[1] == 1).map(lambda x: (x[0], x[3])).takeOrdered(3, lambda x: -x[1])"
      ],
      "metadata": {
        "colab": {
          "base_uri": "https://localhost:8080/"
        },
        "id": "2heASHJhb0MM",
        "outputId": "e8fec408-d28d-447c-d1cc-4399b5593ad2"
      },
      "execution_count": 167,
      "outputs": [
        {
          "output_type": "execute_result",
          "data": {
            "text/plain": [
              "[('OPERA', 38.39), ('ANDROID', 20.44), ('CHROME', 9.29)]"
            ]
          },
          "metadata": {},
          "execution_count": 167
        }
      ]
    },
    {
      "cell_type": "markdown",
      "source": [
        "Last three modelo fraudulento respecto del promedio"
      ],
      "metadata": {
        "id": "FIwY8RHvekt9"
      }
    },
    {
      "cell_type": "code",
      "source": [
        "modelo.filter(lambda x: x[1] == 1).map(lambda x: (x[0], x[3])).takeOrdered(3, lambda x: x[1])"
      ],
      "metadata": {
        "colab": {
          "base_uri": "https://localhost:8080/"
        },
        "id": "ekXLNmvOeoKD",
        "outputId": "858e415b-578e-4d03-b79e-05d91f704cb7"
      },
      "execution_count": 168,
      "outputs": [
        {
          "output_type": "execute_result",
          "data": {
            "text/plain": [
              "[('OTRO', 2.51), ('NONE', 2.81), ('EDGE', 3.68)]"
            ]
          },
          "metadata": {},
          "execution_count": 168
        }
      ]
    },
    {
      "cell_type": "markdown",
      "source": [
        "Top three modelo legal respecto del promedio"
      ],
      "metadata": {
        "id": "aigT54Qvb1Al"
      }
    },
    {
      "cell_type": "code",
      "source": [
        "modelo.filter(lambda x: x[1] == 0).map(lambda x: (x[0], x[3])).takeOrdered(3, lambda x: -x[1])"
      ],
      "metadata": {
        "colab": {
          "base_uri": "https://localhost:8080/"
        },
        "id": "ZkkMRrRJcILM",
        "outputId": "123d3871-4b17-4e8d-b8e6-68a0c493efb5"
      },
      "execution_count": 169,
      "outputs": [
        {
          "output_type": "execute_result",
          "data": {
            "text/plain": [
              "[('OTRO', 97.48), ('NONE', 97.18), ('EDGE', 96.31)]"
            ]
          },
          "metadata": {},
          "execution_count": 169
        }
      ]
    },
    {
      "cell_type": "markdown",
      "source": [
        "Last three modelo legal respecto del promedio"
      ],
      "metadata": {
        "id": "r4uXhMd3e0QO"
      }
    },
    {
      "cell_type": "code",
      "source": [
        "modelo.filter(lambda x: x[1] == 1).map(lambda x: (x[0], x[3])).takeOrdered(3, lambda x: x[1])"
      ],
      "metadata": {
        "colab": {
          "base_uri": "https://localhost:8080/"
        },
        "id": "btZBbq3Ge7F7",
        "outputId": "0e57c4ed-9886-4a72-a3f2-67b5017f06d0"
      },
      "execution_count": 170,
      "outputs": [
        {
          "output_type": "execute_result",
          "data": {
            "text/plain": [
              "[('OTRO', 2.51), ('NONE', 2.81), ('EDGE', 3.68)]"
            ]
          },
          "metadata": {},
          "execution_count": 170
        }
      ]
    },
    {
      "cell_type": "markdown",
      "source": [
        "Fraudes de tarjetas"
      ],
      "metadata": {
        "id": "Jj0kqpapkeX5"
      }
    },
    {
      "cell_type": "code",
      "source": [
        "tarjetas = transactions_rdd.map(lambda x: ((x.feat_card_4, x.target), 1)).reduceByKey(lambda a,b: a + b).map(lambda x: (x[0][0], (x[0][1], x[1])))"
      ],
      "metadata": {
        "id": "8e8jrPVoYvux"
      },
      "execution_count": 171,
      "outputs": []
    },
    {
      "cell_type": "code",
      "source": [
        "tarjetas_total = tarjetas.map(lambda x: (x[0], x[1][1])).reduceByKey(lambda a,b: a + b)"
      ],
      "metadata": {
        "id": "AUOLT3Z_r4bV"
      },
      "execution_count": 172,
      "outputs": []
    },
    {
      "cell_type": "code",
      "source": [
        "tarjetas = tarjetas.join(tarjetas_total).map(lambda x: (x[0], x[1][0][0], x[1][0][1], redondeo(x[1][0][1] * 100 / x[1][1], 2))).cache()"
      ],
      "metadata": {
        "id": "NozaOQgLtcNq"
      },
      "execution_count": 173,
      "outputs": []
    },
    {
      "cell_type": "code",
      "source": [
        "tarjetas.collect()"
      ],
      "metadata": {
        "colab": {
          "base_uri": "https://localhost:8080/"
        },
        "id": "_H8jQQsdgthT",
        "outputId": "5f929d5c-e4cf-4063-8c15-3b95bf54b039"
      },
      "execution_count": 174,
      "outputs": [
        {
          "output_type": "execute_result",
          "data": {
            "text/plain": [
              "[(None, 1, 26, 3.12),\n",
              " (None, 0, 807, 96.87),\n",
              " ('discover', 0, 5291, 92.4),\n",
              " ('discover', 1, 435, 7.59),\n",
              " ('american express', 1, 218, 2.9),\n",
              " ('american express', 0, 7274, 97.09),\n",
              " ('visa', 1, 11327, 3.45),\n",
              " ('visa', 0, 316498, 96.54),\n",
              " ('mastercard', 0, 154509, 96.51),\n",
              " ('mastercard', 1, 5574, 3.48)]"
            ]
          },
          "metadata": {},
          "execution_count": 174
        }
      ]
    },
    {
      "cell_type": "markdown",
      "source": [
        "Cantidad legal de tarjeta"
      ],
      "metadata": {
        "id": "lSg2Zd7Nki-_"
      }
    },
    {
      "cell_type": "code",
      "source": [
        "tarjetas.filter(lambda x: x[1] == 1).map(lambda x: (x[0], x[2])).takeOrdered(5, lambda x: -x[1])"
      ],
      "metadata": {
        "colab": {
          "base_uri": "https://localhost:8080/"
        },
        "id": "t2JTMyCOa-e_",
        "outputId": "56bb8890-213d-4c6b-bbe5-e1741f5b617f"
      },
      "execution_count": 175,
      "outputs": [
        {
          "output_type": "execute_result",
          "data": {
            "text/plain": [
              "[('visa', 11327),\n",
              " ('mastercard', 5574),\n",
              " ('discover', 435),\n",
              " ('american express', 218),\n",
              " (None, 26)]"
            ]
          },
          "metadata": {},
          "execution_count": 175
        }
      ]
    },
    {
      "cell_type": "markdown",
      "source": [
        "Cantidad legal de tarjeta"
      ],
      "metadata": {
        "id": "OzxzFPvHqNVK"
      }
    },
    {
      "cell_type": "code",
      "source": [
        "tarjetas.filter(lambda x: x[1] == 0).map(lambda x: (x[0], x[2])).takeOrdered(5, lambda x: -x[1])"
      ],
      "metadata": {
        "colab": {
          "base_uri": "https://localhost:8080/"
        },
        "id": "Ca5dtCmEqgn_",
        "outputId": "db7e7d14-debd-4b8a-cc78-0c47165b7318"
      },
      "execution_count": 176,
      "outputs": [
        {
          "output_type": "execute_result",
          "data": {
            "text/plain": [
              "[('visa', 316498),\n",
              " ('mastercard', 154509),\n",
              " ('american express', 7274),\n",
              " ('discover', 5291),\n",
              " (None, 807)]"
            ]
          },
          "metadata": {},
          "execution_count": 176
        }
      ]
    },
    {
      "cell_type": "markdown",
      "source": [
        "Promedio fraudulento de tarjeta"
      ],
      "metadata": {
        "id": "D8M_AVgBkpmA"
      }
    },
    {
      "cell_type": "code",
      "source": [
        "tarjetas.filter(lambda x: x[1] == 1).map(lambda x: (x[0], x[3])).takeOrdered(5, lambda x: -x[1])"
      ],
      "metadata": {
        "colab": {
          "base_uri": "https://localhost:8080/"
        },
        "id": "OVvNA-9tbCSH",
        "outputId": "25d93878-6971-4e76-8ef5-8385f9adf404"
      },
      "execution_count": 177,
      "outputs": [
        {
          "output_type": "execute_result",
          "data": {
            "text/plain": [
              "[('discover', 7.59),\n",
              " ('mastercard', 3.48),\n",
              " ('visa', 3.45),\n",
              " (None, 3.12),\n",
              " ('american express', 2.9)]"
            ]
          },
          "metadata": {},
          "execution_count": 177
        }
      ]
    },
    {
      "cell_type": "markdown",
      "source": [
        "Promedio legal de tarjeta"
      ],
      "metadata": {
        "id": "vIMrmcXS1vsT"
      }
    },
    {
      "cell_type": "code",
      "source": [
        "tarjetas.filter(lambda x: x[1] == 0).map(lambda x: (x[0], x[3])).takeOrdered(5, lambda x: -x[1])"
      ],
      "metadata": {
        "colab": {
          "base_uri": "https://localhost:8080/"
        },
        "id": "D3M-qzvS1xd8",
        "outputId": "9f66bf34-179d-4334-c3b6-38d2783a1ec4"
      },
      "execution_count": 178,
      "outputs": [
        {
          "output_type": "execute_result",
          "data": {
            "text/plain": [
              "[('american express', 97.09),\n",
              " (None, 96.87),\n",
              " ('visa', 96.54),\n",
              " ('mastercard', 96.51),\n",
              " ('discover', 92.4)]"
            ]
          },
          "metadata": {},
          "execution_count": 178
        }
      ]
    },
    {
      "cell_type": "markdown",
      "source": [
        "Fraude por tipo de pago"
      ],
      "metadata": {
        "id": "2LUf6PuTmcFy"
      }
    },
    {
      "cell_type": "code",
      "source": [
        "banco = transactions_rdd.map(lambda x: ((x.feat_card_6, x.target), 1)).reduceByKey(lambda a,b: a + b).map(lambda x: (x[0][0], (x[0][1], x[1])))"
      ],
      "metadata": {
        "id": "S3XGYI4FlGIg"
      },
      "execution_count": 179,
      "outputs": []
    },
    {
      "cell_type": "code",
      "source": [
        "banco_total = banco.map(lambda x: (x[0], x[1][1])).reduceByKey(lambda a,b: a + b)"
      ],
      "metadata": {
        "id": "l1haCoplDdCQ"
      },
      "execution_count": 180,
      "outputs": []
    },
    {
      "cell_type": "code",
      "source": [
        "banco = banco.join(banco_total).map(lambda x: (x[0], x[1][0][0], x[1][0][1], redondeo(x[1][0][1] * 100 / x[1][1], 2))).cache()"
      ],
      "metadata": {
        "id": "ylKK0LWyDc5q"
      },
      "execution_count": 181,
      "outputs": []
    },
    {
      "cell_type": "code",
      "source": [
        "banco.collect()"
      ],
      "metadata": {
        "colab": {
          "base_uri": "https://localhost:8080/"
        },
        "id": "qfUgoDRIDcv2",
        "outputId": "439199e6-1f6a-40b1-f9f0-425f125875bc"
      },
      "execution_count": 182,
      "outputs": [
        {
          "output_type": "execute_result",
          "data": {
            "text/plain": [
              "[('charge card', 0, 15, 100.0),\n",
              " (None, 1, 24, 2.89),\n",
              " (None, 0, 804, 97.1),\n",
              " ('credit', 1, 8626, 6.72),\n",
              " ('credit', 0, 119575, 93.27),\n",
              " ('debit', 1, 8930, 2.39),\n",
              " ('debit', 0, 363955, 97.6),\n",
              " ('debit or credit', 0, 30, 100.0)]"
            ]
          },
          "metadata": {},
          "execution_count": 182
        }
      ]
    },
    {
      "cell_type": "markdown",
      "source": [
        "Máxima cantidad de tipo de pago fraudulento"
      ],
      "metadata": {
        "id": "Spenog_PmgnA"
      }
    },
    {
      "cell_type": "code",
      "source": [
        "banco.filter(lambda x: x[1] == 1).map(lambda x: (x[0], x[2])).sortBy(lambda x: -x[1]).collect()"
      ],
      "metadata": {
        "colab": {
          "base_uri": "https://localhost:8080/"
        },
        "id": "T-cbb9vFmQFB",
        "outputId": "da9d5ad6-781f-4afa-90a2-3a0f83289ceb"
      },
      "execution_count": 183,
      "outputs": [
        {
          "output_type": "execute_result",
          "data": {
            "text/plain": [
              "[('debit', 8930), ('credit', 8626), (None, 24)]"
            ]
          },
          "metadata": {},
          "execution_count": 183
        }
      ]
    },
    {
      "cell_type": "markdown",
      "source": [
        "Máxima cantidad de tipo de pago legal"
      ],
      "metadata": {
        "id": "YQ95loSBEd83"
      }
    },
    {
      "cell_type": "code",
      "source": [
        "banco.filter(lambda x: x[1] == 0).map(lambda x: (x[0], x[2])).sortBy(lambda x: -x[1]).collect()"
      ],
      "metadata": {
        "colab": {
          "base_uri": "https://localhost:8080/"
        },
        "id": "CaophkYoEkEm",
        "outputId": "4f8b71f0-fd16-405b-e9f8-34dcc01a46ed"
      },
      "execution_count": 184,
      "outputs": [
        {
          "output_type": "execute_result",
          "data": {
            "text/plain": [
              "[('debit', 363955),\n",
              " ('credit', 119575),\n",
              " (None, 804),\n",
              " ('debit or credit', 30),\n",
              " ('charge card', 15)]"
            ]
          },
          "metadata": {},
          "execution_count": 184
        }
      ]
    },
    {
      "cell_type": "markdown",
      "source": [
        "Máximo promodio por tipo de pago fraudulento"
      ],
      "metadata": {
        "id": "gqn1BoubmlZj"
      }
    },
    {
      "cell_type": "code",
      "source": [
        "banco.filter(lambda x: x[1] == 1).map(lambda x: (x[0], x[3])).sortBy(lambda x: -x[1]).collect()"
      ],
      "metadata": {
        "colab": {
          "base_uri": "https://localhost:8080/"
        },
        "id": "OsiBWEaJmP53",
        "outputId": "e0e87e73-ff07-42bb-b2c3-733927cee269"
      },
      "execution_count": 185,
      "outputs": [
        {
          "output_type": "execute_result",
          "data": {
            "text/plain": [
              "[('credit', 6.72), (None, 2.89), ('debit', 2.39)]"
            ]
          },
          "metadata": {},
          "execution_count": 185
        }
      ]
    },
    {
      "cell_type": "markdown",
      "source": [
        "Máximo promodio por tipo de pago legal (El 100% se debe a que son solamente legales)"
      ],
      "metadata": {
        "id": "F3Fo-O0OEtR-"
      }
    },
    {
      "cell_type": "code",
      "source": [
        "banco.filter(lambda x: x[1] == 0).map(lambda x: (x[0], x[3])).sortBy(lambda x: -x[1]).collect()"
      ],
      "metadata": {
        "colab": {
          "base_uri": "https://localhost:8080/"
        },
        "id": "4QOw3KMKEu6Q",
        "outputId": "bac5dca6-86eb-4408-861e-33c1e736fa3a"
      },
      "execution_count": 186,
      "outputs": [
        {
          "output_type": "execute_result",
          "data": {
            "text/plain": [
              "[('charge card', 100.0),\n",
              " ('debit or credit', 100.0),\n",
              " ('debit', 97.6),\n",
              " (None, 97.1),\n",
              " ('credit', 93.27)]"
            ]
          },
          "metadata": {},
          "execution_count": 186
        }
      ]
    },
    {
      "cell_type": "markdown",
      "source": [
        "Fraude segun el correo"
      ],
      "metadata": {
        "id": "TnJpHu0toBCH"
      }
    },
    {
      "cell_type": "code",
      "source": [
        "def unicidad_correo(string) -> str:\n",
        "  if string == None:\n",
        "    return \"none\"\n",
        "  lista = [\"yahoo\", \"gmail\", \"hotmail\", \"outlook\", \"live\"]\n",
        "  for correo in lista:\n",
        "    match string.lower().find(correo):\n",
        "      case -1:\n",
        "        continue\n",
        "      case _:\n",
        "        return f\"{correo}.com\"\n",
        "  return string"
      ],
      "metadata": {
        "id": "0eXuzCSon8Qo"
      },
      "execution_count": 187,
      "outputs": []
    },
    {
      "cell_type": "markdown",
      "source": [
        "Correo comprador"
      ],
      "metadata": {
        "id": "cIJYQibPRHDo"
      }
    },
    {
      "cell_type": "code",
      "source": [
        "correo_comprador = transactions_rdd.map(lambda x: ((unicidad_correo(x.payer_email_domain), x.target), 1)).reduceByKey(lambda a,b: a + b)\\\n",
        ".map(lambda x: (x[0][0], (x[0][1], x[1])))"
      ],
      "metadata": {
        "id": "-oVi6a1InMcf"
      },
      "execution_count": 188,
      "outputs": []
    },
    {
      "cell_type": "code",
      "source": [
        "correo_comprador_total = correo_comprador.map(lambda x: (x[0], x[1][1])).reduceByKey(lambda a,b: a + b)"
      ],
      "metadata": {
        "id": "NcEwo9_qFoM_"
      },
      "execution_count": 189,
      "outputs": []
    },
    {
      "cell_type": "code",
      "source": [
        "correo_comprador = correo_comprador.join(correo_comprador_total).map(lambda x: (x[0], x[1][0][0], x[1][0][1], redondeo(x[1][0][1] * 100 / x[1][1], 2))).cache()"
      ],
      "metadata": {
        "id": "aZNVwaeEGAb-"
      },
      "execution_count": 190,
      "outputs": []
    },
    {
      "cell_type": "code",
      "source": [
        "correo_comprador.collect()"
      ],
      "metadata": {
        "colab": {
          "base_uri": "https://localhost:8080/"
        },
        "id": "iIlaxD_PGF_X",
        "outputId": "4c3e2a7c-3f78-4ad2-9e4f-2f26bdd4cd65"
      },
      "execution_count": 191,
      "outputs": [
        {
          "output_type": "execute_result",
          "data": {
            "text/plain": [
              "[('cfl.rr.com', 0, 142, 100.0),\n",
              " ('msn.com', 1, 62, 1.76),\n",
              " ('msn.com', 0, 3445, 98.23),\n",
              " ('centurylink.net', 0, 174, 100.0),\n",
              " ('none', 1, 2346, 2.99),\n",
              " ('none', 0, 76080, 97.0),\n",
              " ('q.com', 0, 162, 100.0),\n",
              " ('mac.com', 0, 365, 97.07),\n",
              " ('mac.com', 1, 11, 2.92),\n",
              " ('embarqmail.com', 1, 7, 3.08),\n",
              " ('embarqmail.com', 0, 220, 96.91),\n",
              " ('bellsouth.net', 0, 1639, 97.21),\n",
              " ('bellsouth.net', 1, 47, 2.78),\n",
              " ('ptd.net', 0, 62, 100.0),\n",
              " ('suddenlink.net', 1, 4, 3.27),\n",
              " ('suddenlink.net', 0, 118, 96.72),\n",
              " ('protonmail.com', 1, 31, 45.58),\n",
              " ('protonmail.com', 0, 37, 54.41),\n",
              " ('optonline.net', 1, 17, 1.93),\n",
              " ('optonline.net', 0, 863, 98.06),\n",
              " ('servicios-ta.com', 0, 28, 100.0),\n",
              " ('outlook.com', 0, 4256, 90.51),\n",
              " ('outlook.com', 1, 446, 9.48),\n",
              " ('anonymous.com', 0, 31024, 97.69),\n",
              " ('anonymous.com', 1, 731, 2.3),\n",
              " ('icloud.com', 0, 5146, 96.76),\n",
              " ('icloud.com', 1, 172, 3.23),\n",
              " ('frontier.com', 0, 241, 99.58),\n",
              " ('frontier.com', 1, 1, 0.41),\n",
              " ('aol.com', 0, 23522, 97.73),\n",
              " ('aol.com', 1, 545, 2.26),\n",
              " ('ymail.com', 1, 45, 2.21),\n",
              " ('ymail.com', 0, 1984, 97.78),\n",
              " ('cox.net', 1, 24, 1.99),\n",
              " ('cox.net', 0, 1177, 98.0),\n",
              " ('yahoo.com', 1, 1989, 2.26),\n",
              " ('yahoo.com', 0, 85789, 97.73),\n",
              " ('me.com', 1, 19, 1.42),\n",
              " ('me.com', 0, 1315, 98.57),\n",
              " ('sc.rr.com', 1, 1, 0.73),\n",
              " ('sc.rr.com', 0, 135, 99.26),\n",
              " ('sbcglobal.net', 1, 11, 0.42),\n",
              " ('sbcglobal.net', 0, 2549, 99.57),\n",
              " ('comcast.net', 0, 6677, 97.04),\n",
              " ('comcast.net', 1, 203, 2.95),\n",
              " ('twc.com', 0, 203, 100.0),\n",
              " ('earthlink.net', 0, 433, 98.63),\n",
              " ('earthlink.net', 1, 6, 1.36),\n",
              " ('verizon.net', 0, 2364, 99.36),\n",
              " ('verizon.net', 1, 15, 0.63),\n",
              " ('rocketmail.com', 1, 2, 0.35),\n",
              " ('rocketmail.com', 0, 559, 99.64),\n",
              " ('gmail.com', 1, 8511, 4.37),\n",
              " ('gmail.com', 0, 186133, 95.62),\n",
              " ('windstream.net', 0, 240, 100.0),\n",
              " ('netzero.com', 0, 202, 100.0),\n",
              " ('hotmail.com', 0, 37730, 94.87),\n",
              " ('hotmail.com', 1, 2038, 5.12),\n",
              " ('frontiernet.net', 1, 5, 3.06),\n",
              " ('frontiernet.net', 0, 158, 96.93),\n",
              " ('mail.com', 0, 385, 80.04),\n",
              " ('mail.com', 1, 96, 19.95),\n",
              " ('charter.net', 0, 701, 97.76),\n",
              " ('charter.net', 1, 16, 2.23),\n",
              " ('juno.com', 0, 281, 97.9),\n",
              " ('juno.com', 1, 6, 2.09),\n",
              " ('web.de', 0, 201, 100.0),\n",
              " ('live.com', 1, 103, 3.13),\n",
              " ('live.com', 0, 3185, 96.86),\n",
              " ('aim.com', 0, 246, 86.01),\n",
              " ('aim.com', 1, 40, 13.98),\n",
              " ('netzero.net', 1, 1, 0.58),\n",
              " ('netzero.net', 0, 169, 99.41),\n",
              " ('roadrunner.com', 1, 3, 1.17),\n",
              " ('roadrunner.com', 0, 253, 98.82),\n",
              " ('gmx.de', 0, 124, 100.0),\n",
              " ('prodigy.net.mx', 1, 1, 0.54),\n",
              " ('prodigy.net.mx', 0, 183, 99.45),\n",
              " ('att.net', 1, 22, 0.65),\n",
              " ('att.net', 0, 3344, 99.34),\n",
              " ('cableone.net', 0, 135, 97.82),\n",
              " ('cableone.net', 1, 3, 2.17)]"
            ]
          },
          "metadata": {},
          "execution_count": 191
        }
      ]
    },
    {
      "cell_type": "markdown",
      "source": [
        "Top ten cantidad de correo fraudulento"
      ],
      "metadata": {
        "id": "p0OMAIMOox_w"
      }
    },
    {
      "cell_type": "code",
      "source": [
        "correo_comprador.filter(lambda x: x[1] == 1).map(lambda x: (x[0], x[2])).takeOrdered(10, lambda x: -x[1])"
      ],
      "metadata": {
        "colab": {
          "base_uri": "https://localhost:8080/"
        },
        "id": "Jm-K0gLLopwl",
        "outputId": "7526cc0b-ff39-448b-c63a-efc5030d873a"
      },
      "execution_count": 192,
      "outputs": [
        {
          "output_type": "execute_result",
          "data": {
            "text/plain": [
              "[('gmail.com', 8511),\n",
              " ('none', 2346),\n",
              " ('hotmail.com', 2038),\n",
              " ('yahoo.com', 1989),\n",
              " ('anonymous.com', 731),\n",
              " ('aol.com', 545),\n",
              " ('outlook.com', 446),\n",
              " ('comcast.net', 203),\n",
              " ('icloud.com', 172),\n",
              " ('live.com', 103)]"
            ]
          },
          "metadata": {},
          "execution_count": 192
        }
      ]
    },
    {
      "cell_type": "markdown",
      "source": [
        "Last ten cantidad de correo fraudulento"
      ],
      "metadata": {
        "id": "gruPnPawHr5o"
      }
    },
    {
      "cell_type": "code",
      "source": [
        "correo_comprador.filter(lambda x: x[1] == 1).map(lambda x: (x[0], x[2])).takeOrdered(10, lambda x: x[1])"
      ],
      "metadata": {
        "colab": {
          "base_uri": "https://localhost:8080/"
        },
        "id": "GVhSaAWLHtky",
        "outputId": "22e8a107-7699-4572-d903-e93d55004750"
      },
      "execution_count": 193,
      "outputs": [
        {
          "output_type": "execute_result",
          "data": {
            "text/plain": [
              "[('frontier.com', 1),\n",
              " ('sc.rr.com', 1),\n",
              " ('netzero.net', 1),\n",
              " ('prodigy.net.mx', 1),\n",
              " ('rocketmail.com', 2),\n",
              " ('roadrunner.com', 3),\n",
              " ('cableone.net', 3),\n",
              " ('suddenlink.net', 4),\n",
              " ('frontiernet.net', 5),\n",
              " ('earthlink.net', 6)]"
            ]
          },
          "metadata": {},
          "execution_count": 193
        }
      ]
    },
    {
      "cell_type": "markdown",
      "source": [
        "Top ten cantidad de correo legal"
      ],
      "metadata": {
        "id": "eb82hxDtHlN_"
      }
    },
    {
      "cell_type": "code",
      "source": [
        "correo_comprador.filter(lambda x: x[1] == 0).map(lambda x: (x[0], x[2])).takeOrdered(10, lambda x: -x[1])"
      ],
      "metadata": {
        "colab": {
          "base_uri": "https://localhost:8080/"
        },
        "id": "qML8IJs7Hkjw",
        "outputId": "04eafe03-4a9a-4f61-a916-57faa085d09c"
      },
      "execution_count": 194,
      "outputs": [
        {
          "output_type": "execute_result",
          "data": {
            "text/plain": [
              "[('gmail.com', 186133),\n",
              " ('yahoo.com', 85789),\n",
              " ('none', 76080),\n",
              " ('hotmail.com', 37730),\n",
              " ('anonymous.com', 31024),\n",
              " ('aol.com', 23522),\n",
              " ('comcast.net', 6677),\n",
              " ('icloud.com', 5146),\n",
              " ('outlook.com', 4256),\n",
              " ('msn.com', 3445)]"
            ]
          },
          "metadata": {},
          "execution_count": 194
        }
      ]
    },
    {
      "cell_type": "markdown",
      "source": [
        "Last ten cantidad de correo legal"
      ],
      "metadata": {
        "id": "Lt68hvvuH0wK"
      }
    },
    {
      "cell_type": "code",
      "source": [
        "correo_comprador.filter(lambda x: x[1] == 0).map(lambda x: (x[0], x[2])).takeOrdered(10, lambda x: x[1])"
      ],
      "metadata": {
        "colab": {
          "base_uri": "https://localhost:8080/"
        },
        "id": "GHkt5TwUIAd2",
        "outputId": "b5a9efc5-0ea5-4120-866b-3d4b33407c3a"
      },
      "execution_count": 195,
      "outputs": [
        {
          "output_type": "execute_result",
          "data": {
            "text/plain": [
              "[('servicios-ta.com', 28),\n",
              " ('protonmail.com', 37),\n",
              " ('ptd.net', 62),\n",
              " ('suddenlink.net', 118),\n",
              " ('gmx.de', 124),\n",
              " ('sc.rr.com', 135),\n",
              " ('cableone.net', 135),\n",
              " ('cfl.rr.com', 142),\n",
              " ('frontiernet.net', 158),\n",
              " ('q.com', 162)]"
            ]
          },
          "metadata": {},
          "execution_count": 195
        }
      ]
    },
    {
      "cell_type": "markdown",
      "source": [
        "Top ten promedio de correo fraudulento"
      ],
      "metadata": {
        "id": "aNo-Hxc0o1k4"
      }
    },
    {
      "cell_type": "code",
      "source": [
        "correo_comprador.filter(lambda x: x[1] == 1).map(lambda x: (x[0], x[3])).takeOrdered(10, lambda x: -x[1])"
      ],
      "metadata": {
        "colab": {
          "base_uri": "https://localhost:8080/"
        },
        "id": "9k_lmydNokHX",
        "outputId": "01f6f2e0-1f10-4ea3-8200-5e4f75d4633a"
      },
      "execution_count": 196,
      "outputs": [
        {
          "output_type": "execute_result",
          "data": {
            "text/plain": [
              "[('protonmail.com', 45.58),\n",
              " ('mail.com', 19.95),\n",
              " ('aim.com', 13.98),\n",
              " ('outlook.com', 9.48),\n",
              " ('hotmail.com', 5.12),\n",
              " ('gmail.com', 4.37),\n",
              " ('suddenlink.net', 3.27),\n",
              " ('icloud.com', 3.23),\n",
              " ('live.com', 3.13),\n",
              " ('embarqmail.com', 3.08)]"
            ]
          },
          "metadata": {},
          "execution_count": 196
        }
      ]
    },
    {
      "cell_type": "markdown",
      "source": [
        "Last ten promedio de correo fraudulento"
      ],
      "metadata": {
        "id": "nSrWlRpMIV7_"
      }
    },
    {
      "cell_type": "code",
      "source": [
        "correo_comprador.filter(lambda x: x[1] == 1).map(lambda x: (x[0], x[3])).takeOrdered(10, lambda x: x[1])"
      ],
      "metadata": {
        "colab": {
          "base_uri": "https://localhost:8080/"
        },
        "id": "DFRfIPn3IYXW",
        "outputId": "beca1e46-142c-4526-c7ea-f4bc05a86c4e"
      },
      "execution_count": 197,
      "outputs": [
        {
          "output_type": "execute_result",
          "data": {
            "text/plain": [
              "[('rocketmail.com', 0.35),\n",
              " ('frontier.com', 0.41),\n",
              " ('sbcglobal.net', 0.42),\n",
              " ('prodigy.net.mx', 0.54),\n",
              " ('netzero.net', 0.58),\n",
              " ('verizon.net', 0.63),\n",
              " ('att.net', 0.65),\n",
              " ('sc.rr.com', 0.73),\n",
              " ('roadrunner.com', 1.17),\n",
              " ('earthlink.net', 1.36)]"
            ]
          },
          "metadata": {},
          "execution_count": 197
        }
      ]
    },
    {
      "cell_type": "markdown",
      "source": [
        "Top ten promedio de correo legal (El 100% se debe a que son solamente legales)"
      ],
      "metadata": {
        "id": "BGQSE1uSIfGu"
      }
    },
    {
      "cell_type": "code",
      "source": [
        "correo_comprador.filter(lambda x: x[1] == 0).map(lambda x: (x[0], x[3])).takeOrdered(11, lambda x: -x[1])"
      ],
      "metadata": {
        "colab": {
          "base_uri": "https://localhost:8080/"
        },
        "id": "O4XGm4DGIjkw",
        "outputId": "2e26ae23-debb-44ff-e990-85e12c5e753d"
      },
      "execution_count": 198,
      "outputs": [
        {
          "output_type": "execute_result",
          "data": {
            "text/plain": [
              "[('cfl.rr.com', 100.0),\n",
              " ('centurylink.net', 100.0),\n",
              " ('q.com', 100.0),\n",
              " ('ptd.net', 100.0),\n",
              " ('servicios-ta.com', 100.0),\n",
              " ('twc.com', 100.0),\n",
              " ('windstream.net', 100.0),\n",
              " ('netzero.com', 100.0),\n",
              " ('web.de', 100.0),\n",
              " ('gmx.de', 100.0),\n",
              " ('rocketmail.com', 99.64)]"
            ]
          },
          "metadata": {},
          "execution_count": 198
        }
      ]
    },
    {
      "cell_type": "markdown",
      "source": [
        "Last ten promedio de correo legal"
      ],
      "metadata": {
        "id": "aFFR-lSgIn1v"
      }
    },
    {
      "cell_type": "code",
      "source": [
        "correo_comprador.filter(lambda x: x[1] == 0).map(lambda x: (x[0], x[3])).takeOrdered(10, lambda x: x[1])"
      ],
      "metadata": {
        "colab": {
          "base_uri": "https://localhost:8080/"
        },
        "id": "0JRZsMF-Ir0g",
        "outputId": "b7c8b8df-4c54-4695-ff86-b1055f5ae0d6"
      },
      "execution_count": 199,
      "outputs": [
        {
          "output_type": "execute_result",
          "data": {
            "text/plain": [
              "[('protonmail.com', 54.41),\n",
              " ('mail.com', 80.04),\n",
              " ('aim.com', 86.01),\n",
              " ('outlook.com', 90.51),\n",
              " ('hotmail.com', 94.87),\n",
              " ('gmail.com', 95.62),\n",
              " ('suddenlink.net', 96.72),\n",
              " ('icloud.com', 96.76),\n",
              " ('live.com', 96.86),\n",
              " ('embarqmail.com', 96.91)]"
            ]
          },
          "metadata": {},
          "execution_count": 199
        }
      ]
    },
    {
      "cell_type": "markdown",
      "source": [
        "Correo vendedor"
      ],
      "metadata": {
        "id": "_Ri_8gruULCJ"
      }
    },
    {
      "cell_type": "code",
      "source": [
        "correo_vendedor = transactions_rdd.map(lambda x: ((unicidad_correo(x.receiver_email_domain), x.target), 1)).reduceByKey(lambda a,b: a + b)\\\n",
        ".map(lambda x: (x[0][0], (x[0][1], x[1])))"
      ],
      "metadata": {
        "id": "PomHXhgbSR4l"
      },
      "execution_count": 200,
      "outputs": []
    },
    {
      "cell_type": "code",
      "source": [
        "correo_vendedor_total = correo_vendedor.map(lambda x: (x[0], x[1][1])).reduceByKey(lambda a,b: a + b)"
      ],
      "metadata": {
        "id": "kPfbXcrXSRsl"
      },
      "execution_count": 201,
      "outputs": []
    },
    {
      "cell_type": "code",
      "source": [
        "correo_vendedor = correo_vendedor.join(correo_vendedor_total).map(lambda x: (x[0], x[1][0][0], x[1][0][1], redondeo(x[1][0][1] * 100 / x[1][1], 2))).cache()"
      ],
      "metadata": {
        "id": "EOsMBqnQSRh1"
      },
      "execution_count": 202,
      "outputs": []
    },
    {
      "cell_type": "code",
      "source": [
        "correo_vendedor.collect()"
      ],
      "metadata": {
        "colab": {
          "base_uri": "https://localhost:8080/"
        },
        "id": "aeR6s-NkSRX1",
        "outputId": "b5df47b0-cbb1-4d3f-b55d-c959c3400328"
      },
      "execution_count": 203,
      "outputs": [
        {
          "output_type": "execute_result",
          "data": {
            "text/plain": [
              "[('cfl.rr.com', 0, 35, 100.0),\n",
              " ('msn.com', 1, 1, 0.13),\n",
              " ('msn.com', 0, 733, 99.86),\n",
              " ('centurylink.net', 0, 11, 100.0),\n",
              " ('none', 1, 8105, 2.11),\n",
              " ('none', 0, 375081, 97.88),\n",
              " ('q.com', 0, 24, 100.0),\n",
              " ('mac.com', 0, 195, 100.0),\n",
              " ('bellsouth.net', 0, 378, 100.0),\n",
              " ('ptd.net', 0, 27, 100.0),\n",
              " ('embarqmail.com', 0, 59, 100.0),\n",
              " ('scranton.edu', 0, 57, 100.0),\n",
              " ('suddenlink.net', 1, 1, 4.34),\n",
              " ('suddenlink.net', 0, 22, 95.65),\n",
              " ('protonmail.com', 1, 38, 95.0),\n",
              " ('protonmail.com', 0, 2, 5.0),\n",
              " ('optonline.net', 1, 2, 1.19),\n",
              " ('optonline.net', 0, 166, 98.8),\n",
              " ('servicios-ta.com', 0, 28, 100.0),\n",
              " ('outlook.com', 0, 2125, 84.59),\n",
              " ('outlook.com', 1, 387, 15.4),\n",
              " ('anonymous.com', 0, 17669, 97.19),\n",
              " ('anonymous.com', 1, 509, 2.8),\n",
              " ('icloud.com', 0, 1042, 87.41),\n",
              " ('icloud.com', 1, 150, 12.58),\n",
              " ('frontier.com', 0, 47, 100.0),\n",
              " ('aol.com', 0, 3240, 96.37),\n",
              " ('aol.com', 1, 122, 3.62),\n",
              " ('ymail.com', 1, 8, 4.32),\n",
              " ('ymail.com', 0, 177, 95.67),\n",
              " ('cox.net', 1, 6, 1.47),\n",
              " ('cox.net', 0, 401, 98.52),\n",
              " ('yahoo.com', 1, 564, 5.2),\n",
              " ('yahoo.com', 0, 10268, 94.79),\n",
              " ('me.com', 1, 1, 0.2),\n",
              " ('me.com', 0, 497, 99.79),\n",
              " ('sc.rr.com', 0, 8, 100.0),\n",
              " ('sbcglobal.net', 1, 1, 0.2),\n",
              " ('sbcglobal.net', 0, 494, 99.79),\n",
              " ('comcast.net', 0, 1590, 98.69),\n",
              " ('comcast.net', 1, 21, 1.3),\n",
              " ('twc.com', 0, 25, 100.0),\n",
              " ('earthlink.net', 0, 65, 91.54),\n",
              " ('earthlink.net', 1, 6, 8.45),\n",
              " ('verizon.net', 0, 563, 100.0),\n",
              " ('rocketmail.com', 1, 2, 3.7),\n",
              " ('rocketmail.com', 0, 52, 96.29),\n",
              " ('gmail.com', 1, 5731, 11.55),\n",
              " ('gmail.com', 0, 43850, 88.44),\n",
              " ('windstream.net', 0, 45, 100.0),\n",
              " ('netzero.com', 0, 13, 100.0),\n",
              " ('hotmail.com', 0, 22825, 92.64),\n",
              " ('hotmail.com', 1, 1812, 7.35),\n",
              " ('charter.net', 0, 108, 95.57),\n",
              " ('charter.net', 1, 5, 4.42),\n",
              " ('juno.com', 0, 50, 100.0),\n",
              " ('mail.com', 0, 73, 61.34),\n",
              " ('mail.com', 1, 46, 38.65),\n",
              " ('web.de', 0, 198, 100.0),\n",
              " ('frontiernet.net', 0, 13, 100.0),\n",
              " ('live.com', 1, 59, 4.27),\n",
              " ('live.com', 0, 1321, 95.72),\n",
              " ('aim.com', 0, 31, 96.87),\n",
              " ('aim.com', 1, 1, 3.12),\n",
              " ('netzero.net', 1, 1, 12.5),\n",
              " ('netzero.net', 0, 7, 87.5),\n",
              " ('gmx.de', 0, 122, 100.0),\n",
              " ('prodigy.net.mx', 1, 1, 0.54),\n",
              " ('prodigy.net.mx', 0, 183, 99.45),\n",
              " ('cableone.net', 0, 24, 100.0),\n",
              " ('att.net', 0, 389, 100.0),\n",
              " ('roadrunner.com', 0, 46, 100.0)]"
            ]
          },
          "metadata": {},
          "execution_count": 203
        }
      ]
    },
    {
      "cell_type": "markdown",
      "source": [
        "Top ten cantidad de correo fraudulento"
      ],
      "metadata": {
        "id": "HNmtxclCStkK"
      }
    },
    {
      "cell_type": "code",
      "source": [
        "correo_vendedor.filter(lambda x: x[1] == 1).map(lambda x: (x[0], x[2])).takeOrdered(10, lambda x: -x[1])"
      ],
      "metadata": {
        "colab": {
          "base_uri": "https://localhost:8080/"
        },
        "id": "uA7r1Q9GSnYo",
        "outputId": "1b4e75e6-04dd-4273-a08d-4e8479246b15"
      },
      "execution_count": 204,
      "outputs": [
        {
          "output_type": "execute_result",
          "data": {
            "text/plain": [
              "[('none', 8105),\n",
              " ('gmail.com', 5731),\n",
              " ('hotmail.com', 1812),\n",
              " ('yahoo.com', 564),\n",
              " ('anonymous.com', 509),\n",
              " ('outlook.com', 387),\n",
              " ('icloud.com', 150),\n",
              " ('aol.com', 122),\n",
              " ('live.com', 59),\n",
              " ('mail.com', 46)]"
            ]
          },
          "metadata": {},
          "execution_count": 204
        }
      ]
    },
    {
      "cell_type": "markdown",
      "source": [
        "Last ten cantidad de correo fraudulento"
      ],
      "metadata": {
        "id": "DLGD1DvpS2GI"
      }
    },
    {
      "cell_type": "code",
      "source": [
        "correo_vendedor.filter(lambda x: x[1] == 1).map(lambda x: (x[0], x[2])).takeOrdered(10, lambda x: x[1])"
      ],
      "metadata": {
        "colab": {
          "base_uri": "https://localhost:8080/"
        },
        "id": "4Yfj4Sv3SnHo",
        "outputId": "830a1b5e-17e2-4c94-e926-7b6a9f2dd27f"
      },
      "execution_count": 205,
      "outputs": [
        {
          "output_type": "execute_result",
          "data": {
            "text/plain": [
              "[('msn.com', 1),\n",
              " ('suddenlink.net', 1),\n",
              " ('me.com', 1),\n",
              " ('sbcglobal.net', 1),\n",
              " ('aim.com', 1),\n",
              " ('netzero.net', 1),\n",
              " ('prodigy.net.mx', 1),\n",
              " ('optonline.net', 2),\n",
              " ('rocketmail.com', 2),\n",
              " ('charter.net', 5)]"
            ]
          },
          "metadata": {},
          "execution_count": 205
        }
      ]
    },
    {
      "cell_type": "markdown",
      "source": [
        "Top ten cantidad de correo legal"
      ],
      "metadata": {
        "id": "Aj2MKfYdS293"
      }
    },
    {
      "cell_type": "code",
      "source": [
        "correo_vendedor.filter(lambda x: x[1] == 0).map(lambda x: (x[0], x[2])).takeOrdered(10, lambda x: -x[1])"
      ],
      "metadata": {
        "colab": {
          "base_uri": "https://localhost:8080/"
        },
        "id": "bVUpKF_xSmwR",
        "outputId": "9a193d49-865b-479b-88df-384cf0999b48"
      },
      "execution_count": 206,
      "outputs": [
        {
          "output_type": "execute_result",
          "data": {
            "text/plain": [
              "[('none', 375081),\n",
              " ('gmail.com', 43850),\n",
              " ('hotmail.com', 22825),\n",
              " ('anonymous.com', 17669),\n",
              " ('yahoo.com', 10268),\n",
              " ('aol.com', 3240),\n",
              " ('outlook.com', 2125),\n",
              " ('comcast.net', 1590),\n",
              " ('live.com', 1321),\n",
              " ('icloud.com', 1042)]"
            ]
          },
          "metadata": {},
          "execution_count": 206
        }
      ]
    },
    {
      "cell_type": "markdown",
      "source": [
        "Last ten cantidad de correo legal"
      ],
      "metadata": {
        "id": "UtfNet_RS3fp"
      }
    },
    {
      "cell_type": "code",
      "source": [
        "correo_vendedor.filter(lambda x: x[1] == 0).map(lambda x: (x[0], x[2])).takeOrdered(10, lambda x: x[1])"
      ],
      "metadata": {
        "colab": {
          "base_uri": "https://localhost:8080/"
        },
        "id": "XWeC01P3Smnr",
        "outputId": "52f8ba4a-0ddd-4044-cfd7-e3570d504e26"
      },
      "execution_count": 207,
      "outputs": [
        {
          "output_type": "execute_result",
          "data": {
            "text/plain": [
              "[('protonmail.com', 2),\n",
              " ('netzero.net', 7),\n",
              " ('sc.rr.com', 8),\n",
              " ('centurylink.net', 11),\n",
              " ('netzero.com', 13),\n",
              " ('frontiernet.net', 13),\n",
              " ('suddenlink.net', 22),\n",
              " ('q.com', 24),\n",
              " ('cableone.net', 24),\n",
              " ('twc.com', 25)]"
            ]
          },
          "metadata": {},
          "execution_count": 207
        }
      ]
    },
    {
      "cell_type": "markdown",
      "source": [
        "Top ten promedio de correo fraudulento"
      ],
      "metadata": {
        "id": "_lPjp7pGTfsg"
      }
    },
    {
      "cell_type": "code",
      "source": [
        "correo_vendedor.filter(lambda x: x[1] == 1).map(lambda x: (x[0], x[3])).takeOrdered(10, lambda x: -x[1])"
      ],
      "metadata": {
        "colab": {
          "base_uri": "https://localhost:8080/"
        },
        "id": "SXDmMuUXTgGw",
        "outputId": "f3134708-9cc5-4c3c-817e-a5bf114290f6"
      },
      "execution_count": 208,
      "outputs": [
        {
          "output_type": "execute_result",
          "data": {
            "text/plain": [
              "[('protonmail.com', 95.0),\n",
              " ('mail.com', 38.65),\n",
              " ('outlook.com', 15.4),\n",
              " ('icloud.com', 12.58),\n",
              " ('netzero.net', 12.5),\n",
              " ('gmail.com', 11.55),\n",
              " ('earthlink.net', 8.45),\n",
              " ('hotmail.com', 7.35),\n",
              " ('yahoo.com', 5.2),\n",
              " ('charter.net', 4.42)]"
            ]
          },
          "metadata": {},
          "execution_count": 208
        }
      ]
    },
    {
      "cell_type": "markdown",
      "source": [
        "Last ten promedio de correo fraudulento"
      ],
      "metadata": {
        "id": "BEhj5yzSTxeU"
      }
    },
    {
      "cell_type": "code",
      "source": [
        "correo_vendedor.filter(lambda x: x[1] == 1).map(lambda x: (x[0], x[3])).takeOrdered(10, lambda x: x[1])"
      ],
      "metadata": {
        "colab": {
          "base_uri": "https://localhost:8080/"
        },
        "id": "UuyMjhKFT1Po",
        "outputId": "751a573a-a242-455f-f234-55cdd6c68350"
      },
      "execution_count": 209,
      "outputs": [
        {
          "output_type": "execute_result",
          "data": {
            "text/plain": [
              "[('msn.com', 0.13),\n",
              " ('me.com', 0.2),\n",
              " ('sbcglobal.net', 0.2),\n",
              " ('prodigy.net.mx', 0.54),\n",
              " ('optonline.net', 1.19),\n",
              " ('comcast.net', 1.3),\n",
              " ('cox.net', 1.47),\n",
              " ('none', 2.11),\n",
              " ('anonymous.com', 2.8),\n",
              " ('aim.com', 3.12)]"
            ]
          },
          "metadata": {},
          "execution_count": 209
        }
      ]
    },
    {
      "cell_type": "markdown",
      "source": [
        "Top ten promedio de correo legal"
      ],
      "metadata": {
        "id": "HJMJvNyHT5QA"
      }
    },
    {
      "cell_type": "code",
      "source": [
        "correo_vendedor.filter(lambda x: x[1] == 0).map(lambda x: (x[0], x[3])).takeOrdered(10, lambda x: -x[1])"
      ],
      "metadata": {
        "colab": {
          "base_uri": "https://localhost:8080/"
        },
        "id": "Y9tt3kccT8QR",
        "outputId": "4f6cdcbf-a911-43b1-a4d1-4ffbb3b7b181"
      },
      "execution_count": 210,
      "outputs": [
        {
          "output_type": "execute_result",
          "data": {
            "text/plain": [
              "[('cfl.rr.com', 100.0),\n",
              " ('centurylink.net', 100.0),\n",
              " ('q.com', 100.0),\n",
              " ('mac.com', 100.0),\n",
              " ('bellsouth.net', 100.0),\n",
              " ('ptd.net', 100.0),\n",
              " ('embarqmail.com', 100.0),\n",
              " ('scranton.edu', 100.0),\n",
              " ('servicios-ta.com', 100.0),\n",
              " ('frontier.com', 100.0)]"
            ]
          },
          "metadata": {},
          "execution_count": 210
        }
      ]
    },
    {
      "cell_type": "markdown",
      "source": [
        "Cantidad de correos totalmente legales"
      ],
      "metadata": {
        "id": "Ycw3vOHiWwXJ"
      }
    },
    {
      "cell_type": "code",
      "source": [
        "correo_vendedor.filter(lambda x: x[1] == 0 and x[3] == 100).count()"
      ],
      "metadata": {
        "colab": {
          "base_uri": "https://localhost:8080/"
        },
        "id": "ru4YAkg8WcqK",
        "outputId": "d3caebf4-5101-4ef1-a0ce-f2a62fbd9e5f"
      },
      "execution_count": 211,
      "outputs": [
        {
          "output_type": "execute_result",
          "data": {
            "text/plain": [
              "22"
            ]
          },
          "metadata": {},
          "execution_count": 211
        }
      ]
    },
    {
      "cell_type": "markdown",
      "source": [
        "Top ten promedio de correo legal menor al 100%"
      ],
      "metadata": {
        "id": "jd9oud92XHgI"
      }
    },
    {
      "cell_type": "code",
      "source": [
        "correo_vendedor.filter(lambda x: x[1] == 0 and x[3] < 100).map(lambda x: (x[0], x[3])).takeOrdered(10, lambda x: -x[1])"
      ],
      "metadata": {
        "colab": {
          "base_uri": "https://localhost:8080/"
        },
        "id": "t4d5QXx2W7Kx",
        "outputId": "4379681f-286f-46c2-d098-a430c11c39bd"
      },
      "execution_count": 212,
      "outputs": [
        {
          "output_type": "execute_result",
          "data": {
            "text/plain": [
              "[('msn.com', 99.86),\n",
              " ('me.com', 99.79),\n",
              " ('sbcglobal.net', 99.79),\n",
              " ('prodigy.net.mx', 99.45),\n",
              " ('optonline.net', 98.8),\n",
              " ('comcast.net', 98.69),\n",
              " ('cox.net', 98.52),\n",
              " ('none', 97.88),\n",
              " ('anonymous.com', 97.19),\n",
              " ('aim.com', 96.87)]"
            ]
          },
          "metadata": {},
          "execution_count": 212
        }
      ]
    },
    {
      "cell_type": "markdown",
      "source": [
        "Last ten promedio de correo legal"
      ],
      "metadata": {
        "id": "QhkzV0yJT_lp"
      }
    },
    {
      "cell_type": "code",
      "source": [
        "correo_vendedor.filter(lambda x: x[1] == 0).map(lambda x: (x[0], x[3])).takeOrdered(10, lambda x: x[1])"
      ],
      "metadata": {
        "colab": {
          "base_uri": "https://localhost:8080/"
        },
        "id": "1txExrljUDGA",
        "outputId": "560328a1-3038-4a9e-cef7-5d4547647c2d"
      },
      "execution_count": 213,
      "outputs": [
        {
          "output_type": "execute_result",
          "data": {
            "text/plain": [
              "[('protonmail.com', 5.0),\n",
              " ('mail.com', 61.34),\n",
              " ('outlook.com', 84.59),\n",
              " ('icloud.com', 87.41),\n",
              " ('netzero.net', 87.5),\n",
              " ('gmail.com', 88.44),\n",
              " ('earthlink.net', 91.54),\n",
              " ('hotmail.com', 92.64),\n",
              " ('yahoo.com', 94.79),\n",
              " ('charter.net', 95.57)]"
            ]
          },
          "metadata": {},
          "execution_count": 213
        }
      ]
    },
    {
      "cell_type": "markdown",
      "source": [
        "Sistema Operativo"
      ],
      "metadata": {
        "id": "gAQVPLC3YxdU"
      }
    },
    {
      "cell_type": "code",
      "source": [
        "def unicidad_sistema_operativo(string) -> str:\n",
        "    if string == None:\n",
        "      return \"NONE\"\n",
        "    lista = [\"IOS\", \"MAC\", \"WINDOWS\", \"ANDROID\", \"LINUX\"]\n",
        "    for sistema_operativo in lista:\n",
        "        match string.upper().find(sistema_operativo):\n",
        "            case -1:\n",
        "                continue\n",
        "            case _:\n",
        "                return sistema_operativo\n",
        "    return \"OTRO\""
      ],
      "metadata": {
        "id": "FioNosl5cqnr"
      },
      "execution_count": 214,
      "outputs": []
    },
    {
      "cell_type": "code",
      "source": [
        "sistema_operativo = identity_rdd.map(lambda x: (x.Id, x.feature30)).leftOuterJoin(transactions_rdd.map(lambda x: (x.Id, x.target)))\\\n",
        ".map(lambda x: ((unicidad_sistema_operativo(x[1][0]), x[1][1]), 1)).reduceByKey(lambda a,b: a + b).map(lambda x: (x[0][0], (x[0][1], x[1])))"
      ],
      "metadata": {
        "id": "jGv2Gt95Y0JC"
      },
      "execution_count": 215,
      "outputs": []
    },
    {
      "cell_type": "code",
      "source": [
        "sistema_operativo_total = sistema_operativo.map(lambda x: (x[0], x[1][1])).reduceByKey(lambda a,b: a + b)"
      ],
      "metadata": {
        "id": "Z0qx_FkWd2UL"
      },
      "execution_count": 216,
      "outputs": []
    },
    {
      "cell_type": "code",
      "source": [
        "sistema_operativo = sistema_operativo.join(sistema_operativo_total).map(lambda x: (x[0], x[1][0][0], x[1][0][1], redondeo(x[1][0][1] * 100 / x[1][1], 2))).cache()"
      ],
      "metadata": {
        "id": "3B2j92kyd2JO"
      },
      "execution_count": 217,
      "outputs": []
    },
    {
      "cell_type": "code",
      "source": [
        "sistema_operativo.collect()"
      ],
      "metadata": {
        "colab": {
          "base_uri": "https://localhost:8080/"
        },
        "id": "6EP_AdNTZG7z",
        "outputId": "01ade66c-2e78-4826-d7c9-fbd15166895f"
      },
      "execution_count": 218,
      "outputs": [
        {
          "output_type": "execute_result",
          "data": {
            "text/plain": [
              "[('ANDROID', 0, 5158, 91.56),\n",
              " ('ANDROID', 1, 475, 8.43),\n",
              " ('WINDOWS', 0, 30923, 96.48),\n",
              " ('WINDOWS', 1, 1128, 3.51),\n",
              " ('IOS', 0, 16571, 93.88),\n",
              " ('IOS', 1, 1079, 6.11),\n",
              " ('LINUX', 0, 905, 92.06),\n",
              " ('LINUX', 1, 78, 7.93),\n",
              " ('MAC', 0, 11969, 98.06),\n",
              " ('MAC', 1, 236, 1.93),\n",
              " ('NONE', 1, 6556, 11.49),\n",
              " ('NONE', 0, 50468, 88.5),\n",
              " ('OTRO', 1, 3, 15.78),\n",
              " ('OTRO', 0, 16, 84.21)]"
            ]
          },
          "metadata": {},
          "execution_count": 218
        }
      ]
    },
    {
      "cell_type": "markdown",
      "source": [
        "Máxima cantidad de sistemas operativos fraudulentos"
      ],
      "metadata": {
        "id": "UDoe7Xd5fW2K"
      }
    },
    {
      "cell_type": "code",
      "source": [
        "sistema_operativo.filter(lambda x: x[1] == 1).map(lambda x: (x[0], x[2])).sortBy(lambda x: -x[1]).collect()"
      ],
      "metadata": {
        "colab": {
          "base_uri": "https://localhost:8080/"
        },
        "id": "pZxRk3XnfWe6",
        "outputId": "aecbe19c-614b-4724-e8f8-f6819adf7efd"
      },
      "execution_count": 219,
      "outputs": [
        {
          "output_type": "execute_result",
          "data": {
            "text/plain": [
              "[('NONE', 6556),\n",
              " ('WINDOWS', 1128),\n",
              " ('IOS', 1079),\n",
              " ('ANDROID', 475),\n",
              " ('MAC', 236),\n",
              " ('LINUX', 78),\n",
              " ('OTRO', 3)]"
            ]
          },
          "metadata": {},
          "execution_count": 219
        }
      ]
    },
    {
      "cell_type": "markdown",
      "source": [
        "Máxima cantidad de sistemas operativos legales"
      ],
      "metadata": {
        "id": "-x55WnYZfeK9"
      }
    },
    {
      "cell_type": "code",
      "source": [
        "sistema_operativo.filter(lambda x: x[1] == 0).map(lambda x: (x[0], x[2])).sortBy(lambda x: -x[1]).collect()"
      ],
      "metadata": {
        "colab": {
          "base_uri": "https://localhost:8080/"
        },
        "id": "I65tKps6fjkn",
        "outputId": "e3a8e849-1254-4553-e867-c0e012d83bbb"
      },
      "execution_count": 220,
      "outputs": [
        {
          "output_type": "execute_result",
          "data": {
            "text/plain": [
              "[('NONE', 50468),\n",
              " ('WINDOWS', 30923),\n",
              " ('IOS', 16571),\n",
              " ('MAC', 11969),\n",
              " ('ANDROID', 5158),\n",
              " ('LINUX', 905),\n",
              " ('OTRO', 16)]"
            ]
          },
          "metadata": {},
          "execution_count": 220
        }
      ]
    },
    {
      "cell_type": "markdown",
      "source": [
        "Máximo promedio de sistemas operativos fraudulentos ('OTRO' no tiene mucha cantidad)"
      ],
      "metadata": {
        "id": "fwKepjNufijM"
      }
    },
    {
      "cell_type": "code",
      "source": [
        "sistema_operativo.filter(lambda x: x[1] == 1).map(lambda x: (x[0], x[3])).sortBy(lambda x: -x[1]).collect()"
      ],
      "metadata": {
        "colab": {
          "base_uri": "https://localhost:8080/"
        },
        "id": "YunNtdxgfn7L",
        "outputId": "27b4fca8-9e34-4979-80a1-28901bdbcb27"
      },
      "execution_count": 221,
      "outputs": [
        {
          "output_type": "execute_result",
          "data": {
            "text/plain": [
              "[('OTRO', 15.78),\n",
              " ('NONE', 11.49),\n",
              " ('ANDROID', 8.43),\n",
              " ('LINUX', 7.93),\n",
              " ('IOS', 6.11),\n",
              " ('WINDOWS', 3.51),\n",
              " ('MAC', 1.93)]"
            ]
          },
          "metadata": {},
          "execution_count": 221
        }
      ]
    },
    {
      "cell_type": "markdown",
      "source": [
        "Máximo promedio de sistemas operativos legales"
      ],
      "metadata": {
        "id": "TabEdWY1fp2F"
      }
    },
    {
      "cell_type": "code",
      "source": [
        "sistema_operativo.filter(lambda x: x[1] == 0).map(lambda x: (x[0], x[3])).sortBy(lambda x: -x[1]).collect()"
      ],
      "metadata": {
        "colab": {
          "base_uri": "https://localhost:8080/"
        },
        "id": "JfTMg7pvfrcM",
        "outputId": "3dbdc35d-16d4-4616-9d63-5d30f3773478"
      },
      "execution_count": 222,
      "outputs": [
        {
          "output_type": "execute_result",
          "data": {
            "text/plain": [
              "[('MAC', 98.06),\n",
              " ('WINDOWS', 96.48),\n",
              " ('IOS', 93.88),\n",
              " ('LINUX', 92.06),\n",
              " ('ANDROID', 91.56),\n",
              " ('NONE', 88.5),\n",
              " ('OTRO', 84.21)]"
            ]
          },
          "metadata": {},
          "execution_count": 222
        }
      ]
    }
  ],
  "metadata": {
    "colab": {
      "provenance": []
    },
    "kernelspec": {
      "display_name": "Python 3",
      "name": "python3"
    }
  },
  "nbformat": 4,
  "nbformat_minor": 0
}