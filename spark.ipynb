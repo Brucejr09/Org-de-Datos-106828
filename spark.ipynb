{
  "cells": [
    {
      "cell_type": "code",
      "source": [
        "!pip install pyspark\n",
        "!apt update\n",
        "!apt install openjdk-8-jdk-headless -qq\n",
        "import os\n",
        "from pyspark.sql import *\n",
        "from pyspark.sql.functions import *\n",
        "from pyspark import SparkContext\n",
        "from pyspark.sql import SQLContext\n",
        "os.environ[\"JAVA_HOME\"] = \"/usr/lib/jvm/java-8-openjdk-amd64\""
      ],
      "metadata": {
        "colab": {
          "base_uri": "https://localhost:8080/"
        },
        "id": "gX6oO98RGFl0",
        "outputId": "2240bf7e-361b-42ee-921f-0d0b398d83db"
      },
      "execution_count": 1,
      "outputs": [
        {
          "output_type": "stream",
          "name": "stdout",
          "text": [
            "Collecting pyspark\n",
            "  Downloading pyspark-3.5.3.tar.gz (317.3 MB)\n",
            "\u001b[2K     \u001b[90m━━━━━━━━━━━━━━━━━━━━━━━━━━━━━━━━━━━━━━━━\u001b[0m \u001b[32m317.3/317.3 MB\u001b[0m \u001b[31m3.7 MB/s\u001b[0m eta \u001b[36m0:00:00\u001b[0m\n",
            "\u001b[?25h  Preparing metadata (setup.py) ... \u001b[?25l\u001b[?25hdone\n",
            "Requirement already satisfied: py4j==0.10.9.7 in /usr/local/lib/python3.10/dist-packages (from pyspark) (0.10.9.7)\n",
            "Building wheels for collected packages: pyspark\n",
            "  Building wheel for pyspark (setup.py) ... \u001b[?25l\u001b[?25hdone\n",
            "  Created wheel for pyspark: filename=pyspark-3.5.3-py2.py3-none-any.whl size=317840625 sha256=002dcca8090dc35f4c34604b450018af0d8f4ef953bd92097f954948fdd9392f\n",
            "  Stored in directory: /root/.cache/pip/wheels/1b/3a/92/28b93e2fbfdbb07509ca4d6f50c5e407f48dce4ddbda69a4ab\n",
            "Successfully built pyspark\n",
            "Installing collected packages: pyspark\n",
            "Successfully installed pyspark-3.5.3\n",
            "Get:1 http://security.ubuntu.com/ubuntu jammy-security InRelease [129 kB]\n",
            "Get:2 https://cloud.r-project.org/bin/linux/ubuntu jammy-cran40/ InRelease [3,626 B]\n",
            "Hit:3 https://developer.download.nvidia.com/compute/cuda/repos/ubuntu2204/x86_64  InRelease\n",
            "Ign:4 https://r2u.stat.illinois.edu/ubuntu jammy InRelease\n",
            "Get:5 https://r2u.stat.illinois.edu/ubuntu jammy Release [5,713 B]\n",
            "Get:6 https://r2u.stat.illinois.edu/ubuntu jammy Release.gpg [793 B]\n",
            "Hit:7 http://archive.ubuntu.com/ubuntu jammy InRelease\n",
            "Get:8 http://archive.ubuntu.com/ubuntu jammy-updates InRelease [128 kB]\n",
            "Get:9 http://security.ubuntu.com/ubuntu jammy-security/main amd64 Packages [2,318 kB]\n",
            "Hit:10 https://ppa.launchpadcontent.net/deadsnakes/ppa/ubuntu jammy InRelease\n",
            "Get:11 https://r2u.stat.illinois.edu/ubuntu jammy/main amd64 Packages [2,600 kB]\n",
            "Hit:12 https://ppa.launchpadcontent.net/graphics-drivers/ppa/ubuntu jammy InRelease\n",
            "Get:13 http://security.ubuntu.com/ubuntu jammy-security/universe amd64 Packages [1,159 kB]\n",
            "Hit:14 https://ppa.launchpadcontent.net/ubuntugis/ppa/ubuntu jammy InRelease\n",
            "Get:15 http://archive.ubuntu.com/ubuntu jammy-backports InRelease [127 kB]\n",
            "Get:16 https://r2u.stat.illinois.edu/ubuntu jammy/main all Packages [8,378 kB]\n",
            "Get:17 http://archive.ubuntu.com/ubuntu jammy-updates/main amd64 Packages [2,596 kB]\n",
            "Get:18 http://archive.ubuntu.com/ubuntu jammy-updates/universe amd64 Packages [1,447 kB]\n",
            "Fetched 18.9 MB in 2s (7,797 kB/s)\n",
            "Reading package lists... Done\n",
            "Building dependency tree... Done\n",
            "Reading state information... Done\n",
            "54 packages can be upgraded. Run 'apt list --upgradable' to see them.\n",
            "\u001b[1;33mW: \u001b[0mSkipping acquire of configured file 'main/source/Sources' as repository 'https://r2u.stat.illinois.edu/ubuntu jammy InRelease' does not seem to provide it (sources.list entry misspelt?)\u001b[0m\n",
            "The following additional packages will be installed:\n",
            "  libxtst6 openjdk-8-jre-headless\n",
            "Suggested packages:\n",
            "  openjdk-8-demo openjdk-8-source libnss-mdns fonts-dejavu-extra fonts-nanum fonts-ipafont-gothic\n",
            "  fonts-ipafont-mincho fonts-wqy-microhei fonts-wqy-zenhei fonts-indic\n",
            "The following NEW packages will be installed:\n",
            "  libxtst6 openjdk-8-jdk-headless openjdk-8-jre-headless\n",
            "0 upgraded, 3 newly installed, 0 to remove and 54 not upgraded.\n",
            "Need to get 39.6 MB of archives.\n",
            "After this operation, 144 MB of additional disk space will be used.\n",
            "Selecting previously unselected package libxtst6:amd64.\n",
            "(Reading database ... 123620 files and directories currently installed.)\n",
            "Preparing to unpack .../libxtst6_2%3a1.2.3-1build4_amd64.deb ...\n",
            "Unpacking libxtst6:amd64 (2:1.2.3-1build4) ...\n",
            "Selecting previously unselected package openjdk-8-jre-headless:amd64.\n",
            "Preparing to unpack .../openjdk-8-jre-headless_8u422-b05-1~22.04_amd64.deb ...\n",
            "Unpacking openjdk-8-jre-headless:amd64 (8u422-b05-1~22.04) ...\n",
            "Selecting previously unselected package openjdk-8-jdk-headless:amd64.\n",
            "Preparing to unpack .../openjdk-8-jdk-headless_8u422-b05-1~22.04_amd64.deb ...\n",
            "Unpacking openjdk-8-jdk-headless:amd64 (8u422-b05-1~22.04) ...\n",
            "Setting up libxtst6:amd64 (2:1.2.3-1build4) ...\n",
            "Setting up openjdk-8-jre-headless:amd64 (8u422-b05-1~22.04) ...\n",
            "update-alternatives: using /usr/lib/jvm/java-8-openjdk-amd64/jre/bin/orbd to provide /usr/bin/orbd (orbd) in auto mode\n",
            "update-alternatives: using /usr/lib/jvm/java-8-openjdk-amd64/jre/bin/servertool to provide /usr/bin/servertool (servertool) in auto mode\n",
            "update-alternatives: using /usr/lib/jvm/java-8-openjdk-amd64/jre/bin/tnameserv to provide /usr/bin/tnameserv (tnameserv) in auto mode\n",
            "Setting up openjdk-8-jdk-headless:amd64 (8u422-b05-1~22.04) ...\n",
            "update-alternatives: using /usr/lib/jvm/java-8-openjdk-amd64/bin/clhsdb to provide /usr/bin/clhsdb (clhsdb) in auto mode\n",
            "update-alternatives: using /usr/lib/jvm/java-8-openjdk-amd64/bin/extcheck to provide /usr/bin/extcheck (extcheck) in auto mode\n",
            "update-alternatives: using /usr/lib/jvm/java-8-openjdk-amd64/bin/hsdb to provide /usr/bin/hsdb (hsdb) in auto mode\n",
            "update-alternatives: using /usr/lib/jvm/java-8-openjdk-amd64/bin/idlj to provide /usr/bin/idlj (idlj) in auto mode\n",
            "update-alternatives: using /usr/lib/jvm/java-8-openjdk-amd64/bin/javah to provide /usr/bin/javah (javah) in auto mode\n",
            "update-alternatives: using /usr/lib/jvm/java-8-openjdk-amd64/bin/jhat to provide /usr/bin/jhat (jhat) in auto mode\n",
            "update-alternatives: using /usr/lib/jvm/java-8-openjdk-amd64/bin/jsadebugd to provide /usr/bin/jsadebugd (jsadebugd) in auto mode\n",
            "update-alternatives: using /usr/lib/jvm/java-8-openjdk-amd64/bin/native2ascii to provide /usr/bin/native2ascii (native2ascii) in auto mode\n",
            "update-alternatives: using /usr/lib/jvm/java-8-openjdk-amd64/bin/schemagen to provide /usr/bin/schemagen (schemagen) in auto mode\n",
            "update-alternatives: using /usr/lib/jvm/java-8-openjdk-amd64/bin/wsgen to provide /usr/bin/wsgen (wsgen) in auto mode\n",
            "update-alternatives: using /usr/lib/jvm/java-8-openjdk-amd64/bin/wsimport to provide /usr/bin/wsimport (wsimport) in auto mode\n",
            "update-alternatives: using /usr/lib/jvm/java-8-openjdk-amd64/bin/xjc to provide /usr/bin/xjc (xjc) in auto mode\n",
            "Processing triggers for libc-bin (2.35-0ubuntu3.4) ...\n",
            "/sbin/ldconfig.real: /usr/local/lib/libtbbbind_2_5.so.3 is not a symbolic link\n",
            "\n",
            "/sbin/ldconfig.real: /usr/local/lib/libtbbbind_2_0.so.3 is not a symbolic link\n",
            "\n",
            "/sbin/ldconfig.real: /usr/local/lib/libtbbmalloc.so.2 is not a symbolic link\n",
            "\n",
            "/sbin/ldconfig.real: /usr/local/lib/libur_adapter_level_zero.so.0 is not a symbolic link\n",
            "\n",
            "/sbin/ldconfig.real: /usr/local/lib/libtbbmalloc_proxy.so.2 is not a symbolic link\n",
            "\n",
            "/sbin/ldconfig.real: /usr/local/lib/libtbb.so.12 is not a symbolic link\n",
            "\n",
            "/sbin/ldconfig.real: /usr/local/lib/libur_adapter_opencl.so.0 is not a symbolic link\n",
            "\n",
            "/sbin/ldconfig.real: /usr/local/lib/libur_loader.so.0 is not a symbolic link\n",
            "\n",
            "/sbin/ldconfig.real: /usr/local/lib/libtbbbind.so.3 is not a symbolic link\n",
            "\n"
          ]
        }
      ]
    },
    {
      "cell_type": "code",
      "source": [
        "spark = SparkSession.builder.getOrCreate()\n",
        "sc = spark.sparkContext\n",
        "sqlContext = SQLContext(sc)\n",
        "df = sqlContext.read.csv('transactions_train.csv', header=True, inferSchema=True)\n",
        "transactions_rdd = df.rdd"
      ],
      "metadata": {
        "id": "crza1IqRGJ77",
        "colab": {
          "base_uri": "https://localhost:8080/"
        },
        "outputId": "a10d1077-70af-49ca-fee4-d3d82b73f429"
      },
      "execution_count": 2,
      "outputs": [
        {
          "output_type": "stream",
          "name": "stderr",
          "text": [
            "/usr/local/lib/python3.10/dist-packages/pyspark/sql/context.py:113: FutureWarning: Deprecated in 3.0.0. Use SparkSession.builder.getOrCreate() instead.\n",
            "  warnings.warn(\n"
          ]
        }
      ]
    },
    {
      "cell_type": "code",
      "source": [
        "from math import floor\n",
        "def redondeo(numero, decimal):\n",
        "  ajuste = 10**decimal\n",
        "  return floor(numero * ajuste) / ajuste"
      ],
      "metadata": {
        "id": "Z3YbZGjFmX7u"
      },
      "execution_count": 145,
      "outputs": []
    },
    {
      "cell_type": "code",
      "source": [
        "transactions_rdd.first()"
      ],
      "metadata": {
        "colab": {
          "base_uri": "https://localhost:8080/"
        },
        "id": "770YEjPbsGNY",
        "outputId": "1c0bb5a6-dd2d-4da9-f8c1-aa7246d8dc92"
      },
      "execution_count": 3,
      "outputs": [
        {
          "output_type": "execute_result",
          "data": {
            "text/plain": [
              "Row(_c0=0, Id=2987000, target=0, timestamp=86400, ammount=68.5, product_category='W', feat_card_1=13926, feat_card_2=None, feat_card_3=150.0, feat_card_4='discover', feat_card_5=142.0, feat_card_6='credit', addr1=315.0, addr2=87.0, dist1=19.0, dist2=None, payer_email_domain=None, receiver_email_domain=None, A1=1.0, A2=1.0, A3=0.0, A4=0.0, A5=0.0, A6=1.0, A7=0.0, A8=0.0, A9=1.0, A10=0.0, A11=2.0, A12=0.0, A13=1.0, A14=1.0, B1=14.0, B2=None, B3=13.0, B4=None, B5=None, B6=None, B7=None, B8=None, B9=None, B10=13.0, B11=13.0, B12=None, B13=None, B14=None, B15=0.0, C1='T', C2='T', C3='T', C4='M2', C5='F', C6='T', C7=None, C8=None, C9=None, D1=1.0, D2=1.0, D3=1.0, D4=1.0, D5=1.0, D6=1.0, D7=1.0, D8=1.0, D9=1.0, D10=0.0, D11=0.0, D12=1.0, D13=1.0, D14=1.0, D15=0.0, D16=0.0, D17=0.0, D18=0.0, D19=1.0, D20=1.0, D21=0.0, D22=0.0, D23=1.0, D24=1.0, D25=1.0, D26=1.0, D27=0.0, D28=0.0, D29=0.0, D30=0.0, D31=0.0, D32=0.0, D33=0.0, D34=0.0, D35=None, D36=None, D37=None, D38=None, D39=None, D40=None, D41=None, D42=None, D43=None, D44=None, D45=None, D46=None, D47=None, D48=None, D49=None, D50=None, D51=None, D52=None, D53=1.0, D54=1.0, D55=1.0, D56=1.0, D57=0.0, D58=0.0, D59=0.0, D60=0.0, D61=1.0, D62=1.0, D63=0.0, D64=0.0, D65=1.0, D66=1.0, D67=1.0, D68=0.0, D69=0.0, D70=0.0, D71=0.0, D72=0.0, D73=0.0, D74=0.0, D75=1.0, D76=1.0, D77=1.0, D78=1.0, D79=0.0, D80=0.0, D81=0.0, D82=0.0, D83=0.0, D84=0.0, D85=0.0, D86=1.0, D87=1.0, D88=1.0, D89=0.0, D90=0.0, D91=0.0, D92=0.0, D93=0.0, D94=0.0, D95=0.0, D96=1.0, D97=0.0, D98=0.0, D99=0.0, D100=0.0, D101=0.0, D102=1.0, D103=0.0, D104=0.0, D105=0.0, D106=0.0, D107=1.0, D108=1.0, D109=1.0, D110=1.0, D111=1.0, D112=1.0, D113=1.0, D114=1.0, D115=1.0, D116=1.0, D117=1.0, D118=1.0, D119=1.0, D120=1.0, D121=1.0, D122=1.0, D123=1.0, D124=1.0, D125=1.0, D126=0.0, D127=117.0, D128=0.0, D129=0.0, D130=0.0, D131=0.0, D132=0.0, D133=117.0, D134=0.0, D135=0.0, D136=0.0, D137=0.0, D138=None, D139=None, D140=None, D141=None, D142=None, D143=None, D144=None, D145=None, D146=None, D147=None, D148=None, D149=None, D150=None, D151=None, D152=None, D153=None, D154=None, D155=None, D156=None, D157=None, D158=None, D159=None, D160=None, D161=None, D162=None, D163=None, D164=None, D165=None, D166=None, D167=None, D168=None, D169=None, D170=None, D171=None, D172=None, D173=None, D174=None, D175=None, D176=None, D177=None, D178=None, D179=None, D180=None, D181=None, D182=None, D183=None, D184=None, D185=None, D186=None, D187=None, D188=None, D189=None, D190=None, D191=None, D192=None, D193=None, D194=None, D195=None, D196=None, D197=None, D198=None, D199=None, D200=None, D201=None, D202=None, D203=None, D204=None, D205=None, D206=None, D207=None, D208=None, D209=None, D210=None, D211=None, D212=None, D213=None, D214=None, D215=None, D216=None, D217=None, D218=None, D219=None, D220=None, D221=None, D222=None, D223=None, D224=None, D225=None, D226=None, D227=None, D228=None, D229=None, D230=None, D231=None, D232=None, D233=None, D234=None, D235=None, D236=None, D237=None, D238=None, D239=None, D240=None, D241=None, D242=None, D243=None, D244=None, D245=None, D246=None, D247=None, D248=None, D249=None, D250=None, D251=None, D252=None, D253=None, D254=None, D255=None, D256=None, D257=None, D258=None, D259=None, D260=None, D261=None, D262=None, D263=None, D264=None, D265=None, D266=None, D267=None, D268=None, D269=None, D270=None, D271=None, D272=None, D273=None, D274=None, D275=None, D276=None, D277=None, D278=None, D279=0.0, D280=0.0, D281=0.0, D282=1.0, D283=1.0, D284=0.0, D285=0.0, D286=0.0, D287=0.0, D288=0.0, D289=0.0, D290=1.0, D291=1.0, D292=1.0, D293=0.0, D294=1.0, D295=0.0, D296=0.0, D297=0.0, D298=0.0, D299=0.0, D300=0.0, D301=0.0, D302=0.0, D303=0.0, D304=0.0, D305=1.0, D306=0.0, D307=117.0, D308=0.0, D309=0.0, D310=0.0, D311=0.0, D312=0.0, D313=0.0, D314=0.0, D315=0.0, D316=0.0, D317=117.0, D318=0.0, D319=0.0, D320=0.0, D321=0.0, D322=None, D323=None, D324=None, D325=None, D326=None, D327=None, D328=None, D329=None, D330=None, D331=None, D332=None, D333=None, D334=None, D335=None, D336=None, D337=None, D338=None, D339=None)"
            ]
          },
          "metadata": {},
          "execution_count": 3
        }
      ]
    },
    {
      "cell_type": "markdown",
      "source": [
        "Porcentaje de fraude"
      ],
      "metadata": {
        "id": "YdDHUDkAkKVb"
      }
    },
    {
      "cell_type": "code",
      "source": [
        "transactions_rdd.map(lambda x: x.target).distinct().collect()"
      ],
      "metadata": {
        "colab": {
          "base_uri": "https://localhost:8080/"
        },
        "id": "Oda4rqItGS2W",
        "outputId": "1bfc283e-7e41-484d-9ed3-298ede6e0e9a"
      },
      "execution_count": null,
      "outputs": [
        {
          "output_type": "execute_result",
          "data": {
            "text/plain": [
              "[0, 1]"
            ]
          },
          "metadata": {},
          "execution_count": 5
        }
      ]
    },
    {
      "cell_type": "code",
      "source": [
        "redondeo(transactions_rdd.filter(lambda x: x.target == 1).count() * 100 / transactions_rdd.count(), 2)"
      ],
      "metadata": {
        "colab": {
          "base_uri": "https://localhost:8080/"
        },
        "id": "nglBwM8mSJPR",
        "outputId": "5e3b7492-9198-40b1-d75a-11280dc63426"
      },
      "execution_count": 146,
      "outputs": [
        {
          "output_type": "execute_result",
          "data": {
            "text/plain": [
              "3.5"
            ]
          },
          "metadata": {},
          "execution_count": 146
        }
      ]
    },
    {
      "cell_type": "markdown",
      "source": [
        "Cantidad de monto respecto de los productos"
      ],
      "metadata": {
        "id": "csUIFM5XkVk-"
      }
    },
    {
      "cell_type": "code",
      "source": [
        "lista_productos = transactions_rdd.map(lambda x: ((x.product_category, x.target), x.ammount)).reduceByKey(lambda a,b: a + b).cache()"
      ],
      "metadata": {
        "id": "bUzxj2JeUIXc"
      },
      "execution_count": 80,
      "outputs": []
    },
    {
      "cell_type": "code",
      "source": [
        "sorted(lista_productos.map(lambda x: (x[0], redondeo(x[1], 1))).collect())"
      ],
      "metadata": {
        "colab": {
          "base_uri": "https://localhost:8080/"
        },
        "id": "mReDDj3kiiAN",
        "outputId": "87eb983c-e448-4837-8049-497efb1e5466"
      },
      "execution_count": 152,
      "outputs": [
        {
          "output_type": "execute_result",
          "data": {
            "text/plain": [
              "[(('C', 0), 2227829.5),\n",
              " (('C', 1), 330453.3),\n",
              " (('H', 0), 1986435.0),\n",
              " (('H', 1), 222872.0),\n",
              " (('R', 0), 5424125.0),\n",
              " (('R', 1), 293550.0),\n",
              " (('S', 0), 427847.1),\n",
              " (('S', 1), 37121.0),\n",
              " (('W', 0), 54909721.5),\n",
              " (('W', 1), 1730240.0)]"
            ]
          },
          "metadata": {},
          "execution_count": 152
        }
      ]
    },
    {
      "cell_type": "markdown",
      "source": [
        "Porcentaje de monto respecto de los productos"
      ],
      "metadata": {
        "id": "OKt8aYixiYj-"
      }
    },
    {
      "cell_type": "code",
      "source": [
        "monto_productos = lista_productos.map(lambda x: (1, x[1])).reduceByKey(lambda a,b: a + b).collect()[0][1]"
      ],
      "metadata": {
        "id": "qSCe6h0AUIQw"
      },
      "execution_count": 87,
      "outputs": []
    },
    {
      "cell_type": "code",
      "source": [
        "def porcentaje(lista, total):\n",
        "  promedios = []\n",
        "  for producto in lista:\n",
        "    promedios.append((producto[0], producto[1] * 100 / total))\n",
        "  return promedios\n",
        "\n",
        "sc.parallelize(porcentaje(sorted(lista_productos.collect()), monto_productos)).map(lambda x: (x[0], redondeo(x[1], 2))).collect()"
      ],
      "metadata": {
        "colab": {
          "base_uri": "https://localhost:8080/"
        },
        "id": "caFfbjlioX8V",
        "outputId": "28235a65-c9e2-4b81-b911-63fe32ab0c4c"
      },
      "execution_count": 154,
      "outputs": [
        {
          "output_type": "execute_result",
          "data": {
            "text/plain": [
              "[(('C', 0), 3.29),\n",
              " (('C', 1), 0.48),\n",
              " (('H', 0), 2.93),\n",
              " (('H', 1), 0.32),\n",
              " (('R', 0), 8.02),\n",
              " (('R', 1), 0.43),\n",
              " (('S', 0), 0.63),\n",
              " (('S', 1), 0.05),\n",
              " (('W', 0), 81.23),\n",
              " (('W', 1), 2.55)]"
            ]
          },
          "metadata": {},
          "execution_count": 154
        }
      ]
    },
    {
      "cell_type": "markdown",
      "source": [
        "Cantidad de monto fraudulento respecto de los productos"
      ],
      "metadata": {
        "id": "qNNFImkcWffA"
      }
    },
    {
      "cell_type": "code",
      "source": [
        "fraude = lista_productos.filter(lambda x: x[0][1] == 1).map(lambda x: (x[0][0], redondeo(x[1], 2)))\n",
        "fraude.takeOrdered(5, lambda x: -x[1])"
      ],
      "metadata": {
        "colab": {
          "base_uri": "https://localhost:8080/"
        },
        "id": "2E12RKZNWphL",
        "outputId": "8fd9f370-d558-4f3d-dd1f-698acc8de267"
      },
      "execution_count": 155,
      "outputs": [
        {
          "output_type": "execute_result",
          "data": {
            "text/plain": [
              "[('W', 1730240.03),\n",
              " ('C', 330453.3),\n",
              " ('R', 293550.0),\n",
              " ('H', 222872.0),\n",
              " ('S', 37121.0)]"
            ]
          },
          "metadata": {},
          "execution_count": 155
        }
      ]
    },
    {
      "cell_type": "markdown",
      "source": [
        "Cantidad de monto legal respecto de los productos"
      ],
      "metadata": {
        "id": "QvowdWHRWjQZ"
      }
    },
    {
      "cell_type": "code",
      "source": [
        "legal = lista_productos.filter(lambda x: x[0][1] == 0).map(lambda x: (x[0][0], redondeo(x[1], 2)))\n",
        "legal.takeOrdered(5, lambda x: -x[1])"
      ],
      "metadata": {
        "colab": {
          "base_uri": "https://localhost:8080/"
        },
        "id": "uzJDk0C5Wp7B",
        "outputId": "31ac55c6-8a1e-4721-95ae-753d451ad662"
      },
      "execution_count": 156,
      "outputs": [
        {
          "output_type": "execute_result",
          "data": {
            "text/plain": [
              "[('W', 54909721.53),\n",
              " ('R', 5424125.0),\n",
              " ('C', 2227829.57),\n",
              " ('H', 1986435.0),\n",
              " ('S', 427847.1)]"
            ]
          },
          "metadata": {},
          "execution_count": 156
        }
      ]
    },
    {
      "cell_type": "markdown",
      "source": [
        "Porcentaje de monto fraudulento respecto de los productos"
      ],
      "metadata": {
        "id": "ydQTvLGZa4eB"
      }
    },
    {
      "cell_type": "code",
      "source": [
        "sc.parallelize(porcentaje(sorted(fraude.collect()), monto_productos)).map(lambda x: (x[0], redondeo(x[1], 2))).takeOrdered(5, lambda x: -x[1])"
      ],
      "metadata": {
        "colab": {
          "base_uri": "https://localhost:8080/"
        },
        "id": "B7ocK1bMa8Lx",
        "outputId": "64332ce8-3c6b-4cdb-8e26-3845b6dc7f9c"
      },
      "execution_count": 157,
      "outputs": [
        {
          "output_type": "execute_result",
          "data": {
            "text/plain": [
              "[('W', 2.55), ('C', 0.48), ('R', 0.43), ('H', 0.32), ('S', 0.05)]"
            ]
          },
          "metadata": {},
          "execution_count": 157
        }
      ]
    },
    {
      "cell_type": "markdown",
      "source": [
        "Porcentaje de monto legal respecto de los productos"
      ],
      "metadata": {
        "id": "S6_7exsLa3bz"
      }
    },
    {
      "cell_type": "code",
      "source": [
        "sc.parallelize(porcentaje(sorted(legal.collect()), monto_productos)).map(lambda x: (x[0], redondeo(x[1], 2))).takeOrdered(5, lambda x: -x[1])"
      ],
      "metadata": {
        "colab": {
          "base_uri": "https://localhost:8080/"
        },
        "id": "d7Vt0wnIa8qq",
        "outputId": "03015b9a-af23-48bb-cf2d-e9ae04f74cc6"
      },
      "execution_count": 158,
      "outputs": [
        {
          "output_type": "execute_result",
          "data": {
            "text/plain": [
              "[('W', 81.23), ('R', 8.02), ('C', 3.29), ('H', 2.93), ('S', 0.63)]"
            ]
          },
          "metadata": {},
          "execution_count": 158
        }
      ]
    },
    {
      "cell_type": "markdown",
      "source": [
        "Fraude segun el tiempo, analizando cantidad y monto"
      ],
      "metadata": {
        "id": "ziXfXnq739rQ"
      }
    },
    {
      "cell_type": "code",
      "source": [
        "fraude = transactions_rdd.filter(lambda x: x.target == 1).cache()"
      ],
      "metadata": {
        "id": "5m30Zsw3p15G"
      },
      "execution_count": 161,
      "outputs": []
    },
    {
      "cell_type": "code",
      "source": [
        "def segundos(numero):\n",
        "  return numero - 86400\n",
        "\n",
        "def analisis(numero, divisor):\n",
        "  flotante = (numero - 86400) / divisor\n",
        "  entero = (numero - 86400) // divisor\n",
        "  if flotante > entero:\n",
        "    return entero + 1\n",
        "  else:\n",
        "    return entero\n",
        "\n",
        "def minutos(numero):\n",
        "  return analisis(numero, 60)\n",
        "\n",
        "def horas(numero):\n",
        "  return analisis(numero, 3600)\n",
        "\n",
        "def dias(numero):\n",
        "  return analisis(numero, 86400)\n",
        "\n",
        "def semanas(numero):\n",
        "  return analisis(numero, 604800)\n",
        "\n",
        "def meses(numero):\n",
        "  return analisis(numero, 2419200)\n",
        "\n",
        "def porcentaje_tupla(tupla, total):\n",
        "  return (tupla[0], redondeo(tupla[1], 2), redondeo(tupla[1] * 100 / total, 2))\n",
        "\n",
        "def porcentaje_lista(lista, total):\n",
        "  nueva_lista = []\n",
        "  for elemento in lista:\n",
        "    nueva_lista.append((elemento[0], redondeo(elemento[1], 2), redondeo(elemento[1] * 100 / total, 4)))\n",
        "  return nueva_lista"
      ],
      "metadata": {
        "id": "6AWogNui5weu"
      },
      "execution_count": 206,
      "outputs": []
    },
    {
      "cell_type": "markdown",
      "source": [
        "Cantidad respecto del tiempo"
      ],
      "metadata": {
        "id": "Q8PHB9tuUvV7"
      }
    },
    {
      "cell_type": "markdown",
      "source": [
        "Cantidad total respecto de segundos"
      ],
      "metadata": {
        "id": "pQRcfUQxU1xC"
      }
    },
    {
      "cell_type": "code",
      "source": [
        "cantidad_total = fraude.count()\n",
        "(fraude.map(lambda x: segundos(x.timestamp)).reduce(lambda a,b: a if a > b else b), cantidad_total, 100)"
      ],
      "metadata": {
        "colab": {
          "base_uri": "https://localhost:8080/"
        },
        "id": "9JrUCK9yTS4z",
        "outputId": "649903bf-90f6-40d2-8efe-1b0ae67acd7f"
      },
      "execution_count": 163,
      "outputs": [
        {
          "output_type": "execute_result",
          "data": {
            "text/plain": [
              "(13064705, 17580, 100)"
            ]
          },
          "metadata": {},
          "execution_count": 163
        }
      ]
    },
    {
      "cell_type": "markdown",
      "source": [
        "Top ten cantidad respecto de minutos"
      ],
      "metadata": {
        "id": "cz_4DCmmVAsU"
      }
    },
    {
      "cell_type": "code",
      "source": [
        "porcentaje_lista(fraude.map(lambda x: (minutos(x.timestamp), 1)).reduceByKey(lambda a,b: a + b).takeOrdered(10, lambda x: -x[1]), cantidad_total)"
      ],
      "metadata": {
        "colab": {
          "base_uri": "https://localhost:8080/"
        },
        "id": "_IDB7xo4CO8N",
        "outputId": "30fcc24e-97c4-4911-dcb2-3c14afc55862"
      },
      "execution_count": 207,
      "outputs": [
        {
          "output_type": "execute_result",
          "data": {
            "text/plain": [
              "[(139695, 6.0, 0.0341),\n",
              " (136426, 6.0, 0.0341),\n",
              " (73412, 5.0, 0.0284),\n",
              " (148153, 5.0, 0.0284),\n",
              " (96611, 4.0, 0.0227),\n",
              " (60687, 4.0, 0.0227),\n",
              " (27508, 4.0, 0.0227),\n",
              " (176918, 4.0, 0.0227),\n",
              " (89024, 4.0, 0.0227),\n",
              " (140574, 4.0, 0.0227)]"
            ]
          },
          "metadata": {},
          "execution_count": 207
        }
      ]
    },
    {
      "cell_type": "markdown",
      "source": [
        "Last ten cantidad respecto de minutos"
      ],
      "metadata": {
        "id": "SEaFtTtOIOlE"
      }
    },
    {
      "cell_type": "code",
      "source": [
        "porcentaje_lista(fraude.map(lambda x: (minutos(x.timestamp), 1)).reduceByKey(lambda a,b: a + b).takeOrdered(10, lambda x: x[1]), cantidad_total)"
      ],
      "metadata": {
        "colab": {
          "base_uri": "https://localhost:8080/"
        },
        "id": "-_dKpM5pH4UP",
        "outputId": "6861f2a2-2d3c-4fab-ef50-d729634cb1a8"
      },
      "execution_count": 208,
      "outputs": [
        {
          "output_type": "execute_result",
          "data": {
            "text/plain": [
              "[(100, 1.0, 0.0056),\n",
              " (110, 1.0, 0.0056),\n",
              " (220, 1.0, 0.0056),\n",
              " (490, 1.0, 0.0056),\n",
              " (645, 1.0, 0.0056),\n",
              " (665, 1.0, 0.0056),\n",
              " (835, 1.0, 0.0056),\n",
              " (865, 1.0, 0.0056),\n",
              " (925, 1.0, 0.0056),\n",
              " (1000, 1.0, 0.0056)]"
            ]
          },
          "metadata": {},
          "execution_count": 208
        }
      ]
    },
    {
      "cell_type": "markdown",
      "source": [
        "Top ten cantidad respecto de horas"
      ],
      "metadata": {
        "id": "YMeeWpFgVKTC"
      }
    },
    {
      "cell_type": "code",
      "source": [
        "porcentaje_lista(fraude.map(lambda x: (horas(x.timestamp), 1)).reduceByKey(lambda a,b: a + b).takeOrdered(10, lambda x: -x[1]), cantidad_total)"
      ],
      "metadata": {
        "colab": {
          "base_uri": "https://localhost:8080/"
        },
        "id": "BP5ql10XDNEF",
        "outputId": "dcf9edf7-8e3a-4360-ed06-099388ae62b4"
      },
      "execution_count": 209,
      "outputs": [
        {
          "output_type": "execute_result",
          "data": {
            "text/plain": [
              "[(1529, 42.0, 0.2389),\n",
              " (1344, 36.0, 0.2047),\n",
              " (1530, 33.0, 0.1877),\n",
              " (2790, 32.0, 0.182),\n",
              " (2781, 32.0, 0.182),\n",
              " (2949, 31.0, 0.1763),\n",
              " (1026, 27.0, 0.1535),\n",
              " (1484, 26.0, 0.1478),\n",
              " (430, 25.0, 0.1422),\n",
              " (1531, 25.0, 0.1422)]"
            ]
          },
          "metadata": {},
          "execution_count": 209
        }
      ]
    },
    {
      "cell_type": "markdown",
      "source": [
        "Last ten cantidad respecto de horas"
      ],
      "metadata": {
        "id": "w6uV_ZkZIim8"
      }
    },
    {
      "cell_type": "code",
      "source": [
        "porcentaje_lista(fraude.map(lambda x: (horas(x.timestamp), 1)).reduceByKey(lambda a,b: a + b).takeOrdered(10, lambda x: x[1]), cantidad_total)"
      ],
      "metadata": {
        "colab": {
          "base_uri": "https://localhost:8080/"
        },
        "id": "dXjtl6mkIn8s",
        "outputId": "138c99df-9f3e-4f73-b33d-5503bb9bd7bf"
      },
      "execution_count": 210,
      "outputs": [
        {
          "output_type": "execute_result",
          "data": {
            "text/plain": [
              "[(10, 1.0, 0.0056),\n",
              " (110, 1.0, 0.0056),\n",
              " (135, 1.0, 0.0056),\n",
              " (180, 1.0, 0.0056),\n",
              " (185, 1.0, 0.0056),\n",
              " (200, 1.0, 0.0056),\n",
              " (205, 1.0, 0.0056),\n",
              " (250, 1.0, 0.0056),\n",
              " (270, 1.0, 0.0056),\n",
              " (275, 1.0, 0.0056)]"
            ]
          },
          "metadata": {},
          "execution_count": 210
        }
      ]
    },
    {
      "cell_type": "markdown",
      "source": [
        "Cantidad respecto de días"
      ],
      "metadata": {
        "id": "umVarL0uVORK"
      }
    },
    {
      "cell_type": "code",
      "source": [
        "porcentaje_lista(sorted(fraude.map(lambda x: (dias(x.timestamp), 1)).reduceByKey(lambda a,b: a + b).collect()), cantidad_total)"
      ],
      "metadata": {
        "colab": {
          "base_uri": "https://localhost:8080/"
        },
        "id": "1Yr5ifVaDzUs",
        "outputId": "5a123cb4-59ad-4c4f-bbb3-0c03b43881ab"
      },
      "execution_count": 211,
      "outputs": [
        {
          "output_type": "execute_result",
          "data": {
            "text/plain": [
              "[(1, 112.0, 0.637),\n",
              " (2, 123.0, 0.6996),\n",
              " (3, 92.0, 0.5233),\n",
              " (4, 115.0, 0.6541),\n",
              " (5, 127.0, 0.7224),\n",
              " (6, 99.0, 0.5631),\n",
              " (7, 136.0, 0.7736),\n",
              " (8, 93.0, 0.529),\n",
              " (9, 119.0, 0.6769),\n",
              " (10, 90.0, 0.5119),\n",
              " (11, 123.0, 0.6996),\n",
              " (12, 84.0, 0.4778),\n",
              " (13, 82.0, 0.4664),\n",
              " (14, 126.0, 0.7167),\n",
              " (15, 143.0, 0.8134),\n",
              " (16, 70.0, 0.3981),\n",
              " (17, 126.0, 0.7167),\n",
              " (18, 161.0, 0.9158),\n",
              " (19, 118.0, 0.6712),\n",
              " (20, 135.0, 0.7679),\n",
              " (21, 116.0, 0.6598),\n",
              " (22, 147.0, 0.8361),\n",
              " (23, 106.0, 0.6029),\n",
              " (24, 76.0, 0.4323),\n",
              " (25, 63.0, 0.3583),\n",
              " (26, 82.0, 0.4664),\n",
              " (27, 100.0, 0.5688),\n",
              " (28, 150.0, 0.8532),\n",
              " (29, 129.0, 0.7337),\n",
              " (30, 158.0, 0.8987),\n",
              " (31, 149.0, 0.8475),\n",
              " (32, 51.0, 0.2901),\n",
              " (33, 123.0, 0.6996),\n",
              " (34, 159.0, 0.9044),\n",
              " (35, 120.0, 0.6825),\n",
              " (36, 135.0, 0.7679),\n",
              " (37, 126.0, 0.7167),\n",
              " (38, 110.0, 0.6257),\n",
              " (39, 117.0, 0.6655),\n",
              " (40, 109.0, 0.62),\n",
              " (41, 121.0, 0.6882),\n",
              " (42, 85.0, 0.4835),\n",
              " (43, 160.0, 0.9101),\n",
              " (44, 119.0, 0.6769),\n",
              " (45, 100.0, 0.5688),\n",
              " (46, 117.0, 0.6655),\n",
              " (47, 91.0, 0.5176),\n",
              " (48, 115.0, 0.6541),\n",
              " (49, 121.0, 0.6882),\n",
              " (50, 175.0, 0.9954),\n",
              " (51, 148.0, 0.8418),\n",
              " (52, 114.0, 0.6484),\n",
              " (53, 79.0, 0.4493),\n",
              " (54, 112.0, 0.637),\n",
              " (55, 76.0, 0.4323),\n",
              " (56, 158.0, 0.8987),\n",
              " (57, 109.0, 0.62),\n",
              " (58, 102.0, 0.5802),\n",
              " (59, 168.0, 0.9556),\n",
              " (60, 108.0, 0.6143),\n",
              " (61, 112.0, 0.637),\n",
              " (62, 165.0, 0.9385),\n",
              " (63, 163.0, 0.9271),\n",
              " (64, 234.0, 1.331),\n",
              " (65, 183.0, 1.0409),\n",
              " (66, 85.0, 0.4835),\n",
              " (67, 120.0, 0.6825),\n",
              " (68, 111.0, 0.6313),\n",
              " (69, 118.0, 0.6712),\n",
              " (70, 145.0, 0.8248),\n",
              " (71, 152.0, 0.8646),\n",
              " (72, 94.0, 0.5346),\n",
              " (73, 135.0, 0.7679),\n",
              " (74, 120.0, 0.6825),\n",
              " (75, 110.0, 0.6257),\n",
              " (76, 144.0, 0.8191),\n",
              " (77, 125.0, 0.711),\n",
              " (78, 100.0, 0.5688),\n",
              " (79, 113.0, 0.6427),\n",
              " (80, 66.0, 0.3754),\n",
              " (81, 105.0, 0.5972),\n",
              " (82, 95.0, 0.5403),\n",
              " (83, 81.0, 0.4607),\n",
              " (84, 116.0, 0.6598),\n",
              " (85, 187.0, 1.0637),\n",
              " (86, 125.0, 0.711),\n",
              " (87, 99.0, 0.5631),\n",
              " (88, 75.0, 0.4266),\n",
              " (89, 114.0, 0.6484),\n",
              " (90, 132.0, 0.7508),\n",
              " (91, 180.0, 1.0238),\n",
              " (92, 147.0, 0.8361),\n",
              " (93, 151.0, 0.8589),\n",
              " (94, 81.0, 0.4607),\n",
              " (95, 150.0, 0.8532),\n",
              " (96, 91.0, 0.5176),\n",
              " (97, 135.0, 0.7679),\n",
              " (98, 129.0, 0.7337),\n",
              " (99, 105.0, 0.5972),\n",
              " (100, 100.0, 0.5688),\n",
              " (101, 68.0, 0.3868),\n",
              " (102, 105.0, 0.5972),\n",
              " (103, 97.0, 0.5517),\n",
              " (104, 111.0, 0.6313),\n",
              " (105, 132.0, 0.7508),\n",
              " (106, 152.0, 0.8646),\n",
              " (107, 127.0, 0.7224),\n",
              " (108, 96.0, 0.546),\n",
              " (109, 133.0, 0.7565),\n",
              " (110, 117.0, 0.6655),\n",
              " (111, 102.0, 0.5802),\n",
              " (112, 139.0, 0.7906),\n",
              " (113, 161.0, 0.9158),\n",
              " (114, 150.0, 0.8532),\n",
              " (115, 139.0, 0.7906),\n",
              " (116, 163.0, 0.9271),\n",
              " (117, 194.0, 1.1035),\n",
              " (118, 117.0, 0.6655),\n",
              " (119, 145.0, 0.8248),\n",
              " (120, 181.0, 1.0295),\n",
              " (121, 121.0, 0.6882),\n",
              " (122, 64.0, 0.364),\n",
              " (123, 128.0, 0.7281),\n",
              " (124, 89.0, 0.5062),\n",
              " (125, 148.0, 0.8418),\n",
              " (126, 102.0, 0.5802),\n",
              " (127, 84.0, 0.4778),\n",
              " (128, 69.0, 0.3924),\n",
              " (129, 130.0, 0.7394),\n",
              " (130, 95.0, 0.5403),\n",
              " (131, 105.0, 0.5972),\n",
              " (132, 108.0, 0.6143),\n",
              " (133, 136.0, 0.7736),\n",
              " (134, 103.0, 0.5858),\n",
              " (135, 90.0, 0.5119),\n",
              " (136, 73.0, 0.4152),\n",
              " (137, 69.0, 0.3924),\n",
              " (138, 112.0, 0.637),\n",
              " (139, 61.0, 0.3469),\n",
              " (140, 103.0, 0.5858),\n",
              " (141, 131.0, 0.7451),\n",
              " (142, 103.0, 0.5858),\n",
              " (143, 71.0, 0.4038),\n",
              " (144, 90.0, 0.5119),\n",
              " (145, 67.0, 0.3811),\n",
              " (146, 98.0, 0.5574),\n",
              " (147, 79.0, 0.4493),\n",
              " (148, 86.0, 0.4891),\n",
              " (149, 66.0, 0.3754),\n",
              " (150, 69.0, 0.3924),\n",
              " (151, 99.0, 0.5631),\n",
              " (152, 31.0, 0.1763)]"
            ]
          },
          "metadata": {},
          "execution_count": 211
        }
      ]
    },
    {
      "cell_type": "markdown",
      "source": [
        "Top ten cantidad respecto de días"
      ],
      "metadata": {
        "id": "RK_DfTrxVU7y"
      }
    },
    {
      "cell_type": "code",
      "source": [
        "porcentaje_lista(fraude.map(lambda x: (dias(x.timestamp), 1)).reduceByKey(lambda a,b: a + b).takeOrdered(10, lambda x: -x[1]), cantidad_total)"
      ],
      "metadata": {
        "colab": {
          "base_uri": "https://localhost:8080/"
        },
        "id": "7rNDGkaiRAvS",
        "outputId": "d81ec8a9-a311-4f25-b232-85a1782cfcbf"
      },
      "execution_count": 212,
      "outputs": [
        {
          "output_type": "execute_result",
          "data": {
            "text/plain": [
              "[(64, 234.0, 1.331),\n",
              " (117, 194.0, 1.1035),\n",
              " (85, 187.0, 1.0637),\n",
              " (65, 183.0, 1.0409),\n",
              " (120, 181.0, 1.0295),\n",
              " (91, 180.0, 1.0238),\n",
              " (50, 175.0, 0.9954),\n",
              " (59, 168.0, 0.9556),\n",
              " (62, 165.0, 0.9385),\n",
              " (116, 163.0, 0.9271)]"
            ]
          },
          "metadata": {},
          "execution_count": 212
        }
      ]
    },
    {
      "cell_type": "markdown",
      "source": [
        "Last ten cantidad respecto de días"
      ],
      "metadata": {
        "id": "QMd9pxs6JP_m"
      }
    },
    {
      "cell_type": "code",
      "source": [
        "porcentaje_lista(fraude.map(lambda x: (dias(x.timestamp), 1)).reduceByKey(lambda a,b: a + b).takeOrdered(10, lambda x: x[1]), cantidad_total)"
      ],
      "metadata": {
        "colab": {
          "base_uri": "https://localhost:8080/"
        },
        "id": "9PewxHtsJTh8",
        "outputId": "0dd1a9df-1c86-4962-8af8-ba0b1a27bebe"
      },
      "execution_count": 213,
      "outputs": [
        {
          "output_type": "execute_result",
          "data": {
            "text/plain": [
              "[(152, 31.0, 0.1763),\n",
              " (32, 51.0, 0.2901),\n",
              " (139, 61.0, 0.3469),\n",
              " (25, 63.0, 0.3583),\n",
              " (122, 64.0, 0.364),\n",
              " (80, 66.0, 0.3754),\n",
              " (149, 66.0, 0.3754),\n",
              " (145, 67.0, 0.3811),\n",
              " (101, 68.0, 0.3868),\n",
              " (150, 69.0, 0.3924)]"
            ]
          },
          "metadata": {},
          "execution_count": 213
        }
      ]
    },
    {
      "cell_type": "markdown",
      "source": [
        "Cantidad respecto de semanas"
      ],
      "metadata": {
        "id": "ZFf35XZXVX1K"
      }
    },
    {
      "cell_type": "code",
      "source": [
        "porcentaje_lista(sorted(fraude.map(lambda x: (semanas(x.timestamp), 1)).reduceByKey(lambda a,b: a + b).collect()), cantidad_total)"
      ],
      "metadata": {
        "colab": {
          "base_uri": "https://localhost:8080/"
        },
        "id": "smZLkrJUECF0",
        "outputId": "9b477f61-b05c-4d9e-d26c-37b4e0ffd93c"
      },
      "execution_count": 214,
      "outputs": [
        {
          "output_type": "execute_result",
          "data": {
            "text/plain": [
              "[(1, 804.0, 4.5733),\n",
              " (2, 717.0, 4.0784),\n",
              " (3, 869.0, 4.9431),\n",
              " (4, 724.0, 4.1183),\n",
              " (5, 889.0, 5.0568),\n",
              " (6, 803.0, 4.5676),\n",
              " (7, 823.0, 4.6814),\n",
              " (8, 862.0, 4.9032),\n",
              " (9, 927.0, 5.273),\n",
              " (10, 996.0, 5.6655),\n",
              " (11, 880.0, 5.0056),\n",
              " (12, 676.0, 3.8452),\n",
              " (13, 912.0, 5.1877),\n",
              " (14, 884.0, 5.0284),\n",
              " (15, 718.0, 4.0841),\n",
              " (16, 866.0, 4.926),\n",
              " (17, 1069.0, 6.0807),\n",
              " (18, 833.0, 4.7383),\n",
              " (19, 727.0, 4.1353),\n",
              " (20, 611.0, 3.4755),\n",
              " (21, 639.0, 3.6348),\n",
              " (22, 351.0, 1.9965)]"
            ]
          },
          "metadata": {},
          "execution_count": 214
        }
      ]
    },
    {
      "cell_type": "markdown",
      "source": [
        "Top ten cantidad respecto de semanas"
      ],
      "metadata": {
        "id": "stGhR50EVi7i"
      }
    },
    {
      "cell_type": "code",
      "source": [
        "porcentaje_lista(fraude.map(lambda x: (semanas(x.timestamp), 1)).reduceByKey(lambda a,b: a + b).takeOrdered(10, lambda x: -x[1]), cantidad_total)"
      ],
      "metadata": {
        "colab": {
          "base_uri": "https://localhost:8080/"
        },
        "id": "FOPZytbDRIsy",
        "outputId": "5e5dbc77-344d-49d5-b70d-acbb0b912523"
      },
      "execution_count": 215,
      "outputs": [
        {
          "output_type": "execute_result",
          "data": {
            "text/plain": [
              "[(17, 1069.0, 6.0807),\n",
              " (10, 996.0, 5.6655),\n",
              " (9, 927.0, 5.273),\n",
              " (13, 912.0, 5.1877),\n",
              " (5, 889.0, 5.0568),\n",
              " (14, 884.0, 5.0284),\n",
              " (11, 880.0, 5.0056),\n",
              " (3, 869.0, 4.9431),\n",
              " (16, 866.0, 4.926),\n",
              " (8, 862.0, 4.9032)]"
            ]
          },
          "metadata": {},
          "execution_count": 215
        }
      ]
    },
    {
      "cell_type": "markdown",
      "source": [
        "Last ten cantidad respecto de semanas"
      ],
      "metadata": {
        "id": "hmAdDrK6JsBl"
      }
    },
    {
      "cell_type": "code",
      "source": [
        "porcentaje_lista(fraude.map(lambda x: (semanas(x.timestamp), 1)).reduceByKey(lambda a,b: a + b).takeOrdered(10, lambda x: x[1]), cantidad_total)"
      ],
      "metadata": {
        "colab": {
          "base_uri": "https://localhost:8080/"
        },
        "id": "yVUYbbtWJvyd",
        "outputId": "30f7ff6c-ce57-45e0-d613-1e2612908c40"
      },
      "execution_count": 216,
      "outputs": [
        {
          "output_type": "execute_result",
          "data": {
            "text/plain": [
              "[(22, 351.0, 1.9965),\n",
              " (20, 611.0, 3.4755),\n",
              " (21, 639.0, 3.6348),\n",
              " (12, 676.0, 3.8452),\n",
              " (2, 717.0, 4.0784),\n",
              " (15, 718.0, 4.0841),\n",
              " (4, 724.0, 4.1183),\n",
              " (19, 727.0, 4.1353),\n",
              " (6, 803.0, 4.5676),\n",
              " (1, 804.0, 4.5733)]"
            ]
          },
          "metadata": {},
          "execution_count": 216
        }
      ]
    },
    {
      "cell_type": "markdown",
      "source": [
        "Cantidad respecto de meses"
      ],
      "metadata": {
        "id": "g5KWuys7VozS"
      }
    },
    {
      "cell_type": "code",
      "source": [
        "porcentaje_lista(sorted(fraude.map(lambda x: (meses(x.timestamp), 1)).reduceByKey(lambda a,b: a + b).collect()), cantidad_total)"
      ],
      "metadata": {
        "colab": {
          "base_uri": "https://localhost:8080/"
        },
        "id": "XkkYbmE7EliT",
        "outputId": "3e3d6a94-0af3-4382-c638-cb0dd1c4ae8c"
      },
      "execution_count": 217,
      "outputs": [
        {
          "output_type": "execute_result",
          "data": {
            "text/plain": [
              "[(1, 3114.0, 17.7133),\n",
              " (2, 3377.0, 19.2093),\n",
              " (3, 3479.0, 19.7895),\n",
              " (4, 3380.0, 19.2263),\n",
              " (5, 3240.0, 18.43),\n",
              " (6, 990.0, 5.6313)]"
            ]
          },
          "metadata": {},
          "execution_count": 217
        }
      ]
    },
    {
      "cell_type": "code",
      "source": [
        "porcentaje_tupla(fraude.map(lambda x: (meses(x.timestamp), 1)).reduceByKey(lambda a,b: a + b).reduce(lambda a,b: a if a[1] > b[1] else b), cantidad_total)"
      ],
      "metadata": {
        "colab": {
          "base_uri": "https://localhost:8080/"
        },
        "id": "mjMXuoc2_03-",
        "outputId": "6c87cef1-f171-4c69-f3d7-13cc0321deb7"
      },
      "execution_count": 218,
      "outputs": [
        {
          "output_type": "execute_result",
          "data": {
            "text/plain": [
              "(3, 3479.0, 19.78)"
            ]
          },
          "metadata": {},
          "execution_count": 218
        }
      ]
    },
    {
      "cell_type": "markdown",
      "source": [
        "Monto respecto del tiempo"
      ],
      "metadata": {
        "id": "LRn2WvlSwcpJ"
      }
    },
    {
      "cell_type": "markdown",
      "source": [
        "Máximo monto respecto de segundos"
      ],
      "metadata": {
        "id": "hzOBcO2ZvSPq"
      }
    },
    {
      "cell_type": "code",
      "source": [
        "monto_total = fraude.map(lambda x: (1, x.ammount)).reduceByKey(lambda a,b: a + b).collect()[0][1]\n",
        "(fraude.map(lambda x: segundos(x.timestamp)).reduce(lambda a,b: a if a > b else b), redondeo(monto_total, 2), 100)"
      ],
      "metadata": {
        "id": "PDyGpqJbXVky",
        "colab": {
          "base_uri": "https://localhost:8080/"
        },
        "outputId": "6fba5eb8-1ae3-426e-a2cf-9bcb1b57b3c0"
      },
      "execution_count": 220,
      "outputs": [
        {
          "output_type": "execute_result",
          "data": {
            "text/plain": [
              "(13064705, 2614236.33, 100)"
            ]
          },
          "metadata": {},
          "execution_count": 220
        }
      ]
    },
    {
      "cell_type": "markdown",
      "source": [
        "Top ten monto respecto de minutos"
      ],
      "metadata": {
        "id": "ie6VtYxJvlHi"
      }
    },
    {
      "cell_type": "code",
      "source": [
        "porcentaje_lista(fraude.map(lambda x: (minutos(x.timestamp), x.ammount)).reduceByKey(lambda a,b: a + b).takeOrdered(10, lambda x: -x[1]), monto_total)"
      ],
      "metadata": {
        "colab": {
          "base_uri": "https://localhost:8080/"
        },
        "id": "O8eOwzl3srB5",
        "outputId": "7ba18469-ac3b-4dd3-f66d-b491ae459628"
      },
      "execution_count": 221,
      "outputs": [
        {
          "output_type": "execute_result",
          "data": {
            "text/plain": [
              "[(176918, 6239.6, 0.2386),\n",
              " (99097, 4191.0, 0.1603),\n",
              " (199979, 3822.95, 0.1462),\n",
              " (189819, 3280.05, 0.1254),\n",
              " (87835, 3247.16, 0.1242),\n",
              " (120792, 3221.0, 0.1232),\n",
              " (151504, 3191.0, 0.122),\n",
              " (89633, 3190.0, 0.122),\n",
              " (151593, 3190.0, 0.122),\n",
              " (181769, 3190.0, 0.122)]"
            ]
          },
          "metadata": {},
          "execution_count": 221
        }
      ]
    },
    {
      "cell_type": "markdown",
      "source": [
        "Last ten monto respecto de minutos"
      ],
      "metadata": {
        "id": "bs97h5x-K4aw"
      }
    },
    {
      "cell_type": "code",
      "source": [
        "porcentaje_lista(fraude.map(lambda x: (minutos(x.timestamp), x.ammount)).reduceByKey(lambda a,b: a + b).takeOrdered(10, lambda x: x[1]), monto_total)"
      ],
      "metadata": {
        "colab": {
          "base_uri": "https://localhost:8080/"
        },
        "id": "MBlxns7vK_bN",
        "outputId": "83342826-400b-4328-ccd1-307fdc8ab03c"
      },
      "execution_count": 222,
      "outputs": [
        {
          "output_type": "execute_result",
          "data": {
            "text/plain": [
              "[(77470, 0.29, 0.0),\n",
              " (77302, 0.29, 0.0),\n",
              " (77307, 0.29, 0.0),\n",
              " (11188, 0.29, 0.0),\n",
              " (77311, 0.35, 0.0),\n",
              " (15646, 0.42, 0.0),\n",
              " (15588, 0.42, 0.0),\n",
              " (15594, 0.42, 0.0),\n",
              " (15639, 0.42, 0.0),\n",
              " (8390, 0.46, 0.0)]"
            ]
          },
          "metadata": {},
          "execution_count": 222
        }
      ]
    },
    {
      "cell_type": "markdown",
      "source": [
        "Top ten monto respecto de horas"
      ],
      "metadata": {
        "id": "YgdxzzkWvvY4"
      }
    },
    {
      "cell_type": "code",
      "source": [
        "porcentaje_lista(fraude.map(lambda x: (horas(x.timestamp), x.ammount)).reduceByKey(lambda a,b: a + b).takeOrdered(10, lambda x: -x[1]), monto_total)"
      ],
      "metadata": {
        "colab": {
          "base_uri": "https://localhost:8080/"
        },
        "id": "wTsF26zXtneR",
        "outputId": "3ab1a72c-c47b-45c5-dd15-33c50235c2ad"
      },
      "execution_count": 223,
      "outputs": [
        {
          "output_type": "execute_result",
          "data": {
            "text/plain": [
              "[(3000, 10744.97, 0.411),\n",
              " (2949, 10068.41, 0.3851),\n",
              " (3217, 9004.46, 0.3444),\n",
              " (2086, 6795.08, 0.2599),\n",
              " (2875, 6710.91, 0.2567),\n",
              " (2991, 6565.0, 0.2511),\n",
              " (2973, 6307.91, 0.2412),\n",
              " (2879, 6088.46, 0.2328),\n",
              " (3178, 6031.0, 0.2306),\n",
              " (3384, 5995.85, 0.2293)]"
            ]
          },
          "metadata": {},
          "execution_count": 223
        }
      ]
    },
    {
      "cell_type": "markdown",
      "source": [
        "Last ten monto respecto de horas"
      ],
      "metadata": {
        "id": "RB2NlULjLdbC"
      }
    },
    {
      "cell_type": "code",
      "source": [
        "porcentaje_lista(fraude.map(lambda x: (horas(x.timestamp), x.ammount)).reduceByKey(lambda a,b: a + b).takeOrdered(10, lambda x: x[1]), monto_total)"
      ],
      "metadata": {
        "colab": {
          "base_uri": "https://localhost:8080/"
        },
        "id": "Hlage4nULfSt",
        "outputId": "047cc64e-d216-49ca-a8ba-29840fa3ff7d"
      },
      "execution_count": 224,
      "outputs": [
        {
          "output_type": "execute_result",
          "data": {
            "text/plain": [
              "[(310, 2.44, 0.0),\n",
              " (3057, 6.16, 0.0002),\n",
              " (3297, 7.65, 0.0002),\n",
              " (2477, 8.21, 0.0003),\n",
              " (3588, 8.91, 0.0003),\n",
              " (2334, 9.54, 0.0003),\n",
              " (2433, 9.99, 0.0003),\n",
              " (2309, 10.35, 0.0003),\n",
              " (3441, 11.06, 0.0004),\n",
              " (2313, 12.68, 0.0004)]"
            ]
          },
          "metadata": {},
          "execution_count": 224
        }
      ]
    },
    {
      "cell_type": "markdown",
      "source": [
        "Monto respecto de días"
      ],
      "metadata": {
        "id": "hq35wcc_vy4g"
      }
    },
    {
      "cell_type": "code",
      "source": [
        "porcentaje_lista(sorted(fraude.map(lambda x: (dias(x.timestamp), x.ammount)).reduceByKey(lambda a,b: a + b).collect()), monto_total)"
      ],
      "metadata": {
        "colab": {
          "base_uri": "https://localhost:8080/"
        },
        "id": "nW0hZ95XtxAq",
        "outputId": "edff38a5-c864-42b7-9d0d-ade1ca694825"
      },
      "execution_count": 225,
      "outputs": [
        {
          "output_type": "execute_result",
          "data": {
            "text/plain": [
              "[(1, 20337.14, 0.7779),\n",
              " (2, 15359.6, 0.5875),\n",
              " (3, 14254.33, 0.5452),\n",
              " (4, 14120.44, 0.5401),\n",
              " (5, 16692.72, 0.6385),\n",
              " (6, 12869.08, 0.4922),\n",
              " (7, 21670.36, 0.8289),\n",
              " (8, 13508.15, 0.5167),\n",
              " (9, 13106.59, 0.5013),\n",
              " (10, 12709.72, 0.4861),\n",
              " (11, 21725.53, 0.831),\n",
              " (12, 14710.55, 0.5627),\n",
              " (13, 10975.38, 0.4198),\n",
              " (14, 15782.4, 0.6037),\n",
              " (15, 16438.68, 0.6288),\n",
              " (16, 7279.53, 0.2784),\n",
              " (17, 14338.32, 0.5484),\n",
              " (18, 19745.87, 0.7553),\n",
              " (19, 13647.86, 0.522),\n",
              " (20, 20877.6, 0.7986),\n",
              " (21, 11047.98, 0.4226),\n",
              " (22, 18677.98, 0.7144),\n",
              " (23, 15191.02, 0.581),\n",
              " (24, 11902.08, 0.4552),\n",
              " (25, 5965.49, 0.2281),\n",
              " (26, 12609.16, 0.4823),\n",
              " (27, 14725.04, 0.5632),\n",
              " (28, 22367.33, 0.8555),\n",
              " (29, 16953.83, 0.6485),\n",
              " (30, 22107.92, 0.8456),\n",
              " (31, 18823.93, 0.72),\n",
              " (32, 6477.42, 0.2477),\n",
              " (33, 18623.23, 0.7123),\n",
              " (34, 22765.2, 0.8708),\n",
              " (35, 15812.87, 0.6048),\n",
              " (36, 20959.42, 0.8017),\n",
              " (37, 24458.92, 0.9356),\n",
              " (38, 13548.03, 0.5182),\n",
              " (39, 15022.65, 0.5746),\n",
              " (40, 16653.4, 0.637),\n",
              " (41, 18989.12, 0.7263),\n",
              " (42, 12384.08, 0.4737),\n",
              " (43, 15913.49, 0.6087),\n",
              " (44, 18996.22, 0.7266),\n",
              " (45, 11489.53, 0.4394),\n",
              " (46, 17005.3, 0.6504),\n",
              " (47, 12495.11, 0.4779),\n",
              " (48, 14594.98, 0.5582),\n",
              " (49, 14391.14, 0.5504),\n",
              " (50, 20959.67, 0.8017),\n",
              " (51, 21140.62, 0.8086),\n",
              " (52, 16147.65, 0.6176),\n",
              " (53, 14708.18, 0.5626),\n",
              " (54, 15866.52, 0.6069),\n",
              " (55, 12273.24, 0.4694),\n",
              " (56, 17105.83, 0.6543),\n",
              " (57, 14132.87, 0.5406),\n",
              " (58, 13686.21, 0.5235),\n",
              " (59, 18960.51, 0.7252),\n",
              " (60, 15173.16, 0.5804),\n",
              " (61, 21518.99, 0.8231),\n",
              " (62, 19006.24, 0.727),\n",
              " (63, 24982.33, 0.9556),\n",
              " (64, 27517.51, 1.0526),\n",
              " (65, 24761.23, 0.9471),\n",
              " (66, 9832.45, 0.3761),\n",
              " (67, 8018.99, 0.3067),\n",
              " (68, 19486.88, 0.7454),\n",
              " (69, 23886.02, 0.9136),\n",
              " (70, 20616.31, 0.7886),\n",
              " (71, 19799.13, 0.7573),\n",
              " (72, 11278.5, 0.4314),\n",
              " (73, 13472.2, 0.5153),\n",
              " (74, 14670.92, 0.5611),\n",
              " (75, 14588.7, 0.558),\n",
              " (76, 22259.98, 0.8514),\n",
              " (77, 12042.2, 0.4606),\n",
              " (78, 11006.37, 0.421),\n",
              " (79, 15463.53, 0.5915),\n",
              " (80, 8365.21, 0.3199),\n",
              " (81, 14053.99, 0.5375),\n",
              " (82, 16771.69, 0.6415),\n",
              " (83, 13394.14, 0.5123),\n",
              " (84, 13479.26, 0.5156),\n",
              " (85, 28536.53, 1.0915),\n",
              " (86, 15185.32, 0.5808),\n",
              " (87, 24689.96, 0.9444),\n",
              " (88, 14657.43, 0.5606),\n",
              " (89, 16943.92, 0.6481),\n",
              " (90, 23352.64, 0.8932),\n",
              " (91, 24289.77, 0.9291),\n",
              " (92, 20016.55, 0.7656),\n",
              " (93, 20032.75, 0.7662),\n",
              " (94, 8975.89, 0.3433),\n",
              " (95, 31478.14, 1.2041),\n",
              " (96, 19764.8, 0.756),\n",
              " (97, 21625.25, 0.8272),\n",
              " (98, 24459.14, 0.9356),\n",
              " (99, 18637.9, 0.7129),\n",
              " (100, 12417.61, 0.4749),\n",
              " (101, 11407.32, 0.4363),\n",
              " (102, 18106.95, 0.6926),\n",
              " (103, 17560.43, 0.6717),\n",
              " (104, 22104.07, 0.8455),\n",
              " (105, 22964.42, 0.8784),\n",
              " (106, 30852.04, 1.1801),\n",
              " (107, 18728.0, 0.7163),\n",
              " (108, 17292.53, 0.6614),\n",
              " (109, 32184.5, 1.2311),\n",
              " (110, 23499.02, 0.8988),\n",
              " (111, 17337.14, 0.6631),\n",
              " (112, 27171.11, 1.0393),\n",
              " (113, 25456.08, 0.9737),\n",
              " (114, 29092.98, 1.1128),\n",
              " (115, 20384.94, 0.7797),\n",
              " (116, 24992.8, 0.956),\n",
              " (117, 18357.42, 0.7022),\n",
              " (118, 17647.02, 0.675),\n",
              " (119, 23047.98, 0.8816),\n",
              " (120, 39055.2, 1.4939),\n",
              " (121, 22508.97, 0.861),\n",
              " (122, 10219.8, 0.3909),\n",
              " (123, 22888.52, 0.8755),\n",
              " (124, 15314.67, 0.5858),\n",
              " (125, 34599.42, 1.3235),\n",
              " (126, 13252.2, 0.5069),\n",
              " (127, 14091.58, 0.539),\n",
              " (128, 7897.82, 0.3021),\n",
              " (129, 14276.81, 0.5461),\n",
              " (130, 13494.67, 0.5161),\n",
              " (131, 15954.84, 0.6103),\n",
              " (132, 25954.06, 0.9927),\n",
              " (133, 23102.9, 0.8837),\n",
              " (134, 13602.01, 0.5203),\n",
              " (135, 16273.36, 0.6224),\n",
              " (136, 12192.38, 0.4663),\n",
              " (137, 12413.43, 0.4748),\n",
              " (138, 17611.9, 0.6736),\n",
              " (139, 18417.26, 0.7044),\n",
              " (140, 14815.23, 0.5667),\n",
              " (141, 24475.53, 0.9362),\n",
              " (142, 13260.68, 0.5072),\n",
              " (143, 10804.99, 0.4133),\n",
              " (144, 14808.52, 0.5664),\n",
              " (145, 8080.86, 0.3091),\n",
              " (146, 11678.73, 0.4467),\n",
              " (147, 11709.83, 0.4479),\n",
              " (148, 13237.49, 0.5063),\n",
              " (149, 7826.8, 0.2993),\n",
              " (150, 7782.21, 0.2976),\n",
              " (151, 10106.25, 0.3865),\n",
              " (152, 7747.41, 0.2963)]"
            ]
          },
          "metadata": {},
          "execution_count": 225
        }
      ]
    },
    {
      "cell_type": "markdown",
      "source": [
        "Top ten monto respecto de días"
      ],
      "metadata": {
        "id": "gYR_Ek3lv5kp"
      }
    },
    {
      "cell_type": "code",
      "source": [
        "porcentaje_lista(fraude.map(lambda x: (dias(x.timestamp), x.ammount)).reduceByKey(lambda a,b: a + b).takeOrdered(10, lambda x: -x[1]), monto_total)"
      ],
      "metadata": {
        "colab": {
          "base_uri": "https://localhost:8080/"
        },
        "id": "KGbY69rkt7Ta",
        "outputId": "624238f1-28b0-470d-ffb2-4cc91f7555fd"
      },
      "execution_count": 226,
      "outputs": [
        {
          "output_type": "execute_result",
          "data": {
            "text/plain": [
              "[(120, 39055.2, 1.4939),\n",
              " (125, 34599.42, 1.3235),\n",
              " (109, 32184.5, 1.2311),\n",
              " (95, 31478.14, 1.2041),\n",
              " (106, 30852.04, 1.1801),\n",
              " (114, 29092.98, 1.1128),\n",
              " (85, 28536.53, 1.0915),\n",
              " (64, 27517.51, 1.0526),\n",
              " (112, 27171.11, 1.0393),\n",
              " (132, 25954.06, 0.9927)]"
            ]
          },
          "metadata": {},
          "execution_count": 226
        }
      ]
    },
    {
      "cell_type": "markdown",
      "source": [
        "Last ten monto respecto de días"
      ],
      "metadata": {
        "id": "MLhBUhpJM8ct"
      }
    },
    {
      "cell_type": "code",
      "source": [
        "porcentaje_lista(fraude.map(lambda x: (dias(x.timestamp), x.ammount)).reduceByKey(lambda a,b: a + b).takeOrdered(10, lambda x: x[1]), monto_total)"
      ],
      "metadata": {
        "colab": {
          "base_uri": "https://localhost:8080/"
        },
        "id": "uA3NNFEpNALt",
        "outputId": "86269157-9371-4644-cb2d-7e5c1aeb45e8"
      },
      "execution_count": 227,
      "outputs": [
        {
          "output_type": "execute_result",
          "data": {
            "text/plain": [
              "[(25, 5965.49, 0.2281),\n",
              " (32, 6477.42, 0.2477),\n",
              " (16, 7279.53, 0.2784),\n",
              " (152, 7747.41, 0.2963),\n",
              " (150, 7782.21, 0.2976),\n",
              " (149, 7826.8, 0.2993),\n",
              " (128, 7897.82, 0.3021),\n",
              " (67, 8018.99, 0.3067),\n",
              " (145, 8080.86, 0.3091),\n",
              " (80, 8365.21, 0.3199)]"
            ]
          },
          "metadata": {},
          "execution_count": 227
        }
      ]
    },
    {
      "cell_type": "markdown",
      "source": [
        "Monto respecto de semanas"
      ],
      "metadata": {
        "id": "a6dYez1Ev9np"
      }
    },
    {
      "cell_type": "code",
      "source": [
        "porcentaje_lista(sorted(fraude.map(lambda x: (semanas(x.timestamp), x.ammount)).reduceByKey(lambda a,b: a + b).collect()), monto_total)"
      ],
      "metadata": {
        "colab": {
          "base_uri": "https://localhost:8080/"
        },
        "id": "Cmmwls3iuPTj",
        "outputId": "ca6d4d12-d1a7-4a68-84bd-d047b886055b"
      },
      "execution_count": 228,
      "outputs": [
        {
          "output_type": "execute_result",
          "data": {
            "text/plain": [
              "[(1, 115303.69, 4.4106),\n",
              " (2, 102518.35, 3.9215),\n",
              " (3, 103375.85, 3.9543),\n",
              " (4, 101438.13, 3.8802),\n",
              " (5, 121564.43, 4.65),\n",
              " (6, 122015.66, 4.6673),\n",
              " (7, 104885.8, 4.0121),\n",
              " (8, 118201.74, 4.5214),\n",
              " (9, 127460.33, 4.8756),\n",
              " (10, 134119.43, 5.1303),\n",
              " (11, 108111.65, 4.1354),\n",
              " (12, 92534.23, 3.5396),\n",
              " (13, 147655.6, 5.6481),\n",
              " (14, 146352.54, 5.5982),\n",
              " (15, 123198.73, 4.7126),\n",
              " (16, 167064.38, 6.3905),\n",
              " (17, 158979.25, 6.0812),\n",
              " (18, 157838.82, 6.0376),\n",
              " (19, 114772.7, 4.3902),\n",
              " (20, 105325.59, 4.0289),\n",
              " (21, 94819.16, 3.627),\n",
              " (22, 46700.17, 1.7863)]"
            ]
          },
          "metadata": {},
          "execution_count": 228
        }
      ]
    },
    {
      "cell_type": "markdown",
      "source": [
        "Top ten monto respecto de semanas"
      ],
      "metadata": {
        "id": "f2yL5COLwDih"
      }
    },
    {
      "cell_type": "code",
      "source": [
        "porcentaje_lista(fraude.map(lambda x: (semanas(x.timestamp), x.ammount)).reduceByKey(lambda a,b: a + b).takeOrdered(10, lambda x: -x[1]), monto_total)"
      ],
      "metadata": {
        "colab": {
          "base_uri": "https://localhost:8080/"
        },
        "id": "di3tmlfUujSi",
        "outputId": "c67614c0-b63c-4a8f-b876-81567037f858"
      },
      "execution_count": 229,
      "outputs": [
        {
          "output_type": "execute_result",
          "data": {
            "text/plain": [
              "[(16, 167064.38, 6.3905),\n",
              " (17, 158979.25, 6.0812),\n",
              " (18, 157838.82, 6.0376),\n",
              " (13, 147655.6, 5.6481),\n",
              " (14, 146352.54, 5.5982),\n",
              " (10, 134119.43, 5.1303),\n",
              " (9, 127460.33, 4.8756),\n",
              " (15, 123198.73, 4.7126),\n",
              " (6, 122015.66, 4.6673),\n",
              " (5, 121564.43, 4.65)]"
            ]
          },
          "metadata": {},
          "execution_count": 229
        }
      ]
    },
    {
      "cell_type": "markdown",
      "source": [
        "Last ten monto respecto de semanas"
      ],
      "metadata": {
        "id": "op8WjYAENSv9"
      }
    },
    {
      "cell_type": "code",
      "source": [
        "porcentaje_lista(fraude.map(lambda x: (semanas(x.timestamp), x.ammount)).reduceByKey(lambda a,b: a + b).takeOrdered(10, lambda x: x[1]), monto_total)"
      ],
      "metadata": {
        "colab": {
          "base_uri": "https://localhost:8080/"
        },
        "id": "0A0h5h5uNd4h",
        "outputId": "53b54c6e-2d85-48e4-a534-5507232e03ca"
      },
      "execution_count": 230,
      "outputs": [
        {
          "output_type": "execute_result",
          "data": {
            "text/plain": [
              "[(22, 46700.17, 1.7863),\n",
              " (12, 92534.23, 3.5396),\n",
              " (21, 94819.16, 3.627),\n",
              " (4, 101438.13, 3.8802),\n",
              " (2, 102518.35, 3.9215),\n",
              " (3, 103375.85, 3.9543),\n",
              " (7, 104885.8, 4.0121),\n",
              " (20, 105325.59, 4.0289),\n",
              " (11, 108111.65, 4.1354),\n",
              " (19, 114772.7, 4.3902)]"
            ]
          },
          "metadata": {},
          "execution_count": 230
        }
      ]
    },
    {
      "cell_type": "markdown",
      "source": [
        "Monto respecto de meses"
      ],
      "metadata": {
        "id": "NGEXpqmIwJn4"
      }
    },
    {
      "cell_type": "code",
      "source": [
        "porcentaje_lista(sorted(fraude.map(lambda x: (meses(x.timestamp), x.ammount)).reduceByKey(lambda a,b: a + b).collect()), monto_total)"
      ],
      "metadata": {
        "colab": {
          "base_uri": "https://localhost:8080/"
        },
        "id": "athDfVNzuqvo",
        "outputId": "7517522a-7d10-4533-c8f1-577ce9e0ab7f"
      },
      "execution_count": 231,
      "outputs": [
        {
          "output_type": "execute_result",
          "data": {
            "text/plain": [
              "[(1, 422636.04, 16.1667),\n",
              " (2, 466667.65, 17.851),\n",
              " (3, 462225.65, 17.681),\n",
              " (4, 584271.26, 22.3495),\n",
              " (5, 536916.38, 20.5381),\n",
              " (6, 141519.33, 5.4134)]"
            ]
          },
          "metadata": {},
          "execution_count": 231
        }
      ]
    },
    {
      "cell_type": "markdown",
      "source": [
        "Máximo monto respecto de meses"
      ],
      "metadata": {
        "id": "j_osM69SAAg9"
      }
    },
    {
      "cell_type": "code",
      "source": [
        "porcentaje_tupla(fraude.map(lambda x: (meses(x.timestamp), x.ammount)).reduceByKey(lambda a,b: a + b).reduce(lambda a,b: a if a[1] > b[1] else b), monto_total)"
      ],
      "metadata": {
        "colab": {
          "base_uri": "https://localhost:8080/"
        },
        "id": "azAHv4tA-5a8",
        "outputId": "173e4618-b1e9-4d60-9693-a60a72723c26"
      },
      "execution_count": 232,
      "outputs": [
        {
          "output_type": "execute_result",
          "data": {
            "text/plain": [
              "(4, 584271.26, 22.34)"
            ]
          },
          "metadata": {},
          "execution_count": 232
        }
      ]
    },
    {
      "cell_type": "markdown",
      "source": [
        "Plataformas fraudulentas"
      ],
      "metadata": {
        "id": "Sw2PbEDuBovd"
      }
    },
    {
      "cell_type": "code",
      "source": [
        "identity_rdd = sqlContext.read.csv('identity_features_train.csv', header=True, inferSchema=True).rdd"
      ],
      "metadata": {
        "id": "zLho862v_9lF"
      },
      "execution_count": null,
      "outputs": []
    },
    {
      "cell_type": "code",
      "source": [
        "def unicidad_sistema(string) -> str:\n",
        "    if string == None:\n",
        "      return \"OTRO\"\n",
        "    lista = [\"WINDOWS\", \"MOTO\", \"SAMSUNG\", \"LG\", \"SM\", \"GT\", \"RV\", \"ZTE\", \"HUAMWI\", \"IOS DEVICE\",\"MACOS\", \"NOKIA\", \"ALCATEL\", \"IPHONE\" ,\"BUILD\"]\n",
        "    for sistema in lista:\n",
        "        match string.upper().find(sistema):\n",
        "            case -1:\n",
        "                continue\n",
        "            case _:\n",
        "                return sistema\n",
        "    return \"OTRO\"\n",
        "\n",
        "def unicidad_modelo(string) -> str:\n",
        "    if string == None:\n",
        "      return \"OTRO\"\n",
        "    lista = [\"CHROME\", \"SAFARI\", \"FIREFOX\", \"SAMSUNG\", \"OPERA\", \"EDGE\", \"ANDROID\"]\n",
        "    for modelo in lista:\n",
        "        match string.upper().find(modelo):\n",
        "            case -1:\n",
        "                continue\n",
        "            case _:\n",
        "                return modelo\n",
        "    return \"OTRO\"\n",
        "\n",
        "def nulo(numero):\n",
        "  if numero == None:\n",
        "    return 0\n",
        "  else:\n",
        "    return numero"
      ],
      "metadata": {
        "id": "bGlWJh37L-6S"
      },
      "execution_count": null,
      "outputs": []
    },
    {
      "cell_type": "code",
      "source": [
        "identity_rdd.first()"
      ],
      "metadata": {
        "colab": {
          "base_uri": "https://localhost:8080/"
        },
        "id": "Rn63CJSqCJSs",
        "outputId": "1e05c39f-e138-44ac-d493-efe1cff02550"
      },
      "execution_count": null,
      "outputs": [
        {
          "output_type": "execute_result",
          "data": {
            "text/plain": [
              "Row(_c0=0, Id=2987004, feature01=0.0, feature02=70787.0, feature03=None, feature04=None, feature05=None, feature06=None, feature07=None, feature08=None, feature09=None, feature10=None, feature11=100.0, feature12='NotFound', feature13=None, feature14=-480.0, feature15='New', feature16='NotFound', feature17=166.0, feature18=None, feature19=542.0, feature20=144.0, feature21=None, feature22=None, feature23=None, feature24=None, feature25=None, feature26=None, feature27=None, feature28='New', feature29='NotFound', feature30='Android 7.0', feature31='samsung browser 6.2', feature32=32.0, feature33='2220x1080', feature34='match_status:2', feature35='T', feature36='F', feature37='T', feature38='T', Device='mobile', DeviceMetadata='SAMSUNG SM-G892A Build/NRD90M')"
            ]
          },
          "metadata": {},
          "execution_count": 92
        }
      ]
    },
    {
      "cell_type": "code",
      "source": [
        "plataformas = identity_rdd.map(lambda x: (x.Id, (x.Device, x.DeviceMetadata, x.feature31))).leftOuterJoin(transactions_rdd.map(lambda x: (x.Id, x.target)))\n",
        "plataformas_fraudulentas = plataformas.filter(lambda x: x[1][1] == 1).cache()\n",
        "plataformas_legales = plataformas.filter(lambda x: x[1][1] == 0).cache()"
      ],
      "metadata": {
        "id": "SoF9rSsQCnvU"
      },
      "execution_count": null,
      "outputs": []
    },
    {
      "cell_type": "code",
      "source": [
        "plataformas.first()"
      ],
      "metadata": {
        "colab": {
          "base_uri": "https://localhost:8080/"
        },
        "id": "_gN7beksEHj3",
        "outputId": "ce9ed443-87f5-41f5-878c-1c27fdb3fdf4"
      },
      "execution_count": null,
      "outputs": [
        {
          "output_type": "execute_result",
          "data": {
            "text/plain": [
              "(2987040, (('desktop', 'Windows', 'chrome 62.0'), 0))"
            ]
          },
          "metadata": {},
          "execution_count": 144
        }
      ]
    },
    {
      "cell_type": "markdown",
      "source": [
        "Fraude por dispositivo"
      ],
      "metadata": {
        "id": "e__5UQxXE399"
      }
    },
    {
      "cell_type": "code",
      "source": [
        "dispositivos = plataformas_fraudulentas.map(lambda x: (x[1][0][0], 1)).reduceByKey(lambda a,b: a+b).leftOuterJoin(plataformas_legales\\\n",
        ".map(lambda x: (x[1][0][0], 1)).reduceByKey(lambda a,b: a+b)).map(lambda x: (x[0], x[1][0], x[1][0] * 100 / (x[1][0] + x[1][1])))\n",
        "dispositivos.collect()"
      ],
      "metadata": {
        "colab": {
          "base_uri": "https://localhost:8080/"
        },
        "id": "Tx6uj9kYFFle",
        "outputId": "3349ed55-8582-4b9f-c14d-3b85670df8b7"
      },
      "execution_count": null,
      "outputs": [
        {
          "output_type": "execute_result",
          "data": {
            "text/plain": [
              "[(None, 71, 2.417432754511406),\n",
              " ('mobile', 4726, 9.861447291544946),\n",
              " ('desktop', 4758, 6.369136860141358)]"
            ]
          },
          "metadata": {},
          "execution_count": 172
        }
      ]
    },
    {
      "cell_type": "markdown",
      "source": [
        "Máximo dispositivo respecto de la cantidad"
      ],
      "metadata": {
        "id": "HLUsv6ujXKMA"
      }
    },
    {
      "cell_type": "code",
      "source": [
        "dispositivos.reduce(lambda a,b: a if a[1] > b[1] else b)"
      ],
      "metadata": {
        "colab": {
          "base_uri": "https://localhost:8080/"
        },
        "id": "IwpikF6XWVT4",
        "outputId": "a9f7f6c2-ca5f-46a0-976e-e78240935266"
      },
      "execution_count": null,
      "outputs": [
        {
          "output_type": "execute_result",
          "data": {
            "text/plain": [
              "('desktop', 4758, 6.369136860141358)"
            ]
          },
          "metadata": {},
          "execution_count": 173
        }
      ]
    },
    {
      "cell_type": "markdown",
      "source": [
        "Máximo dispositivo respecto del promedio"
      ],
      "metadata": {
        "id": "0EuO1w1LXR6I"
      }
    },
    {
      "cell_type": "code",
      "source": [
        "dispositivos.reduce(lambda a,b: a if a[2] > b[2] else b)"
      ],
      "metadata": {
        "colab": {
          "base_uri": "https://localhost:8080/"
        },
        "id": "v-3zWjmcWVCS",
        "outputId": "f101da58-9f47-4557-c178-1567e1c0988a"
      },
      "execution_count": null,
      "outputs": [
        {
          "output_type": "execute_result",
          "data": {
            "text/plain": [
              "('mobile', 4726, 9.861447291544946)"
            ]
          },
          "metadata": {},
          "execution_count": 174
        }
      ]
    },
    {
      "cell_type": "markdown",
      "source": [
        "Fraude por sistema"
      ],
      "metadata": {
        "id": "B11LMbrAIrDb"
      }
    },
    {
      "cell_type": "code",
      "source": [
        "sistema = plataformas_fraudulentas.map(lambda x: (unicidad_sistema(x[1][0][1]), 1)).reduceByKey(lambda a,b: a+b)\\\n",
        ".leftOuterJoin(plataformas_legales.map(lambda x: (unicidad_sistema(x[1][0][1]), 1)).reduceByKey(lambda a,b: a+b))\\\n",
        ".map(lambda x: (x[0], x[1][0], x[1][0] * 100 / (x[1][0] + nulo(x[1][1]))))\n",
        "sistema.collect()"
      ],
      "metadata": {
        "colab": {
          "base_uri": "https://localhost:8080/"
        },
        "id": "re6fOLlRIy0T",
        "outputId": "c14d54b4-3577-4748-c153-16a50895be83"
      },
      "execution_count": null,
      "outputs": [
        {
          "output_type": "execute_result",
          "data": {
            "text/plain": [
              "[('BUILD', 1035, 16.512444160816848),\n",
              " ('MOTO', 377, 15.721434528773978),\n",
              " ('MACOS', 218, 1.9339957416607523),\n",
              " ('RV', 297, 7.4811083123425695),\n",
              " ('GT', 20, 15.037593984962406),\n",
              " ('OTRO', 2484, 8.279172082791721),\n",
              " ('WINDOWS', 2610, 6.309834638816362),\n",
              " ('ZTE', 9, 20.0),\n",
              " ('IOS DEVICE', 1079, 6.113314447592068),\n",
              " ('SM', 984, 12.479391249207355),\n",
              " ('NOKIA', 10, 100.0),\n",
              " ('SAMSUNG', 182, 7.882200086617583),\n",
              " ('ALCATEL', 7, 13.20754716981132),\n",
              " ('LG', 242, 10.980036297640654),\n",
              " ('IPHONE', 1, 100.0)]"
            ]
          },
          "metadata": {},
          "execution_count": 165
        }
      ]
    },
    {
      "cell_type": "markdown",
      "source": [
        "Top five sistema respecto de la cantidad"
      ],
      "metadata": {
        "id": "Vn90Ez-VXZ6i"
      }
    },
    {
      "cell_type": "code",
      "source": [
        "sistema.takeOrdered(5, lambda x: -x[1])"
      ],
      "metadata": {
        "colab": {
          "base_uri": "https://localhost:8080/"
        },
        "id": "dHFWRHz2JIXU",
        "outputId": "57d513b4-d345-4a96-d1c5-e891492c2cb8"
      },
      "execution_count": null,
      "outputs": [
        {
          "output_type": "execute_result",
          "data": {
            "text/plain": [
              "('WINDOWS', 2610, 6.309834638816362)"
            ]
          },
          "metadata": {},
          "execution_count": 166
        }
      ]
    },
    {
      "cell_type": "markdown",
      "source": [
        "Top five sistema respecto del promedio"
      ],
      "metadata": {
        "id": "3hxmwdvIXiiJ"
      }
    },
    {
      "cell_type": "code",
      "source": [
        "sistema.takeOrdered(5, lambda x: -x[2])"
      ],
      "metadata": {
        "colab": {
          "base_uri": "https://localhost:8080/"
        },
        "id": "3pN1-yK5Uy9x",
        "outputId": "ed278419-e872-4d42-e319-b2010a56fce1"
      },
      "execution_count": null,
      "outputs": [
        {
          "output_type": "execute_result",
          "data": {
            "text/plain": [
              "('IPHONE', 1, 100.0)"
            ]
          },
          "metadata": {},
          "execution_count": 167
        }
      ]
    },
    {
      "cell_type": "markdown",
      "source": [
        "Fraude por modelo"
      ],
      "metadata": {
        "id": "5MNEPs9TLKIb"
      }
    },
    {
      "cell_type": "code",
      "source": [
        "modelo = plataformas_fraudulentas.map(lambda x: (unicidad_modelo(x[1][0][2]), 1)).reduceByKey(lambda a,b: a+b)\\\n",
        ".leftOuterJoin(plataformas_legales.map(lambda x: (unicidad_modelo(x[1][0][2]), 1)).reduceByKey(lambda a,b: a+b))\\\n",
        ".map(lambda x: (x[0], x[1][0], x[1][0] * 100 / (x[1][0] + nulo(x[1][1]))))\n",
        "modelo.collect()"
      ],
      "metadata": {
        "colab": {
          "base_uri": "https://localhost:8080/"
        },
        "id": "2fgz7Ns_LRrS",
        "outputId": "115e4675-67c1-4f4f-fbea-ed0bbcf07115"
      },
      "execution_count": null,
      "outputs": [
        {
          "output_type": "execute_result",
          "data": {
            "text/plain": [
              "[('ANDROID', 92, 20.444444444444443),\n",
              " ('CHROME', 6158, 9.296637932335935),\n",
              " ('OTRO', 319, 2.5892857142857144),\n",
              " ('SAFARI', 2052, 6.18016444297202),\n",
              " ('EDGE', 177, 3.68673193084774),\n",
              " ('FIREFOX', 470, 7.4603174603174605),\n",
              " ('SAMSUNG', 158, 8.24634655532359),\n",
              " ('OPERA', 129, 38.392857142857146)]"
            ]
          },
          "metadata": {},
          "execution_count": 169
        }
      ]
    },
    {
      "cell_type": "markdown",
      "source": [
        "Top five modelo respecto de la cantidad"
      ],
      "metadata": {
        "id": "1KOW6UzuXfaY"
      }
    },
    {
      "cell_type": "code",
      "source": [
        "modelo.takeOrdered(5, lambda x: -x[1])"
      ],
      "metadata": {
        "colab": {
          "base_uri": "https://localhost:8080/"
        },
        "id": "k1NGbg6gLc78",
        "outputId": "9c9bcdfc-d03a-4e3a-9544-5f56da492439"
      },
      "execution_count": null,
      "outputs": [
        {
          "output_type": "execute_result",
          "data": {
            "text/plain": [
              "('CHROME', 6158, 9.296637932335935)"
            ]
          },
          "metadata": {},
          "execution_count": 170
        }
      ]
    },
    {
      "cell_type": "markdown",
      "source": [
        "Top five modelo respecto del promedio"
      ],
      "metadata": {
        "id": "Ie0oX5OHXhgQ"
      }
    },
    {
      "cell_type": "code",
      "source": [
        "modelo.takeOrdered(5, lambda x: -x[2])"
      ],
      "metadata": {
        "colab": {
          "base_uri": "https://localhost:8080/"
        },
        "id": "Yh4WlKaOWFpA",
        "outputId": "e80f4d1a-eec9-4e38-a9db-78974a2b337f"
      },
      "execution_count": null,
      "outputs": [
        {
          "output_type": "execute_result",
          "data": {
            "text/plain": [
              "('OPERA', 129, 38.392857142857146)"
            ]
          },
          "metadata": {},
          "execution_count": 171
        }
      ]
    },
    {
      "cell_type": "markdown",
      "source": [
        "Fraudes de tarjetas"
      ],
      "metadata": {
        "id": "Jj0kqpapkeX5"
      }
    },
    {
      "cell_type": "code",
      "source": [
        "tarjetas = fraude.map(lambda x: (x.feat_card_4, 1)).reduceByKey(lambda a,b: a + b)\\\n",
        ".leftOuterJoin(transactions_rdd.map(lambda x: (x.feat_card_4, 1)).reduceByKey(lambda a,b: a + b))\\\n",
        ".map(lambda x: (x[0], x[1][0], x[1][0] * 100 / (x[1][0] + x[1][1])))\n",
        "tarjetas.collect()"
      ],
      "metadata": {
        "colab": {
          "base_uri": "https://localhost:8080/"
        },
        "id": "8e8jrPVoYvux",
        "outputId": "eaf6e500-c865-4b23-949d-f4c093daee9e"
      },
      "execution_count": null,
      "outputs": [
        {
          "output_type": "execute_result",
          "data": {
            "text/plain": [
              "[(None, 26, 3.026775320139697),\n",
              " ('visa', 11327, 3.33980044345898),\n",
              " ('american express', 218, 2.827496757457847),\n",
              " ('mastercard', 5574, 3.3647838606276825),\n",
              " ('discover', 435, 7.060542119785749)]"
            ]
          },
          "metadata": {},
          "execution_count": 179
        }
      ]
    },
    {
      "cell_type": "markdown",
      "source": [
        "Top three cantidad de tarjeta"
      ],
      "metadata": {
        "id": "lSg2Zd7Nki-_"
      }
    },
    {
      "cell_type": "code",
      "source": [
        "tarjetas.takeOrdered(5, lambda x: -x[1])"
      ],
      "metadata": {
        "colab": {
          "base_uri": "https://localhost:8080/"
        },
        "id": "t2JTMyCOa-e_",
        "outputId": "8b41eaad-4fc5-4e74-c04e-0fbe37217281"
      },
      "execution_count": null,
      "outputs": [
        {
          "output_type": "execute_result",
          "data": {
            "text/plain": [
              "('visa', 11327, 3.33980044345898)"
            ]
          },
          "metadata": {},
          "execution_count": 180
        }
      ]
    },
    {
      "cell_type": "markdown",
      "source": [
        "Top three promedio de tarjeta"
      ],
      "metadata": {
        "id": "D8M_AVgBkpmA"
      }
    },
    {
      "cell_type": "code",
      "source": [
        "tarjetas.takeOrdered(5, lambda x: -x[2])"
      ],
      "metadata": {
        "colab": {
          "base_uri": "https://localhost:8080/"
        },
        "id": "OVvNA-9tbCSH",
        "outputId": "57f5f3e1-c1a1-4a34-eaf2-32ff5b250de5"
      },
      "execution_count": null,
      "outputs": [
        {
          "output_type": "execute_result",
          "data": {
            "text/plain": [
              "('discover', 435, 7.060542119785749)"
            ]
          },
          "metadata": {},
          "execution_count": 181
        }
      ]
    },
    {
      "cell_type": "markdown",
      "source": [
        "analizar parte legal"
      ],
      "metadata": {
        "id": "Q8NTPHDvIMgR"
      }
    },
    {
      "cell_type": "markdown",
      "source": [
        "Fraude por tipo de pago"
      ],
      "metadata": {
        "id": "2LUf6PuTmcFy"
      }
    },
    {
      "cell_type": "code",
      "source": [
        "banco = fraude.map(lambda x: (x.feat_card_6, 1)).reduceByKey(lambda a,b: a + b)\\\n",
        ".leftOuterJoin(transactions_rdd.map(lambda x: (x.feat_card_6, 1)).reduceByKey(lambda a,b: a + b))\\\n",
        ".map(lambda x: (x[0], x[1][0], x[1][0] * 100 / (x[1][0] + x[1][1])))\n",
        "banco.collect()"
      ],
      "metadata": {
        "colab": {
          "base_uri": "https://localhost:8080/"
        },
        "id": "S3XGYI4FlGIg",
        "outputId": "379194a4-4369-43d3-dbef-24ede3e240a6"
      },
      "execution_count": null,
      "outputs": [
        {
          "output_type": "execute_result",
          "data": {
            "text/plain": [
              "[('credit', 8626, 6.304311283591689),\n",
              " (None, 24, 2.816901408450704),\n",
              " ('debit', 8930, 2.3388290140513077)]"
            ]
          },
          "metadata": {},
          "execution_count": 185
        }
      ]
    },
    {
      "cell_type": "markdown",
      "source": [
        "Máxima cantidad de tipo de pago"
      ],
      "metadata": {
        "id": "Spenog_PmgnA"
      }
    },
    {
      "cell_type": "code",
      "source": [
        "banco.reduce(lambda a,b: a if a[1] > b[1] else b)"
      ],
      "metadata": {
        "colab": {
          "base_uri": "https://localhost:8080/"
        },
        "id": "T-cbb9vFmQFB",
        "outputId": "59cacd7c-58c1-4c86-e2a0-ca005944dab8"
      },
      "execution_count": null,
      "outputs": [
        {
          "output_type": "execute_result",
          "data": {
            "text/plain": [
              "('debit', 8930, 2.3388290140513077)"
            ]
          },
          "metadata": {},
          "execution_count": 186
        }
      ]
    },
    {
      "cell_type": "markdown",
      "source": [
        "Máximo promodio por tipo de pago"
      ],
      "metadata": {
        "id": "gqn1BoubmlZj"
      }
    },
    {
      "cell_type": "code",
      "source": [
        "banco.reduce(lambda a,b: a if a[2] > b[2] else b)"
      ],
      "metadata": {
        "colab": {
          "base_uri": "https://localhost:8080/"
        },
        "id": "OsiBWEaJmP53",
        "outputId": "76515181-74aa-4c82-a23b-67a92696e8d3"
      },
      "execution_count": null,
      "outputs": [
        {
          "output_type": "execute_result",
          "data": {
            "text/plain": [
              "('credit', 8626, 6.304311283591689)"
            ]
          },
          "metadata": {},
          "execution_count": 187
        }
      ]
    },
    {
      "cell_type": "markdown",
      "source": [
        "Fraude segun el correo"
      ],
      "metadata": {
        "id": "TnJpHu0toBCH"
      }
    },
    {
      "cell_type": "code",
      "source": [
        "def unicidad_correo(string) -> str:\n",
        "  if string == None:\n",
        "    return \"otro\"\n",
        "  lista = [\"yahoo\", \"gmail\", \"hotmail\", \"outlook\", \"live\"]\n",
        "  for correo in lista:\n",
        "    match string.lower().find(correo):\n",
        "      case -1:\n",
        "        continue\n",
        "      case _:\n",
        "        return f\"{correo}.com\"\n",
        "  return string"
      ],
      "metadata": {
        "id": "0eXuzCSon8Qo"
      },
      "execution_count": null,
      "outputs": []
    },
    {
      "cell_type": "code",
      "source": [
        "correo = fraude.map(lambda x: (x.payer_email_domain, 1)).reduceByKey(lambda a,b: a + b)\\\n",
        ".leftOuterJoin(transactions_rdd.map(lambda x: (x.payer_email_domain, 1)).reduceByKey(lambda a,b: a + b))\\\n",
        ".map(lambda x: (x[0], x[1][0], x[1][0] * 100 / (x[1][0] + x[1][1])))\n",
        "correo.collect()"
      ],
      "metadata": {
        "colab": {
          "base_uri": "https://localhost:8080/"
        },
        "id": "-oVi6a1InMcf",
        "outputId": "ce01a8be-3ad0-403b-d425-459ea7d1c442"
      },
      "execution_count": null,
      "outputs": [
        {
          "output_type": "execute_result",
          "data": {
            "text/plain": [
              "[(None, 2346, 2.9044718466795425),\n",
              " ('comcast.net', 203, 2.866017224339969),\n",
              " ('msn.com', 62, 1.7371812832726254),\n",
              " ('earthlink.net', 6, 1.348314606741573),\n",
              " ('yahoo.fr', 5, 4.504504504504505),\n",
              " ('gmail.com', 8503, 4.194414025118142),\n",
              " ('verizon.net', 15, 0.6265664160401002),\n",
              " ('bellsouth.net', 47, 2.712060011540681),\n",
              " ('outlook.es', 56, 12.389380530973451),\n",
              " ('suddenlink.net', 4, 3.1746031746031744),\n",
              " ('rocketmail.com', 2, 0.3552397868561279),\n",
              " ('embarqmail.com', 7, 2.9914529914529915),\n",
              " ('yahoo.es', 2, 1.680672268907563),\n",
              " ('mac.com', 11, 2.842377260981912),\n",
              " ('hotmail.com', 2022, 4.9124170938509755),\n",
              " ('frontiernet.net', 5, 2.9761904761904763),\n",
              " ('mail.com', 96, 16.63778162911612),\n",
              " ('charter.net', 16, 2.1828103683492497),\n",
              " ('gmail', 8, 1.8475750577367205),\n",
              " ('protonmail.com', 31, 31.31313131313131),\n",
              " ('yahoo.com.mx', 15, 1.1061946902654867),\n",
              " ('optonline.net', 17, 1.89520624303233),\n",
              " ('juno.com', 6, 2.04778156996587),\n",
              " ('outlook.com', 390, 8.304940374787053),\n",
              " ('anonymous.com', 731, 2.250200086190975),\n",
              " ('icloud.com', 172, 3.132969034608379),\n",
              " ('live.com', 80, 2.982848620432513),\n",
              " ('aim.com', 40, 12.269938650306749),\n",
              " ('frontier.com', 1, 0.411522633744856),\n",
              " ('netzero.net', 1, 0.5847953216374269),\n",
              " ('aol.com', 545, 2.2143669754591255),\n",
              " ('yahoo.com', 1967, 2.2340848429780227),\n",
              " ('me.com', 19, 1.4042867701404287),\n",
              " ('ymail.com', 45, 2.1697203471552555),\n",
              " ('att.net', 22, 0.6493506493506493),\n",
              " ('sbcglobal.net', 11, 0.4278490859587709),\n",
              " ('cox.net', 24, 1.9591836734693877),\n",
              " ('live.com.mx', 23, 3.427719821162444),\n",
              " ('cableone.net', 3, 2.127659574468085),\n",
              " ('prodigy.net.mx', 1, 0.5405405405405406),\n",
              " ('hotmail.es', 16, 5.86080586080586),\n",
              " ('roadrunner.com', 3, 1.1583011583011582),\n",
              " ('sc.rr.com', 1, 0.7299270072992701)]"
            ]
          },
          "metadata": {},
          "execution_count": 190
        }
      ]
    },
    {
      "cell_type": "markdown",
      "source": [
        "Top ten cantidad de correo"
      ],
      "metadata": {
        "id": "p0OMAIMOox_w"
      }
    },
    {
      "cell_type": "code",
      "source": [
        "correo.takeOrdered(10, lambda x: -x[1])"
      ],
      "metadata": {
        "colab": {
          "base_uri": "https://localhost:8080/"
        },
        "id": "Jm-K0gLLopwl",
        "outputId": "1f18a995-cdbc-44aa-c812-42f28e941231"
      },
      "execution_count": null,
      "outputs": [
        {
          "output_type": "execute_result",
          "data": {
            "text/plain": [
              "('gmail.com', 8503, 4.194414025118142)"
            ]
          },
          "metadata": {},
          "execution_count": 191
        }
      ]
    },
    {
      "cell_type": "markdown",
      "source": [
        "Top ten promedio de correo"
      ],
      "metadata": {
        "id": "aNo-Hxc0o1k4"
      }
    },
    {
      "cell_type": "code",
      "source": [
        "correo.takeOrdered(5, lambda x: -x[2])"
      ],
      "metadata": {
        "colab": {
          "base_uri": "https://localhost:8080/"
        },
        "id": "9k_lmydNokHX",
        "outputId": "f06b7f25-2103-4831-8103-e94cdff42b6b"
      },
      "execution_count": null,
      "outputs": [
        {
          "output_type": "execute_result",
          "data": {
            "text/plain": [
              "('protonmail.com', 31, 31.31313131313131)"
            ]
          },
          "metadata": {},
          "execution_count": 192
        }
      ]
    }
  ],
  "metadata": {
    "colab": {
      "provenance": []
    },
    "kernelspec": {
      "display_name": "Python 3",
      "name": "python3"
    }
  },
  "nbformat": 4,
  "nbformat_minor": 0
}