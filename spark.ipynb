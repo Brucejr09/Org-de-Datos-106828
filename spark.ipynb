{
  "cells": [
    {
      "cell_type": "code",
      "source": [
        "!pip install pyspark\n",
        "!apt update\n",
        "!apt install openjdk-8-jdk-headless -qq\n",
        "import os\n",
        "from pyspark.sql import *\n",
        "from pyspark.sql.functions import *\n",
        "from pyspark import SparkContext\n",
        "from pyspark.sql import SQLContext\n",
        "os.environ[\"JAVA_HOME\"] = \"/usr/lib/jvm/java-8-openjdk-amd64\""
      ],
      "metadata": {
        "colab": {
          "base_uri": "https://localhost:8080/"
        },
        "id": "gX6oO98RGFl0",
        "outputId": "da8d2f13-ed18-477a-9e3e-20f80fa7a627"
      },
      "execution_count": 66,
      "outputs": [
        {
          "output_type": "stream",
          "name": "stdout",
          "text": [
            "Requirement already satisfied: pyspark in /usr/local/lib/python3.10/dist-packages (3.5.3)\n",
            "Requirement already satisfied: py4j==0.10.9.7 in /usr/local/lib/python3.10/dist-packages (from pyspark) (0.10.9.7)\n",
            "Hit:1 http://archive.ubuntu.com/ubuntu jammy InRelease\n",
            "Get:2 http://archive.ubuntu.com/ubuntu jammy-updates InRelease [128 kB]\n",
            "Hit:3 https://cloud.r-project.org/bin/linux/ubuntu jammy-cran40/ InRelease\n",
            "Hit:4 https://developer.download.nvidia.com/compute/cuda/repos/ubuntu2204/x86_64  InRelease\n",
            "Hit:5 http://archive.ubuntu.com/ubuntu jammy-backports InRelease\n",
            "Get:6 http://security.ubuntu.com/ubuntu jammy-security InRelease [129 kB]\n",
            "Ign:7 https://r2u.stat.illinois.edu/ubuntu jammy InRelease\n",
            "Hit:8 https://r2u.stat.illinois.edu/ubuntu jammy Release\n",
            "Hit:9 https://ppa.launchpadcontent.net/deadsnakes/ppa/ubuntu jammy InRelease\n",
            "Hit:10 https://ppa.launchpadcontent.net/graphics-drivers/ppa/ubuntu jammy InRelease\n",
            "Hit:11 https://ppa.launchpadcontent.net/ubuntugis/ppa/ubuntu jammy InRelease\n",
            "Fetched 257 kB in 2s (160 kB/s)\n",
            "Reading package lists... Done\n",
            "Building dependency tree... Done\n",
            "Reading state information... Done\n",
            "54 packages can be upgraded. Run 'apt list --upgradable' to see them.\n",
            "\u001b[1;33mW: \u001b[0mSkipping acquire of configured file 'main/source/Sources' as repository 'https://r2u.stat.illinois.edu/ubuntu jammy InRelease' does not seem to provide it (sources.list entry misspelt?)\u001b[0m\n",
            "openjdk-8-jdk-headless is already the newest version (8u422-b05-1~22.04).\n",
            "0 upgraded, 0 newly installed, 0 to remove and 54 not upgraded.\n"
          ]
        }
      ]
    },
    {
      "cell_type": "code",
      "source": [
        "spark = SparkSession.builder.getOrCreate()\n",
        "sc = spark.sparkContext\n",
        "sqlContext = SQLContext(sc)\n",
        "df = sqlContext.read.csv('transactions_train.csv', header=True, inferSchema=True)\n",
        "transactions_rdd = df.rdd"
      ],
      "metadata": {
        "id": "crza1IqRGJ77",
        "colab": {
          "base_uri": "https://localhost:8080/"
        },
        "outputId": "313b502d-f072-4fcd-f0e8-e06638155fd7"
      },
      "execution_count": 2,
      "outputs": [
        {
          "output_type": "stream",
          "name": "stderr",
          "text": [
            "/usr/local/lib/python3.10/dist-packages/pyspark/sql/context.py:113: FutureWarning: Deprecated in 3.0.0. Use SparkSession.builder.getOrCreate() instead.\n",
            "  warnings.warn(\n"
          ]
        }
      ]
    },
    {
      "cell_type": "code",
      "source": [
        "transactions_rdd.first()"
      ],
      "metadata": {
        "colab": {
          "base_uri": "https://localhost:8080/"
        },
        "id": "770YEjPbsGNY",
        "outputId": "e78ae471-dfb1-4ed2-b1d1-d4b7898c8b4e"
      },
      "execution_count": 3,
      "outputs": [
        {
          "output_type": "execute_result",
          "data": {
            "text/plain": [
              "Row(_c0=0, Id=2987000, target=0, timestamp=86400, ammount=68.5, product_category='W', feat_card_1=13926, feat_card_2=None, feat_card_3=150.0, feat_card_4='discover', feat_card_5=142.0, feat_card_6='credit', addr1=315.0, addr2=87.0, dist1=19.0, dist2=None, payer_email_domain=None, receiver_email_domain=None, A1=1.0, A2=1.0, A3=0.0, A4=0.0, A5=0.0, A6=1.0, A7=0.0, A8=0.0, A9=1.0, A10=0.0, A11=2.0, A12=0.0, A13=1.0, A14=1.0, B1=14.0, B2=None, B3=13.0, B4=None, B5=None, B6=None, B7=None, B8=None, B9=None, B10=13.0, B11=13.0, B12=None, B13=None, B14=None, B15=0.0, C1='T', C2='T', C3='T', C4='M2', C5='F', C6='T', C7=None, C8=None, C9=None, D1=1.0, D2=1.0, D3=1.0, D4=1.0, D5=1.0, D6=1.0, D7=1.0, D8=1.0, D9=1.0, D10=0.0, D11=0.0, D12=1.0, D13=1.0, D14=1.0, D15=0.0, D16=0.0, D17=0.0, D18=0.0, D19=1.0, D20=1.0, D21=0.0, D22=0.0, D23=1.0, D24=1.0, D25=1.0, D26=1.0, D27=0.0, D28=0.0, D29=0.0, D30=0.0, D31=0.0, D32=0.0, D33=0.0, D34=0.0, D35=None, D36=None, D37=None, D38=None, D39=None, D40=None, D41=None, D42=None, D43=None, D44=None, D45=None, D46=None, D47=None, D48=None, D49=None, D50=None, D51=None, D52=None, D53=1.0, D54=1.0, D55=1.0, D56=1.0, D57=0.0, D58=0.0, D59=0.0, D60=0.0, D61=1.0, D62=1.0, D63=0.0, D64=0.0, D65=1.0, D66=1.0, D67=1.0, D68=0.0, D69=0.0, D70=0.0, D71=0.0, D72=0.0, D73=0.0, D74=0.0, D75=1.0, D76=1.0, D77=1.0, D78=1.0, D79=0.0, D80=0.0, D81=0.0, D82=0.0, D83=0.0, D84=0.0, D85=0.0, D86=1.0, D87=1.0, D88=1.0, D89=0.0, D90=0.0, D91=0.0, D92=0.0, D93=0.0, D94=0.0, D95=0.0, D96=1.0, D97=0.0, D98=0.0, D99=0.0, D100=0.0, D101=0.0, D102=1.0, D103=0.0, D104=0.0, D105=0.0, D106=0.0, D107=1.0, D108=1.0, D109=1.0, D110=1.0, D111=1.0, D112=1.0, D113=1.0, D114=1.0, D115=1.0, D116=1.0, D117=1.0, D118=1.0, D119=1.0, D120=1.0, D121=1.0, D122=1.0, D123=1.0, D124=1.0, D125=1.0, D126=0.0, D127=117.0, D128=0.0, D129=0.0, D130=0.0, D131=0.0, D132=0.0, D133=117.0, D134=0.0, D135=0.0, D136=0.0, D137=0.0, D138=None, D139=None, D140=None, D141=None, D142=None, D143=None, D144=None, D145=None, D146=None, D147=None, D148=None, D149=None, D150=None, D151=None, D152=None, D153=None, D154=None, D155=None, D156=None, D157=None, D158=None, D159=None, D160=None, D161=None, D162=None, D163=None, D164=None, D165=None, D166=None, D167=None, D168=None, D169=None, D170=None, D171=None, D172=None, D173=None, D174=None, D175=None, D176=None, D177=None, D178=None, D179=None, D180=None, D181=None, D182=None, D183=None, D184=None, D185=None, D186=None, D187=None, D188=None, D189=None, D190=None, D191=None, D192=None, D193=None, D194=None, D195=None, D196=None, D197=None, D198=None, D199=None, D200=None, D201=None, D202=None, D203=None, D204=None, D205=None, D206=None, D207=None, D208=None, D209=None, D210=None, D211=None, D212=None, D213=None, D214=None, D215=None, D216=None, D217=None, D218=None, D219=None, D220=None, D221=None, D222=None, D223=None, D224=None, D225=None, D226=None, D227=None, D228=None, D229=None, D230=None, D231=None, D232=None, D233=None, D234=None, D235=None, D236=None, D237=None, D238=None, D239=None, D240=None, D241=None, D242=None, D243=None, D244=None, D245=None, D246=None, D247=None, D248=None, D249=None, D250=None, D251=None, D252=None, D253=None, D254=None, D255=None, D256=None, D257=None, D258=None, D259=None, D260=None, D261=None, D262=None, D263=None, D264=None, D265=None, D266=None, D267=None, D268=None, D269=None, D270=None, D271=None, D272=None, D273=None, D274=None, D275=None, D276=None, D277=None, D278=None, D279=0.0, D280=0.0, D281=0.0, D282=1.0, D283=1.0, D284=0.0, D285=0.0, D286=0.0, D287=0.0, D288=0.0, D289=0.0, D290=1.0, D291=1.0, D292=1.0, D293=0.0, D294=1.0, D295=0.0, D296=0.0, D297=0.0, D298=0.0, D299=0.0, D300=0.0, D301=0.0, D302=0.0, D303=0.0, D304=0.0, D305=1.0, D306=0.0, D307=117.0, D308=0.0, D309=0.0, D310=0.0, D311=0.0, D312=0.0, D313=0.0, D314=0.0, D315=0.0, D316=0.0, D317=117.0, D318=0.0, D319=0.0, D320=0.0, D321=0.0, D322=None, D323=None, D324=None, D325=None, D326=None, D327=None, D328=None, D329=None, D330=None, D331=None, D332=None, D333=None, D334=None, D335=None, D336=None, D337=None, D338=None, D339=None)"
            ]
          },
          "metadata": {},
          "execution_count": 3
        }
      ]
    },
    {
      "cell_type": "markdown",
      "source": [
        "Porcentaje de fraude"
      ],
      "metadata": {
        "id": "YdDHUDkAkKVb"
      }
    },
    {
      "cell_type": "code",
      "source": [
        "transactions_rdd.map(lambda x: x.target).distinct().collect()"
      ],
      "metadata": {
        "colab": {
          "base_uri": "https://localhost:8080/"
        },
        "id": "Oda4rqItGS2W",
        "outputId": "1bfc283e-7e41-484d-9ed3-298ede6e0e9a"
      },
      "execution_count": null,
      "outputs": [
        {
          "output_type": "execute_result",
          "data": {
            "text/plain": [
              "[0, 1]"
            ]
          },
          "metadata": {},
          "execution_count": 5
        }
      ]
    },
    {
      "cell_type": "code",
      "source": [
        "transactions_rdd.filter(lambda x: x.target == 1).count() * 100 / transactions_rdd.count()"
      ],
      "metadata": {
        "colab": {
          "base_uri": "https://localhost:8080/"
        },
        "id": "nglBwM8mSJPR",
        "outputId": "33c47b2e-1992-42b0-8962-9e63b6f8453f"
      },
      "execution_count": null,
      "outputs": [
        {
          "output_type": "execute_result",
          "data": {
            "text/plain": [
              "3.502278074504093"
            ]
          },
          "metadata": {},
          "execution_count": 6
        }
      ]
    },
    {
      "cell_type": "markdown",
      "source": [
        "Porcentaje de monto fraudulento respecto de los productos"
      ],
      "metadata": {
        "id": "csUIFM5XkVk-"
      }
    },
    {
      "cell_type": "code",
      "source": [
        "fraude = transactions_rdd.filter(lambda x: x.target == 1).map(lambda x: (x.product_category, x.ammount)).reduceByKey(lambda a,b: a + b)"
      ],
      "metadata": {
        "id": "N7nAesazTogw"
      },
      "execution_count": null,
      "outputs": []
    },
    {
      "cell_type": "code",
      "source": [
        "legal = transactions_rdd.filter(lambda x: x.target == 0).map(lambda x: (x.product_category, x.ammount)).reduceByKey(lambda a,b: a + b)"
      ],
      "metadata": {
        "id": "AJsiRNG7jRCW"
      },
      "execution_count": null,
      "outputs": []
    },
    {
      "cell_type": "code",
      "source": [
        "producto_monto_f_l = fraude.fullOuterJoin(legal).collect()"
      ],
      "metadata": {
        "id": "gIvS-vAOmTfT"
      },
      "execution_count": null,
      "outputs": []
    },
    {
      "cell_type": "code",
      "source": [
        "def porcentaje(lista):\n",
        "  promedios = []\n",
        "  for producto in lista:\n",
        "    promedios.append((producto[0], producto[1][0] * 100 / (producto[1][0] + producto[1][1])))\n",
        "  return promedios\n",
        "\n",
        "porcentaje(producto_monto_f_l)"
      ],
      "metadata": {
        "colab": {
          "base_uri": "https://localhost:8080/"
        },
        "id": "caFfbjlioX8V",
        "outputId": "eee73383-71ee-4b4a-efb6-174fb72669ab"
      },
      "execution_count": null,
      "outputs": [
        {
          "output_type": "execute_result",
          "data": {
            "text/plain": [
              "[('H', 10.087869182508362),\n",
              " ('R', 5.134079848889628),\n",
              " ('S', 7.983558441966235),\n",
              " ('C', 12.916996422843251),\n",
              " ('W', 3.0548043859574134)]"
            ]
          },
          "metadata": {},
          "execution_count": 10
        }
      ]
    },
    {
      "cell_type": "markdown",
      "source": [
        "Fraude segun el tiempo, analizando cantidad y monto"
      ],
      "metadata": {
        "id": "ziXfXnq739rQ"
      }
    },
    {
      "cell_type": "code",
      "source": [
        "fraude = transactions_rdd.filter(lambda x: x.target == 1).cache()"
      ],
      "metadata": {
        "id": "5m30Zsw3p15G"
      },
      "execution_count": 4,
      "outputs": []
    },
    {
      "cell_type": "code",
      "source": [
        "def segundos(numero):\n",
        "  return numero - 86400\n",
        "\n",
        "def analisis(numero, divisor):\n",
        "  flotante = (numero - 86400) / divisor\n",
        "  entero = (numero - 86400) // divisor\n",
        "  if flotante > entero:\n",
        "    return entero + 1\n",
        "  else:\n",
        "    return entero\n",
        "\n",
        "def minutos(numero):\n",
        "  return analisis(numero, 60)\n",
        "\n",
        "def horas(numero):\n",
        "  return analisis(numero, 3600)\n",
        "\n",
        "def dias(numero):\n",
        "  return analisis(numero, 86400)\n",
        "\n",
        "def semanas(numero):\n",
        "  return analisis(numero, 604800)\n",
        "\n",
        "def meses(numero):\n",
        "  return analisis(numero, 2419200)\n",
        "\n",
        "def porcentaje_tupla(tupla, total):\n",
        "  return (tupla[0], tupla[1], tupla[1] * 100 / total)\n",
        "\n",
        "def porcentaje_lista(lista, total):\n",
        "  nueva_lista = []\n",
        "  for elemento in lista:\n",
        "    nueva_lista.append((elemento[0], elemento[1], elemento[1] * 100 / total))\n",
        "  return nueva_lista"
      ],
      "metadata": {
        "id": "6AWogNui5weu"
      },
      "execution_count": 60,
      "outputs": []
    },
    {
      "cell_type": "markdown",
      "source": [
        "Cantidad respecto del tiempo"
      ],
      "metadata": {
        "id": "Q8PHB9tuUvV7"
      }
    },
    {
      "cell_type": "markdown",
      "source": [
        "Cantidad total respecto de segundos"
      ],
      "metadata": {
        "id": "pQRcfUQxU1xC"
      }
    },
    {
      "cell_type": "code",
      "source": [
        "cantidad_total = fraude.count()\n",
        "(fraude.map(lambda x: segundos(x.timestamp)).reduce(lambda a,b: a if a > b else b), cantidad_total, 100)"
      ],
      "metadata": {
        "colab": {
          "base_uri": "https://localhost:8080/"
        },
        "id": "9JrUCK9yTS4z",
        "outputId": "7cbb2e1a-b9a5-4626-a230-eec2188eafb9"
      },
      "execution_count": 78,
      "outputs": [
        {
          "output_type": "execute_result",
          "data": {
            "text/plain": [
              "(13064705, 17580, 100)"
            ]
          },
          "metadata": {},
          "execution_count": 78
        }
      ]
    },
    {
      "cell_type": "markdown",
      "source": [
        "Máxima cantidad respecto de minutos"
      ],
      "metadata": {
        "id": "cz_4DCmmVAsU"
      }
    },
    {
      "cell_type": "code",
      "source": [
        "porcentaje_tupla(fraude.map(lambda x: (minutos(x.timestamp), 1)).reduceByKey(lambda a,b: a + b).reduce(lambda a,b: a if a[1] > b[1] else b), cantidad_total)"
      ],
      "metadata": {
        "colab": {
          "base_uri": "https://localhost:8080/"
        },
        "id": "_IDB7xo4CO8N",
        "outputId": "b07c72dd-8adc-44bc-e54f-d0f4dc8be638"
      },
      "execution_count": 79,
      "outputs": [
        {
          "output_type": "execute_result",
          "data": {
            "text/plain": [
              "(136426, 6, 0.034129692832764506)"
            ]
          },
          "metadata": {},
          "execution_count": 79
        }
      ]
    },
    {
      "cell_type": "markdown",
      "source": [
        "Máxima cantidad respecto de horas"
      ],
      "metadata": {
        "id": "YMeeWpFgVKTC"
      }
    },
    {
      "cell_type": "code",
      "source": [
        "porcentaje_tupla(fraude.map(lambda x: (horas(x.timestamp), 1)).reduceByKey(lambda a,b: a + b).reduce(lambda a,b: a if a[1] > b[1] else b), cantidad_total)"
      ],
      "metadata": {
        "colab": {
          "base_uri": "https://localhost:8080/"
        },
        "id": "BP5ql10XDNEF",
        "outputId": "992e0dc9-d249-45aa-ec19-ba6564f2a34d"
      },
      "execution_count": 80,
      "outputs": [
        {
          "output_type": "execute_result",
          "data": {
            "text/plain": [
              "(1529, 42, 0.23890784982935154)"
            ]
          },
          "metadata": {},
          "execution_count": 80
        }
      ]
    },
    {
      "cell_type": "markdown",
      "source": [
        "Cantidad respecto de días"
      ],
      "metadata": {
        "id": "umVarL0uVORK"
      }
    },
    {
      "cell_type": "code",
      "source": [
        "porcentaje_lista(sorted(fraude.map(lambda x: (dias(x.timestamp), 1)).reduceByKey(lambda a,b: a + b).collect()), cantidad_total)"
      ],
      "metadata": {
        "colab": {
          "base_uri": "https://localhost:8080/"
        },
        "id": "1Yr5ifVaDzUs",
        "outputId": "4b860c28-15e1-4b14-a7b1-355eac6c760f"
      },
      "execution_count": 81,
      "outputs": [
        {
          "output_type": "execute_result",
          "data": {
            "text/plain": [
              "[(1, 112, 0.6370875995449374),\n",
              " (2, 123, 0.6996587030716723),\n",
              " (3, 92, 0.5233219567690558),\n",
              " (4, 115, 0.6541524459613197),\n",
              " (5, 127, 0.7224118316268487),\n",
              " (6, 99, 0.5631399317406144),\n",
              " (7, 136, 0.7736063708759955),\n",
              " (8, 93, 0.5290102389078498),\n",
              " (9, 119, 0.676905574516496),\n",
              " (10, 90, 0.5119453924914675),\n",
              " (11, 123, 0.6996587030716723),\n",
              " (12, 84, 0.4778156996587031),\n",
              " (13, 82, 0.4664391353811149),\n",
              " (14, 126, 0.7167235494880546),\n",
              " (15, 143, 0.8134243458475541),\n",
              " (16, 70, 0.3981797497155859),\n",
              " (17, 126, 0.7167235494880546),\n",
              " (18, 161, 0.9158134243458476),\n",
              " (19, 118, 0.6712172923777019),\n",
              " (20, 135, 0.7679180887372014),\n",
              " (21, 116, 0.6598407281001137),\n",
              " (22, 147, 0.8361774744027304),\n",
              " (23, 106, 0.602957906712173),\n",
              " (24, 76, 0.4323094425483504),\n",
              " (25, 63, 0.3583617747440273),\n",
              " (26, 82, 0.4664391353811149),\n",
              " (27, 100, 0.5688282138794084),\n",
              " (28, 150, 0.8532423208191127),\n",
              " (29, 129, 0.7337883959044369),\n",
              " (30, 158, 0.8987485779294653),\n",
              " (31, 149, 0.8475540386803185),\n",
              " (32, 51, 0.2901023890784983),\n",
              " (33, 123, 0.6996587030716723),\n",
              " (34, 159, 0.9044368600682594),\n",
              " (35, 120, 0.6825938566552902),\n",
              " (36, 135, 0.7679180887372014),\n",
              " (37, 126, 0.7167235494880546),\n",
              " (38, 110, 0.6257110352673493),\n",
              " (39, 117, 0.6655290102389079),\n",
              " (40, 109, 0.6200227531285551),\n",
              " (41, 121, 0.6882821387940842),\n",
              " (42, 85, 0.48350398179749715),\n",
              " (43, 160, 0.9101251422070534),\n",
              " (44, 119, 0.676905574516496),\n",
              " (45, 100, 0.5688282138794084),\n",
              " (46, 117, 0.6655290102389079),\n",
              " (47, 91, 0.5176336746302617),\n",
              " (48, 115, 0.6541524459613197),\n",
              " (49, 121, 0.6882821387940842),\n",
              " (50, 175, 0.9954493742889647),\n",
              " (51, 148, 0.8418657565415245),\n",
              " (52, 114, 0.6484641638225256),\n",
              " (53, 79, 0.44937428896473264),\n",
              " (54, 112, 0.6370875995449374),\n",
              " (55, 76, 0.4323094425483504),\n",
              " (56, 158, 0.8987485779294653),\n",
              " (57, 109, 0.6200227531285551),\n",
              " (58, 102, 0.5802047781569966),\n",
              " (59, 168, 0.9556313993174061),\n",
              " (60, 108, 0.6143344709897611),\n",
              " (61, 112, 0.6370875995449374),\n",
              " (62, 165, 0.9385665529010239),\n",
              " (63, 163, 0.9271899886234357),\n",
              " (64, 234, 1.3310580204778157),\n",
              " (65, 183, 1.0409556313993173),\n",
              " (66, 85, 0.48350398179749715),\n",
              " (67, 120, 0.6825938566552902),\n",
              " (68, 111, 0.6313993174061433),\n",
              " (69, 118, 0.6712172923777019),\n",
              " (70, 145, 0.8248009101251422),\n",
              " (71, 152, 0.8646188850967008),\n",
              " (72, 94, 0.534698521046644),\n",
              " (73, 135, 0.7679180887372014),\n",
              " (74, 120, 0.6825938566552902),\n",
              " (75, 110, 0.6257110352673493),\n",
              " (76, 144, 0.8191126279863481),\n",
              " (77, 125, 0.7110352673492605),\n",
              " (78, 100, 0.5688282138794084),\n",
              " (79, 113, 0.6427758816837316),\n",
              " (80, 66, 0.37542662116040953),\n",
              " (81, 105, 0.5972696245733788),\n",
              " (82, 95, 0.540386803185438),\n",
              " (83, 81, 0.46075085324232085),\n",
              " (84, 116, 0.6598407281001137),\n",
              " (85, 187, 1.0637087599544937),\n",
              " (86, 125, 0.7110352673492605),\n",
              " (87, 99, 0.5631399317406144),\n",
              " (88, 75, 0.42662116040955633),\n",
              " (89, 114, 0.6484641638225256),\n",
              " (90, 132, 0.7508532423208191),\n",
              " (91, 180, 1.023890784982935),\n",
              " (92, 147, 0.8361774744027304),\n",
              " (93, 151, 0.8589306029579067),\n",
              " (94, 81, 0.46075085324232085),\n",
              " (95, 150, 0.8532423208191127),\n",
              " (96, 91, 0.5176336746302617),\n",
              " (97, 135, 0.7679180887372014),\n",
              " (98, 129, 0.7337883959044369),\n",
              " (99, 105, 0.5972696245733788),\n",
              " (100, 100, 0.5688282138794084),\n",
              " (101, 68, 0.38680318543799774),\n",
              " (102, 105, 0.5972696245733788),\n",
              " (103, 97, 0.5517633674630261),\n",
              " (104, 111, 0.6313993174061433),\n",
              " (105, 132, 0.7508532423208191),\n",
              " (106, 152, 0.8646188850967008),\n",
              " (107, 127, 0.7224118316268487),\n",
              " (108, 96, 0.5460750853242321),\n",
              " (109, 133, 0.7565415244596132),\n",
              " (110, 117, 0.6655290102389079),\n",
              " (111, 102, 0.5802047781569966),\n",
              " (112, 139, 0.7906712172923777),\n",
              " (113, 161, 0.9158134243458476),\n",
              " (114, 150, 0.8532423208191127),\n",
              " (115, 139, 0.7906712172923777),\n",
              " (116, 163, 0.9271899886234357),\n",
              " (117, 194, 1.1035267349260522),\n",
              " (118, 117, 0.6655290102389079),\n",
              " (119, 145, 0.8248009101251422),\n",
              " (120, 181, 1.0295790671217293),\n",
              " (121, 121, 0.6882821387940842),\n",
              " (122, 64, 0.3640500568828214),\n",
              " (123, 128, 0.7281001137656428),\n",
              " (124, 89, 0.5062571103526735),\n",
              " (125, 148, 0.8418657565415245),\n",
              " (126, 102, 0.5802047781569966),\n",
              " (127, 84, 0.4778156996587031),\n",
              " (128, 69, 0.3924914675767918),\n",
              " (129, 130, 0.7394766780432309),\n",
              " (130, 95, 0.540386803185438),\n",
              " (131, 105, 0.5972696245733788),\n",
              " (132, 108, 0.6143344709897611),\n",
              " (133, 136, 0.7736063708759955),\n",
              " (134, 103, 0.5858930602957907),\n",
              " (135, 90, 0.5119453924914675),\n",
              " (136, 73, 0.4152445961319681),\n",
              " (137, 69, 0.3924914675767918),\n",
              " (138, 112, 0.6370875995449374),\n",
              " (139, 61, 0.34698521046643915),\n",
              " (140, 103, 0.5858930602957907),\n",
              " (141, 131, 0.745164960182025),\n",
              " (142, 103, 0.5858930602957907),\n",
              " (143, 71, 0.40386803185437997),\n",
              " (144, 90, 0.5119453924914675),\n",
              " (145, 67, 0.38111490329920367),\n",
              " (146, 98, 0.5574516496018203),\n",
              " (147, 79, 0.44937428896473264),\n",
              " (148, 86, 0.4891922639362912),\n",
              " (149, 66, 0.37542662116040953),\n",
              " (150, 69, 0.3924914675767918),\n",
              " (151, 99, 0.5631399317406144),\n",
              " (152, 31, 0.17633674630261661)]"
            ]
          },
          "metadata": {},
          "execution_count": 81
        }
      ]
    },
    {
      "cell_type": "markdown",
      "source": [
        "Máxima cantidad respecto de días"
      ],
      "metadata": {
        "id": "RK_DfTrxVU7y"
      }
    },
    {
      "cell_type": "code",
      "source": [
        "porcentaje_tupla(fraude.map(lambda x: (dias(x.timestamp), 1)).reduceByKey(lambda a,b: a + b).reduce(lambda a,b: a if a[1] > b[1] else b), cantidad_total)"
      ],
      "metadata": {
        "colab": {
          "base_uri": "https://localhost:8080/"
        },
        "id": "7rNDGkaiRAvS",
        "outputId": "9efb8d64-e707-4d39-c5a6-27b4b9b6c9a1"
      },
      "execution_count": 82,
      "outputs": [
        {
          "output_type": "execute_result",
          "data": {
            "text/plain": [
              "(64, 234, 1.3310580204778157)"
            ]
          },
          "metadata": {},
          "execution_count": 82
        }
      ]
    },
    {
      "cell_type": "markdown",
      "source": [
        "Cantidad respecto de semanas"
      ],
      "metadata": {
        "id": "ZFf35XZXVX1K"
      }
    },
    {
      "cell_type": "code",
      "source": [
        "porcentaje_lista(sorted(fraude.map(lambda x: (semanas(x.timestamp), 1)).reduceByKey(lambda a,b: a + b).collect()), cantidad_total)"
      ],
      "metadata": {
        "colab": {
          "base_uri": "https://localhost:8080/"
        },
        "id": "smZLkrJUECF0",
        "outputId": "21c57984-ad6b-42d9-b509-ae2c6b590878"
      },
      "execution_count": 83,
      "outputs": [
        {
          "output_type": "execute_result",
          "data": {
            "text/plain": [
              "[(1, 804, 4.573378839590443),\n",
              " (2, 717, 4.078498293515358),\n",
              " (3, 869, 4.943117178612059),\n",
              " (4, 724, 4.118316268486917),\n",
              " (5, 889, 5.056882821387941),\n",
              " (6, 803, 4.56769055745165),\n",
              " (7, 823, 4.681456200227531),\n",
              " (8, 862, 4.9032992036405005),\n",
              " (9, 927, 5.273037542662116),\n",
              " (10, 996, 5.665529010238908),\n",
              " (11, 880, 5.005688282138794),\n",
              " (12, 676, 3.845278725824801),\n",
              " (13, 912, 5.187713310580205),\n",
              " (14, 884, 5.02844141069397),\n",
              " (15, 718, 4.084186575654153),\n",
              " (16, 866, 4.926052332195677),\n",
              " (17, 1069, 6.080773606370876),\n",
              " (18, 833, 4.738339021615472),\n",
              " (19, 727, 4.135381114903299),\n",
              " (20, 611, 3.4755403868031856),\n",
              " (21, 639, 3.63481228668942),\n",
              " (22, 351, 1.9965870307167235)]"
            ]
          },
          "metadata": {},
          "execution_count": 83
        }
      ]
    },
    {
      "cell_type": "markdown",
      "source": [
        "Máxima cantidad respecto de semanas"
      ],
      "metadata": {
        "id": "stGhR50EVi7i"
      }
    },
    {
      "cell_type": "code",
      "source": [
        "porcentaje_tupla(fraude.map(lambda x: (semanas(x.timestamp), 1)).reduceByKey(lambda a,b: a + b).reduce(lambda a,b: a if a[1] > b[1] else b), cantidad_total)"
      ],
      "metadata": {
        "colab": {
          "base_uri": "https://localhost:8080/"
        },
        "id": "FOPZytbDRIsy",
        "outputId": "39882c34-0ad8-477c-ddef-fca27f5465fc"
      },
      "execution_count": 84,
      "outputs": [
        {
          "output_type": "execute_result",
          "data": {
            "text/plain": [
              "(17, 1069, 6.080773606370876)"
            ]
          },
          "metadata": {},
          "execution_count": 84
        }
      ]
    },
    {
      "cell_type": "markdown",
      "source": [
        "Cantidad respecto de meses"
      ],
      "metadata": {
        "id": "g5KWuys7VozS"
      }
    },
    {
      "cell_type": "code",
      "source": [
        "porcentaje_lista(sorted(fraude.map(lambda x: (meses(x.timestamp), 1)).reduceByKey(lambda a,b: a + b).collect()), cantidad_total)"
      ],
      "metadata": {
        "colab": {
          "base_uri": "https://localhost:8080/"
        },
        "id": "XkkYbmE7EliT",
        "outputId": "3afebc05-d9b6-4665-e813-8e700d4f6466"
      },
      "execution_count": 85,
      "outputs": [
        {
          "output_type": "execute_result",
          "data": {
            "text/plain": [
              "[(1, 3114, 17.713310580204777),\n",
              " (2, 3377, 19.209328782707622),\n",
              " (3, 3479, 19.78953356086462),\n",
              " (4, 3380, 19.226393629124004),\n",
              " (5, 3240, 18.43003412969283),\n",
              " (6, 990, 5.631399317406143)]"
            ]
          },
          "metadata": {},
          "execution_count": 85
        }
      ]
    },
    {
      "cell_type": "code",
      "source": [
        "porcentaje_tupla(fraude.map(lambda x: (meses(x.timestamp), 1)).reduceByKey(lambda a,b: a + b).reduce(lambda a,b: a if a[1] > b[1] else b), cantidad_total)"
      ],
      "metadata": {
        "colab": {
          "base_uri": "https://localhost:8080/"
        },
        "id": "mjMXuoc2_03-",
        "outputId": "98361a9d-dfc8-4cb0-b344-021ef5a081ff"
      },
      "execution_count": 86,
      "outputs": [
        {
          "output_type": "execute_result",
          "data": {
            "text/plain": [
              "(3, 3479, 19.78953356086462)"
            ]
          },
          "metadata": {},
          "execution_count": 86
        }
      ]
    },
    {
      "cell_type": "markdown",
      "source": [
        "Monto respecto del tiempo"
      ],
      "metadata": {
        "id": "LRn2WvlSwcpJ"
      }
    },
    {
      "cell_type": "markdown",
      "source": [
        "Máximo monto respecto de segundos"
      ],
      "metadata": {
        "id": "hzOBcO2ZvSPq"
      }
    },
    {
      "cell_type": "code",
      "source": [
        "monto_total = fraude.map(lambda x: (1, x.ammount)).reduceByKey(lambda a,b: a + b).collect()[0][1]\n",
        "(fraude.map(lambda x: segundos(x.timestamp)).reduce(lambda a,b: a if a > b else b), monto_total, 100)"
      ],
      "metadata": {
        "id": "PDyGpqJbXVky",
        "colab": {
          "base_uri": "https://localhost:8080/"
        },
        "outputId": "8b1851ae-5a57-48df-cff4-1923c873103e"
      },
      "execution_count": 88,
      "outputs": [
        {
          "output_type": "execute_result",
          "data": {
            "text/plain": [
              "(13064705, 2614236.338999996, 100)"
            ]
          },
          "metadata": {},
          "execution_count": 88
        }
      ]
    },
    {
      "cell_type": "markdown",
      "source": [
        "Máximo monto respecto de minutos"
      ],
      "metadata": {
        "id": "ie6VtYxJvlHi"
      }
    },
    {
      "cell_type": "code",
      "source": [
        "porcentaje_tupla(fraude.map(lambda x: (minutos(x.timestamp), x.ammount)).reduceByKey(lambda a,b: a + b).reduce(lambda a,b: a if a[1] > b[1] else b), monto_total)"
      ],
      "metadata": {
        "colab": {
          "base_uri": "https://localhost:8080/"
        },
        "id": "O8eOwzl3srB5",
        "outputId": "39504ea9-3770-4ee7-8527-dccbc04f9587"
      },
      "execution_count": 68,
      "outputs": [
        {
          "output_type": "execute_result",
          "data": {
            "text/plain": [
              "(176918, 6239.603999999999, 0.23867788489187583)"
            ]
          },
          "metadata": {},
          "execution_count": 68
        }
      ]
    },
    {
      "cell_type": "markdown",
      "source": [
        "Máximo monto respecto de horas"
      ],
      "metadata": {
        "id": "YgdxzzkWvvY4"
      }
    },
    {
      "cell_type": "code",
      "source": [
        "porcentaje_tupla(fraude.map(lambda x: (horas(x.timestamp), x.ammount)).reduceByKey(lambda a,b: a + b).reduce(lambda a,b: a if a[1] > b[1] else b), monto_total)"
      ],
      "metadata": {
        "colab": {
          "base_uri": "https://localhost:8080/"
        },
        "id": "wTsF26zXtneR",
        "outputId": "30d96917-15fd-48af-b995-19e474e9b6f1"
      },
      "execution_count": 69,
      "outputs": [
        {
          "output_type": "execute_result",
          "data": {
            "text/plain": [
              "(3000, 10744.97, 0.411017544194577)"
            ]
          },
          "metadata": {},
          "execution_count": 69
        }
      ]
    },
    {
      "cell_type": "markdown",
      "source": [
        "Monto respecto de días"
      ],
      "metadata": {
        "id": "hq35wcc_vy4g"
      }
    },
    {
      "cell_type": "code",
      "source": [
        "porcentaje_lista(sorted(fraude.map(lambda x: (dias(x.timestamp), x.ammount)).reduceByKey(lambda a,b: a + b).collect()), monto_total)"
      ],
      "metadata": {
        "colab": {
          "base_uri": "https://localhost:8080/"
        },
        "id": "nW0hZ95XtxAq",
        "outputId": "e803de64-a001-4caa-80c5-c3e2e4ada739"
      },
      "execution_count": 70,
      "outputs": [
        {
          "output_type": "execute_result",
          "data": {
            "text/plain": [
              "[(1, 20337.144, 0.777938233686225),\n",
              " (2, 15359.606999999995, 0.5875370474681485),\n",
              " (3, 14254.337000000001, 0.5452581615269186),\n",
              " (4, 14120.447, 0.5401365893873767),\n",
              " (5, 16692.721000000005, 0.6385314422790613),\n",
              " (6, 12869.08, 0.4922691880613484),\n",
              " (7, 21670.363000000027, 0.8289366449664389),\n",
              " (8, 13508.152, 0.5167150268122724),\n",
              " (9, 13106.597999999994, 0.5013547476359219),\n",
              " (10, 12709.721000000001, 0.48617337347784534),\n",
              " (11, 21725.538999999993, 0.8310472422057487),\n",
              " (12, 14710.558, 0.5627095676294944),\n",
              " (13, 10975.38, 0.41983120792354717),\n",
              " (14, 15782.409000000001, 0.603710107022578),\n",
              " (15, 16438.68099999999, 0.6288138816970218),\n",
              " (16, 7279.535, 0.27845741761758946),\n",
              " (17, 14338.320000000002, 0.5484706866818603),\n",
              " (18, 19745.87399999998, 0.7553209212734462),\n",
              " (19, 13647.860999999997, 0.5220591878552422),\n",
              " (20, 20877.602, 0.7986118809742409),\n",
              " (21, 11047.986000000004, 0.4226085390667513),\n",
              " (22, 18677.98300000001, 0.7144718601511277),\n",
              " (23, 15191.023999999996, 0.5810883956196135),\n",
              " (24, 11902.087999999994, 0.4552797244243345),\n",
              " (25, 5965.497999999999, 0.22819275790045573),\n",
              " (26, 12609.165, 0.4823268964589211),\n",
              " (27, 14725.043999999994, 0.5632636873846171),\n",
              " (28, 22367.33000000001, 0.8555970883855135),\n",
              " (29, 16953.839000000007, 0.6485197511440466),\n",
              " (30, 22107.92000000002, 0.8456741140878179),\n",
              " (31, 18823.939999999988, 0.7200550202435243),\n",
              " (32, 6477.429999999999, 0.24777522610973118),\n",
              " (33, 18623.234999999997, 0.712377634805727),\n",
              " (34, 22765.200000000004, 0.870816446867547),\n",
              " (35, 15812.873000000005, 0.6048754186489804),\n",
              " (36, 20959.428999999996, 0.8017419346262109),\n",
              " (37, 24458.921000000013, 0.9356048125838577),\n",
              " (38, 13548.031999999997, 0.5182405201047133),\n",
              " (39, 15022.658000000016, 0.5746480444743003),\n",
              " (40, 16653.409, 0.6370276761729317),\n",
              " (41, 18989.125000000007, 0.7263736914950762),\n",
              " (42, 12384.087, 0.4737171928662422),\n",
              " (43, 15913.498000000003, 0.6087245350620163),\n",
              " (44, 18996.227, 0.7266453578281481),\n",
              " (45, 11489.537999999997, 0.4394988252819943),\n",
              " (46, 17005.305, 0.6504884331347376),\n",
              " (47, 12495.116000000002, 0.4779642840088308),\n",
              " (48, 14594.982000000004, 0.5582885442401475),\n",
              " (49, 14391.142, 0.5504912385046615),\n",
              " (50, 20959.673, 0.8017512681358236),\n",
              " (51, 21140.629999999994, 0.8086732513284075),\n",
              " (52, 16147.651999999995, 0.6176814146106175),\n",
              " (53, 14708.184000000005, 0.5626187571712133),\n",
              " (54, 15866.526000000003, 0.6069277579573891),\n",
              " (55, 12273.243999999999, 0.4694772166121289),\n",
              " (56, 17105.835000000006, 0.654333915599359),\n",
              " (57, 14132.872999999998, 0.5406119098400315),\n",
              " (58, 13686.21, 0.5235261172000724),\n",
              " (59, 18960.516999999993, 0.725279375745072),\n",
              " (60, 15173.164999999997, 0.5804052515697212),\n",
              " (61, 21518.990999999998, 0.8231463498143972),\n",
              " (62, 19006.247999999996, 0.7270286820077756),\n",
              " (63, 24982.330000000016, 0.9556263000137287),\n",
              " (64, 27517.517999999975, 1.0526025359484539),\n",
              " (65, 24761.23400000001, 0.9471689162377622),\n",
              " (66, 9832.455999999998, 0.37611197783904776),\n",
              " (67, 8018.997999999997, 0.30674342179282243),\n",
              " (68, 19486.888000000006, 0.7454141658613077),\n",
              " (69, 23886.027, 0.9136904205507654),\n",
              " (70, 20616.311999999998, 0.7886169927500204),\n",
              " (71, 19799.132000000016, 0.7573581510068683),\n",
              " (72, 11278.502999999997, 0.43142629576919883),\n",
              " (73, 13472.20400000001, 0.5153399407321158),\n",
              " (74, 14670.924999999994, 0.5611935226029315),\n",
              " (75, 14588.708, 0.5580485506364168),\n",
              " (76, 22259.980000000003, 0.8514907266767987),\n",
              " (77, 12042.201999999996, 0.4606393775631781),\n",
              " (78, 11006.379000000004, 0.42101698441733815),\n",
              " (79, 15463.537999999999, 0.5915126252860194),\n",
              " (80, 8365.217000000004, 0.3199870216477783),\n",
              " (81, 14053.993000000004, 0.5375945850930973),\n",
              " (82, 16771.694000000003, 0.6415523244702334),\n",
              " (83, 13394.145999999999, 0.5123540592019908),\n",
              " (84, 13479.267000000002, 0.515610115233733),\n",
              " (85, 28536.53900000001, 1.0915822175020289),\n",
              " (86, 15185.329999999994, 0.5808705882272573),\n",
              " (87, 24689.968, 0.9444428428932508),\n",
              " (88, 14657.431000000002, 0.5606773489196772),\n",
              " (89, 16943.928999999996, 0.6481406729462506),\n",
              " (90, 23352.64000000002, 0.8932872537810768),\n",
              " (91, 24289.77200000001, 0.929134510053188),\n",
              " (92, 20016.557999999997, 0.7656751496177572),\n",
              " (93, 20032.750000000007, 0.7662945274359924),\n",
              " (94, 8975.891999999996, 0.34334661583938797),\n",
              " (95, 31478.14900000001, 1.2041049437802975),\n",
              " (96, 19764.80000000001, 0.7560448803018509),\n",
              " (97, 21625.253, 0.8272110932507406),\n",
              " (98, 24459.141999999996, 0.9356132662954325),\n",
              " (99, 18637.900999999994, 0.7129386399367935),\n",
              " (100, 12417.611, 0.47499955588368936),\n",
              " (101, 11407.325, 0.43635400632383364),\n",
              " (102, 18106.957999999995, 0.6926289612715855),\n",
              " (103, 17560.439000000002, 0.6717234680747061),\n",
              " (104, 22104.075, 0.8455270348072396),\n",
              " (105, 22964.422000000002, 0.8784371044579852),\n",
              " (106, 30852.046999999995, 1.1801552346182136),\n",
              " (107, 18728.002000000015, 0.7163851913696486),\n",
              " (108, 17292.534999999996, 0.6614755805366388),\n",
              " (109, 32184.507000000012, 1.2311246125631972),\n",
              " (110, 23499.026000000005, 0.898886824019473),\n",
              " (111, 17337.146999999997, 0.663182082712225),\n",
              " (112, 27171.11899999999, 1.0393520507175549),\n",
              " (113, 25456.080000000005, 0.973748226976966),\n",
              " (114, 29092.988000000012, 1.1128675539384756),\n",
              " (115, 20384.943999999992, 0.7797666835201935),\n",
              " (116, 24992.80999999999, 0.956027181902012),\n",
              " (117, 18357.42499999998, 0.7022098471411391),\n",
              " (118, 17647.022000000004, 0.6750354486599474),\n",
              " (119, 23047.984000000008, 0.8816335254836363),\n",
              " (120, 39055.20000000002, 1.4939429697828892),\n",
              " (121, 22508.976000000002, 0.8610153437240563),\n",
              " (122, 10219.808000000005, 0.3909290008534313),\n",
              " (123, 22888.529, 0.8755340386996294),\n",
              " (124, 15314.679999999997, 0.5858184958846607),\n",
              " (125, 34599.427, 1.3235003463089745),\n",
              " (126, 13252.202, 0.5069244047410519),\n",
              " (127, 14091.580000000005, 0.5390323663464318),\n",
              " (128, 7897.821999999997, 0.30210818670744555),\n",
              " (129, 14276.810000000016, 0.5461178007135046),\n",
              " (130, 13494.671999999993, 0.5161993886582575),\n",
              " (131, 15954.845, 0.6103061441683993),\n",
              " (132, 25954.069, 0.9927973463152154),\n",
              " (133, 23102.909000000007, 0.8837345214487146),\n",
              " (134, 13602.014000000003, 0.520305444350264),\n",
              " (135, 16273.365000000009, 0.6224901994218678),\n",
              " (136, 12192.384, 0.4663841527298125),\n",
              " (137, 12413.434000000001, 0.4748397769097043),\n",
              " (138, 17611.904999999995, 0.6736921500653971),\n",
              " (139, 18417.266000000003, 0.7044988903736615),\n",
              " (140, 14815.231000000005, 0.5667135284970892),\n",
              " (141, 24475.536000000004, 0.9362403710355601),\n",
              " (142, 13260.685999999992, 0.5072489354605368),\n",
              " (143, 10804.996000000001, 0.41331366406348535),\n",
              " (144, 14808.523000000005, 0.5664569334869164),\n",
              " (145, 8080.865, 0.30910996375680067),\n",
              " (146, 11678.730000000001, 0.446735814424008),\n",
              " (147, 11709.832000000002, 0.4479255308829222),\n",
              " (148, 13237.493999999999, 0.506361793022265),\n",
              " (149, 7826.8009999999995, 0.2993914851246359),\n",
              " (150, 7782.211999999999, 0.2976858627470869),\n",
              " (151, 10106.251, 0.3865852084309205),\n",
              " (152, 7747.412999999998, 0.29635472831670445)]"
            ]
          },
          "metadata": {},
          "execution_count": 70
        }
      ]
    },
    {
      "cell_type": "markdown",
      "source": [
        "Máximo monto respecto de días"
      ],
      "metadata": {
        "id": "gYR_Ek3lv5kp"
      }
    },
    {
      "cell_type": "code",
      "source": [
        "porcentaje_tupla(fraude.map(lambda x: (dias(x.timestamp), x.ammount)).reduceByKey(lambda a,b: a + b).reduce(lambda a,b: a if a[1] > b[1] else b), monto_total)"
      ],
      "metadata": {
        "colab": {
          "base_uri": "https://localhost:8080/"
        },
        "id": "KGbY69rkt7Ta",
        "outputId": "092704d7-9a09-4404-c0a5-4e61c9456fca"
      },
      "execution_count": 71,
      "outputs": [
        {
          "output_type": "execute_result",
          "data": {
            "text/plain": [
              "(120, 39055.20000000002, 1.4939429697828892)"
            ]
          },
          "metadata": {},
          "execution_count": 71
        }
      ]
    },
    {
      "cell_type": "markdown",
      "source": [
        "Monto respecto de semanas"
      ],
      "metadata": {
        "id": "a6dYez1Ev9np"
      }
    },
    {
      "cell_type": "code",
      "source": [
        "porcentaje_lista(sorted(fraude.map(lambda x: (semanas(x.timestamp), x.ammount)).reduceByKey(lambda a,b: a + b).collect()), monto_total)"
      ],
      "metadata": {
        "colab": {
          "base_uri": "https://localhost:8080/"
        },
        "id": "Cmmwls3iuPTj",
        "outputId": "8d226181-2cde-407e-a1e3-59a8eccf401a"
      },
      "execution_count": 72,
      "outputs": [
        {
          "output_type": "execute_result",
          "data": {
            "text/plain": [
              "[(1, 115303.69900000001, 4.410607307375517),\n",
              " (2, 102518.35700000002, 3.9215412727074086),\n",
              " (3, 103375.85900000017, 3.9543425151661595),\n",
              " (4, 101438.13200000007, 3.8802204103245854),\n",
              " (5, 121564.43699999985, 4.6500936119073675),\n",
              " (6, 122015.66099999995, 4.6673538723233285),\n",
              " (7, 104885.80800000005, 4.012101218060538),\n",
              " (8, 118201.74399999983, 4.521463581414933),\n",
              " (9, 127460.33400000015, 4.875623986190805),\n",
              " (10, 134119.4329999999, 5.130348430980177),\n",
              " (11, 108111.65399999979, 4.135496564987499),\n",
              " (12, 92534.23399999994, 3.539627715350188),\n",
              " (13, 147655.60900000005, 5.64813543432273),\n",
              " (14, 146352.54399999988, 5.598290476521454),\n",
              " (15, 123198.73099999996, 4.712608770755831),\n",
              " (16, 167064.3829999998, 6.390561576536943),\n",
              " (17, 158979.2529999999, 6.081288467622366),\n",
              " (18, 157838.82199999993, 6.037664599994689),\n",
              " (19, 114772.70699999995, 4.390295754357966),\n",
              " (20, 105325.59899999997, 4.028924142347795),\n",
              " (21, 94819.16799999979, 3.627031213110221),\n",
              " (22, 46700.17100000003, 1.7863790776416144)]"
            ]
          },
          "metadata": {},
          "execution_count": 72
        }
      ]
    },
    {
      "cell_type": "markdown",
      "source": [
        "Máximo monto respecto de semanas"
      ],
      "metadata": {
        "id": "f2yL5COLwDih"
      }
    },
    {
      "cell_type": "code",
      "source": [
        "porcentaje_tupla(fraude.map(lambda x: (semanas(x.timestamp), x.ammount)).reduceByKey(lambda a,b: a + b).reduce(lambda a,b: a if a[1] > b[1] else b), monto_total)"
      ],
      "metadata": {
        "colab": {
          "base_uri": "https://localhost:8080/"
        },
        "id": "di3tmlfUujSi",
        "outputId": "d4eba0b8-168b-4db7-9393-e784874e0d67"
      },
      "execution_count": 76,
      "outputs": [
        {
          "output_type": "execute_result",
          "data": {
            "text/plain": [
              "(16, 167064.3829999998, 6.390561576536943)"
            ]
          },
          "metadata": {},
          "execution_count": 76
        }
      ]
    },
    {
      "cell_type": "markdown",
      "source": [
        "Monto respecto de meses"
      ],
      "metadata": {
        "id": "NGEXpqmIwJn4"
      }
    },
    {
      "cell_type": "code",
      "source": [
        "porcentaje_lista(sorted(fraude.map(lambda x: (meses(x.timestamp), x.ammount)).reduceByKey(lambda a,b: a + b).collect()), monto_total)"
      ],
      "metadata": {
        "colab": {
          "base_uri": "https://localhost:8080/"
        },
        "id": "athDfVNzuqvo",
        "outputId": "4f0c4506-b2f0-45cc-e968-49a8ad20dc65"
      },
      "execution_count": 74,
      "outputs": [
        {
          "output_type": "execute_result",
          "data": {
            "text/plain": [
              "[(1, 422636.0470000013, 16.166711505573712),\n",
              " (2, 466667.6500000037, 17.85101228370632),\n",
              " (3, 462225.6550000017, 17.681096697508742),\n",
              " (4, 584271.2670000009, 22.349596258137005),\n",
              " (5, 536916.381000001, 20.538172964322865),\n",
              " (6, 141519.3389999998, 5.413410290751835)]"
            ]
          },
          "metadata": {},
          "execution_count": 74
        }
      ]
    },
    {
      "cell_type": "markdown",
      "source": [
        "Máximo monto respecto de meses"
      ],
      "metadata": {
        "id": "j_osM69SAAg9"
      }
    },
    {
      "cell_type": "code",
      "source": [
        "porcentaje_tupla(fraude.map(lambda x: (meses(x.timestamp), x.ammount)).reduceByKey(lambda a,b: a + b).reduce(lambda a,b: a if a[1] > b[1] else b), monto_total)"
      ],
      "metadata": {
        "colab": {
          "base_uri": "https://localhost:8080/"
        },
        "id": "azAHv4tA-5a8",
        "outputId": "4e531139-680b-45cb-f7d0-4196fdf15cb1"
      },
      "execution_count": 77,
      "outputs": [
        {
          "output_type": "execute_result",
          "data": {
            "text/plain": [
              "(4, 584271.2670000009, 22.349596258137005)"
            ]
          },
          "metadata": {},
          "execution_count": 77
        }
      ]
    },
    {
      "cell_type": "markdown",
      "source": [
        "Plataformas fraudulentas"
      ],
      "metadata": {
        "id": "Sw2PbEDuBovd"
      }
    },
    {
      "cell_type": "code",
      "source": [
        "identity_rdd = sqlContext.read.csv('identity_features_train.csv', header=True, inferSchema=True).rdd"
      ],
      "metadata": {
        "id": "zLho862v_9lF"
      },
      "execution_count": 91,
      "outputs": []
    },
    {
      "cell_type": "code",
      "source": [
        "def unicidad_sistema(string) -> str:\n",
        "    if string == None:\n",
        "      return \"OTRO\"\n",
        "    lista = [\"WINDOWS\", \"MOTO\", \"SAMSUNG\", \"LG\", \"SM\", \"GT\", \"RV\", \"ZTE\", \"HUAMWI\", \"IOS DEVICE\",\"MACOS\", \"NOKIA\", \"ALCATEL\", \"IPHONE\" ,\"BUILD\"]\n",
        "    for sistema in lista:\n",
        "        match string.upper().find(sistema):\n",
        "            case -1:\n",
        "                continue\n",
        "            case _:\n",
        "                return sistema\n",
        "    return \"OTRO\"\n",
        "\n",
        "def unicidad_modelo(string) -> str:\n",
        "    if string == None:\n",
        "      return \"OTRO\"\n",
        "    lista = [\"CHROME\", \"SAFARI\", \"FIREFOX\", \"SAMSUNG\", \"OPERA\", \"EDGE\", \"ANDROID\"]\n",
        "    for modelo in lista:\n",
        "        match string.upper().find(modelo):\n",
        "            case -1:\n",
        "                continue\n",
        "            case _:\n",
        "                return modelo\n",
        "    return \"OTRO\"\n",
        "\n",
        "def nulo(numero):\n",
        "  if numero == None:\n",
        "    return 0\n",
        "  else:\n",
        "    return numero"
      ],
      "metadata": {
        "id": "bGlWJh37L-6S"
      },
      "execution_count": 157,
      "outputs": []
    },
    {
      "cell_type": "code",
      "source": [
        "identity_rdd.first()"
      ],
      "metadata": {
        "colab": {
          "base_uri": "https://localhost:8080/"
        },
        "id": "Rn63CJSqCJSs",
        "outputId": "1e05c39f-e138-44ac-d493-efe1cff02550"
      },
      "execution_count": 92,
      "outputs": [
        {
          "output_type": "execute_result",
          "data": {
            "text/plain": [
              "Row(_c0=0, Id=2987004, feature01=0.0, feature02=70787.0, feature03=None, feature04=None, feature05=None, feature06=None, feature07=None, feature08=None, feature09=None, feature10=None, feature11=100.0, feature12='NotFound', feature13=None, feature14=-480.0, feature15='New', feature16='NotFound', feature17=166.0, feature18=None, feature19=542.0, feature20=144.0, feature21=None, feature22=None, feature23=None, feature24=None, feature25=None, feature26=None, feature27=None, feature28='New', feature29='NotFound', feature30='Android 7.0', feature31='samsung browser 6.2', feature32=32.0, feature33='2220x1080', feature34='match_status:2', feature35='T', feature36='F', feature37='T', feature38='T', Device='mobile', DeviceMetadata='SAMSUNG SM-G892A Build/NRD90M')"
            ]
          },
          "metadata": {},
          "execution_count": 92
        }
      ]
    },
    {
      "cell_type": "code",
      "source": [
        "plataformas = identity_rdd.map(lambda x: (x.Id, (x.Device, x.DeviceMetadata, x.feature31))).leftOuterJoin(transactions_rdd.map(lambda x: (x.Id, x.target)))\n",
        "plataformas_fraudulentas = plataformas.filter(lambda x: x[1][1] == 1).cache()\n",
        "plataformas_legales = plataformas.filter(lambda x: x[1][1] == 0).cache()"
      ],
      "metadata": {
        "id": "SoF9rSsQCnvU"
      },
      "execution_count": 145,
      "outputs": []
    },
    {
      "cell_type": "code",
      "source": [
        "plataformas.first()"
      ],
      "metadata": {
        "colab": {
          "base_uri": "https://localhost:8080/"
        },
        "id": "_gN7beksEHj3",
        "outputId": "ce9ed443-87f5-41f5-878c-1c27fdb3fdf4"
      },
      "execution_count": 144,
      "outputs": [
        {
          "output_type": "execute_result",
          "data": {
            "text/plain": [
              "(2987040, (('desktop', 'Windows', 'chrome 62.0'), 0))"
            ]
          },
          "metadata": {},
          "execution_count": 144
        }
      ]
    },
    {
      "cell_type": "markdown",
      "source": [
        "Fraude por dispositivo"
      ],
      "metadata": {
        "id": "e__5UQxXE399"
      }
    },
    {
      "cell_type": "code",
      "source": [
        "dispositivos = plataformas_fraudulentas.map(lambda x: (x[1][0][0], 1)).reduceByKey(lambda a,b: a+b).leftOuterJoin(plataformas_legales\\\n",
        ".map(lambda x: (x[1][0][0], 1)).reduceByKey(lambda a,b: a+b)).map(lambda x: (x[0], x[1][0], x[1][0] * 100 / (x[1][0] + x[1][1])))\n",
        "dispositivos.collect()"
      ],
      "metadata": {
        "colab": {
          "base_uri": "https://localhost:8080/"
        },
        "id": "Tx6uj9kYFFle",
        "outputId": "3349ed55-8582-4b9f-c14d-3b85670df8b7"
      },
      "execution_count": 172,
      "outputs": [
        {
          "output_type": "execute_result",
          "data": {
            "text/plain": [
              "[(None, 71, 2.417432754511406),\n",
              " ('mobile', 4726, 9.861447291544946),\n",
              " ('desktop', 4758, 6.369136860141358)]"
            ]
          },
          "metadata": {},
          "execution_count": 172
        }
      ]
    },
    {
      "cell_type": "markdown",
      "source": [
        "Máximo dispositivo respecto de la cantidad"
      ],
      "metadata": {
        "id": "HLUsv6ujXKMA"
      }
    },
    {
      "cell_type": "code",
      "source": [
        "dispositivos.reduce(lambda a,b: a if a[1] > b[1] else b)"
      ],
      "metadata": {
        "colab": {
          "base_uri": "https://localhost:8080/"
        },
        "id": "IwpikF6XWVT4",
        "outputId": "a9f7f6c2-ca5f-46a0-976e-e78240935266"
      },
      "execution_count": 173,
      "outputs": [
        {
          "output_type": "execute_result",
          "data": {
            "text/plain": [
              "('desktop', 4758, 6.369136860141358)"
            ]
          },
          "metadata": {},
          "execution_count": 173
        }
      ]
    },
    {
      "cell_type": "markdown",
      "source": [
        "Máximo dispositivo respecto del promedio"
      ],
      "metadata": {
        "id": "0EuO1w1LXR6I"
      }
    },
    {
      "cell_type": "code",
      "source": [
        "dispositivos.reduce(lambda a,b: a if a[2] > b[2] else b)"
      ],
      "metadata": {
        "colab": {
          "base_uri": "https://localhost:8080/"
        },
        "id": "v-3zWjmcWVCS",
        "outputId": "f101da58-9f47-4557-c178-1567e1c0988a"
      },
      "execution_count": 174,
      "outputs": [
        {
          "output_type": "execute_result",
          "data": {
            "text/plain": [
              "('mobile', 4726, 9.861447291544946)"
            ]
          },
          "metadata": {},
          "execution_count": 174
        }
      ]
    },
    {
      "cell_type": "markdown",
      "source": [
        "Fraude por sistema"
      ],
      "metadata": {
        "id": "B11LMbrAIrDb"
      }
    },
    {
      "cell_type": "code",
      "source": [
        "sistema = plataformas_fraudulentas.map(lambda x: (unicidad_sistema(x[1][0][1]), 1)).reduceByKey(lambda a,b: a+b)\\\n",
        ".leftOuterJoin(plataformas_legales.map(lambda x: (unicidad_sistema(x[1][0][1]), 1)).reduceByKey(lambda a,b: a+b))\\\n",
        ".map(lambda x: (x[0], x[1][0], x[1][0] * 100 / (x[1][0] + nulo(x[1][1]))))\n",
        "sistema.collect()"
      ],
      "metadata": {
        "colab": {
          "base_uri": "https://localhost:8080/"
        },
        "id": "re6fOLlRIy0T",
        "outputId": "c14d54b4-3577-4748-c153-16a50895be83"
      },
      "execution_count": 165,
      "outputs": [
        {
          "output_type": "execute_result",
          "data": {
            "text/plain": [
              "[('BUILD', 1035, 16.512444160816848),\n",
              " ('MOTO', 377, 15.721434528773978),\n",
              " ('MACOS', 218, 1.9339957416607523),\n",
              " ('RV', 297, 7.4811083123425695),\n",
              " ('GT', 20, 15.037593984962406),\n",
              " ('OTRO', 2484, 8.279172082791721),\n",
              " ('WINDOWS', 2610, 6.309834638816362),\n",
              " ('ZTE', 9, 20.0),\n",
              " ('IOS DEVICE', 1079, 6.113314447592068),\n",
              " ('SM', 984, 12.479391249207355),\n",
              " ('NOKIA', 10, 100.0),\n",
              " ('SAMSUNG', 182, 7.882200086617583),\n",
              " ('ALCATEL', 7, 13.20754716981132),\n",
              " ('LG', 242, 10.980036297640654),\n",
              " ('IPHONE', 1, 100.0)]"
            ]
          },
          "metadata": {},
          "execution_count": 165
        }
      ]
    },
    {
      "cell_type": "markdown",
      "source": [
        "Máximo sistema respecto de la cantidad"
      ],
      "metadata": {
        "id": "Vn90Ez-VXZ6i"
      }
    },
    {
      "cell_type": "code",
      "source": [
        "sistema.reduce(lambda a,b: a if a[1] > b[1] else b)"
      ],
      "metadata": {
        "colab": {
          "base_uri": "https://localhost:8080/"
        },
        "id": "dHFWRHz2JIXU",
        "outputId": "57d513b4-d345-4a96-d1c5-e891492c2cb8"
      },
      "execution_count": 166,
      "outputs": [
        {
          "output_type": "execute_result",
          "data": {
            "text/plain": [
              "('WINDOWS', 2610, 6.309834638816362)"
            ]
          },
          "metadata": {},
          "execution_count": 166
        }
      ]
    },
    {
      "cell_type": "markdown",
      "source": [
        "Máximo sistema respecto del promedio"
      ],
      "metadata": {
        "id": "3hxmwdvIXiiJ"
      }
    },
    {
      "cell_type": "code",
      "source": [
        "sistema.reduce(lambda a,b: a if a[2] > b[2] else b)"
      ],
      "metadata": {
        "colab": {
          "base_uri": "https://localhost:8080/"
        },
        "id": "3pN1-yK5Uy9x",
        "outputId": "ed278419-e872-4d42-e319-b2010a56fce1"
      },
      "execution_count": 167,
      "outputs": [
        {
          "output_type": "execute_result",
          "data": {
            "text/plain": [
              "('IPHONE', 1, 100.0)"
            ]
          },
          "metadata": {},
          "execution_count": 167
        }
      ]
    },
    {
      "cell_type": "markdown",
      "source": [
        "Fraude por modelo"
      ],
      "metadata": {
        "id": "5MNEPs9TLKIb"
      }
    },
    {
      "cell_type": "code",
      "source": [
        "modelo = plataformas_fraudulentas.map(lambda x: (unicidad_modelo(x[1][0][2]), 1)).reduceByKey(lambda a,b: a+b)\\\n",
        ".leftOuterJoin(plataformas_legales.map(lambda x: (unicidad_modelo(x[1][0][2]), 1)).reduceByKey(lambda a,b: a+b))\\\n",
        ".map(lambda x: (x[0], x[1][0], x[1][0] * 100 / (x[1][0] + nulo(x[1][1]))))\n",
        "modelo.collect()"
      ],
      "metadata": {
        "colab": {
          "base_uri": "https://localhost:8080/"
        },
        "id": "2fgz7Ns_LRrS",
        "outputId": "115e4675-67c1-4f4f-fbea-ed0bbcf07115"
      },
      "execution_count": 169,
      "outputs": [
        {
          "output_type": "execute_result",
          "data": {
            "text/plain": [
              "[('ANDROID', 92, 20.444444444444443),\n",
              " ('CHROME', 6158, 9.296637932335935),\n",
              " ('OTRO', 319, 2.5892857142857144),\n",
              " ('SAFARI', 2052, 6.18016444297202),\n",
              " ('EDGE', 177, 3.68673193084774),\n",
              " ('FIREFOX', 470, 7.4603174603174605),\n",
              " ('SAMSUNG', 158, 8.24634655532359),\n",
              " ('OPERA', 129, 38.392857142857146)]"
            ]
          },
          "metadata": {},
          "execution_count": 169
        }
      ]
    },
    {
      "cell_type": "markdown",
      "source": [
        "Máximo modelo respecto de la cantidad"
      ],
      "metadata": {
        "id": "1KOW6UzuXfaY"
      }
    },
    {
      "cell_type": "code",
      "source": [
        "modelo.reduce(lambda a,b: a if a[1] > b[1] else b)"
      ],
      "metadata": {
        "colab": {
          "base_uri": "https://localhost:8080/"
        },
        "id": "k1NGbg6gLc78",
        "outputId": "9c9bcdfc-d03a-4e3a-9544-5f56da492439"
      },
      "execution_count": 170,
      "outputs": [
        {
          "output_type": "execute_result",
          "data": {
            "text/plain": [
              "('CHROME', 6158, 9.296637932335935)"
            ]
          },
          "metadata": {},
          "execution_count": 170
        }
      ]
    },
    {
      "cell_type": "markdown",
      "source": [
        "Máximo modelo respecto del promedio"
      ],
      "metadata": {
        "id": "Ie0oX5OHXhgQ"
      }
    },
    {
      "cell_type": "code",
      "source": [
        "modelo.reduce(lambda a,b: a if a[2] > b[2] else b)"
      ],
      "metadata": {
        "colab": {
          "base_uri": "https://localhost:8080/"
        },
        "id": "Yh4WlKaOWFpA",
        "outputId": "e80f4d1a-eec9-4e38-a9db-78974a2b337f"
      },
      "execution_count": 171,
      "outputs": [
        {
          "output_type": "execute_result",
          "data": {
            "text/plain": [
              "('OPERA', 129, 38.392857142857146)"
            ]
          },
          "metadata": {},
          "execution_count": 171
        }
      ]
    }
  ],
  "metadata": {
    "colab": {
      "provenance": []
    },
    "kernelspec": {
      "display_name": "Python 3",
      "name": "python3"
    }
  },
  "nbformat": 4,
  "nbformat_minor": 0
}