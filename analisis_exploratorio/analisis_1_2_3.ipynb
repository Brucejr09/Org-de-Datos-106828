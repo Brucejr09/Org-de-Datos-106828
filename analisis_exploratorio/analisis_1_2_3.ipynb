{
 "cells": [
  {
   "cell_type": "code",
   "execution_count": 1,
   "metadata": {},
   "outputs": [],
   "source": [
    "from pandas import read_csv\n",
    "from funciones import tipo_transferencia, cantidad_producto\n",
    "\n",
    "transactions = read_csv(\"C:\\\\Users\\\\palej\\\\Desktop\\\\FIUBA\\\\Organizacion de datos\\\\TP\\\\transactions_train.csv\")"
   ]
  },
  {
   "cell_type": "code",
   "execution_count": null,
   "metadata": {},
   "outputs": [],
   "source": [
    "#                   ANALISIS    DEL     PROMEDIO"
   ]
  },
  {
   "cell_type": "code",
   "execution_count": 3,
   "metadata": {},
   "outputs": [],
   "source": [
    "#   Primer analisis\n",
    "analisis = transactions.target.mean() * 100"
   ]
  },
  {
   "cell_type": "code",
   "execution_count": 4,
   "metadata": {},
   "outputs": [
    {
     "data": {
      "text/plain": [
       "np.float64(3.5022780745040927)"
      ]
     },
     "execution_count": 4,
     "metadata": {},
     "output_type": "execute_result"
    }
   ],
   "source": [
    "analisis"
   ]
  },
  {
   "cell_type": "code",
   "execution_count": null,
   "metadata": {},
   "outputs": [],
   "source": [
    "#                   ANALISIS    DE  LA      CANTIDAD    Y   MONTO       DE  LOS     TIPOS   DE      PRODUCTOS"
   ]
  },
  {
   "cell_type": "code",
   "execution_count": 5,
   "metadata": {},
   "outputs": [],
   "source": [
    "#   Segundo analisis\n",
    "#   Tercer analisis\n",
    "analisis = transactions[[\"target\", \"ammount\", \"product_category\"]]"
   ]
  },
  {
   "cell_type": "code",
   "execution_count": 6,
   "metadata": {},
   "outputs": [],
   "source": [
    "analisis = analisis.rename(columns={\"target\":\"Transferencia\", \"ammount\":\"Monto\", \"product_category\":\"Tipo de producto\"})"
   ]
  },
  {
   "cell_type": "code",
   "execution_count": 7,
   "metadata": {},
   "outputs": [],
   "source": [
    "analisis[\"Transferencia\"] = analisis[\"Transferencia\"].map(tipo_transferencia)"
   ]
  },
  {
   "cell_type": "code",
   "execution_count": 8,
   "metadata": {},
   "outputs": [
    {
     "name": "stderr",
     "output_type": "stream",
     "text": [
      "C:\\Users\\palej\\AppData\\Local\\Temp\\ipykernel_9776\\2044519274.py:1: FutureWarning: The provided callable <built-in function sum> is currently using DataFrameGroupBy.sum. In a future version of pandas, the provided callable will be used directly. To keep current behavior pass the string \"sum\" instead.\n",
      "  analisis_monto = analisis.pivot_table(values=\"Monto\", index=\"Tipo de producto\", columns=\"Transferencia\", aggfunc=sum)\n"
     ]
    }
   ],
   "source": [
    "analisis_monto = analisis.pivot_table(values=\"Monto\", index=\"Tipo de producto\", columns=\"Transferencia\", aggfunc=sum)"
   ]
  },
  {
   "cell_type": "code",
   "execution_count": 9,
   "metadata": {},
   "outputs": [],
   "source": [
    "analisis_monto[\"Total\"] = analisis_monto[\"Legal\"] + analisis_monto[\"Fraude\"]"
   ]
  },
  {
   "cell_type": "code",
   "execution_count": 10,
   "metadata": {},
   "outputs": [],
   "source": [
    "analisis_monto[\"Fraude en %\"] = analisis_monto[\"Fraude\"] * 100 / analisis_monto[\"Total\"]"
   ]
  },
  {
   "cell_type": "code",
   "execution_count": 11,
   "metadata": {},
   "outputs": [
    {
     "data": {
      "text/plain": [
       "np.float64(3.867774543990683)"
      ]
     },
     "execution_count": 11,
     "metadata": {},
     "output_type": "execute_result"
    }
   ],
   "source": [
    "#   Primer analisis\n",
    "analisis_monto[\"Fraude\"].sum() * 100 / analisis_monto[\"Total\"].sum()"
   ]
  },
  {
   "cell_type": "code",
   "execution_count": 12,
   "metadata": {},
   "outputs": [],
   "source": [
    "analisis[\"Cantidad\"] = analisis[\"Tipo de producto\"].map(cantidad_producto)"
   ]
  },
  {
   "cell_type": "code",
   "execution_count": 13,
   "metadata": {},
   "outputs": [
    {
     "name": "stderr",
     "output_type": "stream",
     "text": [
      "C:\\Users\\palej\\AppData\\Local\\Temp\\ipykernel_9776\\970043778.py:1: FutureWarning: The provided callable <built-in function sum> is currently using DataFrameGroupBy.sum. In a future version of pandas, the provided callable will be used directly. To keep current behavior pass the string \"sum\" instead.\n",
      "  analisis_cantidad = analisis.pivot_table(values=\"Cantidad\", index=\"Tipo de producto\", columns=\"Transferencia\", aggfunc=sum)\n"
     ]
    }
   ],
   "source": [
    "analisis_cantidad = analisis.pivot_table(values=\"Cantidad\", index=\"Tipo de producto\", columns=\"Transferencia\", aggfunc=sum)"
   ]
  },
  {
   "cell_type": "code",
   "execution_count": 14,
   "metadata": {},
   "outputs": [],
   "source": [
    "analisis_cantidad[\"Total\"] = analisis_cantidad.Fraude + analisis_cantidad.Legal"
   ]
  },
  {
   "cell_type": "code",
   "execution_count": 15,
   "metadata": {},
   "outputs": [],
   "source": [
    "analisis_cantidad[\"Fraude en %\"] = analisis_cantidad.Fraude * 100 / analisis_cantidad.Total"
   ]
  },
  {
   "cell_type": "code",
   "execution_count": 16,
   "metadata": {},
   "outputs": [
    {
     "data": {
      "text/html": [
       "<div>\n",
       "<style scoped>\n",
       "    .dataframe tbody tr th:only-of-type {\n",
       "        vertical-align: middle;\n",
       "    }\n",
       "\n",
       "    .dataframe tbody tr th {\n",
       "        vertical-align: top;\n",
       "    }\n",
       "\n",
       "    .dataframe thead th {\n",
       "        text-align: right;\n",
       "    }\n",
       "</style>\n",
       "<table border=\"1\" class=\"dataframe\">\n",
       "  <thead>\n",
       "    <tr style=\"text-align: right;\">\n",
       "      <th>Transferencia</th>\n",
       "      <th>Fraude</th>\n",
       "      <th>Legal</th>\n",
       "      <th>Total</th>\n",
       "      <th>Fraude en %</th>\n",
       "    </tr>\n",
       "  </thead>\n",
       "  <tbody>\n",
       "    <tr>\n",
       "      <th>count</th>\n",
       "      <td>5.000000e+00</td>\n",
       "      <td>5.000000e+00</td>\n",
       "      <td>5.000000e+00</td>\n",
       "      <td>5.000000</td>\n",
       "    </tr>\n",
       "    <tr>\n",
       "      <th>mean</th>\n",
       "      <td>5.228473e+05</td>\n",
       "      <td>1.299519e+07</td>\n",
       "      <td>1.351804e+07</td>\n",
       "      <td>7.835462</td>\n",
       "    </tr>\n",
       "    <tr>\n",
       "      <th>std</th>\n",
       "      <td>6.843437e+05</td>\n",
       "      <td>2.350115e+07</td>\n",
       "      <td>2.418022e+07</td>\n",
       "      <td>3.907346</td>\n",
       "    </tr>\n",
       "    <tr>\n",
       "      <th>min</th>\n",
       "      <td>3.712100e+04</td>\n",
       "      <td>4.278471e+05</td>\n",
       "      <td>4.649681e+05</td>\n",
       "      <td>3.054804</td>\n",
       "    </tr>\n",
       "    <tr>\n",
       "      <th>25%</th>\n",
       "      <td>2.228720e+05</td>\n",
       "      <td>1.986435e+06</td>\n",
       "      <td>2.209307e+06</td>\n",
       "      <td>5.134080</td>\n",
       "    </tr>\n",
       "    <tr>\n",
       "      <th>50%</th>\n",
       "      <td>2.935500e+05</td>\n",
       "      <td>2.227830e+06</td>\n",
       "      <td>2.558283e+06</td>\n",
       "      <td>7.983558</td>\n",
       "    </tr>\n",
       "    <tr>\n",
       "      <th>75%</th>\n",
       "      <td>3.304533e+05</td>\n",
       "      <td>5.424125e+06</td>\n",
       "      <td>5.717675e+06</td>\n",
       "      <td>10.087869</td>\n",
       "    </tr>\n",
       "    <tr>\n",
       "      <th>max</th>\n",
       "      <td>1.730240e+06</td>\n",
       "      <td>5.490972e+07</td>\n",
       "      <td>5.663996e+07</td>\n",
       "      <td>12.916996</td>\n",
       "    </tr>\n",
       "  </tbody>\n",
       "</table>\n",
       "</div>"
      ],
      "text/plain": [
       "Transferencia        Fraude         Legal         Total  Fraude en %\n",
       "count          5.000000e+00  5.000000e+00  5.000000e+00     5.000000\n",
       "mean           5.228473e+05  1.299519e+07  1.351804e+07     7.835462\n",
       "std            6.843437e+05  2.350115e+07  2.418022e+07     3.907346\n",
       "min            3.712100e+04  4.278471e+05  4.649681e+05     3.054804\n",
       "25%            2.228720e+05  1.986435e+06  2.209307e+06     5.134080\n",
       "50%            2.935500e+05  2.227830e+06  2.558283e+06     7.983558\n",
       "75%            3.304533e+05  5.424125e+06  5.717675e+06    10.087869\n",
       "max            1.730240e+06  5.490972e+07  5.663996e+07    12.916996"
      ]
     },
     "execution_count": 16,
     "metadata": {},
     "output_type": "execute_result"
    }
   ],
   "source": [
    "analisis_monto.describe()"
   ]
  },
  {
   "cell_type": "code",
   "execution_count": 17,
   "metadata": {},
   "outputs": [
    {
     "data": {
      "text/html": [
       "<div>\n",
       "<style scoped>\n",
       "    .dataframe tbody tr th:only-of-type {\n",
       "        vertical-align: middle;\n",
       "    }\n",
       "\n",
       "    .dataframe tbody tr th {\n",
       "        vertical-align: top;\n",
       "    }\n",
       "\n",
       "    .dataframe thead th {\n",
       "        text-align: right;\n",
       "    }\n",
       "</style>\n",
       "<table border=\"1\" class=\"dataframe\">\n",
       "  <thead>\n",
       "    <tr style=\"text-align: right;\">\n",
       "      <th>Transferencia</th>\n",
       "      <th>Fraude</th>\n",
       "      <th>Legal</th>\n",
       "      <th>Total</th>\n",
       "      <th>Fraude en %</th>\n",
       "    </tr>\n",
       "    <tr>\n",
       "      <th>Tipo de producto</th>\n",
       "      <th></th>\n",
       "      <th></th>\n",
       "      <th></th>\n",
       "      <th></th>\n",
       "    </tr>\n",
       "  </thead>\n",
       "  <tbody>\n",
       "    <tr>\n",
       "      <th>C</th>\n",
       "      <td>330453.309</td>\n",
       "      <td>2.227830e+06</td>\n",
       "      <td>2.558283e+06</td>\n",
       "      <td>12.916996</td>\n",
       "    </tr>\n",
       "    <tr>\n",
       "      <th>H</th>\n",
       "      <td>222872.000</td>\n",
       "      <td>1.986435e+06</td>\n",
       "      <td>2.209307e+06</td>\n",
       "      <td>10.087869</td>\n",
       "    </tr>\n",
       "    <tr>\n",
       "      <th>R</th>\n",
       "      <td>293550.000</td>\n",
       "      <td>5.424125e+06</td>\n",
       "      <td>5.717675e+06</td>\n",
       "      <td>5.134080</td>\n",
       "    </tr>\n",
       "    <tr>\n",
       "      <th>S</th>\n",
       "      <td>37121.000</td>\n",
       "      <td>4.278471e+05</td>\n",
       "      <td>4.649681e+05</td>\n",
       "      <td>7.983558</td>\n",
       "    </tr>\n",
       "    <tr>\n",
       "      <th>W</th>\n",
       "      <td>1730240.030</td>\n",
       "      <td>5.490972e+07</td>\n",
       "      <td>5.663996e+07</td>\n",
       "      <td>3.054804</td>\n",
       "    </tr>\n",
       "  </tbody>\n",
       "</table>\n",
       "</div>"
      ],
      "text/plain": [
       "Transferencia          Fraude         Legal         Total  Fraude en %\n",
       "Tipo de producto                                                      \n",
       "C                  330453.309  2.227830e+06  2.558283e+06    12.916996\n",
       "H                  222872.000  1.986435e+06  2.209307e+06    10.087869\n",
       "R                  293550.000  5.424125e+06  5.717675e+06     5.134080\n",
       "S                   37121.000  4.278471e+05  4.649681e+05     7.983558\n",
       "W                 1730240.030  5.490972e+07  5.663996e+07     3.054804"
      ]
     },
     "execution_count": 17,
     "metadata": {},
     "output_type": "execute_result"
    }
   ],
   "source": [
    "analisis_monto"
   ]
  },
  {
   "cell_type": "code",
   "execution_count": 18,
   "metadata": {},
   "outputs": [
    {
     "data": {
      "text/html": [
       "<div>\n",
       "<style scoped>\n",
       "    .dataframe tbody tr th:only-of-type {\n",
       "        vertical-align: middle;\n",
       "    }\n",
       "\n",
       "    .dataframe tbody tr th {\n",
       "        vertical-align: top;\n",
       "    }\n",
       "\n",
       "    .dataframe thead th {\n",
       "        text-align: right;\n",
       "    }\n",
       "</style>\n",
       "<table border=\"1\" class=\"dataframe\">\n",
       "  <thead>\n",
       "    <tr style=\"text-align: right;\">\n",
       "      <th>Transferencia</th>\n",
       "      <th>Fraude</th>\n",
       "      <th>Legal</th>\n",
       "      <th>Total</th>\n",
       "      <th>Fraude en %</th>\n",
       "    </tr>\n",
       "  </thead>\n",
       "  <tbody>\n",
       "    <tr>\n",
       "      <th>count</th>\n",
       "      <td>5.000000</td>\n",
       "      <td>5.000000</td>\n",
       "      <td>5.000000</td>\n",
       "      <td>5.000000</td>\n",
       "    </tr>\n",
       "    <tr>\n",
       "      <th>mean</th>\n",
       "      <td>3516.000000</td>\n",
       "      <td>96875.800000</td>\n",
       "      <td>100391.800000</td>\n",
       "      <td>5.596480</td>\n",
       "    </tr>\n",
       "    <tr>\n",
       "      <th>std</th>\n",
       "      <td>3400.955748</td>\n",
       "      <td>149330.447745</td>\n",
       "      <td>151887.395773</td>\n",
       "      <td>3.581542</td>\n",
       "    </tr>\n",
       "    <tr>\n",
       "      <th>min</th>\n",
       "      <td>542.000000</td>\n",
       "      <td>8113.000000</td>\n",
       "      <td>8655.000000</td>\n",
       "      <td>2.073463</td>\n",
       "    </tr>\n",
       "    <tr>\n",
       "      <th>25%</th>\n",
       "      <td>1214.000000</td>\n",
       "      <td>29052.000000</td>\n",
       "      <td>30462.000000</td>\n",
       "      <td>3.622907</td>\n",
       "    </tr>\n",
       "    <tr>\n",
       "      <th>50%</th>\n",
       "      <td>1410.000000</td>\n",
       "      <td>32295.000000</td>\n",
       "      <td>33509.000000</td>\n",
       "      <td>4.628718</td>\n",
       "    </tr>\n",
       "    <tr>\n",
       "      <th>75%</th>\n",
       "      <td>6738.000000</td>\n",
       "      <td>52393.000000</td>\n",
       "      <td>59131.000000</td>\n",
       "      <td>6.262276</td>\n",
       "    </tr>\n",
       "    <tr>\n",
       "      <th>max</th>\n",
       "      <td>7676.000000</td>\n",
       "      <td>362526.000000</td>\n",
       "      <td>370202.000000</td>\n",
       "      <td>11.395038</td>\n",
       "    </tr>\n",
       "  </tbody>\n",
       "</table>\n",
       "</div>"
      ],
      "text/plain": [
       "Transferencia       Fraude          Legal          Total  Fraude en %\n",
       "count             5.000000       5.000000       5.000000     5.000000\n",
       "mean           3516.000000   96875.800000  100391.800000     5.596480\n",
       "std            3400.955748  149330.447745  151887.395773     3.581542\n",
       "min             542.000000    8113.000000    8655.000000     2.073463\n",
       "25%            1214.000000   29052.000000   30462.000000     3.622907\n",
       "50%            1410.000000   32295.000000   33509.000000     4.628718\n",
       "75%            6738.000000   52393.000000   59131.000000     6.262276\n",
       "max            7676.000000  362526.000000  370202.000000    11.395038"
      ]
     },
     "execution_count": 18,
     "metadata": {},
     "output_type": "execute_result"
    }
   ],
   "source": [
    "analisis_cantidad.describe()"
   ]
  },
  {
   "cell_type": "code",
   "execution_count": 19,
   "metadata": {},
   "outputs": [
    {
     "data": {
      "text/html": [
       "<div>\n",
       "<style scoped>\n",
       "    .dataframe tbody tr th:only-of-type {\n",
       "        vertical-align: middle;\n",
       "    }\n",
       "\n",
       "    .dataframe tbody tr th {\n",
       "        vertical-align: top;\n",
       "    }\n",
       "\n",
       "    .dataframe thead th {\n",
       "        text-align: right;\n",
       "    }\n",
       "</style>\n",
       "<table border=\"1\" class=\"dataframe\">\n",
       "  <thead>\n",
       "    <tr style=\"text-align: right;\">\n",
       "      <th>Transferencia</th>\n",
       "      <th>Fraude</th>\n",
       "      <th>Legal</th>\n",
       "      <th>Total</th>\n",
       "      <th>Fraude en %</th>\n",
       "    </tr>\n",
       "    <tr>\n",
       "      <th>Tipo de producto</th>\n",
       "      <th></th>\n",
       "      <th></th>\n",
       "      <th></th>\n",
       "      <th></th>\n",
       "    </tr>\n",
       "  </thead>\n",
       "  <tbody>\n",
       "    <tr>\n",
       "      <th>C</th>\n",
       "      <td>6738</td>\n",
       "      <td>52393</td>\n",
       "      <td>59131</td>\n",
       "      <td>11.395038</td>\n",
       "    </tr>\n",
       "    <tr>\n",
       "      <th>H</th>\n",
       "      <td>1410</td>\n",
       "      <td>29052</td>\n",
       "      <td>30462</td>\n",
       "      <td>4.628718</td>\n",
       "    </tr>\n",
       "    <tr>\n",
       "      <th>R</th>\n",
       "      <td>1214</td>\n",
       "      <td>32295</td>\n",
       "      <td>33509</td>\n",
       "      <td>3.622907</td>\n",
       "    </tr>\n",
       "    <tr>\n",
       "      <th>S</th>\n",
       "      <td>542</td>\n",
       "      <td>8113</td>\n",
       "      <td>8655</td>\n",
       "      <td>6.262276</td>\n",
       "    </tr>\n",
       "    <tr>\n",
       "      <th>W</th>\n",
       "      <td>7676</td>\n",
       "      <td>362526</td>\n",
       "      <td>370202</td>\n",
       "      <td>2.073463</td>\n",
       "    </tr>\n",
       "  </tbody>\n",
       "</table>\n",
       "</div>"
      ],
      "text/plain": [
       "Transferencia     Fraude   Legal   Total  Fraude en %\n",
       "Tipo de producto                                     \n",
       "C                   6738   52393   59131    11.395038\n",
       "H                   1410   29052   30462     4.628718\n",
       "R                   1214   32295   33509     3.622907\n",
       "S                    542    8113    8655     6.262276\n",
       "W                   7676  362526  370202     2.073463"
      ]
     },
     "execution_count": 19,
     "metadata": {},
     "output_type": "execute_result"
    }
   ],
   "source": [
    "analisis_cantidad"
   ]
  },
  {
   "cell_type": "code",
   "execution_count": 20,
   "metadata": {},
   "outputs": [
    {
     "data": {
      "text/plain": [
       "np.float64(3.502278074504093)"
      ]
     },
     "execution_count": 20,
     "metadata": {},
     "output_type": "execute_result"
    }
   ],
   "source": [
    "#   Primer Analisis\n",
    "analisis_cantidad.Fraude.sum() * 100 / analisis_cantidad.Total.sum()"
   ]
  }
 ],
 "metadata": {
  "kernelspec": {
   "display_name": "Python 3",
   "language": "python",
   "name": "python3"
  },
  "language_info": {
   "codemirror_mode": {
    "name": "ipython",
    "version": 3
   },
   "file_extension": ".py",
   "mimetype": "text/x-python",
   "name": "python",
   "nbconvert_exporter": "python",
   "pygments_lexer": "ipython3",
   "version": "3.12.5"
  }
 },
 "nbformat": 4,
 "nbformat_minor": 2
}
