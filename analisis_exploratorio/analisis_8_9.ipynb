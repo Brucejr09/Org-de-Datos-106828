{
 "cells": [
  {
   "cell_type": "code",
   "execution_count": 1,
   "metadata": {},
   "outputs": [],
   "source": [
    "from pandas import read_csv\n",
    "from funciones import tipo_transferencia, barplot\n",
    "\n",
    "transactions = read_csv(\"C:\\\\Users\\\\palej\\\\Desktop\\\\FIUBA\\\\Organizacion de datos\\\\TP\\\\transactions_train.csv\")"
   ]
  },
  {
   "cell_type": "code",
   "execution_count": 2,
   "metadata": {},
   "outputs": [],
   "source": [
    "#                   ANALISIS    DE      TARJETAS"
   ]
  },
  {
   "cell_type": "code",
   "execution_count": 3,
   "metadata": {},
   "outputs": [],
   "source": [
    "#   Octavo analisis\n",
    "analisis = transactions[[\"target\", \"feat_card_4\", \"ammount\"]]"
   ]
  },
  {
   "cell_type": "code",
   "execution_count": 4,
   "metadata": {},
   "outputs": [],
   "source": [
    "analisis = analisis.rename(columns={\"target\":\"Transaccion\", \"feat_card_4\":\"Tarjeta\", \"ammount\":\"Monto\"})"
   ]
  },
  {
   "cell_type": "code",
   "execution_count": 5,
   "metadata": {},
   "outputs": [],
   "source": [
    "analisis = analisis.fillna(\"Otra\")"
   ]
  },
  {
   "cell_type": "code",
   "execution_count": 6,
   "metadata": {},
   "outputs": [],
   "source": [
    "analisis[\"Transaccion\"] = analisis[\"Transaccion\"].map(tipo_transferencia)"
   ]
  },
  {
   "cell_type": "code",
   "execution_count": 7,
   "metadata": {},
   "outputs": [],
   "source": [
    "#                   ANALISIS    POR     CANTIDAD"
   ]
  },
  {
   "cell_type": "code",
   "execution_count": 8,
   "metadata": {},
   "outputs": [],
   "source": [
    "analisis_cantidad = analisis.pivot_table(values=\"Transaccion\", index=\"Tarjeta\", columns=\"Transaccion\", aggfunc=\"count\")"
   ]
  },
  {
   "cell_type": "code",
   "execution_count": 9,
   "metadata": {},
   "outputs": [],
   "source": [
    "analisis_cantidad[\"Promedio fraude en %\"] = round(analisis_cantidad.Fraude * 100 / (analisis_cantidad.Fraude + analisis_cantidad.Legal), 2)"
   ]
  },
  {
   "cell_type": "code",
   "execution_count": 10,
   "metadata": {},
   "outputs": [],
   "source": [
    "analisis_cantidad[\"Promedio legal en %\"] = round(analisis_cantidad.Legal * 100 / (analisis_cantidad.Fraude + analisis_cantidad.Legal), 2)"
   ]
  },
  {
   "cell_type": "code",
   "execution_count": 11,
   "metadata": {},
   "outputs": [],
   "source": [
    "analisis_cantidad = analisis_cantidad.reset_index()"
   ]
  },
  {
   "cell_type": "code",
   "execution_count": 12,
   "metadata": {},
   "outputs": [
    {
     "data": {
      "text/html": [
       "<div>\n",
       "<style scoped>\n",
       "    .dataframe tbody tr th:only-of-type {\n",
       "        vertical-align: middle;\n",
       "    }\n",
       "\n",
       "    .dataframe tbody tr th {\n",
       "        vertical-align: top;\n",
       "    }\n",
       "\n",
       "    .dataframe thead th {\n",
       "        text-align: right;\n",
       "    }\n",
       "</style>\n",
       "<table border=\"1\" class=\"dataframe\">\n",
       "  <thead>\n",
       "    <tr style=\"text-align: right;\">\n",
       "      <th>Transaccion</th>\n",
       "      <th>Tarjeta</th>\n",
       "      <th>Fraude</th>\n",
       "      <th>Legal</th>\n",
       "      <th>Promedio fraude en %</th>\n",
       "      <th>Promedio legal en %</th>\n",
       "    </tr>\n",
       "  </thead>\n",
       "  <tbody>\n",
       "    <tr>\n",
       "      <th>0</th>\n",
       "      <td>Otra</td>\n",
       "      <td>26</td>\n",
       "      <td>807</td>\n",
       "      <td>3.12</td>\n",
       "      <td>96.88</td>\n",
       "    </tr>\n",
       "    <tr>\n",
       "      <th>1</th>\n",
       "      <td>american express</td>\n",
       "      <td>218</td>\n",
       "      <td>7274</td>\n",
       "      <td>2.91</td>\n",
       "      <td>97.09</td>\n",
       "    </tr>\n",
       "    <tr>\n",
       "      <th>2</th>\n",
       "      <td>discover</td>\n",
       "      <td>435</td>\n",
       "      <td>5291</td>\n",
       "      <td>7.60</td>\n",
       "      <td>92.40</td>\n",
       "    </tr>\n",
       "    <tr>\n",
       "      <th>3</th>\n",
       "      <td>mastercard</td>\n",
       "      <td>5574</td>\n",
       "      <td>154509</td>\n",
       "      <td>3.48</td>\n",
       "      <td>96.52</td>\n",
       "    </tr>\n",
       "    <tr>\n",
       "      <th>4</th>\n",
       "      <td>visa</td>\n",
       "      <td>11327</td>\n",
       "      <td>316498</td>\n",
       "      <td>3.46</td>\n",
       "      <td>96.54</td>\n",
       "    </tr>\n",
       "  </tbody>\n",
       "</table>\n",
       "</div>"
      ],
      "text/plain": [
       "Transaccion           Tarjeta  Fraude   Legal  Promedio fraude en %  \\\n",
       "0                        Otra      26     807                  3.12   \n",
       "1            american express     218    7274                  2.91   \n",
       "2                    discover     435    5291                  7.60   \n",
       "3                  mastercard    5574  154509                  3.48   \n",
       "4                        visa   11327  316498                  3.46   \n",
       "\n",
       "Transaccion  Promedio legal en %  \n",
       "0                          96.88  \n",
       "1                          97.09  \n",
       "2                          92.40  \n",
       "3                          96.52  \n",
       "4                          96.54  "
      ]
     },
     "execution_count": 12,
     "metadata": {},
     "output_type": "execute_result"
    }
   ],
   "source": [
    "analisis_cantidad"
   ]
  },
  {
   "cell_type": "code",
   "execution_count": 13,
   "metadata": {},
   "outputs": [
    {
     "data": {
      "image/png": "[encoded data removed]",
      "text/plain": [
       "<Figure size 640x480 with 1 Axes>"
      ]
     },
     "metadata": {},
     "output_type": "display_data"
    }
   ],
   "source": [
    "barplot(analisis_cantidad.Tarjeta, (analisis_cantidad[\"Promedio fraude en %\"], analisis_cantidad[\"Promedio legal en %\"]), \"Fraude en tarjetas\", \"Tarjeta\", \"Promedio en %\", True)"
   ]
  },
  {
   "cell_type": "code",
   "execution_count": 14,
   "metadata": {},
   "outputs": [
    {
     "data": {
      "image/png": "[encoded data removed]",
      "text/plain": [
       "<Figure size 640x480 with 1 Axes>"
      ]
     },
     "metadata": {},
     "output_type": "display_data"
    }
   ],
   "source": [
    "barplot(analisis_cantidad.Tarjeta, (analisis_cantidad[\"Fraude\"], analisis_cantidad[\"Legal\"]), \"Fraude en tarjetas\", \"Tarjeta\", \"Cantidad\", False)"
   ]
  },
  {
   "cell_type": "code",
   "execution_count": 15,
   "metadata": {},
   "outputs": [],
   "source": [
    "#                   ANALISIS    POR     MONTO"
   ]
  },
  {
   "cell_type": "code",
   "execution_count": 16,
   "metadata": {},
   "outputs": [
    {
     "name": "stderr",
     "output_type": "stream",
     "text": [
      "C:\\Users\\palej\\AppData\\Local\\Temp\\ipykernel_9664\\1648781309.py:1: FutureWarning: The provided callable <built-in function sum> is currently using DataFrameGroupBy.sum. In a future version of pandas, the provided callable will be used directly. To keep current behavior pass the string \"sum\" instead.\n",
      "  analisis_monto = analisis.pivot_table(values=\"Monto\", index=\"Tarjeta\", columns=\"Transaccion\", aggfunc=sum)\n"
     ]
    }
   ],
   "source": [
    "analisis_monto = analisis.pivot_table(values=\"Monto\", index=\"Tarjeta\", columns=\"Transaccion\", aggfunc=sum)"
   ]
  },
  {
   "cell_type": "code",
   "execution_count": 17,
   "metadata": {},
   "outputs": [],
   "source": [
    "analisis_monto[\"Promedio fraude en %\"] = round(analisis_monto.Fraude * 100 / (analisis_monto.Fraude + analisis_monto.Legal), 2)"
   ]
  },
  {
   "cell_type": "code",
   "execution_count": 18,
   "metadata": {},
   "outputs": [],
   "source": [
    "analisis_monto[\"Promedio legal en %\"] = round(analisis_monto.Legal * 100 / (analisis_monto.Fraude + analisis_monto.Legal), 2)"
   ]
  },
  {
   "cell_type": "code",
   "execution_count": 19,
   "metadata": {},
   "outputs": [],
   "source": [
    "analisis_monto = analisis_monto.reset_index()"
   ]
  },
  {
   "cell_type": "code",
   "execution_count": 20,
   "metadata": {},
   "outputs": [
    {
     "data": {
      "text/html": [
       "<div>\n",
       "<style scoped>\n",
       "    .dataframe tbody tr th:only-of-type {\n",
       "        vertical-align: middle;\n",
       "    }\n",
       "\n",
       "    .dataframe tbody tr th {\n",
       "        vertical-align: top;\n",
       "    }\n",
       "\n",
       "    .dataframe thead th {\n",
       "        text-align: right;\n",
       "    }\n",
       "</style>\n",
       "<table border=\"1\" class=\"dataframe\">\n",
       "  <thead>\n",
       "    <tr style=\"text-align: right;\">\n",
       "      <th>Transaccion</th>\n",
       "      <th>Tarjeta</th>\n",
       "      <th>Fraude</th>\n",
       "      <th>Legal</th>\n",
       "      <th>Promedio fraude en %</th>\n",
       "      <th>Promedio legal en %</th>\n",
       "    </tr>\n",
       "  </thead>\n",
       "  <tbody>\n",
       "    <tr>\n",
       "      <th>0</th>\n",
       "      <td>Otra</td>\n",
       "      <td>4563.040</td>\n",
       "      <td>1.542174e+05</td>\n",
       "      <td>2.87</td>\n",
       "      <td>97.13</td>\n",
       "    </tr>\n",
       "    <tr>\n",
       "      <th>1</th>\n",
       "      <td>american express</td>\n",
       "      <td>37618.184</td>\n",
       "      <td>1.277980e+06</td>\n",
       "      <td>2.86</td>\n",
       "      <td>97.14</td>\n",
       "    </tr>\n",
       "    <tr>\n",
       "      <th>2</th>\n",
       "      <td>discover</td>\n",
       "      <td>151767.470</td>\n",
       "      <td>1.322627e+06</td>\n",
       "      <td>10.29</td>\n",
       "      <td>89.71</td>\n",
       "    </tr>\n",
       "    <tr>\n",
       "      <th>3</th>\n",
       "      <td>mastercard</td>\n",
       "      <td>735542.712</td>\n",
       "      <td>2.037503e+07</td>\n",
       "      <td>3.48</td>\n",
       "      <td>96.52</td>\n",
       "    </tr>\n",
       "    <tr>\n",
       "      <th>4</th>\n",
       "      <td>visa</td>\n",
       "      <td>1684744.933</td>\n",
       "      <td>4.184610e+07</td>\n",
       "      <td>3.87</td>\n",
       "      <td>96.13</td>\n",
       "    </tr>\n",
       "  </tbody>\n",
       "</table>\n",
       "</div>"
      ],
      "text/plain": [
       "Transaccion           Tarjeta       Fraude         Legal  \\\n",
       "0                        Otra     4563.040  1.542174e+05   \n",
       "1            american express    37618.184  1.277980e+06   \n",
       "2                    discover   151767.470  1.322627e+06   \n",
       "3                  mastercard   735542.712  2.037503e+07   \n",
       "4                        visa  1684744.933  4.184610e+07   \n",
       "\n",
       "Transaccion  Promedio fraude en %  Promedio legal en %  \n",
       "0                            2.87                97.13  \n",
       "1                            2.86                97.14  \n",
       "2                           10.29                89.71  \n",
       "3                            3.48                96.52  \n",
       "4                            3.87                96.13  "
      ]
     },
     "execution_count": 20,
     "metadata": {},
     "output_type": "execute_result"
    }
   ],
   "source": [
    "analisis_monto"
   ]
  },
  {
   "cell_type": "code",
   "execution_count": 21,
   "metadata": {},
   "outputs": [
    {
     "data": {
      "image/png": "[encoded data removed]",
      "text/plain": [
       "<Figure size 640x480 with 1 Axes>"
      ]
     },
     "metadata": {},
     "output_type": "display_data"
    }
   ],
   "source": [
    "barplot(analisis_monto.Tarjeta, (analisis_monto[\"Promedio fraude en %\"], analisis_monto[\"Promedio legal en %\"]), \"Fraude en tarjetas\", \"Tarjeta\", \"Promedio en %\", True)"
   ]
  },
  {
   "cell_type": "code",
   "execution_count": 22,
   "metadata": {},
   "outputs": [
    {
     "data": {
      "image/png": "[encoded data removed]",
      "text/plain": [
       "<Figure size 640x480 with 1 Axes>"
      ]
     },
     "metadata": {},
     "output_type": "display_data"
    }
   ],
   "source": [
    "barplot(analisis_monto.Tarjeta, (analisis_monto[\"Fraude\"], analisis_monto[\"Legal\"]), \"Fraude en tarjetas\", \"Tarjeta\", \"Cantidad\", False)"
   ]
  },
  {
   "cell_type": "code",
   "execution_count": 23,
   "metadata": {},
   "outputs": [],
   "source": [
    "#                   ANALISIS    DE      MANEJO      DE      DATO    NAN"
   ]
  },
  {
   "cell_type": "code",
   "execution_count": 25,
   "metadata": {},
   "outputs": [],
   "source": [
    "#   Noveno analisis\n",
    "analisis = transactions"
   ]
  },
  {
   "cell_type": "code",
   "execution_count": 26,
   "metadata": {},
   "outputs": [],
   "source": [
    "analisis[\"product_category\"] = analisis[\"product_category\"].fillna(\"Otro\")"
   ]
  },
  {
   "cell_type": "code",
   "execution_count": 27,
   "metadata": {},
   "outputs": [],
   "source": [
    "analisis[\"feat_card_4\"] = analisis[\"feat_card_4\"].fillna(\"Otra\")"
   ]
  },
  {
   "cell_type": "code",
   "execution_count": 28,
   "metadata": {},
   "outputs": [],
   "source": [
    "analisis[\"feat_card_6\"] = analisis[\"feat_card_6\"].fillna(\"Otra\")"
   ]
  },
  {
   "cell_type": "code",
   "execution_count": 29,
   "metadata": {},
   "outputs": [],
   "source": [
    "analisis[\"payer_email_domain\"] = analisis[\"payer_email_domain\"].fillna(\"Otro\")"
   ]
  },
  {
   "cell_type": "code",
   "execution_count": 32,
   "metadata": {},
   "outputs": [],
   "source": [
    "analisis[\"receiver_email_domain\"] = analisis[\"receiver_email_domain\"].fillna(\"Otro\")"
   ]
  },
  {
   "cell_type": "code",
   "execution_count": 34,
   "metadata": {},
   "outputs": [],
   "source": [
    "analisis = analisis.fillna(0)"
   ]
  },
  {
   "cell_type": "code",
   "execution_count": 35,
   "metadata": {},
   "outputs": [
    {
     "data": {
      "text/html": [
       "<div>\n",
       "<style scoped>\n",
       "    .dataframe tbody tr th:only-of-type {\n",
       "        vertical-align: middle;\n",
       "    }\n",
       "\n",
       "    .dataframe tbody tr th {\n",
       "        vertical-align: top;\n",
       "    }\n",
       "\n",
       "    .dataframe thead th {\n",
       "        text-align: right;\n",
       "    }\n",
       "</style>\n",
       "<table border=\"1\" class=\"dataframe\">\n",
       "  <thead>\n",
       "    <tr style=\"text-align: right;\">\n",
       "      <th></th>\n",
       "      <th>Unnamed: 0</th>\n",
       "      <th>Id</th>\n",
       "      <th>target</th>\n",
       "      <th>timestamp</th>\n",
       "      <th>ammount</th>\n",
       "      <th>product_category</th>\n",
       "      <th>feat_card_1</th>\n",
       "      <th>feat_card_2</th>\n",
       "      <th>feat_card_3</th>\n",
       "      <th>feat_card_4</th>\n",
       "      <th>...</th>\n",
       "      <th>D330</th>\n",
       "      <th>D331</th>\n",
       "      <th>D332</th>\n",
       "      <th>D333</th>\n",
       "      <th>D334</th>\n",
       "      <th>D335</th>\n",
       "      <th>D336</th>\n",
       "      <th>D337</th>\n",
       "      <th>D338</th>\n",
       "      <th>D339</th>\n",
       "    </tr>\n",
       "  </thead>\n",
       "  <tbody>\n",
       "    <tr>\n",
       "      <th>0</th>\n",
       "      <td>0</td>\n",
       "      <td>2987000</td>\n",
       "      <td>0</td>\n",
       "      <td>86400</td>\n",
       "      <td>68.50</td>\n",
       "      <td>W</td>\n",
       "      <td>13926</td>\n",
       "      <td>0.0</td>\n",
       "      <td>150.0</td>\n",
       "      <td>discover</td>\n",
       "      <td>...</td>\n",
       "      <td>0.0</td>\n",
       "      <td>0.0</td>\n",
       "      <td>0.0</td>\n",
       "      <td>0.0</td>\n",
       "      <td>0.0</td>\n",
       "      <td>0.0</td>\n",
       "      <td>0.0</td>\n",
       "      <td>0.0</td>\n",
       "      <td>0.0</td>\n",
       "      <td>0.0</td>\n",
       "    </tr>\n",
       "    <tr>\n",
       "      <th>1</th>\n",
       "      <td>1</td>\n",
       "      <td>2987001</td>\n",
       "      <td>0</td>\n",
       "      <td>86401</td>\n",
       "      <td>29.00</td>\n",
       "      <td>W</td>\n",
       "      <td>2755</td>\n",
       "      <td>404.0</td>\n",
       "      <td>150.0</td>\n",
       "      <td>mastercard</td>\n",
       "      <td>...</td>\n",
       "      <td>0.0</td>\n",
       "      <td>0.0</td>\n",
       "      <td>0.0</td>\n",
       "      <td>0.0</td>\n",
       "      <td>0.0</td>\n",
       "      <td>0.0</td>\n",
       "      <td>0.0</td>\n",
       "      <td>0.0</td>\n",
       "      <td>0.0</td>\n",
       "      <td>0.0</td>\n",
       "    </tr>\n",
       "    <tr>\n",
       "      <th>2</th>\n",
       "      <td>2</td>\n",
       "      <td>2987002</td>\n",
       "      <td>0</td>\n",
       "      <td>86469</td>\n",
       "      <td>59.00</td>\n",
       "      <td>W</td>\n",
       "      <td>4663</td>\n",
       "      <td>490.0</td>\n",
       "      <td>150.0</td>\n",
       "      <td>visa</td>\n",
       "      <td>...</td>\n",
       "      <td>0.0</td>\n",
       "      <td>0.0</td>\n",
       "      <td>0.0</td>\n",
       "      <td>0.0</td>\n",
       "      <td>0.0</td>\n",
       "      <td>0.0</td>\n",
       "      <td>0.0</td>\n",
       "      <td>0.0</td>\n",
       "      <td>0.0</td>\n",
       "      <td>0.0</td>\n",
       "    </tr>\n",
       "    <tr>\n",
       "      <th>3</th>\n",
       "      <td>3</td>\n",
       "      <td>2987003</td>\n",
       "      <td>0</td>\n",
       "      <td>86499</td>\n",
       "      <td>50.00</td>\n",
       "      <td>W</td>\n",
       "      <td>18132</td>\n",
       "      <td>567.0</td>\n",
       "      <td>150.0</td>\n",
       "      <td>mastercard</td>\n",
       "      <td>...</td>\n",
       "      <td>0.0</td>\n",
       "      <td>0.0</td>\n",
       "      <td>0.0</td>\n",
       "      <td>0.0</td>\n",
       "      <td>0.0</td>\n",
       "      <td>0.0</td>\n",
       "      <td>0.0</td>\n",
       "      <td>0.0</td>\n",
       "      <td>0.0</td>\n",
       "      <td>0.0</td>\n",
       "    </tr>\n",
       "    <tr>\n",
       "      <th>4</th>\n",
       "      <td>4</td>\n",
       "      <td>2987004</td>\n",
       "      <td>0</td>\n",
       "      <td>86506</td>\n",
       "      <td>50.00</td>\n",
       "      <td>H</td>\n",
       "      <td>4497</td>\n",
       "      <td>514.0</td>\n",
       "      <td>150.0</td>\n",
       "      <td>mastercard</td>\n",
       "      <td>...</td>\n",
       "      <td>0.0</td>\n",
       "      <td>0.0</td>\n",
       "      <td>0.0</td>\n",
       "      <td>0.0</td>\n",
       "      <td>0.0</td>\n",
       "      <td>0.0</td>\n",
       "      <td>0.0</td>\n",
       "      <td>0.0</td>\n",
       "      <td>0.0</td>\n",
       "      <td>0.0</td>\n",
       "    </tr>\n",
       "    <tr>\n",
       "      <th>...</th>\n",
       "      <td>...</td>\n",
       "      <td>...</td>\n",
       "      <td>...</td>\n",
       "      <td>...</td>\n",
       "      <td>...</td>\n",
       "      <td>...</td>\n",
       "      <td>...</td>\n",
       "      <td>...</td>\n",
       "      <td>...</td>\n",
       "      <td>...</td>\n",
       "      <td>...</td>\n",
       "      <td>...</td>\n",
       "      <td>...</td>\n",
       "      <td>...</td>\n",
       "      <td>...</td>\n",
       "      <td>...</td>\n",
       "      <td>...</td>\n",
       "      <td>...</td>\n",
       "      <td>...</td>\n",
       "      <td>...</td>\n",
       "      <td>...</td>\n",
       "    </tr>\n",
       "    <tr>\n",
       "      <th>501954</th>\n",
       "      <td>501954</td>\n",
       "      <td>3488954</td>\n",
       "      <td>0</td>\n",
       "      <td>13151575</td>\n",
       "      <td>29.00</td>\n",
       "      <td>W</td>\n",
       "      <td>7919</td>\n",
       "      <td>194.0</td>\n",
       "      <td>150.0</td>\n",
       "      <td>mastercard</td>\n",
       "      <td>...</td>\n",
       "      <td>0.0</td>\n",
       "      <td>0.0</td>\n",
       "      <td>0.0</td>\n",
       "      <td>0.0</td>\n",
       "      <td>0.0</td>\n",
       "      <td>0.0</td>\n",
       "      <td>0.0</td>\n",
       "      <td>0.0</td>\n",
       "      <td>0.0</td>\n",
       "      <td>0.0</td>\n",
       "    </tr>\n",
       "    <tr>\n",
       "      <th>501955</th>\n",
       "      <td>501955</td>\n",
       "      <td>3488955</td>\n",
       "      <td>0</td>\n",
       "      <td>13151580</td>\n",
       "      <td>312.95</td>\n",
       "      <td>W</td>\n",
       "      <td>7919</td>\n",
       "      <td>194.0</td>\n",
       "      <td>150.0</td>\n",
       "      <td>mastercard</td>\n",
       "      <td>...</td>\n",
       "      <td>0.0</td>\n",
       "      <td>0.0</td>\n",
       "      <td>0.0</td>\n",
       "      <td>0.0</td>\n",
       "      <td>0.0</td>\n",
       "      <td>0.0</td>\n",
       "      <td>0.0</td>\n",
       "      <td>0.0</td>\n",
       "      <td>0.0</td>\n",
       "      <td>0.0</td>\n",
       "    </tr>\n",
       "    <tr>\n",
       "      <th>501956</th>\n",
       "      <td>501956</td>\n",
       "      <td>3488956</td>\n",
       "      <td>0</td>\n",
       "      <td>13151717</td>\n",
       "      <td>774.00</td>\n",
       "      <td>W</td>\n",
       "      <td>7919</td>\n",
       "      <td>194.0</td>\n",
       "      <td>150.0</td>\n",
       "      <td>mastercard</td>\n",
       "      <td>...</td>\n",
       "      <td>0.0</td>\n",
       "      <td>0.0</td>\n",
       "      <td>0.0</td>\n",
       "      <td>0.0</td>\n",
       "      <td>0.0</td>\n",
       "      <td>0.0</td>\n",
       "      <td>0.0</td>\n",
       "      <td>0.0</td>\n",
       "      <td>0.0</td>\n",
       "      <td>0.0</td>\n",
       "    </tr>\n",
       "    <tr>\n",
       "      <th>501957</th>\n",
       "      <td>501957</td>\n",
       "      <td>3488957</td>\n",
       "      <td>0</td>\n",
       "      <td>13151720</td>\n",
       "      <td>226.00</td>\n",
       "      <td>W</td>\n",
       "      <td>7919</td>\n",
       "      <td>194.0</td>\n",
       "      <td>150.0</td>\n",
       "      <td>mastercard</td>\n",
       "      <td>...</td>\n",
       "      <td>0.0</td>\n",
       "      <td>0.0</td>\n",
       "      <td>0.0</td>\n",
       "      <td>0.0</td>\n",
       "      <td>0.0</td>\n",
       "      <td>0.0</td>\n",
       "      <td>0.0</td>\n",
       "      <td>0.0</td>\n",
       "      <td>0.0</td>\n",
       "      <td>0.0</td>\n",
       "    </tr>\n",
       "    <tr>\n",
       "      <th>501958</th>\n",
       "      <td>501958</td>\n",
       "      <td>3488958</td>\n",
       "      <td>0</td>\n",
       "      <td>13151840</td>\n",
       "      <td>97.00</td>\n",
       "      <td>W</td>\n",
       "      <td>7919</td>\n",
       "      <td>194.0</td>\n",
       "      <td>150.0</td>\n",
       "      <td>mastercard</td>\n",
       "      <td>...</td>\n",
       "      <td>0.0</td>\n",
       "      <td>0.0</td>\n",
       "      <td>0.0</td>\n",
       "      <td>0.0</td>\n",
       "      <td>0.0</td>\n",
       "      <td>0.0</td>\n",
       "      <td>0.0</td>\n",
       "      <td>0.0</td>\n",
       "      <td>0.0</td>\n",
       "      <td>0.0</td>\n",
       "    </tr>\n",
       "  </tbody>\n",
       "</table>\n",
       "<p>501959 rows × 395 columns</p>\n",
       "</div>"
      ],
      "text/plain": [
       "        Unnamed: 0       Id  target  timestamp  ammount product_category  \\\n",
       "0                0  2987000       0      86400    68.50                W   \n",
       "1                1  2987001       0      86401    29.00                W   \n",
       "2                2  2987002       0      86469    59.00                W   \n",
       "3                3  2987003       0      86499    50.00                W   \n",
       "4                4  2987004       0      86506    50.00                H   \n",
       "...            ...      ...     ...        ...      ...              ...   \n",
       "501954      501954  3488954       0   13151575    29.00                W   \n",
       "501955      501955  3488955       0   13151580   312.95                W   \n",
       "501956      501956  3488956       0   13151717   774.00                W   \n",
       "501957      501957  3488957       0   13151720   226.00                W   \n",
       "501958      501958  3488958       0   13151840    97.00                W   \n",
       "\n",
       "        feat_card_1  feat_card_2  feat_card_3 feat_card_4  ...  D330 D331  \\\n",
       "0             13926          0.0        150.0    discover  ...   0.0  0.0   \n",
       "1              2755        404.0        150.0  mastercard  ...   0.0  0.0   \n",
       "2              4663        490.0        150.0        visa  ...   0.0  0.0   \n",
       "3             18132        567.0        150.0  mastercard  ...   0.0  0.0   \n",
       "4              4497        514.0        150.0  mastercard  ...   0.0  0.0   \n",
       "...             ...          ...          ...         ...  ...   ...  ...   \n",
       "501954         7919        194.0        150.0  mastercard  ...   0.0  0.0   \n",
       "501955         7919        194.0        150.0  mastercard  ...   0.0  0.0   \n",
       "501956         7919        194.0        150.0  mastercard  ...   0.0  0.0   \n",
       "501957         7919        194.0        150.0  mastercard  ...   0.0  0.0   \n",
       "501958         7919        194.0        150.0  mastercard  ...   0.0  0.0   \n",
       "\n",
       "        D332  D333  D334  D335 D336 D337  D338  D339  \n",
       "0        0.0   0.0   0.0   0.0  0.0  0.0   0.0   0.0  \n",
       "1        0.0   0.0   0.0   0.0  0.0  0.0   0.0   0.0  \n",
       "2        0.0   0.0   0.0   0.0  0.0  0.0   0.0   0.0  \n",
       "3        0.0   0.0   0.0   0.0  0.0  0.0   0.0   0.0  \n",
       "4        0.0   0.0   0.0   0.0  0.0  0.0   0.0   0.0  \n",
       "...      ...   ...   ...   ...  ...  ...   ...   ...  \n",
       "501954   0.0   0.0   0.0   0.0  0.0  0.0   0.0   0.0  \n",
       "501955   0.0   0.0   0.0   0.0  0.0  0.0   0.0   0.0  \n",
       "501956   0.0   0.0   0.0   0.0  0.0  0.0   0.0   0.0  \n",
       "501957   0.0   0.0   0.0   0.0  0.0  0.0   0.0   0.0  \n",
       "501958   0.0   0.0   0.0   0.0  0.0  0.0   0.0   0.0  \n",
       "\n",
       "[501959 rows x 395 columns]"
      ]
     },
     "execution_count": 35,
     "metadata": {},
     "output_type": "execute_result"
    }
   ],
   "source": [
    "analisis"
   ]
  }
 ],
 "metadata": {
  "kernelspec": {
   "display_name": "Python 3",
   "language": "python",
   "name": "python3"
  },
  "language_info": {
   "codemirror_mode": {
    "name": "ipython",
    "version": 3
   },
   "file_extension": ".py",
   "mimetype": "text/x-python",
   "name": "python",
   "nbconvert_exporter": "python",
   "pygments_lexer": "ipython3",
   "version": "3.12.5"
  }
 },
 "nbformat": 4,
 "nbformat_minor": 2
}
