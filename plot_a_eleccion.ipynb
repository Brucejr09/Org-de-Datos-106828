{
 "cells": [
  {
   "cell_type": "code",
   "execution_count": 1,
   "metadata": {},
   "outputs": [],
   "source": [
    "import pandas as pd\n",
    "import matplotlib.pyplot as plt\n",
    "\n",
    "transactions = pd.read_csv(\"C:\\\\Users\\\\palej\\\\Desktop\\\\FIUBA\\\\Organizacion de datos\\\\TP\\\\transactions_train.csv\")"
   ]
  },
  {
   "cell_type": "code",
   "execution_count": 2,
   "metadata": {},
   "outputs": [],
   "source": [
    "def tipo_transferencia(numero) -> str:\n",
    "    if numero == 0:\n",
    "        return \"Legal\"\n",
    "    else:\n",
    "        return \"Fraude\"\n",
    "    \n",
    "def cantidad_producto(letra) -> int:\n",
    "    if letra == 'C' or letra == 'H' or letra == 'R' or letra == 'S' or letra == 'W':\n",
    "        return 1\n",
    "    else:\n",
    "        return 0"
   ]
  },
  {
   "cell_type": "code",
   "execution_count": 103,
   "metadata": {},
   "outputs": [],
   "source": [
    "analisis = transactions[[\"target\", \"ammount\", \"product_category\"]]"
   ]
  },
  {
   "cell_type": "code",
   "execution_count": 104,
   "metadata": {},
   "outputs": [],
   "source": [
    "analisis = analisis.rename(columns={\"target\":\"Transferencia\", \"ammount\":\"Monto\", \"product_category\":\"Tipo de producto\"})"
   ]
  },
  {
   "cell_type": "code",
   "execution_count": 105,
   "metadata": {},
   "outputs": [],
   "source": [
    "analisis[\"Transferencia\"] = analisis[\"Transferencia\"].map(tipo_transferencia)"
   ]
  },
  {
   "cell_type": "code",
   "execution_count": 106,
   "metadata": {},
   "outputs": [],
   "source": [
    "analisis[\"Cantidad\"] = analisis[\"Tipo de producto\"].map(cantidad_producto)"
   ]
  },
  {
   "cell_type": "code",
   "execution_count": 107,
   "metadata": {},
   "outputs": [
    {
     "name": "stderr",
     "output_type": "stream",
     "text": [
      "C:\\Users\\palej\\AppData\\Local\\Temp\\ipykernel_15588\\3977913317.py:1: FutureWarning: The provided callable <built-in function sum> is currently using DataFrameGroupBy.sum. In a future version of pandas, the provided callable will be used directly. To keep current behavior pass the string \"sum\" instead.\n",
      "  analisis = analisis.pivot_table(values=\"Cantidad\", index=\"Tipo de producto\", columns=\"Transferencia\", aggfunc=sum)\n"
     ]
    }
   ],
   "source": [
    "analisis = analisis.pivot_table(values=\"Cantidad\", index=\"Tipo de producto\", columns=\"Transferencia\", aggfunc=sum)"
   ]
  },
  {
   "cell_type": "code",
   "execution_count": 108,
   "metadata": {},
   "outputs": [],
   "source": [
    "analisis[\"Fraude en %\"] = round(analisis.Fraude * 100 / analisis.Fraude.sum())"
   ]
  },
  {
   "cell_type": "code",
   "execution_count": 109,
   "metadata": {},
   "outputs": [],
   "source": [
    "analisis = analisis.reset_index()"
   ]
  },
  {
   "cell_type": "code",
   "execution_count": 110,
   "metadata": {},
   "outputs": [
    {
     "data": {
      "text/html": [
       "<div>\n",
       "<style scoped>\n",
       "    .dataframe tbody tr th:only-of-type {\n",
       "        vertical-align: middle;\n",
       "    }\n",
       "\n",
       "    .dataframe tbody tr th {\n",
       "        vertical-align: top;\n",
       "    }\n",
       "\n",
       "    .dataframe thead th {\n",
       "        text-align: right;\n",
       "    }\n",
       "</style>\n",
       "<table border=\"1\" class=\"dataframe\">\n",
       "  <thead>\n",
       "    <tr style=\"text-align: right;\">\n",
       "      <th>Transferencia</th>\n",
       "      <th>Tipo de producto</th>\n",
       "      <th>Fraude</th>\n",
       "      <th>Legal</th>\n",
       "      <th>Fraude en %</th>\n",
       "    </tr>\n",
       "  </thead>\n",
       "  <tbody>\n",
       "    <tr>\n",
       "      <th>0</th>\n",
       "      <td>C</td>\n",
       "      <td>6738</td>\n",
       "      <td>52393</td>\n",
       "      <td>38.0</td>\n",
       "    </tr>\n",
       "    <tr>\n",
       "      <th>1</th>\n",
       "      <td>H</td>\n",
       "      <td>1410</td>\n",
       "      <td>29052</td>\n",
       "      <td>8.0</td>\n",
       "    </tr>\n",
       "    <tr>\n",
       "      <th>2</th>\n",
       "      <td>R</td>\n",
       "      <td>1214</td>\n",
       "      <td>32295</td>\n",
       "      <td>7.0</td>\n",
       "    </tr>\n",
       "    <tr>\n",
       "      <th>3</th>\n",
       "      <td>S</td>\n",
       "      <td>542</td>\n",
       "      <td>8113</td>\n",
       "      <td>3.0</td>\n",
       "    </tr>\n",
       "    <tr>\n",
       "      <th>4</th>\n",
       "      <td>W</td>\n",
       "      <td>7676</td>\n",
       "      <td>362526</td>\n",
       "      <td>44.0</td>\n",
       "    </tr>\n",
       "  </tbody>\n",
       "</table>\n",
       "</div>"
      ],
      "text/plain": [
       "Transferencia Tipo de producto  Fraude   Legal  Fraude en %\n",
       "0                            C    6738   52393         38.0\n",
       "1                            H    1410   29052          8.0\n",
       "2                            R    1214   32295          7.0\n",
       "3                            S     542    8113          3.0\n",
       "4                            W    7676  362526         44.0"
      ]
     },
     "execution_count": 110,
     "metadata": {},
     "output_type": "execute_result"
    }
   ],
   "source": [
    "analisis"
   ]
  },
  {
   "cell_type": "code",
   "execution_count": 114,
   "metadata": {},
   "outputs": [
    {
     "data": {
      "image/png": "[encoded data removed]",
      "text/plain": [
       "<Figure size 640x480 with 1 Axes>"
      ]
     },
     "metadata": {},
     "output_type": "display_data"
    }
   ],
   "source": [
    "plt.subplots()[1].pie(analisis[\"Fraude en %\"], labels=analisis[\"Tipo de producto\"], autopct='%1.1f%%')\n",
    "plt.title(\"Fraude en productos\")\n",
    "plt.show()"
   ]
  }
 ],
 "metadata": {
  "kernelspec": {
   "display_name": "Python 3",
   "language": "python",
   "name": "python3"
  },
  "language_info": {
   "codemirror_mode": {
    "name": "ipython",
    "version": 3
   },
   "file_extension": ".py",
   "mimetype": "text/x-python",
   "name": "python",
   "nbconvert_exporter": "python",
   "pygments_lexer": "ipython3",
   "version": "3.12.5"
  }
 },
 "nbformat": 4,
 "nbformat_minor": 2
}
