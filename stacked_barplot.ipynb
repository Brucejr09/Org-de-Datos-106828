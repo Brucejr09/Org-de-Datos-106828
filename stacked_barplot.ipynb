{
 "cells": [
  {
   "cell_type": "code",
   "execution_count": 14,
   "metadata": {},
   "outputs": [],
   "source": [
    "import pandas as pd\n",
    "import matplotlib.pyplot as plt\n",
    "\n",
    "transactions = pd.read_csv(\"C:\\\\Users\\\\palej\\\\Desktop\\\\FIUBA\\\\Organizacion de datos\\\\TP\\\\transactions_train.csv\")"
   ]
  },
  {
   "cell_type": "code",
   "execution_count": 15,
   "metadata": {},
   "outputs": [],
   "source": [
    "def tipo_transferencia(numero) -> str:\n",
    "    if numero == 0:\n",
    "        return \"Legal\"\n",
    "    else:\n",
    "        return \"Fraude\"\n",
    "    \n",
    "def cantidad_producto(letra) -> int:\n",
    "    if letra == 'C' or letra == 'H' or letra == 'R' or letra == 'S' or letra == 'W':\n",
    "        return 1\n",
    "    else:\n",
    "        return 0\n"
   ]
  },
  {
   "cell_type": "code",
   "execution_count": 16,
   "metadata": {},
   "outputs": [],
   "source": [
    "analisis = transactions[[\"target\", \"ammount\", \"product_category\"]]"
   ]
  },
  {
   "cell_type": "code",
   "execution_count": 17,
   "metadata": {},
   "outputs": [],
   "source": [
    "analisis = analisis.rename(columns={\"target\":\"Transferencia\", \"ammount\":\"Monto\", \"product_category\":\"Tipo de producto\"})"
   ]
  },
  {
   "cell_type": "code",
   "execution_count": 18,
   "metadata": {},
   "outputs": [],
   "source": [
    "analisis[\"Transferencia\"] = analisis[\"Transferencia\"].map(tipo_transferencia)"
   ]
  },
  {
   "cell_type": "code",
   "execution_count": 19,
   "metadata": {},
   "outputs": [],
   "source": [
    "analisis[\"Cantidad\"] = analisis[\"Tipo de producto\"].map(cantidad_producto)"
   ]
  },
  {
   "cell_type": "code",
   "execution_count": 20,
   "metadata": {},
   "outputs": [
    {
     "name": "stderr",
     "output_type": "stream",
     "text": [
      "C:\\Users\\palej\\AppData\\Local\\Temp\\ipykernel_8392\\970043778.py:1: FutureWarning: The provided callable <built-in function sum> is currently using DataFrameGroupBy.sum. In a future version of pandas, the provided callable will be used directly. To keep current behavior pass the string \"sum\" instead.\n",
      "  analisis_cantidad = analisis.pivot_table(values=\"Cantidad\", index=\"Tipo de producto\", columns=\"Transferencia\", aggfunc=sum)\n"
     ]
    }
   ],
   "source": [
    "analisis_cantidad = analisis.pivot_table(values=\"Cantidad\", index=\"Tipo de producto\", columns=\"Transferencia\", aggfunc=sum)"
   ]
  },
  {
   "cell_type": "code",
   "execution_count": 21,
   "metadata": {},
   "outputs": [],
   "source": [
    "analisis_cantidad = analisis_cantidad.reset_index()"
   ]
  },
  {
   "cell_type": "code",
   "execution_count": 22,
   "metadata": {},
   "outputs": [
    {
     "data": {
      "text/html": [
       "<div>\n",
       "<style scoped>\n",
       "    .dataframe tbody tr th:only-of-type {\n",
       "        vertical-align: middle;\n",
       "    }\n",
       "\n",
       "    .dataframe tbody tr th {\n",
       "        vertical-align: top;\n",
       "    }\n",
       "\n",
       "    .dataframe thead th {\n",
       "        text-align: right;\n",
       "    }\n",
       "</style>\n",
       "<table border=\"1\" class=\"dataframe\">\n",
       "  <thead>\n",
       "    <tr style=\"text-align: right;\">\n",
       "      <th>Transferencia</th>\n",
       "      <th>Tipo de producto</th>\n",
       "      <th>Fraude</th>\n",
       "      <th>Legal</th>\n",
       "    </tr>\n",
       "  </thead>\n",
       "  <tbody>\n",
       "    <tr>\n",
       "      <th>0</th>\n",
       "      <td>C</td>\n",
       "      <td>6738</td>\n",
       "      <td>52393</td>\n",
       "    </tr>\n",
       "    <tr>\n",
       "      <th>1</th>\n",
       "      <td>H</td>\n",
       "      <td>1410</td>\n",
       "      <td>29052</td>\n",
       "    </tr>\n",
       "    <tr>\n",
       "      <th>2</th>\n",
       "      <td>R</td>\n",
       "      <td>1214</td>\n",
       "      <td>32295</td>\n",
       "    </tr>\n",
       "    <tr>\n",
       "      <th>3</th>\n",
       "      <td>S</td>\n",
       "      <td>542</td>\n",
       "      <td>8113</td>\n",
       "    </tr>\n",
       "    <tr>\n",
       "      <th>4</th>\n",
       "      <td>W</td>\n",
       "      <td>7676</td>\n",
       "      <td>362526</td>\n",
       "    </tr>\n",
       "  </tbody>\n",
       "</table>\n",
       "</div>"
      ],
      "text/plain": [
       "Transferencia Tipo de producto  Fraude   Legal\n",
       "0                            C    6738   52393\n",
       "1                            H    1410   29052\n",
       "2                            R    1214   32295\n",
       "3                            S     542    8113\n",
       "4                            W    7676  362526"
      ]
     },
     "execution_count": 22,
     "metadata": {},
     "output_type": "execute_result"
    }
   ],
   "source": [
    "analisis_cantidad"
   ]
  },
  {
   "cell_type": "code",
   "execution_count": 24,
   "metadata": {},
   "outputs": [
    {
     "data": {
      "image/png": "[encoded data removed]",
      "text/plain": [
       "<Figure size 640x480 with 1 Axes>"
      ]
     },
     "metadata": {},
     "output_type": "display_data"
    }
   ],
   "source": [
    "fraude = plt.bar(analisis_cantidad[\"Tipo de producto\"], analisis_cantidad[\"Fraude\"], color='red')\n",
    "fraude.set_label(\"Fraude\")\n",
    "legal = plt.bar(analisis_cantidad[\"Tipo de producto\"], analisis_cantidad[\"Legal\"], bottom=analisis_cantidad[\"Fraude\"], color='green')\n",
    "legal.set_label(\"Legal\")\n",
    "plt.title(\"Transacciones segun el producto\")\n",
    "plt.xlabel(\"Productos\")\n",
    "plt.ylabel(\"Cantidad\")\n",
    "plt.bar_label(fraude)\n",
    "plt.bar_label(legal)\n",
    "plt.legend()\n",
    "plt.show()"
   ]
  }
 ],
 "metadata": {
  "kernelspec": {
   "display_name": "Python 3",
   "language": "python",
   "name": "python3"
  },
  "language_info": {
   "codemirror_mode": {
    "name": "ipython",
    "version": 3
   },
   "file_extension": ".py",
   "mimetype": "text/x-python",
   "name": "python",
   "nbconvert_exporter": "python",
   "pygments_lexer": "ipython3",
   "version": "3.12.5"
  }
 },
 "nbformat": 4,
 "nbformat_minor": 2
}
